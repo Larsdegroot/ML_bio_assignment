{
 "cells": [
  {
   "cell_type": "markdown",
   "id": "822ef969-71f2-4ef0-8b35-92c3fdc3b3f9",
   "metadata": {},
   "source": [
    "When performing random forest classification with 5 fold cross validation we got the following mean scores on the validation dataset:\n",
    "\n",
    "Macro F1: 0.5\n",
    "OvR AUC:  0.76\n",
    "\n",
    "In comparsion with regularized logistic regression we can see that the random forest classifier performed worse. The regularized logistic regression scored around 0.15 higher on F1 and 0.10 higher in ROC AUC OVR"
   ]
  },
  {
   "cell_type": "markdown",
   "id": "b242ed36-0cf8-48c1-9490-db674a1ba838",
   "metadata": {},
   "source": [
    "remove: \"using MDI\"\n",
    "remove the sources\n",
    "\n"
   ]
  },
  {
   "cell_type": "markdown",
   "id": "f9b092a6-cfc5-419c-9dae-3f6d7ea65ed4",
   "metadata": {},
   "source": [
    "Feature importance in random forest classifiers are kept track of in the classifier. the importance of a feature is calculated with impurtiy in our case gini impurity, which is a measure of how well a node splits the data. The higher the value for the feature importance indicates a higher feature importance."
   ]
  },
  {
   "cell_type": "code",
   "execution_count": null,
   "id": "73f00cd7-76eb-46d9-96d2-2979062c5afb",
   "metadata": {},
   "outputs": [],
   "source": [
    "# Create a distribution plot\n",
    "sns.histplot(forest_importances)\n",
    "plt.xlabel('Features')\n",
    "plt.ylabel('Feature importance')\n",
    "plt.title('Top 5 most important features')\n",
    "plt.show()"
   ]
  },
  {
   "cell_type": "code",
   "execution_count": null,
   "id": "ea36ab2f-ffc1-48ea-a857-e3dac73fd43e",
   "metadata": {},
   "outputs": [],
   "source": [
    "plt.title('Expression level distributions of the top 5 most important features')\n",
    "\n",
    "# Add a legend for the colors!"
   ]
  },
  {
   "cell_type": "markdown",
   "id": "e7fd25bc-04b5-4a47-bf79-b14853b93545",
   "metadata": {},
   "source": [
    "These are the expression level distributions measured in Reads Per Kilobase Mapped. There is some difference in how each gene is distributed with gene 1960 and 1882 being more concentrated around lower expression values. What is unexpected is that these genes do not seem to differ in their expression values across classes which would be expected from the genes that hold high discriminating power for the classification."
   ]
  },
  {
   "cell_type": "markdown",
   "id": "7b512e21-8332-4a95-a3da-d8577bf37e2e",
   "metadata": {},
   "source": [
    "we've chosen to use a random forest as our final classifier because there are many features that are corralated in our dataset and the Random forest classifier tends to handle those better.\n",
    "we'll improve on our earlier trial with some hyperparameter optimization. Since we don't have access to significant compute we'll try and reduce computation time by using the Halving GridSearch which searches over specified parameter values with successive halving. This search stratgy start by evaluating all candidates and then iteratively selects better candidates. "
   ]
  }
 ],
 "metadata": {
  "kernelspec": {
   "display_name": "Python 3 (ipykernel)",
   "language": "python",
   "name": "python3"
  },
  "language_info": {
   "codemirror_mode": {
    "name": "ipython",
    "version": 3
   },
   "file_extension": ".py",
   "mimetype": "text/x-python",
   "name": "python",
   "nbconvert_exporter": "python",
   "pygments_lexer": "ipython3",
   "version": "3.10.16"
  }
 },
 "nbformat": 4,
 "nbformat_minor": 5
}
