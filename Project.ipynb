{
  "cells": [
    {
      "cell_type": "markdown",
      "metadata": {
        "id": "view-in-github",
        "colab_type": "text"
      },
      "source": [
        "<a href=\"https://colab.research.google.com/github/Larsdegroot/ML_bio_assignment/blob/main/Project.ipynb\" target=\"_parent\"><img src=\"https://colab.research.google.com/assets/colab-badge.svg\" alt=\"Open In Colab\"/></a>"
      ]
    },
    {
      "cell_type": "markdown",
      "id": "8ddfe2b7-6fe8-4773-83f2-330aaf14dbc5",
      "metadata": {
        "id": "8ddfe2b7-6fe8-4773-83f2-330aaf14dbc5"
      },
      "source": [
        "# Assignment: Machine learning for Biology\n",
        "students:\n",
        "- Samar Meroz\n",
        "- Lars de Groot\n"
      ]
    },
    {
      "cell_type": "code",
      "execution_count": 1,
      "id": "c0f1fd7a-6453-48bf-9597-25ca13bde133",
      "metadata": {
        "colab": {
          "base_uri": "https://localhost:8080/"
        },
        "id": "c0f1fd7a-6453-48bf-9597-25ca13bde133",
        "outputId": "a8dfbc8a-a39d-4159-dbab-8caecc3eb99a"
      },
      "outputs": [
        {
          "output_type": "stream",
          "name": "stdout",
          "text": [
            "Requirement already satisfied: scikeras in /usr/local/lib/python3.11/dist-packages (0.13.0)\n",
            "Requirement already satisfied: keras>=3.2.0 in /usr/local/lib/python3.11/dist-packages (from scikeras) (3.8.0)\n",
            "Requirement already satisfied: scikit-learn>=1.4.2 in /usr/local/lib/python3.11/dist-packages (from scikeras) (1.5.2)\n",
            "Requirement already satisfied: absl-py in /usr/local/lib/python3.11/dist-packages (from keras>=3.2.0->scikeras) (1.4.0)\n",
            "Requirement already satisfied: numpy in /usr/local/lib/python3.11/dist-packages (from keras>=3.2.0->scikeras) (1.26.4)\n",
            "Requirement already satisfied: rich in /usr/local/lib/python3.11/dist-packages (from keras>=3.2.0->scikeras) (13.9.4)\n",
            "Requirement already satisfied: namex in /usr/local/lib/python3.11/dist-packages (from keras>=3.2.0->scikeras) (0.0.8)\n",
            "Requirement already satisfied: h5py in /usr/local/lib/python3.11/dist-packages (from keras>=3.2.0->scikeras) (3.12.1)\n",
            "Requirement already satisfied: optree in /usr/local/lib/python3.11/dist-packages (from keras>=3.2.0->scikeras) (0.14.1)\n",
            "Requirement already satisfied: ml-dtypes in /usr/local/lib/python3.11/dist-packages (from keras>=3.2.0->scikeras) (0.4.1)\n",
            "Requirement already satisfied: packaging in /usr/local/lib/python3.11/dist-packages (from keras>=3.2.0->scikeras) (24.2)\n",
            "Requirement already satisfied: scipy>=1.6.0 in /usr/local/lib/python3.11/dist-packages (from scikit-learn>=1.4.2->scikeras) (1.14.1)\n",
            "Requirement already satisfied: joblib>=1.2.0 in /usr/local/lib/python3.11/dist-packages (from scikit-learn>=1.4.2->scikeras) (1.4.2)\n",
            "Requirement already satisfied: threadpoolctl>=3.1.0 in /usr/local/lib/python3.11/dist-packages (from scikit-learn>=1.4.2->scikeras) (3.5.0)\n",
            "Requirement already satisfied: typing-extensions>=4.5.0 in /usr/local/lib/python3.11/dist-packages (from optree->keras>=3.2.0->scikeras) (4.12.2)\n",
            "Requirement already satisfied: markdown-it-py>=2.2.0 in /usr/local/lib/python3.11/dist-packages (from rich->keras>=3.2.0->scikeras) (3.0.0)\n",
            "Requirement already satisfied: pygments<3.0.0,>=2.13.0 in /usr/local/lib/python3.11/dist-packages (from rich->keras>=3.2.0->scikeras) (2.18.0)\n",
            "Requirement already satisfied: mdurl~=0.1 in /usr/local/lib/python3.11/dist-packages (from markdown-it-py>=2.2.0->rich->keras>=3.2.0->scikeras) (0.1.2)\n",
            "Requirement already satisfied: imblearn in /usr/local/lib/python3.11/dist-packages (0.0)\n",
            "Requirement already satisfied: imbalanced-learn in /usr/local/lib/python3.11/dist-packages (from imblearn) (0.13.0)\n",
            "Requirement already satisfied: numpy<3,>=1.24.3 in /usr/local/lib/python3.11/dist-packages (from imbalanced-learn->imblearn) (1.26.4)\n",
            "Requirement already satisfied: scipy<2,>=1.10.1 in /usr/local/lib/python3.11/dist-packages (from imbalanced-learn->imblearn) (1.14.1)\n",
            "Requirement already satisfied: scikit-learn<2,>=1.3.2 in /usr/local/lib/python3.11/dist-packages (from imbalanced-learn->imblearn) (1.5.2)\n",
            "Requirement already satisfied: sklearn-compat<1,>=0.1 in /usr/local/lib/python3.11/dist-packages (from imbalanced-learn->imblearn) (0.1.3)\n",
            "Requirement already satisfied: joblib<2,>=1.1.1 in /usr/local/lib/python3.11/dist-packages (from imbalanced-learn->imblearn) (1.4.2)\n",
            "Requirement already satisfied: threadpoolctl<4,>=2.0.0 in /usr/local/lib/python3.11/dist-packages (from imbalanced-learn->imblearn) (3.5.0)\n",
            "Requirement already satisfied: scikit-learn==1.5.2 in /usr/local/lib/python3.11/dist-packages (1.5.2)\n",
            "Requirement already satisfied: numpy>=1.19.5 in /usr/local/lib/python3.11/dist-packages (from scikit-learn==1.5.2) (1.26.4)\n",
            "Requirement already satisfied: scipy>=1.6.0 in /usr/local/lib/python3.11/dist-packages (from scikit-learn==1.5.2) (1.14.1)\n",
            "Requirement already satisfied: joblib>=1.2.0 in /usr/local/lib/python3.11/dist-packages (from scikit-learn==1.5.2) (1.4.2)\n",
            "Requirement already satisfied: threadpoolctl>=3.1.0 in /usr/local/lib/python3.11/dist-packages (from scikit-learn==1.5.2) (3.5.0)\n"
          ]
        }
      ],
      "source": [
        "# ONLY RUN THIS CEL IN GOOGLE COLAB\n",
        "!pip install scikeras\n",
        "!pip install imblearn\n",
        "!pip install scikit-learn==1.5.2"
      ]
    },
    {
      "cell_type": "code",
      "execution_count": 2,
      "id": "e91d6a9b-761a-4204-ba3a-3b4001c95ff3",
      "metadata": {
        "id": "e91d6a9b-761a-4204-ba3a-3b4001c95ff3"
      },
      "outputs": [],
      "source": [
        "import time\n",
        "import numpy as np\n",
        "import pandas as pd\n",
        "import seaborn as sns\n",
        "import tensorflow as tf\n",
        "import matplotlib.pyplot as plt\n",
        "\n",
        "from pathlib import Path\n",
        "from os.path import abspath\n",
        "\n",
        "from tensorflow import keras\n",
        "from tensorflow.keras.models import Sequential\n",
        "from tensorflow.keras.layers import Dense, Dropout, Activation, Flatten, Input\n",
        "\n",
        "from scikeras.wrappers import KerasClassifier\n",
        "\n",
        "from sklearn.pipeline import Pipeline, make_pipeline\n",
        "from sklearn.impute import SimpleImputer, KNNImputer\n",
        "from sklearn.preprocessing import StandardScaler\n",
        "from sklearn.decomposition import PCA\n",
        "from sklearn.ensemble import RandomForestClassifier\n",
        "from sklearn.linear_model import LogisticRegression\n",
        "from sklearn.feature_selection import VarianceThreshold\n",
        "from sklearn.experimental import enable_halving_search_cv\n",
        "\n",
        "from sklearn.model_selection import (\n",
        "    train_test_split,\n",
        "    cross_validate,\n",
        "    cross_val_score,\n",
        "    StratifiedKFold,\n",
        "    RandomizedSearchCV,\n",
        "    GridSearchCV,\n",
        "    HalvingGridSearchCV,\n",
        "    StratifiedKFold\n",
        ")\n",
        "\n",
        "from sklearn.metrics import roc_auc_score, f1_score, accuracy_score\n",
        "\n",
        "from sklearn.experimental import enable_halving_search_cv"
      ]
    },
    {
      "cell_type": "code",
      "execution_count": 3,
      "id": "4f0ca299-2f2d-4656-9439-dcc751dcfb4e",
      "metadata": {
        "id": "4f0ca299-2f2d-4656-9439-dcc751dcfb4e"
      },
      "outputs": [],
      "source": [
        "global_seed = 42"
      ]
    },
    {
      "cell_type": "markdown",
      "id": "83b25bb5-91b8-4907-8207-38d2a7b2494b",
      "metadata": {
        "id": "83b25bb5-91b8-4907-8207-38d2a7b2494b"
      },
      "source": [
        "# Load Data & Preprocess\n",
        "\n",
        "## Exercise 1:\n",
        "Do some exploratory data analysis. Don’t just look globally, also look at these metrics by class (if applicable). There might be differences, after all:\n",
        "- How many missing data are there?\n",
        "- Are there other strange values in the data?\n",
        "- What is the proportion of classes in your data?\n",
        "- Are there genes (features) that are extremely highly correlated with each other? If so, how many?\n",
        "- What is the maximum value in the data, and the minimum?\n",
        "- Which feature has the highest variance?\n",
        "- Finally, make a boxplot of the expression values of the 30 features with the highest variance in the dataset, ordered by this variance.\n",
        "\n",
        "I expect a short comment on/answer to all these questions and what you found in your notebook, as well as the requested boxplot."
      ]
    },
    {
      "cell_type": "code",
      "execution_count": 4,
      "id": "f15ef3a3-ace4-4138-8b0a-6fc44cbfbf06",
      "metadata": {
        "id": "f15ef3a3-ace4-4138-8b0a-6fc44cbfbf06"
      },
      "outputs": [],
      "source": [
        "home_path = Path(abspath(''))\n",
        "train_data_path = home_path.joinpath('data/train_2025.csv')\n",
        "test_data_path = home_path.joinpath('data/test_2025.csv')\n",
        "test_answers_path = home_path.joinpath('data/answer_key_2025.csv')"
      ]
    },
    {
      "cell_type": "code",
      "execution_count": 5,
      "id": "l9AJ9mRw1gFq",
      "metadata": {
        "id": "l9AJ9mRw1gFq"
      },
      "outputs": [],
      "source": [
        "# If you're in colab it's easiest to load data from the web\n",
        "train_data_path = 'https://github.com/DieStok/BMLB2025/blob/main/Project/train_2025.csv?raw=true'\n",
        "test_data_path = 'https://github.com/DieStok/BMLB2025/blob/main/Project/test_2025.csv?raw=true'\n",
        "test_answers_path = 'https://github.com/DieStok/BMLB2025/blob/main/Project/answer_key_2025.csv?raw=true'"
      ]
    },
    {
      "cell_type": "code",
      "execution_count": 6,
      "id": "e4532be7-64fd-4483-953f-b602c3cec2ed",
      "metadata": {
        "id": "e4532be7-64fd-4483-953f-b602c3cec2ed"
      },
      "outputs": [],
      "source": [
        "X_dataframe = pd.read_csv(train_data_path)\n",
        "test_X_dataframe = pd.read_csv(test_data_path)\n",
        "test_y_dataframe = pd.read_csv(test_answers_path)"
      ]
    },
    {
      "cell_type": "code",
      "execution_count": 7,
      "id": "3779e28e-1198-47dd-b463-bae25672324b",
      "metadata": {
        "colab": {
          "base_uri": "https://localhost:8080/",
          "height": 273
        },
        "id": "3779e28e-1198-47dd-b463-bae25672324b",
        "outputId": "89d3349b-8d3e-43b4-a4b5-d42fcc2ac851"
      },
      "outputs": [
        {
          "output_type": "execute_result",
          "data": {
            "text/plain": [
              "   Gene 1  Gene 2  Gene 3   Gene 4  Gene 5  Gene 6  Gene 7  Gene 8  Gene 9  \\\n",
              "0     4.0   107.0   135.0  15752.0   459.0   189.0   222.0  2258.0  2992.0   \n",
              "1     4.0    96.0   130.0  13704.0   486.0   244.0   298.0     NaN  1874.0   \n",
              "2     5.0   139.0    71.0  13866.0   326.0   418.0   402.0  2833.0  1821.0   \n",
              "3     3.0   135.0    47.0  14945.0   432.0   239.0   224.0  3020.0  2958.0   \n",
              "4     2.0    69.0    48.0   8758.0   337.0   214.0   358.0     NaN  3388.0   \n",
              "\n",
              "   Gene 10  ...  Gene 1993  Gene 1994  Gene 1995  Gene 1996  Gene 1997  \\\n",
              "0     77.0  ...      156.0    18368.0      318.0       89.0      307.0   \n",
              "1     50.0  ...       82.0    21033.0      375.0        NaN      426.0   \n",
              "2     64.0  ...      122.0    13853.0      244.0      114.0      273.0   \n",
              "3     69.0  ...       50.0    16328.0      289.0        NaN        NaN   \n",
              "4     80.0  ...      119.0    10714.0      557.0       99.0      206.0   \n",
              "\n",
              "   Gene 1998  Gene 1999  Gene 2000  Outcome    Id  \n",
              "0       82.0      227.0      302.0        3  3328  \n",
              "1       91.0      232.0      116.0        1  2085  \n",
              "2       87.0      219.0        NaN        3  2455  \n",
              "3       98.0      244.0      312.0        3  2457  \n",
              "4      107.0      136.0      364.0        1  3641  \n",
              "\n",
              "[5 rows x 2002 columns]"
            ],
            "text/html": [
              "\n",
              "  <div id=\"df-c3ee012d-e2cd-44a6-a2a6-d15ef48aa37b\" class=\"colab-df-container\">\n",
              "    <div>\n",
              "<style scoped>\n",
              "    .dataframe tbody tr th:only-of-type {\n",
              "        vertical-align: middle;\n",
              "    }\n",
              "\n",
              "    .dataframe tbody tr th {\n",
              "        vertical-align: top;\n",
              "    }\n",
              "\n",
              "    .dataframe thead th {\n",
              "        text-align: right;\n",
              "    }\n",
              "</style>\n",
              "<table border=\"1\" class=\"dataframe\">\n",
              "  <thead>\n",
              "    <tr style=\"text-align: right;\">\n",
              "      <th></th>\n",
              "      <th>Gene 1</th>\n",
              "      <th>Gene 2</th>\n",
              "      <th>Gene 3</th>\n",
              "      <th>Gene 4</th>\n",
              "      <th>Gene 5</th>\n",
              "      <th>Gene 6</th>\n",
              "      <th>Gene 7</th>\n",
              "      <th>Gene 8</th>\n",
              "      <th>Gene 9</th>\n",
              "      <th>Gene 10</th>\n",
              "      <th>...</th>\n",
              "      <th>Gene 1993</th>\n",
              "      <th>Gene 1994</th>\n",
              "      <th>Gene 1995</th>\n",
              "      <th>Gene 1996</th>\n",
              "      <th>Gene 1997</th>\n",
              "      <th>Gene 1998</th>\n",
              "      <th>Gene 1999</th>\n",
              "      <th>Gene 2000</th>\n",
              "      <th>Outcome</th>\n",
              "      <th>Id</th>\n",
              "    </tr>\n",
              "  </thead>\n",
              "  <tbody>\n",
              "    <tr>\n",
              "      <th>0</th>\n",
              "      <td>4.0</td>\n",
              "      <td>107.0</td>\n",
              "      <td>135.0</td>\n",
              "      <td>15752.0</td>\n",
              "      <td>459.0</td>\n",
              "      <td>189.0</td>\n",
              "      <td>222.0</td>\n",
              "      <td>2258.0</td>\n",
              "      <td>2992.0</td>\n",
              "      <td>77.0</td>\n",
              "      <td>...</td>\n",
              "      <td>156.0</td>\n",
              "      <td>18368.0</td>\n",
              "      <td>318.0</td>\n",
              "      <td>89.0</td>\n",
              "      <td>307.0</td>\n",
              "      <td>82.0</td>\n",
              "      <td>227.0</td>\n",
              "      <td>302.0</td>\n",
              "      <td>3</td>\n",
              "      <td>3328</td>\n",
              "    </tr>\n",
              "    <tr>\n",
              "      <th>1</th>\n",
              "      <td>4.0</td>\n",
              "      <td>96.0</td>\n",
              "      <td>130.0</td>\n",
              "      <td>13704.0</td>\n",
              "      <td>486.0</td>\n",
              "      <td>244.0</td>\n",
              "      <td>298.0</td>\n",
              "      <td>NaN</td>\n",
              "      <td>1874.0</td>\n",
              "      <td>50.0</td>\n",
              "      <td>...</td>\n",
              "      <td>82.0</td>\n",
              "      <td>21033.0</td>\n",
              "      <td>375.0</td>\n",
              "      <td>NaN</td>\n",
              "      <td>426.0</td>\n",
              "      <td>91.0</td>\n",
              "      <td>232.0</td>\n",
              "      <td>116.0</td>\n",
              "      <td>1</td>\n",
              "      <td>2085</td>\n",
              "    </tr>\n",
              "    <tr>\n",
              "      <th>2</th>\n",
              "      <td>5.0</td>\n",
              "      <td>139.0</td>\n",
              "      <td>71.0</td>\n",
              "      <td>13866.0</td>\n",
              "      <td>326.0</td>\n",
              "      <td>418.0</td>\n",
              "      <td>402.0</td>\n",
              "      <td>2833.0</td>\n",
              "      <td>1821.0</td>\n",
              "      <td>64.0</td>\n",
              "      <td>...</td>\n",
              "      <td>122.0</td>\n",
              "      <td>13853.0</td>\n",
              "      <td>244.0</td>\n",
              "      <td>114.0</td>\n",
              "      <td>273.0</td>\n",
              "      <td>87.0</td>\n",
              "      <td>219.0</td>\n",
              "      <td>NaN</td>\n",
              "      <td>3</td>\n",
              "      <td>2455</td>\n",
              "    </tr>\n",
              "    <tr>\n",
              "      <th>3</th>\n",
              "      <td>3.0</td>\n",
              "      <td>135.0</td>\n",
              "      <td>47.0</td>\n",
              "      <td>14945.0</td>\n",
              "      <td>432.0</td>\n",
              "      <td>239.0</td>\n",
              "      <td>224.0</td>\n",
              "      <td>3020.0</td>\n",
              "      <td>2958.0</td>\n",
              "      <td>69.0</td>\n",
              "      <td>...</td>\n",
              "      <td>50.0</td>\n",
              "      <td>16328.0</td>\n",
              "      <td>289.0</td>\n",
              "      <td>NaN</td>\n",
              "      <td>NaN</td>\n",
              "      <td>98.0</td>\n",
              "      <td>244.0</td>\n",
              "      <td>312.0</td>\n",
              "      <td>3</td>\n",
              "      <td>2457</td>\n",
              "    </tr>\n",
              "    <tr>\n",
              "      <th>4</th>\n",
              "      <td>2.0</td>\n",
              "      <td>69.0</td>\n",
              "      <td>48.0</td>\n",
              "      <td>8758.0</td>\n",
              "      <td>337.0</td>\n",
              "      <td>214.0</td>\n",
              "      <td>358.0</td>\n",
              "      <td>NaN</td>\n",
              "      <td>3388.0</td>\n",
              "      <td>80.0</td>\n",
              "      <td>...</td>\n",
              "      <td>119.0</td>\n",
              "      <td>10714.0</td>\n",
              "      <td>557.0</td>\n",
              "      <td>99.0</td>\n",
              "      <td>206.0</td>\n",
              "      <td>107.0</td>\n",
              "      <td>136.0</td>\n",
              "      <td>364.0</td>\n",
              "      <td>1</td>\n",
              "      <td>3641</td>\n",
              "    </tr>\n",
              "  </tbody>\n",
              "</table>\n",
              "<p>5 rows × 2002 columns</p>\n",
              "</div>\n",
              "    <div class=\"colab-df-buttons\">\n",
              "\n",
              "  <div class=\"colab-df-container\">\n",
              "    <button class=\"colab-df-convert\" onclick=\"convertToInteractive('df-c3ee012d-e2cd-44a6-a2a6-d15ef48aa37b')\"\n",
              "            title=\"Convert this dataframe to an interactive table.\"\n",
              "            style=\"display:none;\">\n",
              "\n",
              "  <svg xmlns=\"http://www.w3.org/2000/svg\" height=\"24px\" viewBox=\"0 -960 960 960\">\n",
              "    <path d=\"M120-120v-720h720v720H120Zm60-500h600v-160H180v160Zm220 220h160v-160H400v160Zm0 220h160v-160H400v160ZM180-400h160v-160H180v160Zm440 0h160v-160H620v160ZM180-180h160v-160H180v160Zm440 0h160v-160H620v160Z\"/>\n",
              "  </svg>\n",
              "    </button>\n",
              "\n",
              "  <style>\n",
              "    .colab-df-container {\n",
              "      display:flex;\n",
              "      gap: 12px;\n",
              "    }\n",
              "\n",
              "    .colab-df-convert {\n",
              "      background-color: #E8F0FE;\n",
              "      border: none;\n",
              "      border-radius: 50%;\n",
              "      cursor: pointer;\n",
              "      display: none;\n",
              "      fill: #1967D2;\n",
              "      height: 32px;\n",
              "      padding: 0 0 0 0;\n",
              "      width: 32px;\n",
              "    }\n",
              "\n",
              "    .colab-df-convert:hover {\n",
              "      background-color: #E2EBFA;\n",
              "      box-shadow: 0px 1px 2px rgba(60, 64, 67, 0.3), 0px 1px 3px 1px rgba(60, 64, 67, 0.15);\n",
              "      fill: #174EA6;\n",
              "    }\n",
              "\n",
              "    .colab-df-buttons div {\n",
              "      margin-bottom: 4px;\n",
              "    }\n",
              "\n",
              "    [theme=dark] .colab-df-convert {\n",
              "      background-color: #3B4455;\n",
              "      fill: #D2E3FC;\n",
              "    }\n",
              "\n",
              "    [theme=dark] .colab-df-convert:hover {\n",
              "      background-color: #434B5C;\n",
              "      box-shadow: 0px 1px 3px 1px rgba(0, 0, 0, 0.15);\n",
              "      filter: drop-shadow(0px 1px 2px rgba(0, 0, 0, 0.3));\n",
              "      fill: #FFFFFF;\n",
              "    }\n",
              "  </style>\n",
              "\n",
              "    <script>\n",
              "      const buttonEl =\n",
              "        document.querySelector('#df-c3ee012d-e2cd-44a6-a2a6-d15ef48aa37b button.colab-df-convert');\n",
              "      buttonEl.style.display =\n",
              "        google.colab.kernel.accessAllowed ? 'block' : 'none';\n",
              "\n",
              "      async function convertToInteractive(key) {\n",
              "        const element = document.querySelector('#df-c3ee012d-e2cd-44a6-a2a6-d15ef48aa37b');\n",
              "        const dataTable =\n",
              "          await google.colab.kernel.invokeFunction('convertToInteractive',\n",
              "                                                    [key], {});\n",
              "        if (!dataTable) return;\n",
              "\n",
              "        const docLinkHtml = 'Like what you see? Visit the ' +\n",
              "          '<a target=\"_blank\" href=https://colab.research.google.com/notebooks/data_table.ipynb>data table notebook</a>'\n",
              "          + ' to learn more about interactive tables.';\n",
              "        element.innerHTML = '';\n",
              "        dataTable['output_type'] = 'display_data';\n",
              "        await google.colab.output.renderOutput(dataTable, element);\n",
              "        const docLink = document.createElement('div');\n",
              "        docLink.innerHTML = docLinkHtml;\n",
              "        element.appendChild(docLink);\n",
              "      }\n",
              "    </script>\n",
              "  </div>\n",
              "\n",
              "\n",
              "<div id=\"df-a60ae83c-da47-42db-883c-ed5f336643fa\">\n",
              "  <button class=\"colab-df-quickchart\" onclick=\"quickchart('df-a60ae83c-da47-42db-883c-ed5f336643fa')\"\n",
              "            title=\"Suggest charts\"\n",
              "            style=\"display:none;\">\n",
              "\n",
              "<svg xmlns=\"http://www.w3.org/2000/svg\" height=\"24px\"viewBox=\"0 0 24 24\"\n",
              "     width=\"24px\">\n",
              "    <g>\n",
              "        <path d=\"M19 3H5c-1.1 0-2 .9-2 2v14c0 1.1.9 2 2 2h14c1.1 0 2-.9 2-2V5c0-1.1-.9-2-2-2zM9 17H7v-7h2v7zm4 0h-2V7h2v10zm4 0h-2v-4h2v4z\"/>\n",
              "    </g>\n",
              "</svg>\n",
              "  </button>\n",
              "\n",
              "<style>\n",
              "  .colab-df-quickchart {\n",
              "      --bg-color: #E8F0FE;\n",
              "      --fill-color: #1967D2;\n",
              "      --hover-bg-color: #E2EBFA;\n",
              "      --hover-fill-color: #174EA6;\n",
              "      --disabled-fill-color: #AAA;\n",
              "      --disabled-bg-color: #DDD;\n",
              "  }\n",
              "\n",
              "  [theme=dark] .colab-df-quickchart {\n",
              "      --bg-color: #3B4455;\n",
              "      --fill-color: #D2E3FC;\n",
              "      --hover-bg-color: #434B5C;\n",
              "      --hover-fill-color: #FFFFFF;\n",
              "      --disabled-bg-color: #3B4455;\n",
              "      --disabled-fill-color: #666;\n",
              "  }\n",
              "\n",
              "  .colab-df-quickchart {\n",
              "    background-color: var(--bg-color);\n",
              "    border: none;\n",
              "    border-radius: 50%;\n",
              "    cursor: pointer;\n",
              "    display: none;\n",
              "    fill: var(--fill-color);\n",
              "    height: 32px;\n",
              "    padding: 0;\n",
              "    width: 32px;\n",
              "  }\n",
              "\n",
              "  .colab-df-quickchart:hover {\n",
              "    background-color: var(--hover-bg-color);\n",
              "    box-shadow: 0 1px 2px rgba(60, 64, 67, 0.3), 0 1px 3px 1px rgba(60, 64, 67, 0.15);\n",
              "    fill: var(--button-hover-fill-color);\n",
              "  }\n",
              "\n",
              "  .colab-df-quickchart-complete:disabled,\n",
              "  .colab-df-quickchart-complete:disabled:hover {\n",
              "    background-color: var(--disabled-bg-color);\n",
              "    fill: var(--disabled-fill-color);\n",
              "    box-shadow: none;\n",
              "  }\n",
              "\n",
              "  .colab-df-spinner {\n",
              "    border: 2px solid var(--fill-color);\n",
              "    border-color: transparent;\n",
              "    border-bottom-color: var(--fill-color);\n",
              "    animation:\n",
              "      spin 1s steps(1) infinite;\n",
              "  }\n",
              "\n",
              "  @keyframes spin {\n",
              "    0% {\n",
              "      border-color: transparent;\n",
              "      border-bottom-color: var(--fill-color);\n",
              "      border-left-color: var(--fill-color);\n",
              "    }\n",
              "    20% {\n",
              "      border-color: transparent;\n",
              "      border-left-color: var(--fill-color);\n",
              "      border-top-color: var(--fill-color);\n",
              "    }\n",
              "    30% {\n",
              "      border-color: transparent;\n",
              "      border-left-color: var(--fill-color);\n",
              "      border-top-color: var(--fill-color);\n",
              "      border-right-color: var(--fill-color);\n",
              "    }\n",
              "    40% {\n",
              "      border-color: transparent;\n",
              "      border-right-color: var(--fill-color);\n",
              "      border-top-color: var(--fill-color);\n",
              "    }\n",
              "    60% {\n",
              "      border-color: transparent;\n",
              "      border-right-color: var(--fill-color);\n",
              "    }\n",
              "    80% {\n",
              "      border-color: transparent;\n",
              "      border-right-color: var(--fill-color);\n",
              "      border-bottom-color: var(--fill-color);\n",
              "    }\n",
              "    90% {\n",
              "      border-color: transparent;\n",
              "      border-bottom-color: var(--fill-color);\n",
              "    }\n",
              "  }\n",
              "</style>\n",
              "\n",
              "  <script>\n",
              "    async function quickchart(key) {\n",
              "      const quickchartButtonEl =\n",
              "        document.querySelector('#' + key + ' button');\n",
              "      quickchartButtonEl.disabled = true;  // To prevent multiple clicks.\n",
              "      quickchartButtonEl.classList.add('colab-df-spinner');\n",
              "      try {\n",
              "        const charts = await google.colab.kernel.invokeFunction(\n",
              "            'suggestCharts', [key], {});\n",
              "      } catch (error) {\n",
              "        console.error('Error during call to suggestCharts:', error);\n",
              "      }\n",
              "      quickchartButtonEl.classList.remove('colab-df-spinner');\n",
              "      quickchartButtonEl.classList.add('colab-df-quickchart-complete');\n",
              "    }\n",
              "    (() => {\n",
              "      let quickchartButtonEl =\n",
              "        document.querySelector('#df-a60ae83c-da47-42db-883c-ed5f336643fa button');\n",
              "      quickchartButtonEl.style.display =\n",
              "        google.colab.kernel.accessAllowed ? 'block' : 'none';\n",
              "    })();\n",
              "  </script>\n",
              "</div>\n",
              "\n",
              "    </div>\n",
              "  </div>\n"
            ],
            "application/vnd.google.colaboratory.intrinsic+json": {
              "type": "dataframe",
              "variable_name": "X_dataframe"
            }
          },
          "metadata": {},
          "execution_count": 7
        }
      ],
      "source": [
        "X_dataframe.head()"
      ]
    },
    {
      "cell_type": "code",
      "execution_count": 8,
      "id": "5b65675b-1a10-45c0-97db-9a8b84f7d729",
      "metadata": {
        "id": "5b65675b-1a10-45c0-97db-9a8b84f7d729"
      },
      "outputs": [],
      "source": [
        "# Seperate features and target variable\n",
        "target_name = 'Outcome'\n",
        "labels = X_dataframe[target_name]\n",
        "features = X_dataframe.drop([target_name, 'Id'], axis=1)\n",
        "\n",
        "test_labels = test_y_dataframe.drop('Id', axis=1)\n",
        "test_features = test_X_dataframe.drop('Id', axis=1)"
      ]
    },
    {
      "cell_type": "markdown",
      "id": "9b524da9-855a-44b8-b5ea-a1bc31269e58",
      "metadata": {
        "id": "9b524da9-855a-44b8-b5ea-a1bc31269e58"
      },
      "source": [
        "### Missing data & Strange values"
      ]
    },
    {
      "cell_type": "code",
      "execution_count": 9,
      "id": "34bad7f6-4e2c-4b2c-8b0b-0822c6d32639",
      "metadata": {
        "colab": {
          "base_uri": "https://localhost:8080/",
          "height": 576
        },
        "id": "34bad7f6-4e2c-4b2c-8b0b-0822c6d32639",
        "outputId": "b239ff64-e6a1-4d5d-dc2d-0d9aacbdba5a"
      },
      "outputs": [
        {
          "output_type": "display_data",
          "data": {
            "text/plain": [
              "<Figure size 640x480 with 1 Axes>"
            ],
            "image/png": "[encoded data removed]"
          },
          "metadata": {}
        },
        {
          "output_type": "stream",
          "name": "stdout",
          "text": [
            "Total missing values across all features: 497869\n",
            "This means that 7.07% of data points are missing\n",
            "\n",
            "Total infinite values: 0\n",
            "Total negative values: 0\n",
            "Total 0.0 values: 1885\n"
          ]
        }
      ],
      "source": [
        "# Checking for missing values\n",
        "missing_counts = features.isna().sum()\n",
        "\n",
        "# Create a distribution plot\n",
        "sns.histplot(missing_counts, kde=True, bins=20)\n",
        "plt.xlabel('Missing Data Count')\n",
        "plt.ylabel('Frequency')\n",
        "plt.title('Distribution of Missing Data Counts per Gene')\n",
        "plt.show()\n",
        "\n",
        "print(f'Total missing values across all features: {missing_counts.sum()}')\n",
        "print(f'This means that {round((missing_counts.sum() / (features.shape[0] * features.shape[1]) * 100), 2)}% of data points are missing')\n",
        "\n",
        "print()\n",
        "\n",
        "# Checking for strange values\n",
        "num_infinite = np.isinf(features.values).sum()\n",
        "num_negative = (features < 0).sum().sum()\n",
        "num_zero = (features == 0.0).sum().sum()\n",
        "print(f'Total infinite values: {num_infinite}')\n",
        "print(f'Total negative values: {num_negative}')\n",
        "print(f'Total 0.0 values: {num_zero}')"
      ]
    },
    {
      "cell_type": "markdown",
      "id": "57546efb-7ba6-4291-bb9a-03d20eadc5d5",
      "metadata": {
        "id": "57546efb-7ba6-4291-bb9a-03d20eadc5d5"
      },
      "source": [
        "In the figure the distribution of missing data points per feature is plotted. We can see of all the features that have missing data points most are missing around 250 data points."
      ]
    },
    {
      "cell_type": "markdown",
      "id": "400b7b55-c964-4f26-8f31-4c332d9649a1",
      "metadata": {
        "id": "400b7b55-c964-4f26-8f31-4c332d9649a1"
      },
      "source": [
        "### Class proportion\n",
        "The dataset can used to train a classifier to classify 4 subtypes of lung cancer. For classification it's important that the class distribution in the training data is as equal to the actual class distribution. Here we check how the different classes are distributed in the dataset"
      ]
    },
    {
      "cell_type": "code",
      "execution_count": 10,
      "id": "c6bd16c1-94d7-49fc-8339-1345627b0ff2",
      "metadata": {
        "colab": {
          "base_uri": "https://localhost:8080/"
        },
        "id": "c6bd16c1-94d7-49fc-8339-1345627b0ff2",
        "outputId": "640e3379-f4db-4a6f-fe41-c869237528e2"
      },
      "outputs": [
        {
          "output_type": "stream",
          "name": "stdout",
          "text": [
            "Class counts:\n",
            "Outcome\n",
            "3    1280\n",
            "2     881\n",
            "1     730\n",
            "0     629\n",
            "Name: count, dtype: int64\n",
            "\n",
            "The percentage of class 0 is 17.87%\n",
            "The percentage of class 1 is 20.74%\n",
            "The percentage of class 2 is 25.03%\n",
            "The percentage of class 3 is 36.36%\n"
          ]
        }
      ],
      "source": [
        "class_counts = labels.value_counts()\n",
        "print('Class counts:')\n",
        "print(class_counts)\n",
        "print()\n",
        "for i in range (4):\n",
        "    print(f'The percentage of class {i} is {round((class_counts / class_counts.sum())[i]*100, 2)}%')"
      ]
    },
    {
      "cell_type": "markdown",
      "id": "VhV4K_Zm28I-",
      "metadata": {
        "id": "VhV4K_Zm28I-"
      },
      "source": [
        "So the classes in the dataset are imbalanced, and it's unsure if this imbalance mirrors the real world distribution. We'll balance our dataset later on to adress this."
      ]
    },
    {
      "cell_type": "markdown",
      "id": "effe8698-41a8-4767-a2c0-96551b4c0ed4",
      "metadata": {
        "id": "effe8698-41a8-4767-a2c0-96551b4c0ed4"
      },
      "source": [
        "### Checking for multicollinearity\n",
        "It’s highly likely that measured genes are correlated with each other. Groups of genes form systems together that enable cell 'behavior'; thus, groups of genes can have high or low expression together by being part of the same system. However, this correlation with each other is not favorable for a classifier because the expression of these correlated genes doesn’t hold extra information that can be used to discriminate samples from each other."
      ]
    },
    {
      "cell_type": "code",
      "execution_count": 11,
      "id": "5163987b-6a1f-4931-bf4e-2a2d92c8e0b9",
      "metadata": {
        "id": "5163987b-6a1f-4931-bf4e-2a2d92c8e0b9"
      },
      "outputs": [],
      "source": [
        "# checking for high correlation between features.\n",
        "corr_matrix = features.corr().abs() # Might take a while\n",
        "threshold = 0.95\n",
        "high_corr_pairs = []\n",
        "all_correlations = []\n",
        "cols = corr_matrix.columns\n",
        "\n",
        "# count only unique pairs\n",
        "for i in range(len(cols)):\n",
        "    for j in range(i + 1, len(cols)): # go across diagnal\n",
        "        # Store all values for plot\n",
        "        all_correlations.append(corr_matrix.iloc[i, j])\n",
        "        if corr_matrix.iloc[i, j] > threshold:\n",
        "            high_corr_pairs.append((cols[i], cols[j], corr_matrix.iloc[i, j]))"
      ]
    },
    {
      "cell_type": "code",
      "execution_count": 12,
      "id": "1510fcaf-d4bc-49e4-949e-07a1d66f90e8",
      "metadata": {
        "colab": {
          "base_uri": "https://localhost:8080/"
        },
        "id": "1510fcaf-d4bc-49e4-949e-07a1d66f90e8",
        "outputId": "ae011acb-0338-48ec-b3b1-8a221fc1eca3"
      },
      "outputs": [
        {
          "output_type": "stream",
          "name": "stdout",
          "text": [
            "Number of gene pairs that exceed the corraltion threshold: 59\n"
          ]
        }
      ],
      "source": [
        "# Printing results\n",
        "print(f'Number of gene pairs that exceed the corraltion threshold: {len(high_corr_pairs)}')"
      ]
    },
    {
      "cell_type": "code",
      "execution_count": 13,
      "id": "5b75b867-ef77-49f0-a493-6065d3d87439",
      "metadata": {
        "colab": {
          "base_uri": "https://localhost:8080/",
          "height": 548
        },
        "id": "5b75b867-ef77-49f0-a493-6065d3d87439",
        "outputId": "bbed33d7-8749-4220-decf-ad56a530a8ca"
      },
      "outputs": [
        {
          "output_type": "display_data",
          "data": {
            "text/plain": [
              "<Figure size 500x500 with 1 Axes>"
            ],
            "image/png": "[encoded data removed]"
          },
          "metadata": {}
        }
      ],
      "source": [
        "sns.displot(all_correlations, bins=100)\n",
        "plt.xlabel('Absolute corrolation')\n",
        "plt.ylabel('Frequency')\n",
        "plt.title('Distribution of corraltion value between features')\n",
        "plt.show()"
      ]
    },
    {
      "cell_type": "markdown",
      "id": "e581047f-9ecb-4a87-b760-54da73dd5f6c",
      "metadata": {
        "id": "e581047f-9ecb-4a87-b760-54da73dd5f6c"
      },
      "source": [
        "Most gene pairs don't have high correlation with each other and after a correltion of about 0.2 there is a almost non existent tail of genes with a higher correlation. These genes might be of interest to exclude for our classificaton task."
      ]
    },
    {
      "cell_type": "markdown",
      "id": "a8b2ea70-b782-4286-89b6-c2e81772596e",
      "metadata": {
        "id": "a8b2ea70-b782-4286-89b6-c2e81772596e"
      },
      "source": [
        "### Data Range"
      ]
    },
    {
      "cell_type": "code",
      "execution_count": 14,
      "id": "6dbe14f8-00d3-479d-8214-29a93ee59c39",
      "metadata": {
        "colab": {
          "base_uri": "https://localhost:8080/"
        },
        "id": "6dbe14f8-00d3-479d-8214-29a93ee59c39",
        "outputId": "340960db-d215-477f-cf12-bc4c239fa58a"
      },
      "outputs": [
        {
          "output_type": "stream",
          "name": "stdout",
          "text": [
            "Maximum value in the data: 51663.0\n",
            "Minimum value in the data: 0.0\n"
          ]
        }
      ],
      "source": [
        "print(f\"Maximum value in the data: {features.max().max()}\")\n",
        "print(f\"Minimum value in the data: {features.min().min()}\")"
      ]
    },
    {
      "cell_type": "markdown",
      "id": "af7a1346-0df7-476d-b61e-9a474325caa0",
      "metadata": {
        "id": "af7a1346-0df7-476d-b61e-9a474325caa0"
      },
      "source": [
        "### Feature Variance"
      ]
    },
    {
      "cell_type": "code",
      "execution_count": 15,
      "id": "09282623-4625-48d1-9bea-1df05025e832",
      "metadata": {
        "colab": {
          "base_uri": "https://localhost:8080/"
        },
        "id": "09282623-4625-48d1-9bea-1df05025e832",
        "outputId": "e5335f55-e622-4d84-df56-1533576ea7e4"
      },
      "outputs": [
        {
          "output_type": "stream",
          "name": "stdout",
          "text": [
            "Feature with the highest variance: Gene 1127, with a variance value of: 44663714.33\n"
          ]
        }
      ],
      "source": [
        "variances = features.var()\n",
        "top_feature = variances.idxmax()\n",
        "print(f'Feature with the highest variance: {top_feature}, with a variance value of: {round(variances.max(), 2)}')"
      ]
    },
    {
      "cell_type": "code",
      "execution_count": 16,
      "id": "6d1f26a6-9908-46ea-bf1d-831829806269",
      "metadata": {
        "colab": {
          "base_uri": "https://localhost:8080/",
          "height": 487
        },
        "id": "6d1f26a6-9908-46ea-bf1d-831829806269",
        "outputId": "ade5b992-8419-446f-d82a-43d3b405daef"
      },
      "outputs": [
        {
          "output_type": "display_data",
          "data": {
            "text/plain": [
              "<Figure size 640x480 with 1 Axes>"
            ],
            "image/png": "[encoded data removed]"
          },
          "metadata": {}
        }
      ],
      "source": [
        "# boxplot of the top 30 features with highest variance.\n",
        "top30_features = variances.sort_values(ascending=False).head(30).index\n",
        "\n",
        "features[top30_features].boxplot(rot=90)\n",
        "plt.title(\"Boxplot of Top 30 features with highest variance\")\n",
        "plt.ylabel(\"Expression value\")\n",
        "plt.tight_layout()\n",
        "plt.show()"
      ]
    },
    {
      "cell_type": "markdown",
      "id": "a6476739-b68b-45c9-91cf-aa38bbd85f44",
      "metadata": {
        "id": "a6476739-b68b-45c9-91cf-aa38bbd85f44"
      },
      "source": [
        "# Downsample data\n",
        "2.\tBig surprise: there’s missing data. Before you deal with that, take care of the class imbalance problem in the brute-force way described above: downsample the data so that you have equal numbers of data for each class. Continue with that training data to the following steps.\n",
        "\n",
        "Clearly print the head and tail of the new training data (and labels) and show that it has equal amounts of each class."
      ]
    },
    {
      "cell_type": "code",
      "execution_count": 17,
      "id": "c587b857-760e-42ca-abb8-9180e54230e2",
      "metadata": {
        "colab": {
          "base_uri": "https://localhost:8080/"
        },
        "id": "c587b857-760e-42ca-abb8-9180e54230e2",
        "outputId": "f7b305ab-84e1-47c0-d835-e627bf9c09d8"
      },
      "outputs": [
        {
          "output_type": "stream",
          "name": "stdout",
          "text": [
            "Class counts:\n",
            "Outcome\n",
            "0    629\n",
            "1    629\n",
            "2    629\n",
            "3    629\n",
            "Name: count, dtype: int64\n"
          ]
        }
      ],
      "source": [
        "from imblearn.under_sampling import RandomUnderSampler\n",
        "\n",
        "sampled = RandomUnderSampler(random_state=42)\n",
        "X_downSampled, y_downSampled = sampled.fit_resample(features, labels)\n",
        "\n",
        "# Checking:\n",
        "class_counts = y_downSampled.value_counts()\n",
        "print('Class counts:')\n",
        "print(class_counts)"
      ]
    },
    {
      "cell_type": "code",
      "execution_count": 18,
      "id": "9437f907-5410-4fa4-912b-e0cb7c8cb048",
      "metadata": {
        "colab": {
          "base_uri": "https://localhost:8080/",
          "height": 957
        },
        "id": "9437f907-5410-4fa4-912b-e0cb7c8cb048",
        "outputId": "95222d0d-6e3e-4e95-a511-6bd477d24eed"
      },
      "outputs": [
        {
          "output_type": "display_data",
          "data": {
            "text/plain": [
              "    Gene 1  Gene 2  Gene 3   Gene 4  Gene 5  Gene 6  Gene 7  Gene 8  Gene 9  \\\n",
              "7      NaN    93.0   116.0  17932.0   409.0   249.0   278.0  2953.0  2021.0   \n",
              "11     4.0    99.0    84.0  15956.0   452.0   296.0   407.0  3167.0  2169.0   \n",
              "12     5.0   118.0   120.0  20132.0   538.0   405.0   290.0  2813.0  1739.0   \n",
              "15     5.0    79.0    82.0  11633.0   608.0   231.0   519.0  1756.0  1209.0   \n",
              "17     5.0   125.0    54.0      NaN   313.0   276.0   369.0  2088.0  2759.0   \n",
              "\n",
              "    Gene 10  ...  Gene 1991  Gene 1992  Gene 1993  Gene 1994  Gene 1995  \\\n",
              "7      69.0  ...     7210.0    17690.0       86.0    14963.0      445.0   \n",
              "11     39.0  ...     3880.0    17901.0      123.0    17115.0      286.0   \n",
              "12     34.0  ...        NaN    20810.0      111.0    15853.0      391.0   \n",
              "15     49.0  ...     6561.0    21187.0      162.0    15585.0      439.0   \n",
              "17     54.0  ...    11090.0    33076.0       99.0    14565.0      358.0   \n",
              "\n",
              "    Gene 1996  Gene 1997  Gene 1998  Gene 1999  Gene 2000  \n",
              "7       160.0      214.0      115.0      217.0      198.0  \n",
              "11      150.0      237.0        NaN        NaN      137.0  \n",
              "12      105.0      290.0       67.0      259.0      302.0  \n",
              "15       94.0      259.0      124.0      115.0      163.0  \n",
              "17      128.0      270.0       77.0      168.0      186.0  \n",
              "\n",
              "[5 rows x 2000 columns]"
            ],
            "text/html": [
              "\n",
              "  <div id=\"df-a1fc3013-ef2e-4406-8270-432580fccf89\" class=\"colab-df-container\">\n",
              "    <div>\n",
              "<style scoped>\n",
              "    .dataframe tbody tr th:only-of-type {\n",
              "        vertical-align: middle;\n",
              "    }\n",
              "\n",
              "    .dataframe tbody tr th {\n",
              "        vertical-align: top;\n",
              "    }\n",
              "\n",
              "    .dataframe thead th {\n",
              "        text-align: right;\n",
              "    }\n",
              "</style>\n",
              "<table border=\"1\" class=\"dataframe\">\n",
              "  <thead>\n",
              "    <tr style=\"text-align: right;\">\n",
              "      <th></th>\n",
              "      <th>Gene 1</th>\n",
              "      <th>Gene 2</th>\n",
              "      <th>Gene 3</th>\n",
              "      <th>Gene 4</th>\n",
              "      <th>Gene 5</th>\n",
              "      <th>Gene 6</th>\n",
              "      <th>Gene 7</th>\n",
              "      <th>Gene 8</th>\n",
              "      <th>Gene 9</th>\n",
              "      <th>Gene 10</th>\n",
              "      <th>...</th>\n",
              "      <th>Gene 1991</th>\n",
              "      <th>Gene 1992</th>\n",
              "      <th>Gene 1993</th>\n",
              "      <th>Gene 1994</th>\n",
              "      <th>Gene 1995</th>\n",
              "      <th>Gene 1996</th>\n",
              "      <th>Gene 1997</th>\n",
              "      <th>Gene 1998</th>\n",
              "      <th>Gene 1999</th>\n",
              "      <th>Gene 2000</th>\n",
              "    </tr>\n",
              "  </thead>\n",
              "  <tbody>\n",
              "    <tr>\n",
              "      <th>7</th>\n",
              "      <td>NaN</td>\n",
              "      <td>93.0</td>\n",
              "      <td>116.0</td>\n",
              "      <td>17932.0</td>\n",
              "      <td>409.0</td>\n",
              "      <td>249.0</td>\n",
              "      <td>278.0</td>\n",
              "      <td>2953.0</td>\n",
              "      <td>2021.0</td>\n",
              "      <td>69.0</td>\n",
              "      <td>...</td>\n",
              "      <td>7210.0</td>\n",
              "      <td>17690.0</td>\n",
              "      <td>86.0</td>\n",
              "      <td>14963.0</td>\n",
              "      <td>445.0</td>\n",
              "      <td>160.0</td>\n",
              "      <td>214.0</td>\n",
              "      <td>115.0</td>\n",
              "      <td>217.0</td>\n",
              "      <td>198.0</td>\n",
              "    </tr>\n",
              "    <tr>\n",
              "      <th>11</th>\n",
              "      <td>4.0</td>\n",
              "      <td>99.0</td>\n",
              "      <td>84.0</td>\n",
              "      <td>15956.0</td>\n",
              "      <td>452.0</td>\n",
              "      <td>296.0</td>\n",
              "      <td>407.0</td>\n",
              "      <td>3167.0</td>\n",
              "      <td>2169.0</td>\n",
              "      <td>39.0</td>\n",
              "      <td>...</td>\n",
              "      <td>3880.0</td>\n",
              "      <td>17901.0</td>\n",
              "      <td>123.0</td>\n",
              "      <td>17115.0</td>\n",
              "      <td>286.0</td>\n",
              "      <td>150.0</td>\n",
              "      <td>237.0</td>\n",
              "      <td>NaN</td>\n",
              "      <td>NaN</td>\n",
              "      <td>137.0</td>\n",
              "    </tr>\n",
              "    <tr>\n",
              "      <th>12</th>\n",
              "      <td>5.0</td>\n",
              "      <td>118.0</td>\n",
              "      <td>120.0</td>\n",
              "      <td>20132.0</td>\n",
              "      <td>538.0</td>\n",
              "      <td>405.0</td>\n",
              "      <td>290.0</td>\n",
              "      <td>2813.0</td>\n",
              "      <td>1739.0</td>\n",
              "      <td>34.0</td>\n",
              "      <td>...</td>\n",
              "      <td>NaN</td>\n",
              "      <td>20810.0</td>\n",
              "      <td>111.0</td>\n",
              "      <td>15853.0</td>\n",
              "      <td>391.0</td>\n",
              "      <td>105.0</td>\n",
              "      <td>290.0</td>\n",
              "      <td>67.0</td>\n",
              "      <td>259.0</td>\n",
              "      <td>302.0</td>\n",
              "    </tr>\n",
              "    <tr>\n",
              "      <th>15</th>\n",
              "      <td>5.0</td>\n",
              "      <td>79.0</td>\n",
              "      <td>82.0</td>\n",
              "      <td>11633.0</td>\n",
              "      <td>608.0</td>\n",
              "      <td>231.0</td>\n",
              "      <td>519.0</td>\n",
              "      <td>1756.0</td>\n",
              "      <td>1209.0</td>\n",
              "      <td>49.0</td>\n",
              "      <td>...</td>\n",
              "      <td>6561.0</td>\n",
              "      <td>21187.0</td>\n",
              "      <td>162.0</td>\n",
              "      <td>15585.0</td>\n",
              "      <td>439.0</td>\n",
              "      <td>94.0</td>\n",
              "      <td>259.0</td>\n",
              "      <td>124.0</td>\n",
              "      <td>115.0</td>\n",
              "      <td>163.0</td>\n",
              "    </tr>\n",
              "    <tr>\n",
              "      <th>17</th>\n",
              "      <td>5.0</td>\n",
              "      <td>125.0</td>\n",
              "      <td>54.0</td>\n",
              "      <td>NaN</td>\n",
              "      <td>313.0</td>\n",
              "      <td>276.0</td>\n",
              "      <td>369.0</td>\n",
              "      <td>2088.0</td>\n",
              "      <td>2759.0</td>\n",
              "      <td>54.0</td>\n",
              "      <td>...</td>\n",
              "      <td>11090.0</td>\n",
              "      <td>33076.0</td>\n",
              "      <td>99.0</td>\n",
              "      <td>14565.0</td>\n",
              "      <td>358.0</td>\n",
              "      <td>128.0</td>\n",
              "      <td>270.0</td>\n",
              "      <td>77.0</td>\n",
              "      <td>168.0</td>\n",
              "      <td>186.0</td>\n",
              "    </tr>\n",
              "  </tbody>\n",
              "</table>\n",
              "<p>5 rows × 2000 columns</p>\n",
              "</div>\n",
              "    <div class=\"colab-df-buttons\">\n",
              "\n",
              "  <div class=\"colab-df-container\">\n",
              "    <button class=\"colab-df-convert\" onclick=\"convertToInteractive('df-a1fc3013-ef2e-4406-8270-432580fccf89')\"\n",
              "            title=\"Convert this dataframe to an interactive table.\"\n",
              "            style=\"display:none;\">\n",
              "\n",
              "  <svg xmlns=\"http://www.w3.org/2000/svg\" height=\"24px\" viewBox=\"0 -960 960 960\">\n",
              "    <path d=\"M120-120v-720h720v720H120Zm60-500h600v-160H180v160Zm220 220h160v-160H400v160Zm0 220h160v-160H400v160ZM180-400h160v-160H180v160Zm440 0h160v-160H620v160ZM180-180h160v-160H180v160Zm440 0h160v-160H620v160Z\"/>\n",
              "  </svg>\n",
              "    </button>\n",
              "\n",
              "  <style>\n",
              "    .colab-df-container {\n",
              "      display:flex;\n",
              "      gap: 12px;\n",
              "    }\n",
              "\n",
              "    .colab-df-convert {\n",
              "      background-color: #E8F0FE;\n",
              "      border: none;\n",
              "      border-radius: 50%;\n",
              "      cursor: pointer;\n",
              "      display: none;\n",
              "      fill: #1967D2;\n",
              "      height: 32px;\n",
              "      padding: 0 0 0 0;\n",
              "      width: 32px;\n",
              "    }\n",
              "\n",
              "    .colab-df-convert:hover {\n",
              "      background-color: #E2EBFA;\n",
              "      box-shadow: 0px 1px 2px rgba(60, 64, 67, 0.3), 0px 1px 3px 1px rgba(60, 64, 67, 0.15);\n",
              "      fill: #174EA6;\n",
              "    }\n",
              "\n",
              "    .colab-df-buttons div {\n",
              "      margin-bottom: 4px;\n",
              "    }\n",
              "\n",
              "    [theme=dark] .colab-df-convert {\n",
              "      background-color: #3B4455;\n",
              "      fill: #D2E3FC;\n",
              "    }\n",
              "\n",
              "    [theme=dark] .colab-df-convert:hover {\n",
              "      background-color: #434B5C;\n",
              "      box-shadow: 0px 1px 3px 1px rgba(0, 0, 0, 0.15);\n",
              "      filter: drop-shadow(0px 1px 2px rgba(0, 0, 0, 0.3));\n",
              "      fill: #FFFFFF;\n",
              "    }\n",
              "  </style>\n",
              "\n",
              "    <script>\n",
              "      const buttonEl =\n",
              "        document.querySelector('#df-a1fc3013-ef2e-4406-8270-432580fccf89 button.colab-df-convert');\n",
              "      buttonEl.style.display =\n",
              "        google.colab.kernel.accessAllowed ? 'block' : 'none';\n",
              "\n",
              "      async function convertToInteractive(key) {\n",
              "        const element = document.querySelector('#df-a1fc3013-ef2e-4406-8270-432580fccf89');\n",
              "        const dataTable =\n",
              "          await google.colab.kernel.invokeFunction('convertToInteractive',\n",
              "                                                    [key], {});\n",
              "        if (!dataTable) return;\n",
              "\n",
              "        const docLinkHtml = 'Like what you see? Visit the ' +\n",
              "          '<a target=\"_blank\" href=https://colab.research.google.com/notebooks/data_table.ipynb>data table notebook</a>'\n",
              "          + ' to learn more about interactive tables.';\n",
              "        element.innerHTML = '';\n",
              "        dataTable['output_type'] = 'display_data';\n",
              "        await google.colab.output.renderOutput(dataTable, element);\n",
              "        const docLink = document.createElement('div');\n",
              "        docLink.innerHTML = docLinkHtml;\n",
              "        element.appendChild(docLink);\n",
              "      }\n",
              "    </script>\n",
              "  </div>\n",
              "\n",
              "\n",
              "<div id=\"df-cdfaef0d-4538-44c6-a261-30860f79ee70\">\n",
              "  <button class=\"colab-df-quickchart\" onclick=\"quickchart('df-cdfaef0d-4538-44c6-a261-30860f79ee70')\"\n",
              "            title=\"Suggest charts\"\n",
              "            style=\"display:none;\">\n",
              "\n",
              "<svg xmlns=\"http://www.w3.org/2000/svg\" height=\"24px\"viewBox=\"0 0 24 24\"\n",
              "     width=\"24px\">\n",
              "    <g>\n",
              "        <path d=\"M19 3H5c-1.1 0-2 .9-2 2v14c0 1.1.9 2 2 2h14c1.1 0 2-.9 2-2V5c0-1.1-.9-2-2-2zM9 17H7v-7h2v7zm4 0h-2V7h2v10zm4 0h-2v-4h2v4z\"/>\n",
              "    </g>\n",
              "</svg>\n",
              "  </button>\n",
              "\n",
              "<style>\n",
              "  .colab-df-quickchart {\n",
              "      --bg-color: #E8F0FE;\n",
              "      --fill-color: #1967D2;\n",
              "      --hover-bg-color: #E2EBFA;\n",
              "      --hover-fill-color: #174EA6;\n",
              "      --disabled-fill-color: #AAA;\n",
              "      --disabled-bg-color: #DDD;\n",
              "  }\n",
              "\n",
              "  [theme=dark] .colab-df-quickchart {\n",
              "      --bg-color: #3B4455;\n",
              "      --fill-color: #D2E3FC;\n",
              "      --hover-bg-color: #434B5C;\n",
              "      --hover-fill-color: #FFFFFF;\n",
              "      --disabled-bg-color: #3B4455;\n",
              "      --disabled-fill-color: #666;\n",
              "  }\n",
              "\n",
              "  .colab-df-quickchart {\n",
              "    background-color: var(--bg-color);\n",
              "    border: none;\n",
              "    border-radius: 50%;\n",
              "    cursor: pointer;\n",
              "    display: none;\n",
              "    fill: var(--fill-color);\n",
              "    height: 32px;\n",
              "    padding: 0;\n",
              "    width: 32px;\n",
              "  }\n",
              "\n",
              "  .colab-df-quickchart:hover {\n",
              "    background-color: var(--hover-bg-color);\n",
              "    box-shadow: 0 1px 2px rgba(60, 64, 67, 0.3), 0 1px 3px 1px rgba(60, 64, 67, 0.15);\n",
              "    fill: var(--button-hover-fill-color);\n",
              "  }\n",
              "\n",
              "  .colab-df-quickchart-complete:disabled,\n",
              "  .colab-df-quickchart-complete:disabled:hover {\n",
              "    background-color: var(--disabled-bg-color);\n",
              "    fill: var(--disabled-fill-color);\n",
              "    box-shadow: none;\n",
              "  }\n",
              "\n",
              "  .colab-df-spinner {\n",
              "    border: 2px solid var(--fill-color);\n",
              "    border-color: transparent;\n",
              "    border-bottom-color: var(--fill-color);\n",
              "    animation:\n",
              "      spin 1s steps(1) infinite;\n",
              "  }\n",
              "\n",
              "  @keyframes spin {\n",
              "    0% {\n",
              "      border-color: transparent;\n",
              "      border-bottom-color: var(--fill-color);\n",
              "      border-left-color: var(--fill-color);\n",
              "    }\n",
              "    20% {\n",
              "      border-color: transparent;\n",
              "      border-left-color: var(--fill-color);\n",
              "      border-top-color: var(--fill-color);\n",
              "    }\n",
              "    30% {\n",
              "      border-color: transparent;\n",
              "      border-left-color: var(--fill-color);\n",
              "      border-top-color: var(--fill-color);\n",
              "      border-right-color: var(--fill-color);\n",
              "    }\n",
              "    40% {\n",
              "      border-color: transparent;\n",
              "      border-right-color: var(--fill-color);\n",
              "      border-top-color: var(--fill-color);\n",
              "    }\n",
              "    60% {\n",
              "      border-color: transparent;\n",
              "      border-right-color: var(--fill-color);\n",
              "    }\n",
              "    80% {\n",
              "      border-color: transparent;\n",
              "      border-right-color: var(--fill-color);\n",
              "      border-bottom-color: var(--fill-color);\n",
              "    }\n",
              "    90% {\n",
              "      border-color: transparent;\n",
              "      border-bottom-color: var(--fill-color);\n",
              "    }\n",
              "  }\n",
              "</style>\n",
              "\n",
              "  <script>\n",
              "    async function quickchart(key) {\n",
              "      const quickchartButtonEl =\n",
              "        document.querySelector('#' + key + ' button');\n",
              "      quickchartButtonEl.disabled = true;  // To prevent multiple clicks.\n",
              "      quickchartButtonEl.classList.add('colab-df-spinner');\n",
              "      try {\n",
              "        const charts = await google.colab.kernel.invokeFunction(\n",
              "            'suggestCharts', [key], {});\n",
              "      } catch (error) {\n",
              "        console.error('Error during call to suggestCharts:', error);\n",
              "      }\n",
              "      quickchartButtonEl.classList.remove('colab-df-spinner');\n",
              "      quickchartButtonEl.classList.add('colab-df-quickchart-complete');\n",
              "    }\n",
              "    (() => {\n",
              "      let quickchartButtonEl =\n",
              "        document.querySelector('#df-cdfaef0d-4538-44c6-a261-30860f79ee70 button');\n",
              "      quickchartButtonEl.style.display =\n",
              "        google.colab.kernel.accessAllowed ? 'block' : 'none';\n",
              "    })();\n",
              "  </script>\n",
              "</div>\n",
              "\n",
              "    </div>\n",
              "  </div>\n"
            ],
            "application/vnd.google.colaboratory.intrinsic+json": {
              "type": "dataframe"
            }
          },
          "metadata": {}
        },
        {
          "output_type": "display_data",
          "data": {
            "text/plain": [
              "      Gene 1  Gene 2  Gene 3   Gene 4  Gene 5  Gene 6  Gene 7  Gene 8  Gene 9  \\\n",
              "2995     4.0   114.0    80.0  12000.0     NaN   435.0   398.0  2059.0  1345.0   \n",
              "2601     4.0    81.0   114.0  16504.0   298.0   243.0   536.0  2378.0  2293.0   \n",
              "1310     5.0   101.0    55.0  16208.0   448.0   281.0   509.0  1169.0  2987.0   \n",
              "2816     3.0   110.0   113.0  15376.0   310.0   253.0   306.0  2865.0  2861.0   \n",
              "1372     4.0   152.0    96.0  14202.0   166.0   258.0   326.0  2222.0  1918.0   \n",
              "\n",
              "      Gene 10  ...  Gene 1991  Gene 1992  Gene 1993  Gene 1994  Gene 1995  \\\n",
              "2995     89.0  ...    11219.0    26282.0      139.0        NaN      396.0   \n",
              "2601     48.0  ...     9584.0    18903.0       96.0    15749.0      385.0   \n",
              "1310     50.0  ...     6066.0    17372.0      129.0    18914.0      352.0   \n",
              "2816     64.0  ...     9424.0    21083.0       84.0    19860.0      329.0   \n",
              "1372     77.0  ...     6554.0    23031.0      120.0    20175.0      535.0   \n",
              "\n",
              "      Gene 1996  Gene 1997  Gene 1998  Gene 1999  Gene 2000  \n",
              "2995      128.0      254.0       67.0        NaN      271.0  \n",
              "2601      170.0      230.0       63.0      212.0      159.0  \n",
              "1310      110.0      385.0       73.0      153.0      254.0  \n",
              "2816      236.0      208.0       63.0        NaN      108.0  \n",
              "1372      109.0      394.0       73.0      180.0      239.0  \n",
              "\n",
              "[5 rows x 2000 columns]"
            ],
            "text/html": [
              "\n",
              "  <div id=\"df-4e00e8aa-38ef-4919-80ad-25f448d47b41\" class=\"colab-df-container\">\n",
              "    <div>\n",
              "<style scoped>\n",
              "    .dataframe tbody tr th:only-of-type {\n",
              "        vertical-align: middle;\n",
              "    }\n",
              "\n",
              "    .dataframe tbody tr th {\n",
              "        vertical-align: top;\n",
              "    }\n",
              "\n",
              "    .dataframe thead th {\n",
              "        text-align: right;\n",
              "    }\n",
              "</style>\n",
              "<table border=\"1\" class=\"dataframe\">\n",
              "  <thead>\n",
              "    <tr style=\"text-align: right;\">\n",
              "      <th></th>\n",
              "      <th>Gene 1</th>\n",
              "      <th>Gene 2</th>\n",
              "      <th>Gene 3</th>\n",
              "      <th>Gene 4</th>\n",
              "      <th>Gene 5</th>\n",
              "      <th>Gene 6</th>\n",
              "      <th>Gene 7</th>\n",
              "      <th>Gene 8</th>\n",
              "      <th>Gene 9</th>\n",
              "      <th>Gene 10</th>\n",
              "      <th>...</th>\n",
              "      <th>Gene 1991</th>\n",
              "      <th>Gene 1992</th>\n",
              "      <th>Gene 1993</th>\n",
              "      <th>Gene 1994</th>\n",
              "      <th>Gene 1995</th>\n",
              "      <th>Gene 1996</th>\n",
              "      <th>Gene 1997</th>\n",
              "      <th>Gene 1998</th>\n",
              "      <th>Gene 1999</th>\n",
              "      <th>Gene 2000</th>\n",
              "    </tr>\n",
              "  </thead>\n",
              "  <tbody>\n",
              "    <tr>\n",
              "      <th>2995</th>\n",
              "      <td>4.0</td>\n",
              "      <td>114.0</td>\n",
              "      <td>80.0</td>\n",
              "      <td>12000.0</td>\n",
              "      <td>NaN</td>\n",
              "      <td>435.0</td>\n",
              "      <td>398.0</td>\n",
              "      <td>2059.0</td>\n",
              "      <td>1345.0</td>\n",
              "      <td>89.0</td>\n",
              "      <td>...</td>\n",
              "      <td>11219.0</td>\n",
              "      <td>26282.0</td>\n",
              "      <td>139.0</td>\n",
              "      <td>NaN</td>\n",
              "      <td>396.0</td>\n",
              "      <td>128.0</td>\n",
              "      <td>254.0</td>\n",
              "      <td>67.0</td>\n",
              "      <td>NaN</td>\n",
              "      <td>271.0</td>\n",
              "    </tr>\n",
              "    <tr>\n",
              "      <th>2601</th>\n",
              "      <td>4.0</td>\n",
              "      <td>81.0</td>\n",
              "      <td>114.0</td>\n",
              "      <td>16504.0</td>\n",
              "      <td>298.0</td>\n",
              "      <td>243.0</td>\n",
              "      <td>536.0</td>\n",
              "      <td>2378.0</td>\n",
              "      <td>2293.0</td>\n",
              "      <td>48.0</td>\n",
              "      <td>...</td>\n",
              "      <td>9584.0</td>\n",
              "      <td>18903.0</td>\n",
              "      <td>96.0</td>\n",
              "      <td>15749.0</td>\n",
              "      <td>385.0</td>\n",
              "      <td>170.0</td>\n",
              "      <td>230.0</td>\n",
              "      <td>63.0</td>\n",
              "      <td>212.0</td>\n",
              "      <td>159.0</td>\n",
              "    </tr>\n",
              "    <tr>\n",
              "      <th>1310</th>\n",
              "      <td>5.0</td>\n",
              "      <td>101.0</td>\n",
              "      <td>55.0</td>\n",
              "      <td>16208.0</td>\n",
              "      <td>448.0</td>\n",
              "      <td>281.0</td>\n",
              "      <td>509.0</td>\n",
              "      <td>1169.0</td>\n",
              "      <td>2987.0</td>\n",
              "      <td>50.0</td>\n",
              "      <td>...</td>\n",
              "      <td>6066.0</td>\n",
              "      <td>17372.0</td>\n",
              "      <td>129.0</td>\n",
              "      <td>18914.0</td>\n",
              "      <td>352.0</td>\n",
              "      <td>110.0</td>\n",
              "      <td>385.0</td>\n",
              "      <td>73.0</td>\n",
              "      <td>153.0</td>\n",
              "      <td>254.0</td>\n",
              "    </tr>\n",
              "    <tr>\n",
              "      <th>2816</th>\n",
              "      <td>3.0</td>\n",
              "      <td>110.0</td>\n",
              "      <td>113.0</td>\n",
              "      <td>15376.0</td>\n",
              "      <td>310.0</td>\n",
              "      <td>253.0</td>\n",
              "      <td>306.0</td>\n",
              "      <td>2865.0</td>\n",
              "      <td>2861.0</td>\n",
              "      <td>64.0</td>\n",
              "      <td>...</td>\n",
              "      <td>9424.0</td>\n",
              "      <td>21083.0</td>\n",
              "      <td>84.0</td>\n",
              "      <td>19860.0</td>\n",
              "      <td>329.0</td>\n",
              "      <td>236.0</td>\n",
              "      <td>208.0</td>\n",
              "      <td>63.0</td>\n",
              "      <td>NaN</td>\n",
              "      <td>108.0</td>\n",
              "    </tr>\n",
              "    <tr>\n",
              "      <th>1372</th>\n",
              "      <td>4.0</td>\n",
              "      <td>152.0</td>\n",
              "      <td>96.0</td>\n",
              "      <td>14202.0</td>\n",
              "      <td>166.0</td>\n",
              "      <td>258.0</td>\n",
              "      <td>326.0</td>\n",
              "      <td>2222.0</td>\n",
              "      <td>1918.0</td>\n",
              "      <td>77.0</td>\n",
              "      <td>...</td>\n",
              "      <td>6554.0</td>\n",
              "      <td>23031.0</td>\n",
              "      <td>120.0</td>\n",
              "      <td>20175.0</td>\n",
              "      <td>535.0</td>\n",
              "      <td>109.0</td>\n",
              "      <td>394.0</td>\n",
              "      <td>73.0</td>\n",
              "      <td>180.0</td>\n",
              "      <td>239.0</td>\n",
              "    </tr>\n",
              "  </tbody>\n",
              "</table>\n",
              "<p>5 rows × 2000 columns</p>\n",
              "</div>\n",
              "    <div class=\"colab-df-buttons\">\n",
              "\n",
              "  <div class=\"colab-df-container\">\n",
              "    <button class=\"colab-df-convert\" onclick=\"convertToInteractive('df-4e00e8aa-38ef-4919-80ad-25f448d47b41')\"\n",
              "            title=\"Convert this dataframe to an interactive table.\"\n",
              "            style=\"display:none;\">\n",
              "\n",
              "  <svg xmlns=\"http://www.w3.org/2000/svg\" height=\"24px\" viewBox=\"0 -960 960 960\">\n",
              "    <path d=\"M120-120v-720h720v720H120Zm60-500h600v-160H180v160Zm220 220h160v-160H400v160Zm0 220h160v-160H400v160ZM180-400h160v-160H180v160Zm440 0h160v-160H620v160ZM180-180h160v-160H180v160Zm440 0h160v-160H620v160Z\"/>\n",
              "  </svg>\n",
              "    </button>\n",
              "\n",
              "  <style>\n",
              "    .colab-df-container {\n",
              "      display:flex;\n",
              "      gap: 12px;\n",
              "    }\n",
              "\n",
              "    .colab-df-convert {\n",
              "      background-color: #E8F0FE;\n",
              "      border: none;\n",
              "      border-radius: 50%;\n",
              "      cursor: pointer;\n",
              "      display: none;\n",
              "      fill: #1967D2;\n",
              "      height: 32px;\n",
              "      padding: 0 0 0 0;\n",
              "      width: 32px;\n",
              "    }\n",
              "\n",
              "    .colab-df-convert:hover {\n",
              "      background-color: #E2EBFA;\n",
              "      box-shadow: 0px 1px 2px rgba(60, 64, 67, 0.3), 0px 1px 3px 1px rgba(60, 64, 67, 0.15);\n",
              "      fill: #174EA6;\n",
              "    }\n",
              "\n",
              "    .colab-df-buttons div {\n",
              "      margin-bottom: 4px;\n",
              "    }\n",
              "\n",
              "    [theme=dark] .colab-df-convert {\n",
              "      background-color: #3B4455;\n",
              "      fill: #D2E3FC;\n",
              "    }\n",
              "\n",
              "    [theme=dark] .colab-df-convert:hover {\n",
              "      background-color: #434B5C;\n",
              "      box-shadow: 0px 1px 3px 1px rgba(0, 0, 0, 0.15);\n",
              "      filter: drop-shadow(0px 1px 2px rgba(0, 0, 0, 0.3));\n",
              "      fill: #FFFFFF;\n",
              "    }\n",
              "  </style>\n",
              "\n",
              "    <script>\n",
              "      const buttonEl =\n",
              "        document.querySelector('#df-4e00e8aa-38ef-4919-80ad-25f448d47b41 button.colab-df-convert');\n",
              "      buttonEl.style.display =\n",
              "        google.colab.kernel.accessAllowed ? 'block' : 'none';\n",
              "\n",
              "      async function convertToInteractive(key) {\n",
              "        const element = document.querySelector('#df-4e00e8aa-38ef-4919-80ad-25f448d47b41');\n",
              "        const dataTable =\n",
              "          await google.colab.kernel.invokeFunction('convertToInteractive',\n",
              "                                                    [key], {});\n",
              "        if (!dataTable) return;\n",
              "\n",
              "        const docLinkHtml = 'Like what you see? Visit the ' +\n",
              "          '<a target=\"_blank\" href=https://colab.research.google.com/notebooks/data_table.ipynb>data table notebook</a>'\n",
              "          + ' to learn more about interactive tables.';\n",
              "        element.innerHTML = '';\n",
              "        dataTable['output_type'] = 'display_data';\n",
              "        await google.colab.output.renderOutput(dataTable, element);\n",
              "        const docLink = document.createElement('div');\n",
              "        docLink.innerHTML = docLinkHtml;\n",
              "        element.appendChild(docLink);\n",
              "      }\n",
              "    </script>\n",
              "  </div>\n",
              "\n",
              "\n",
              "<div id=\"df-9e78c3c3-251f-4584-8a31-dcbb741c5cf8\">\n",
              "  <button class=\"colab-df-quickchart\" onclick=\"quickchart('df-9e78c3c3-251f-4584-8a31-dcbb741c5cf8')\"\n",
              "            title=\"Suggest charts\"\n",
              "            style=\"display:none;\">\n",
              "\n",
              "<svg xmlns=\"http://www.w3.org/2000/svg\" height=\"24px\"viewBox=\"0 0 24 24\"\n",
              "     width=\"24px\">\n",
              "    <g>\n",
              "        <path d=\"M19 3H5c-1.1 0-2 .9-2 2v14c0 1.1.9 2 2 2h14c1.1 0 2-.9 2-2V5c0-1.1-.9-2-2-2zM9 17H7v-7h2v7zm4 0h-2V7h2v10zm4 0h-2v-4h2v4z\"/>\n",
              "    </g>\n",
              "</svg>\n",
              "  </button>\n",
              "\n",
              "<style>\n",
              "  .colab-df-quickchart {\n",
              "      --bg-color: #E8F0FE;\n",
              "      --fill-color: #1967D2;\n",
              "      --hover-bg-color: #E2EBFA;\n",
              "      --hover-fill-color: #174EA6;\n",
              "      --disabled-fill-color: #AAA;\n",
              "      --disabled-bg-color: #DDD;\n",
              "  }\n",
              "\n",
              "  [theme=dark] .colab-df-quickchart {\n",
              "      --bg-color: #3B4455;\n",
              "      --fill-color: #D2E3FC;\n",
              "      --hover-bg-color: #434B5C;\n",
              "      --hover-fill-color: #FFFFFF;\n",
              "      --disabled-bg-color: #3B4455;\n",
              "      --disabled-fill-color: #666;\n",
              "  }\n",
              "\n",
              "  .colab-df-quickchart {\n",
              "    background-color: var(--bg-color);\n",
              "    border: none;\n",
              "    border-radius: 50%;\n",
              "    cursor: pointer;\n",
              "    display: none;\n",
              "    fill: var(--fill-color);\n",
              "    height: 32px;\n",
              "    padding: 0;\n",
              "    width: 32px;\n",
              "  }\n",
              "\n",
              "  .colab-df-quickchart:hover {\n",
              "    background-color: var(--hover-bg-color);\n",
              "    box-shadow: 0 1px 2px rgba(60, 64, 67, 0.3), 0 1px 3px 1px rgba(60, 64, 67, 0.15);\n",
              "    fill: var(--button-hover-fill-color);\n",
              "  }\n",
              "\n",
              "  .colab-df-quickchart-complete:disabled,\n",
              "  .colab-df-quickchart-complete:disabled:hover {\n",
              "    background-color: var(--disabled-bg-color);\n",
              "    fill: var(--disabled-fill-color);\n",
              "    box-shadow: none;\n",
              "  }\n",
              "\n",
              "  .colab-df-spinner {\n",
              "    border: 2px solid var(--fill-color);\n",
              "    border-color: transparent;\n",
              "    border-bottom-color: var(--fill-color);\n",
              "    animation:\n",
              "      spin 1s steps(1) infinite;\n",
              "  }\n",
              "\n",
              "  @keyframes spin {\n",
              "    0% {\n",
              "      border-color: transparent;\n",
              "      border-bottom-color: var(--fill-color);\n",
              "      border-left-color: var(--fill-color);\n",
              "    }\n",
              "    20% {\n",
              "      border-color: transparent;\n",
              "      border-left-color: var(--fill-color);\n",
              "      border-top-color: var(--fill-color);\n",
              "    }\n",
              "    30% {\n",
              "      border-color: transparent;\n",
              "      border-left-color: var(--fill-color);\n",
              "      border-top-color: var(--fill-color);\n",
              "      border-right-color: var(--fill-color);\n",
              "    }\n",
              "    40% {\n",
              "      border-color: transparent;\n",
              "      border-right-color: var(--fill-color);\n",
              "      border-top-color: var(--fill-color);\n",
              "    }\n",
              "    60% {\n",
              "      border-color: transparent;\n",
              "      border-right-color: var(--fill-color);\n",
              "    }\n",
              "    80% {\n",
              "      border-color: transparent;\n",
              "      border-right-color: var(--fill-color);\n",
              "      border-bottom-color: var(--fill-color);\n",
              "    }\n",
              "    90% {\n",
              "      border-color: transparent;\n",
              "      border-bottom-color: var(--fill-color);\n",
              "    }\n",
              "  }\n",
              "</style>\n",
              "\n",
              "  <script>\n",
              "    async function quickchart(key) {\n",
              "      const quickchartButtonEl =\n",
              "        document.querySelector('#' + key + ' button');\n",
              "      quickchartButtonEl.disabled = true;  // To prevent multiple clicks.\n",
              "      quickchartButtonEl.classList.add('colab-df-spinner');\n",
              "      try {\n",
              "        const charts = await google.colab.kernel.invokeFunction(\n",
              "            'suggestCharts', [key], {});\n",
              "      } catch (error) {\n",
              "        console.error('Error during call to suggestCharts:', error);\n",
              "      }\n",
              "      quickchartButtonEl.classList.remove('colab-df-spinner');\n",
              "      quickchartButtonEl.classList.add('colab-df-quickchart-complete');\n",
              "    }\n",
              "    (() => {\n",
              "      let quickchartButtonEl =\n",
              "        document.querySelector('#df-9e78c3c3-251f-4584-8a31-dcbb741c5cf8 button');\n",
              "      quickchartButtonEl.style.display =\n",
              "        google.colab.kernel.accessAllowed ? 'block' : 'none';\n",
              "    })();\n",
              "  </script>\n",
              "</div>\n",
              "\n",
              "    </div>\n",
              "  </div>\n"
            ],
            "application/vnd.google.colaboratory.intrinsic+json": {
              "type": "dataframe"
            }
          },
          "metadata": {}
        },
        {
          "output_type": "display_data",
          "data": {
            "text/plain": [
              "7     0\n",
              "11    0\n",
              "12    0\n",
              "15    0\n",
              "17    0\n",
              "Name: Outcome, dtype: int64"
            ],
            "text/html": [
              "<div>\n",
              "<style scoped>\n",
              "    .dataframe tbody tr th:only-of-type {\n",
              "        vertical-align: middle;\n",
              "    }\n",
              "\n",
              "    .dataframe tbody tr th {\n",
              "        vertical-align: top;\n",
              "    }\n",
              "\n",
              "    .dataframe thead th {\n",
              "        text-align: right;\n",
              "    }\n",
              "</style>\n",
              "<table border=\"1\" class=\"dataframe\">\n",
              "  <thead>\n",
              "    <tr style=\"text-align: right;\">\n",
              "      <th></th>\n",
              "      <th>Outcome</th>\n",
              "    </tr>\n",
              "  </thead>\n",
              "  <tbody>\n",
              "    <tr>\n",
              "      <th>7</th>\n",
              "      <td>0</td>\n",
              "    </tr>\n",
              "    <tr>\n",
              "      <th>11</th>\n",
              "      <td>0</td>\n",
              "    </tr>\n",
              "    <tr>\n",
              "      <th>12</th>\n",
              "      <td>0</td>\n",
              "    </tr>\n",
              "    <tr>\n",
              "      <th>15</th>\n",
              "      <td>0</td>\n",
              "    </tr>\n",
              "    <tr>\n",
              "      <th>17</th>\n",
              "      <td>0</td>\n",
              "    </tr>\n",
              "  </tbody>\n",
              "</table>\n",
              "</div><br><label><b>dtype:</b> int64</label>"
            ]
          },
          "metadata": {}
        },
        {
          "output_type": "display_data",
          "data": {
            "text/plain": [
              "2995    3\n",
              "2601    3\n",
              "1310    3\n",
              "2816    3\n",
              "1372    3\n",
              "Name: Outcome, dtype: int64"
            ],
            "text/html": [
              "<div>\n",
              "<style scoped>\n",
              "    .dataframe tbody tr th:only-of-type {\n",
              "        vertical-align: middle;\n",
              "    }\n",
              "\n",
              "    .dataframe tbody tr th {\n",
              "        vertical-align: top;\n",
              "    }\n",
              "\n",
              "    .dataframe thead th {\n",
              "        text-align: right;\n",
              "    }\n",
              "</style>\n",
              "<table border=\"1\" class=\"dataframe\">\n",
              "  <thead>\n",
              "    <tr style=\"text-align: right;\">\n",
              "      <th></th>\n",
              "      <th>Outcome</th>\n",
              "    </tr>\n",
              "  </thead>\n",
              "  <tbody>\n",
              "    <tr>\n",
              "      <th>2995</th>\n",
              "      <td>3</td>\n",
              "    </tr>\n",
              "    <tr>\n",
              "      <th>2601</th>\n",
              "      <td>3</td>\n",
              "    </tr>\n",
              "    <tr>\n",
              "      <th>1310</th>\n",
              "      <td>3</td>\n",
              "    </tr>\n",
              "    <tr>\n",
              "      <th>2816</th>\n",
              "      <td>3</td>\n",
              "    </tr>\n",
              "    <tr>\n",
              "      <th>1372</th>\n",
              "      <td>3</td>\n",
              "    </tr>\n",
              "  </tbody>\n",
              "</table>\n",
              "</div><br><label><b>dtype:</b> int64</label>"
            ]
          },
          "metadata": {}
        }
      ],
      "source": [
        "# Showing the head and tail of balanced downsampled data\n",
        "display(X_downSampled.head(5))\n",
        "display(X_downSampled.tail(5))\n",
        "display(y_downSampled.head(5))\n",
        "display(y_downSampled.tail(5))"
      ]
    },
    {
      "cell_type": "markdown",
      "id": "065115ba-1d9d-46c2-8f17-5f21fe8e2448",
      "metadata": {
        "id": "065115ba-1d9d-46c2-8f17-5f21fe8e2448"
      },
      "source": [
        "# 3, 4, 5 - Regression"
      ]
    },
    {
      "cell_type": "markdown",
      "id": "42e39e03-76be-4500-9556-94e843c6cfdb",
      "metadata": {
        "id": "42e39e03-76be-4500-9556-94e843c6cfdb"
      },
      "source": [
        "### 3 - Simple imputation, Standard Scaling, and non-regularized Logistic regression"
      ]
    },
    {
      "cell_type": "markdown",
      "id": "9f78c447-bdac-4366-b5b2-cee2ec5d9e17",
      "metadata": {
        "id": "9f78c447-bdac-4366-b5b2-cee2ec5d9e17"
      },
      "source": [
        "Make a Pipeline that combines three steps:\n",
        "* imputing missing data (removing np.nan) by replacing them with the mean value (SimpleImputer) ✅\n",
        "* scaling the data to have 0 mean and unit variance (StandardScaler) ✅\n",
        "* predicting the class using unregularized logistic regression (sklearn.linear_model.LogisticRegression) ✅\n",
        "\n",
        "Now\n",
        "* split the training data into 20% validation and 80% train data. ✅\n",
        "* Fit the Pipeline on the train data and test on the validation data. ✅\n",
        "\n",
        "In your notebook file:\n",
        "* report the ROC AUC one-versus-rest and macro F1 score on the training and validation data. ✅\n",
        "* Read up on these here (1, 2) so you know what they are, and write what they do in your own words in the notebook. ✅\n",
        "* describe why you can’t directly impute and/or scale on all the training data and only then split into train and validation sets if you want an accurate estimate of your generalisation performance ✅"
      ]
    },
    {
      "cell_type": "code",
      "execution_count": 19,
      "id": "ca3e9815-a6f3-410d-a092-4dc6f8f14702",
      "metadata": {
        "colab": {
          "base_uri": "https://localhost:8080/"
        },
        "id": "ca3e9815-a6f3-410d-a092-4dc6f8f14702",
        "outputId": "ee6ad17e-e749-49fc-f694-049064b25288",
        "scrolled": true
      },
      "outputs": [
        {
          "output_type": "stream",
          "name": "stdout",
          "text": [
            "Fitting took 0.794 seconds\n",
            "Accuracy of model on validation dataset: 0.631\n"
          ]
        }
      ],
      "source": [
        "# Split the data into train and validation datasets (both data and labels)\n",
        "train_data_3, val_data_3, train_lables_3, val_lables_3 = train_test_split(X_downSampled, y_downSampled, train_size=0.8, random_state=global_seed)\n",
        "\n",
        "# Build the pipeline for our model\n",
        "imputer_3 = SimpleImputer(missing_values=np.nan, strategy='mean')\n",
        "scaler_3 = StandardScaler()\n",
        "log_regressor_3 = LogisticRegression(penalty=None)\n",
        "\n",
        "model_3 = make_pipeline(imputer_3, scaler_3, log_regressor_3)\n",
        "\n",
        "# train model\n",
        "start = time.time()\n",
        "model_3.fit(train_data_3, train_lables_3)\n",
        "print(f\"Fitting took {time.time() - start:0.03} seconds\")\n",
        "\n",
        "# validate model - get the accuracy on the validation dataset\n",
        "accuracy_3 = model_3.score(val_data_3, val_lables_3)\n",
        "print(f\"Accuracy of model on validation dataset: {accuracy_3:0.03}\")"
      ]
    },
    {
      "cell_type": "markdown",
      "id": "49091f9c-34db-4535-8aa6-cf05b5c4c44e",
      "metadata": {
        "id": "49091f9c-34db-4535-8aa6-cf05b5c4c44e"
      },
      "source": [
        "**The reason we can't can’t directly impute and/or scale on all the training data and only then split into train and validation sets if we want an accurate estimate of your generalisation performance**\n",
        "\n",
        "If we first impute and/or scale our data and only then split it into training and validation, we are introducing into our model some information about the validation data which is supposed to be unseen data. This data leakage would influence the pipeline and lead to more optimistic results on the validation dataset, but we wouldn't be able to know how our model generalizes on truly unseen data."
      ]
    },
    {
      "cell_type": "code",
      "execution_count": 20,
      "id": "bf4356c6-87b5-4117-9212-5b54d966bcfd",
      "metadata": {
        "colab": {
          "base_uri": "https://localhost:8080/"
        },
        "id": "bf4356c6-87b5-4117-9212-5b54d966bcfd",
        "outputId": "b2bb138a-fcbd-4d0c-dc3c-5759d4e8c5eb"
      },
      "outputs": [
        {
          "output_type": "stream",
          "name": "stdout",
          "text": [
            "Our model's scores on the training dataset:\n",
            "OvR AUC score: 1.0\n",
            "Macro F1 score: 1.0\n",
            "\n",
            "Our model's scores on the validation dataset:\n",
            "OvR AUC score: 0.866\n",
            "Macro F1 score: 0.63\n",
            "\n"
          ]
        }
      ],
      "source": [
        "# Reporting the Macro F1 and the ROC AUC OvR scores for our trained model\n",
        "\n",
        "# Training\n",
        "# We use the predict_proba and not predict, since for ROC (and AUC) we need to predict for different thresholds\n",
        "train_3_OvR_AUC = roc_auc_score(train_lables_3, model_3.predict_proba(train_data_3), multi_class='ovr')\n",
        "train_3_macro_F1 = f1_score(train_lables_3, model_3.predict(train_data_3), average='macro')\n",
        "print(f\"Our model's scores on the training dataset:\")\n",
        "print(f\"OvR AUC score: {train_3_OvR_AUC:0.03}\\nMacro F1 score: {train_3_macro_F1:0.03}\\n\")\n",
        "\n",
        "# Validation\n",
        "val_3_OvR_AUC = roc_auc_score(val_lables_3, model_3.predict_proba(val_data_3), multi_class='ovr')\n",
        "val_3_macro_F1 = f1_score(val_lables_3, model_3.predict(val_data_3), average='macro')\n",
        "print(f\"Our model's scores on the validation dataset:\")\n",
        "print(f\"OvR AUC score: {val_3_OvR_AUC:0.03}\\nMacro F1 score: {val_3_macro_F1:0.03}\\n\")"
      ]
    },
    {
      "cell_type": "markdown",
      "id": "840b8cfd-277a-4851-bfb6-a402cf49093d",
      "metadata": {
        "id": "840b8cfd-277a-4851-bfb6-a402cf49093d"
      },
      "source": [
        "**What are ROC AUC one-versus-rest and macro F1 score?**\n",
        "\n",
        "_ROC AUC one-versus-rest (OvR):_\n",
        "\n",
        "OvR is A method to used binary-class-metrics to evaluate multiclass models. In this method, we iterate on our classification output n times, each time taking the n-th class as \"Positive\" and all other classes as \"Negative\". This enable us to treat each of these iterations as a binary classification. We then get the results of all metrics on each of these iterations, and average them to get the final OvR model scores.\n",
        "\n",
        "For ROC AUC one-versus-rest we plot an ROC curve and calculate the AUC for every iteration of OvR, and return the final average score of AUC.\n",
        "\n",
        "_macro F1 score:_\n",
        "\n",
        "F1 is a metric that combines both precision and recall. For multi-class classification, we calculate F1 score using OvR. To combine the scores into one final score, there are different methods, one of which is Macro Average.\n",
        "\n",
        "With Macro Average, we take the unweighted mean of the F1 scores per class (OvR). This gives a similar weight to all classes, even for an imbalanced data."
      ]
    },
    {
      "cell_type": "markdown",
      "id": "971199e3",
      "metadata": {
        "id": "971199e3"
      },
      "source": [
        "#### Building final model 3"
      ]
    },
    {
      "cell_type": "code",
      "execution_count": 21,
      "id": "bf3ffdce",
      "metadata": {
        "colab": {
          "base_uri": "https://localhost:8080/"
        },
        "id": "bf3ffdce",
        "outputId": "7f229b36-19ae-4216-beea-ef422d028a29"
      },
      "outputs": [
        {
          "output_type": "stream",
          "name": "stdout",
          "text": [
            "Fitting took 0.76 seconds\n"
          ]
        }
      ],
      "source": [
        "# Build final model 3\n",
        "final_model_3 = make_pipeline(\n",
        "    SimpleImputer(missing_values=np.nan, strategy='mean'),\n",
        "    StandardScaler(),\n",
        "    LogisticRegression(penalty=None)\n",
        ")\n",
        "\n",
        "# train model\n",
        "start = time.time()\n",
        "final_model_3.fit(X_downSampled, y_downSampled)\n",
        "print(f\"Fitting took {time.time() - start:0.03} seconds\")"
      ]
    },
    {
      "cell_type": "markdown",
      "id": "65d252f3-aab9-41ba-af4c-b83c69de8abd",
      "metadata": {
        "id": "65d252f3-aab9-41ba-af4c-b83c69de8abd"
      },
      "source": [
        "### 4 - KNN imputation, Standard Scaling, and non-regularized Logistic regression"
      ]
    },
    {
      "cell_type": "markdown",
      "id": "0cd230d7-24aa-4470-98ae-7dea9137d869",
      "metadata": {
        "id": "0cd230d7-24aa-4470-98ae-7dea9137d869"
      },
      "source": [
        "Again, make a Pipeline that combines three steps:\n",
        "* scaling each value to 0 mean and unit variance ✅\n",
        "* using a KNN imputer to impute missing data (removing np.nan). Set n_neighbors to 3 and weights to ‘distance’. Make sure you understand what this does. ✅\n",
        "* Using a logistic regression without regularisation to predict the class. ✅\n",
        "* Train on the same 80% split ✅\n",
        "* report the performance on the validation data (F1 macro; ROC AUC OvR). ✅\n",
        "* Then finally train on all your training data, and predict on the test set. ❌❌❌❌ (**Dieter removed this**)\n",
        "* In your notebook, write down why the order of imputation and scaling is now different compared to step 3, and what would happen if you do it the other way around. ✅\n"
      ]
    },
    {
      "cell_type": "code",
      "execution_count": 22,
      "id": "16a52dbb-76fd-480d-be7b-41d806ee015f",
      "metadata": {
        "colab": {
          "base_uri": "https://localhost:8080/"
        },
        "id": "16a52dbb-76fd-480d-be7b-41d806ee015f",
        "outputId": "387603e3-5f04-4ac1-e8b9-05ed8e796cf9"
      },
      "outputs": [
        {
          "output_type": "stream",
          "name": "stdout",
          "text": [
            "Fitting took 36.6 seconds\n",
            "Accuracy of model on validation dataset: 0.643\n"
          ]
        }
      ],
      "source": [
        "# Build the pipeline for our model\n",
        "imputer_4 = KNNImputer(missing_values=np.nan, n_neighbors=3, weights='distance')\n",
        "scaler_4 = StandardScaler()\n",
        "log_regressor_4 = LogisticRegression(penalty=None)\n",
        "\n",
        "model_4 = make_pipeline(scaler_4, imputer_4, log_regressor_4)\n",
        "\n",
        "# train model\n",
        "start = time.time()\n",
        "model_4.fit(train_data_3, train_lables_3)\n",
        "print(f\"Fitting took {time.time() - start:0.03} seconds\")\n",
        "\n",
        "# validate model - get the accuracy on the validation dataset\n",
        "accuracy_4 = model_4.score(val_data_3, val_lables_3)\n",
        "print(f\"Accuracy of model on validation dataset: {accuracy_4:0.03}\")"
      ]
    },
    {
      "cell_type": "markdown",
      "id": "600001c2-adf8-49ca-bc3e-d090541889b7",
      "metadata": {
        "id": "600001c2-adf8-49ca-bc3e-d090541889b7"
      },
      "source": [
        "We can see that using KNN imputation takes a lot longer than the simple impute (193 seconds vs. 0.505 seconds)."
      ]
    },
    {
      "cell_type": "code",
      "execution_count": 23,
      "id": "ca0bb8cc-5053-4aa4-8005-2266b9b49276",
      "metadata": {
        "colab": {
          "base_uri": "https://localhost:8080/"
        },
        "id": "ca0bb8cc-5053-4aa4-8005-2266b9b49276",
        "outputId": "56947318-eb91-4111-d0c8-4de7e3c0011a"
      },
      "outputs": [
        {
          "output_type": "stream",
          "name": "stdout",
          "text": [
            "Our model's scores on the training dataset:\n",
            "OvR AUC score: 1.0\n",
            "Macro F1 score: 1.0\n",
            "Getting score took 81.0 seconds\n",
            "\n",
            "Our model's scores on the validation dataset:\n",
            "OvR AUC score: 0.877\n",
            "Macro F1 score: 0.642\n",
            "\n",
            "Getting score took 20.0 seconds\n"
          ]
        }
      ],
      "source": [
        "# Reporting the Macro F1 and the ROC AUC OvR scores for our trained model\n",
        "\n",
        "# Training\n",
        "start = time.time()\n",
        "# We use the predict_proba and not predict, since for ROC (and AUC) we need to predict for different thresholds\n",
        "train_4_OvR_AUC = roc_auc_score(train_lables_3, model_4.predict_proba(train_data_3), multi_class='ovr')\n",
        "train_4_macro_F1 = f1_score(train_lables_3, model_4.predict(train_data_3), average='macro')\n",
        "print(f\"Our model's scores on the training dataset:\")\n",
        "print(f\"OvR AUC score: {train_4_OvR_AUC:0.03}\\nMacro F1 score: {train_4_macro_F1:0.03}\")\n",
        "print(f\"Getting score took {time.time() - start:0.03} seconds\\n\")\n",
        "\n",
        "# Validation\n",
        "start = time.time()\n",
        "val_4_OvR_AUC = roc_auc_score(val_lables_3, model_4.predict_proba(val_data_3), multi_class='ovr')\n",
        "val_4_macro_F1 = f1_score(val_lables_3, model_4.predict(val_data_3), average='macro')\n",
        "print(f\"Our model's scores on the validation dataset:\")\n",
        "print(f\"OvR AUC score: {val_4_OvR_AUC:0.03}\\nMacro F1 score: {val_4_macro_F1:0.03}\\n\")\n",
        "print(f\"Getting score took {time.time() - start:0.03} seconds\")"
      ]
    },
    {
      "cell_type": "markdown",
      "id": "93fdb4f7-0289-490a-b12c-f6567fd3b2ef",
      "metadata": {
        "id": "93fdb4f7-0289-490a-b12c-f6567fd3b2ef"
      },
      "source": [
        "**Why the order of imputation and scaling is now different compared to step 3, and what would happen if we do it the other way around?**\n",
        "\n",
        "The simple imputer we used in model 3 only uses the mean to impute the missing values.\n",
        "\n",
        "In contrast, with KNN imputation we search of the n most similar rows to the row with the missing value. Then, it calculate the average (if weight='distance' then this is a weighted average where the weights are the inverse of the distance from our row to this neighbor), and assigns this as the missing value.\n",
        "\n",
        "If the data is not scaled, then features with a larger range of values would have less effect on the neighbors chosen for KNN imputation than features with a smaller range. Less effect because we use weight that are the inverse of the distance, and a larger range of values would then on average give smaller weights.Therefore it's important to first scale the data.\n",
        "\n",
        "If we first impute using KNN and only then scale, then some features will dominante over other in the imputation."
      ]
    },
    {
      "cell_type": "markdown",
      "id": "9a619d93-473a-476f-9354-e531e3ff6bcf",
      "metadata": {
        "id": "9a619d93-473a-476f-9354-e531e3ff6bcf"
      },
      "source": [
        "**Extra - comparing model with different imputations**\n",
        "\n",
        "Model 3 scores on the validation dataset:\n",
        "* OvR AUC score: 0.866\n",
        "* Macro F1 score: 0.63\n",
        "\n",
        "Model 4 scores on the validation dataset:\n",
        "* OvR AUC score: 0.877\n",
        "* Macro F1 score: 0.642\n",
        "\n",
        "We can see that the model with KNN imputation performs slightly better than the one with the simple imputation. This makes sense, since KNN can take into account correlation between features and can learn from the structure of the data, and thus create a more realistic imputation.\n",
        "\n",
        "However, KNN imputation does take a longer time hence we'll still be using the simple imputation."
      ]
    },
    {
      "cell_type": "markdown",
      "id": "cf973ed6-82e6-4092-9a6c-a3eae375d875",
      "metadata": {
        "id": "cf973ed6-82e6-4092-9a6c-a3eae375d875"
      },
      "source": [
        "### 5 - Simple imputation, and L2 regularized Logistic regression - with cross validation"
      ]
    },
    {
      "cell_type": "markdown",
      "id": "d1c02181-358e-497e-9ff9-aef099fb8a63",
      "metadata": {
        "id": "d1c02181-358e-497e-9ff9-aef099fb8a63"
      },
      "source": [
        "Regularise using an L2 penalty with a C of one. Note that C is 1/λ. ✅\n",
        "\n",
        "We will also use cross-validation now, as we know that this gives a better estimate of generalisation performance and uses training data more efficiently.\n",
        "\n",
        "Make a new Pipeline that:\n",
        "* uses the SimpleImputer again (KNN is slow) ✅\n",
        "* uses L2-regularised logistic regression for classification ✅\n",
        "\n",
        "For training the model:\n",
        "* use 10-fold cross-validation rather than a single split. Use sklearn.model_selection.cross_validate ✅\n",
        "* look at F1 macro and ROC AUC OvR averaged over the folds. ✅\n",
        "\n",
        "Finally\n",
        "* Report how much average cross-validation performance with regularisation included improves over unregularized logistic regression. ✅"
      ]
    },
    {
      "cell_type": "code",
      "execution_count": 24,
      "id": "5aad39fa-2ded-45e0-b6d3-437c40160f90",
      "metadata": {
        "colab": {
          "base_uri": "https://localhost:8080/"
        },
        "id": "5aad39fa-2ded-45e0-b6d3-437c40160f90",
        "outputId": "15b5ef13-b56a-44fe-bea1-500ee203a394"
      },
      "outputs": [
        {
          "output_type": "stream",
          "name": "stdout",
          "text": [
            "Fitting took 10.7 seconds\n"
          ]
        }
      ],
      "source": [
        "# Build the pipeline for our model\n",
        "imputer_5 = SimpleImputer(missing_values=np.nan, strategy='mean')\n",
        "scaler_5 = StandardScaler()\n",
        "log_regressor_5 = LogisticRegression(penalty='l2', C=1)\n",
        "\n",
        "model_5 = make_pipeline(imputer_5, scaler_5, log_regressor_5)\n",
        "\n",
        "# train model\n",
        "start = time.time()\n",
        "cv_result_5 = cross_validate(model_5, X_downSampled, y_downSampled, cv=10, scoring=['accuracy', 'f1_macro', 'roc_auc_ovr'])\n",
        "print(f\"Fitting took {time.time() - start:0.03} seconds\")"
      ]
    },
    {
      "cell_type": "code",
      "execution_count": 25,
      "id": "5c5f624e-dc2e-4d92-8907-f3374170dfd5",
      "metadata": {
        "colab": {
          "base_uri": "https://localhost:8080/"
        },
        "id": "5c5f624e-dc2e-4d92-8907-f3374170dfd5",
        "outputId": "bab8d56f-ebf0-4f32-815c-c509340aeb60"
      },
      "outputs": [
        {
          "output_type": "stream",
          "name": "stdout",
          "text": [
            "Average accuracy of model across folds: 0.652\n",
            "Average Macro F1 score of model across folds: 0.652\n",
            "Average OvR AUC score of model across folds: 0.875\n"
          ]
        }
      ],
      "source": [
        "# validate model:\n",
        "# calculate the average scores for accuracy, Macro F1 and ROC AUC Ovr, across all folds\n",
        "print(f\"Average accuracy of model across folds: {np.mean(cv_result_5['test_accuracy']):0.03}\")\n",
        "print(f\"Average Macro F1 score of model across folds: {np.mean(cv_result_5['test_f1_macro']):0.03}\")\n",
        "print(f\"Average OvR AUC score of model across folds: {np.mean(cv_result_5['test_roc_auc_ovr']):0.03}\")"
      ]
    },
    {
      "cell_type": "markdown",
      "id": "445d1b21-c47f-4e91-b84c-739b39a32878",
      "metadata": {
        "id": "445d1b21-c47f-4e91-b84c-739b39a32878"
      },
      "source": [
        "**Reporting how much average cross-validation performance with regularisation included improves over unregularized logistic regression**\n",
        "\n",
        "When performing unregularized logistic regression without cross-validation (model 3) we got the following scores on the validation dataset:\n",
        "* Accuracy: 0.631\n",
        "* Macro F1: 0.63\n",
        "* OvR AUC: 0.866\n",
        "\n",
        "In comparsion, we can see that all scores improve when performing a cross validation with a regularized logistic regression and taking the average scores on all folds.\n",
        "\n",
        "We can see that both accuracy and Macro F1 improved by ~13%, and OvR AUC improved by ~5% (using percent increase, calculations below)."
      ]
    },
    {
      "cell_type": "code",
      "execution_count": 26,
      "id": "d8551835-f475-4eba-b9ac-879a7293fcec",
      "metadata": {
        "colab": {
          "base_uri": "https://localhost:8080/"
        },
        "id": "d8551835-f475-4eba-b9ac-879a7293fcec",
        "outputId": "dd21e736-047e-40a8-8e7d-2fc7a1c042ac"
      },
      "outputs": [
        {
          "output_type": "stream",
          "name": "stdout",
          "text": [
            "accuracy_change: 13.00%\n",
            "macro_F1_change: 13.17%\n",
            "OvR_AUC_change: 4.85%\n"
          ]
        }
      ],
      "source": [
        "accuracy_change = ((0.713-0.631)/0.631) * 100\n",
        "macro_F1_change = ((0.713-0.63)/0.63) * 100\n",
        "OvR_AUC_change = ((0.908-0.866)/0.866) * 100\n",
        "\n",
        "print(f\"accuracy_change: {accuracy_change:.2f}%\\nmacro_F1_change: {macro_F1_change:.2f}%\\nOvR_AUC_change: {OvR_AUC_change:.2f}%\")"
      ]
    },
    {
      "cell_type": "markdown",
      "id": "0753affa",
      "metadata": {
        "id": "0753affa"
      },
      "source": [
        "#### Building final model 5"
      ]
    },
    {
      "cell_type": "code",
      "execution_count": 27,
      "id": "f781ce1a",
      "metadata": {
        "colab": {
          "base_uri": "https://localhost:8080/"
        },
        "id": "f781ce1a",
        "outputId": "7448739a-d714-475f-d151-f221f605fa3e"
      },
      "outputs": [
        {
          "output_type": "stream",
          "name": "stdout",
          "text": [
            "Fitting took 0.728 seconds\n"
          ]
        }
      ],
      "source": [
        "# Build final model 5\n",
        "final_model_5 = make_pipeline(\n",
        "    SimpleImputer(missing_values=np.nan, strategy='mean'),\n",
        "    StandardScaler(),\n",
        "    LogisticRegression(penalty='l2', C=1)\n",
        ")\n",
        "\n",
        "# train model\n",
        "start = time.time()\n",
        "final_model_5.fit(X_downSampled, y_downSampled)\n",
        "print(f\"Fitting took {time.time() - start:0.03} seconds\")"
      ]
    },
    {
      "cell_type": "markdown",
      "id": "32b26402-112d-460d-8898-788e21fde18f",
      "metadata": {
        "id": "32b26402-112d-460d-8898-788e21fde18f"
      },
      "source": [
        "# 6, 7, 8 - PCA"
      ]
    },
    {
      "cell_type": "markdown",
      "id": "8f0b4c10-7b6e-4162-a738-b3a46ac5e1fa",
      "metadata": {
        "id": "8f0b4c10-7b6e-4162-a738-b3a46ac5e1fa"
      },
      "source": [
        "### 6 - PCA"
      ]
    },
    {
      "cell_type": "markdown",
      "id": "a48c5c5e-0ab2-4a2c-90e5-1bb6e8d56903",
      "metadata": {
        "id": "a48c5c5e-0ab2-4a2c-90e5-1bb6e8d56903"
      },
      "source": [
        "* Do a PCA on your (normalised, imputed) training data (all of it, not within a Pipeline) ✅\n",
        "* make a plot of the first 2 PCs. ✅\n",
        "  * Colour the points by the class labels. ✅\n",
        "* How much variance is on the first and second component? ✅\n",
        "* Which single feature contributes the most to each PC? ✅\n",
        "\n",
        "\n",
        "I want to see this plot and the answer to these two questions in your notebook ✅"
      ]
    },
    {
      "cell_type": "code",
      "execution_count": 28,
      "id": "82884f93-411a-4887-a36f-428345eaac81",
      "metadata": {
        "id": "82884f93-411a-4887-a36f-428345eaac81"
      },
      "outputs": [],
      "source": [
        "# Preprocess data\n",
        "imputer_scaler = make_pipeline(SimpleImputer(missing_values=np.nan, strategy='mean'),\n",
        "                               StandardScaler())\n",
        "imputer_scaler.fit(X_downSampled)\n",
        "X_downSampled_scaled = imputer_scaler.transform(X_downSampled)\n",
        "\n",
        "# Get PCs\n",
        "pca = PCA()\n",
        "X_pca = pca.fit_transform(X_downSampled_scaled)"
      ]
    },
    {
      "cell_type": "code",
      "execution_count": 29,
      "id": "8702b099-ebe8-439b-8517-f3ef562c08c1",
      "metadata": {
        "colab": {
          "base_uri": "https://localhost:8080/",
          "height": 472
        },
        "id": "8702b099-ebe8-439b-8517-f3ef562c08c1",
        "outputId": "2a70680f-c11a-4458-d829-9665ac8086fa"
      },
      "outputs": [
        {
          "output_type": "display_data",
          "data": {
            "text/plain": [
              "<Figure size 640x480 with 1 Axes>"
            ],
            "image/png": "[encoded data removed]"
          },
          "metadata": {}
        }
      ],
      "source": [
        "# Create PCA plot\n",
        "fig, ax = plt.subplots()\n",
        "plt.title('PCA - PCs 1 and 2')\n",
        "plt.xlabel(f'Principal Component 1 (% explained variance: {pca.explained_variance_ratio_[0]*100:.3f})')\n",
        "plt.ylabel(f'Principal Component 2 (% explained variance: {pca.explained_variance_ratio_[1]*100:.3f})')\n",
        "\n",
        "for class_id in y_downSampled.unique():\n",
        "    ix = np.where(y_downSampled == class_id)\n",
        "    ax.scatter(x=X_pca[ix, 0], y=X_pca[ix, 1], label=\"Class \"+str(class_id), alpha=0.5)\n",
        "\n",
        "ax.legend()\n",
        "fig.show()"
      ]
    },
    {
      "cell_type": "markdown",
      "id": "ac0343c3-d2c5-4a2a-b748-438904180bb1",
      "metadata": {
        "id": "ac0343c3-d2c5-4a2a-b748-438904180bb1"
      },
      "source": [
        "**How much variance is on the first and second component?**"
      ]
    },
    {
      "cell_type": "code",
      "execution_count": 30,
      "id": "85668ee0-48f1-4d9f-a210-18c5801392b6",
      "metadata": {
        "colab": {
          "base_uri": "https://localhost:8080/"
        },
        "id": "85668ee0-48f1-4d9f-a210-18c5801392b6",
        "outputId": "90fecf8d-35a0-41b2-e836-521dab1bbe65"
      },
      "outputs": [
        {
          "output_type": "stream",
          "name": "stdout",
          "text": [
            "Variance explained by first 2 PCs: 1.196%\n"
          ]
        }
      ],
      "source": [
        "print(f\"Variance explained by first 2 PCs: {sum(pca.explained_variance_ratio_[:2])*100:.3f}%\")"
      ]
    },
    {
      "cell_type": "markdown",
      "id": "76f7c822-ff98-4954-8207-91614312aaf5",
      "metadata": {
        "id": "76f7c822-ff98-4954-8207-91614312aaf5"
      },
      "source": [
        "**Which single feature contributes the most to each PC?**\n"
      ]
    },
    {
      "cell_type": "code",
      "execution_count": 31,
      "id": "74a6934e-fe13-4799-b6f6-109f12a459da",
      "metadata": {
        "colab": {
          "base_uri": "https://localhost:8080/",
          "height": 472
        },
        "id": "74a6934e-fe13-4799-b6f6-109f12a459da",
        "outputId": "71fa3734-9c8e-4e98-8120-624144320ef1"
      },
      "outputs": [
        {
          "output_type": "stream",
          "name": "stdout",
          "text": [
            "Showing which feature (gene) contributes the most to each of the PCs\n"
          ]
        },
        {
          "output_type": "display_data",
          "data": {
            "text/plain": [
              "        Most contributing feature\n",
              "PC                               \n",
              "PC 1                     Gene 618\n",
              "PC 2                    Gene 1521\n",
              "PC 3                    Gene 1564\n",
              "PC 4                    Gene 1920\n",
              "PC 5                    Gene 1806\n",
              "...                           ...\n",
              "PC 1996                 Gene 1510\n",
              "PC 1997                 Gene 1693\n",
              "PC 1998                  Gene 506\n",
              "PC 1999                  Gene 846\n",
              "PC 2000                 Gene 1266\n",
              "\n",
              "[2000 rows x 1 columns]"
            ],
            "text/html": [
              "\n",
              "  <div id=\"df-23e5a444-3d17-4d2d-aae0-2f621e7f57d4\" class=\"colab-df-container\">\n",
              "    <div>\n",
              "<style scoped>\n",
              "    .dataframe tbody tr th:only-of-type {\n",
              "        vertical-align: middle;\n",
              "    }\n",
              "\n",
              "    .dataframe tbody tr th {\n",
              "        vertical-align: top;\n",
              "    }\n",
              "\n",
              "    .dataframe thead th {\n",
              "        text-align: right;\n",
              "    }\n",
              "</style>\n",
              "<table border=\"1\" class=\"dataframe\">\n",
              "  <thead>\n",
              "    <tr style=\"text-align: right;\">\n",
              "      <th></th>\n",
              "      <th>Most contributing feature</th>\n",
              "    </tr>\n",
              "    <tr>\n",
              "      <th>PC</th>\n",
              "      <th></th>\n",
              "    </tr>\n",
              "  </thead>\n",
              "  <tbody>\n",
              "    <tr>\n",
              "      <th>PC 1</th>\n",
              "      <td>Gene 618</td>\n",
              "    </tr>\n",
              "    <tr>\n",
              "      <th>PC 2</th>\n",
              "      <td>Gene 1521</td>\n",
              "    </tr>\n",
              "    <tr>\n",
              "      <th>PC 3</th>\n",
              "      <td>Gene 1564</td>\n",
              "    </tr>\n",
              "    <tr>\n",
              "      <th>PC 4</th>\n",
              "      <td>Gene 1920</td>\n",
              "    </tr>\n",
              "    <tr>\n",
              "      <th>PC 5</th>\n",
              "      <td>Gene 1806</td>\n",
              "    </tr>\n",
              "    <tr>\n",
              "      <th>...</th>\n",
              "      <td>...</td>\n",
              "    </tr>\n",
              "    <tr>\n",
              "      <th>PC 1996</th>\n",
              "      <td>Gene 1510</td>\n",
              "    </tr>\n",
              "    <tr>\n",
              "      <th>PC 1997</th>\n",
              "      <td>Gene 1693</td>\n",
              "    </tr>\n",
              "    <tr>\n",
              "      <th>PC 1998</th>\n",
              "      <td>Gene 506</td>\n",
              "    </tr>\n",
              "    <tr>\n",
              "      <th>PC 1999</th>\n",
              "      <td>Gene 846</td>\n",
              "    </tr>\n",
              "    <tr>\n",
              "      <th>PC 2000</th>\n",
              "      <td>Gene 1266</td>\n",
              "    </tr>\n",
              "  </tbody>\n",
              "</table>\n",
              "<p>2000 rows × 1 columns</p>\n",
              "</div>\n",
              "    <div class=\"colab-df-buttons\">\n",
              "\n",
              "  <div class=\"colab-df-container\">\n",
              "    <button class=\"colab-df-convert\" onclick=\"convertToInteractive('df-23e5a444-3d17-4d2d-aae0-2f621e7f57d4')\"\n",
              "            title=\"Convert this dataframe to an interactive table.\"\n",
              "            style=\"display:none;\">\n",
              "\n",
              "  <svg xmlns=\"http://www.w3.org/2000/svg\" height=\"24px\" viewBox=\"0 -960 960 960\">\n",
              "    <path d=\"M120-120v-720h720v720H120Zm60-500h600v-160H180v160Zm220 220h160v-160H400v160Zm0 220h160v-160H400v160ZM180-400h160v-160H180v160Zm440 0h160v-160H620v160ZM180-180h160v-160H180v160Zm440 0h160v-160H620v160Z\"/>\n",
              "  </svg>\n",
              "    </button>\n",
              "\n",
              "  <style>\n",
              "    .colab-df-container {\n",
              "      display:flex;\n",
              "      gap: 12px;\n",
              "    }\n",
              "\n",
              "    .colab-df-convert {\n",
              "      background-color: #E8F0FE;\n",
              "      border: none;\n",
              "      border-radius: 50%;\n",
              "      cursor: pointer;\n",
              "      display: none;\n",
              "      fill: #1967D2;\n",
              "      height: 32px;\n",
              "      padding: 0 0 0 0;\n",
              "      width: 32px;\n",
              "    }\n",
              "\n",
              "    .colab-df-convert:hover {\n",
              "      background-color: #E2EBFA;\n",
              "      box-shadow: 0px 1px 2px rgba(60, 64, 67, 0.3), 0px 1px 3px 1px rgba(60, 64, 67, 0.15);\n",
              "      fill: #174EA6;\n",
              "    }\n",
              "\n",
              "    .colab-df-buttons div {\n",
              "      margin-bottom: 4px;\n",
              "    }\n",
              "\n",
              "    [theme=dark] .colab-df-convert {\n",
              "      background-color: #3B4455;\n",
              "      fill: #D2E3FC;\n",
              "    }\n",
              "\n",
              "    [theme=dark] .colab-df-convert:hover {\n",
              "      background-color: #434B5C;\n",
              "      box-shadow: 0px 1px 3px 1px rgba(0, 0, 0, 0.15);\n",
              "      filter: drop-shadow(0px 1px 2px rgba(0, 0, 0, 0.3));\n",
              "      fill: #FFFFFF;\n",
              "    }\n",
              "  </style>\n",
              "\n",
              "    <script>\n",
              "      const buttonEl =\n",
              "        document.querySelector('#df-23e5a444-3d17-4d2d-aae0-2f621e7f57d4 button.colab-df-convert');\n",
              "      buttonEl.style.display =\n",
              "        google.colab.kernel.accessAllowed ? 'block' : 'none';\n",
              "\n",
              "      async function convertToInteractive(key) {\n",
              "        const element = document.querySelector('#df-23e5a444-3d17-4d2d-aae0-2f621e7f57d4');\n",
              "        const dataTable =\n",
              "          await google.colab.kernel.invokeFunction('convertToInteractive',\n",
              "                                                    [key], {});\n",
              "        if (!dataTable) return;\n",
              "\n",
              "        const docLinkHtml = 'Like what you see? Visit the ' +\n",
              "          '<a target=\"_blank\" href=https://colab.research.google.com/notebooks/data_table.ipynb>data table notebook</a>'\n",
              "          + ' to learn more about interactive tables.';\n",
              "        element.innerHTML = '';\n",
              "        dataTable['output_type'] = 'display_data';\n",
              "        await google.colab.output.renderOutput(dataTable, element);\n",
              "        const docLink = document.createElement('div');\n",
              "        docLink.innerHTML = docLinkHtml;\n",
              "        element.appendChild(docLink);\n",
              "      }\n",
              "    </script>\n",
              "  </div>\n",
              "\n",
              "\n",
              "<div id=\"df-58ffdfb9-0570-41db-a8ef-8b70325f48ae\">\n",
              "  <button class=\"colab-df-quickchart\" onclick=\"quickchart('df-58ffdfb9-0570-41db-a8ef-8b70325f48ae')\"\n",
              "            title=\"Suggest charts\"\n",
              "            style=\"display:none;\">\n",
              "\n",
              "<svg xmlns=\"http://www.w3.org/2000/svg\" height=\"24px\"viewBox=\"0 0 24 24\"\n",
              "     width=\"24px\">\n",
              "    <g>\n",
              "        <path d=\"M19 3H5c-1.1 0-2 .9-2 2v14c0 1.1.9 2 2 2h14c1.1 0 2-.9 2-2V5c0-1.1-.9-2-2-2zM9 17H7v-7h2v7zm4 0h-2V7h2v10zm4 0h-2v-4h2v4z\"/>\n",
              "    </g>\n",
              "</svg>\n",
              "  </button>\n",
              "\n",
              "<style>\n",
              "  .colab-df-quickchart {\n",
              "      --bg-color: #E8F0FE;\n",
              "      --fill-color: #1967D2;\n",
              "      --hover-bg-color: #E2EBFA;\n",
              "      --hover-fill-color: #174EA6;\n",
              "      --disabled-fill-color: #AAA;\n",
              "      --disabled-bg-color: #DDD;\n",
              "  }\n",
              "\n",
              "  [theme=dark] .colab-df-quickchart {\n",
              "      --bg-color: #3B4455;\n",
              "      --fill-color: #D2E3FC;\n",
              "      --hover-bg-color: #434B5C;\n",
              "      --hover-fill-color: #FFFFFF;\n",
              "      --disabled-bg-color: #3B4455;\n",
              "      --disabled-fill-color: #666;\n",
              "  }\n",
              "\n",
              "  .colab-df-quickchart {\n",
              "    background-color: var(--bg-color);\n",
              "    border: none;\n",
              "    border-radius: 50%;\n",
              "    cursor: pointer;\n",
              "    display: none;\n",
              "    fill: var(--fill-color);\n",
              "    height: 32px;\n",
              "    padding: 0;\n",
              "    width: 32px;\n",
              "  }\n",
              "\n",
              "  .colab-df-quickchart:hover {\n",
              "    background-color: var(--hover-bg-color);\n",
              "    box-shadow: 0 1px 2px rgba(60, 64, 67, 0.3), 0 1px 3px 1px rgba(60, 64, 67, 0.15);\n",
              "    fill: var(--button-hover-fill-color);\n",
              "  }\n",
              "\n",
              "  .colab-df-quickchart-complete:disabled,\n",
              "  .colab-df-quickchart-complete:disabled:hover {\n",
              "    background-color: var(--disabled-bg-color);\n",
              "    fill: var(--disabled-fill-color);\n",
              "    box-shadow: none;\n",
              "  }\n",
              "\n",
              "  .colab-df-spinner {\n",
              "    border: 2px solid var(--fill-color);\n",
              "    border-color: transparent;\n",
              "    border-bottom-color: var(--fill-color);\n",
              "    animation:\n",
              "      spin 1s steps(1) infinite;\n",
              "  }\n",
              "\n",
              "  @keyframes spin {\n",
              "    0% {\n",
              "      border-color: transparent;\n",
              "      border-bottom-color: var(--fill-color);\n",
              "      border-left-color: var(--fill-color);\n",
              "    }\n",
              "    20% {\n",
              "      border-color: transparent;\n",
              "      border-left-color: var(--fill-color);\n",
              "      border-top-color: var(--fill-color);\n",
              "    }\n",
              "    30% {\n",
              "      border-color: transparent;\n",
              "      border-left-color: var(--fill-color);\n",
              "      border-top-color: var(--fill-color);\n",
              "      border-right-color: var(--fill-color);\n",
              "    }\n",
              "    40% {\n",
              "      border-color: transparent;\n",
              "      border-right-color: var(--fill-color);\n",
              "      border-top-color: var(--fill-color);\n",
              "    }\n",
              "    60% {\n",
              "      border-color: transparent;\n",
              "      border-right-color: var(--fill-color);\n",
              "    }\n",
              "    80% {\n",
              "      border-color: transparent;\n",
              "      border-right-color: var(--fill-color);\n",
              "      border-bottom-color: var(--fill-color);\n",
              "    }\n",
              "    90% {\n",
              "      border-color: transparent;\n",
              "      border-bottom-color: var(--fill-color);\n",
              "    }\n",
              "  }\n",
              "</style>\n",
              "\n",
              "  <script>\n",
              "    async function quickchart(key) {\n",
              "      const quickchartButtonEl =\n",
              "        document.querySelector('#' + key + ' button');\n",
              "      quickchartButtonEl.disabled = true;  // To prevent multiple clicks.\n",
              "      quickchartButtonEl.classList.add('colab-df-spinner');\n",
              "      try {\n",
              "        const charts = await google.colab.kernel.invokeFunction(\n",
              "            'suggestCharts', [key], {});\n",
              "      } catch (error) {\n",
              "        console.error('Error during call to suggestCharts:', error);\n",
              "      }\n",
              "      quickchartButtonEl.classList.remove('colab-df-spinner');\n",
              "      quickchartButtonEl.classList.add('colab-df-quickchart-complete');\n",
              "    }\n",
              "    (() => {\n",
              "      let quickchartButtonEl =\n",
              "        document.querySelector('#df-58ffdfb9-0570-41db-a8ef-8b70325f48ae button');\n",
              "      quickchartButtonEl.style.display =\n",
              "        google.colab.kernel.accessAllowed ? 'block' : 'none';\n",
              "    })();\n",
              "  </script>\n",
              "</div>\n",
              "\n",
              "  <div id=\"id_8087c7f0-6cfe-436c-b93c-726af7996b71\">\n",
              "    <style>\n",
              "      .colab-df-generate {\n",
              "        background-color: #E8F0FE;\n",
              "        border: none;\n",
              "        border-radius: 50%;\n",
              "        cursor: pointer;\n",
              "        display: none;\n",
              "        fill: #1967D2;\n",
              "        height: 32px;\n",
              "        padding: 0 0 0 0;\n",
              "        width: 32px;\n",
              "      }\n",
              "\n",
              "      .colab-df-generate:hover {\n",
              "        background-color: #E2EBFA;\n",
              "        box-shadow: 0px 1px 2px rgba(60, 64, 67, 0.3), 0px 1px 3px 1px rgba(60, 64, 67, 0.15);\n",
              "        fill: #174EA6;\n",
              "      }\n",
              "\n",
              "      [theme=dark] .colab-df-generate {\n",
              "        background-color: #3B4455;\n",
              "        fill: #D2E3FC;\n",
              "      }\n",
              "\n",
              "      [theme=dark] .colab-df-generate:hover {\n",
              "        background-color: #434B5C;\n",
              "        box-shadow: 0px 1px 3px 1px rgba(0, 0, 0, 0.15);\n",
              "        filter: drop-shadow(0px 1px 2px rgba(0, 0, 0, 0.3));\n",
              "        fill: #FFFFFF;\n",
              "      }\n",
              "    </style>\n",
              "    <button class=\"colab-df-generate\" onclick=\"generateWithVariable('pca_feature_per_pc_df')\"\n",
              "            title=\"Generate code using this dataframe.\"\n",
              "            style=\"display:none;\">\n",
              "\n",
              "  <svg xmlns=\"http://www.w3.org/2000/svg\" height=\"24px\"viewBox=\"0 0 24 24\"\n",
              "       width=\"24px\">\n",
              "    <path d=\"M7,19H8.4L18.45,9,17,7.55,7,17.6ZM5,21V16.75L18.45,3.32a2,2,0,0,1,2.83,0l1.4,1.43a1.91,1.91,0,0,1,.58,1.4,1.91,1.91,0,0,1-.58,1.4L9.25,21ZM18.45,9,17,7.55Zm-12,3A5.31,5.31,0,0,0,4.9,8.1,5.31,5.31,0,0,0,1,6.5,5.31,5.31,0,0,0,4.9,4.9,5.31,5.31,0,0,0,6.5,1,5.31,5.31,0,0,0,8.1,4.9,5.31,5.31,0,0,0,12,6.5,5.46,5.46,0,0,0,6.5,12Z\"/>\n",
              "  </svg>\n",
              "    </button>\n",
              "    <script>\n",
              "      (() => {\n",
              "      const buttonEl =\n",
              "        document.querySelector('#id_8087c7f0-6cfe-436c-b93c-726af7996b71 button.colab-df-generate');\n",
              "      buttonEl.style.display =\n",
              "        google.colab.kernel.accessAllowed ? 'block' : 'none';\n",
              "\n",
              "      buttonEl.onclick = () => {\n",
              "        google.colab.notebook.generateWithVariable('pca_feature_per_pc_df');\n",
              "      }\n",
              "      })();\n",
              "    </script>\n",
              "  </div>\n",
              "\n",
              "    </div>\n",
              "  </div>\n"
            ],
            "application/vnd.google.colaboratory.intrinsic+json": {
              "type": "dataframe",
              "variable_name": "pca_feature_per_pc_df",
              "summary": "{\n  \"name\": \"pca_feature_per_pc_df\",\n  \"rows\": 2000,\n  \"fields\": [\n    {\n      \"column\": \"PC\",\n      \"properties\": {\n        \"dtype\": \"string\",\n        \"num_unique_values\": 2000,\n        \"samples\": [\n          \"PC 1861\",\n          \"PC 354\",\n          \"PC 1334\"\n        ],\n        \"semantic_type\": \"\",\n        \"description\": \"\"\n      }\n    },\n    {\n      \"column\": \"Most contributing feature\",\n      \"properties\": {\n        \"dtype\": \"string\",\n        \"num_unique_values\": 1297,\n        \"samples\": [\n          \"Gene 1873\",\n          \"Gene 464\",\n          \"Gene 1582\"\n        ],\n        \"semantic_type\": \"\",\n        \"description\": \"\"\n      }\n    }\n  ]\n}"
            }
          },
          "metadata": {}
        }
      ],
      "source": [
        "pca_components = np.abs(pca.components_)\n",
        "\n",
        "pca_feature_per_pc_df = pd.DataFrame(\n",
        "    {\"PC\": [f\"PC {i+1}\" for i in range(pca_components.shape[0])],\n",
        "     \"Most contributing feature\": [X_downSampled.columns[i] for i in np.argmax(pca_components, axis=1)]}\n",
        ")\n",
        "\n",
        "pca_feature_per_pc_df  = pca_feature_per_pc_df.set_index(\"PC\")\n",
        "\n",
        "print(\"Showing which feature (gene) contributes the most to each of the PCs\")\n",
        "display(pca_feature_per_pc_df)"
      ]
    },
    {
      "cell_type": "markdown",
      "id": "77a34dd1-83ea-4b71-a6d2-a164f3f8f197",
      "metadata": {
        "id": "77a34dd1-83ea-4b71-a6d2-a164f3f8f197"
      },
      "source": [
        "**Extra - plotting the explained variance in % for all PCs**"
      ]
    },
    {
      "cell_type": "code",
      "execution_count": 32,
      "id": "41944c96-0536-4ba0-881c-6324b3f0c3bf",
      "metadata": {
        "colab": {
          "base_uri": "https://localhost:8080/",
          "height": 493
        },
        "id": "41944c96-0536-4ba0-881c-6324b3f0c3bf",
        "outputId": "8e7ec1a7-d959-4d0f-a636-e6ddd341662e"
      },
      "outputs": [
        {
          "output_type": "display_data",
          "data": {
            "text/plain": [
              "<Figure size 640x480 with 1 Axes>"
            ],
            "image/png": "[encoded data removed]"
          },
          "metadata": {}
        }
      ],
      "source": [
        "# Plot all explained variances per PC\n",
        "explained_variance = pca.explained_variance_ratio_ * 100\n",
        "\n",
        "fig, ax = plt.subplots()\n",
        "plt.title(r'PCA - % of explained variance per PC')\n",
        "plt.xlabel('PCs')\n",
        "plt.ylabel(r'% of explained variance')\n",
        "\n",
        "ax.plot(range(1, len(explained_variance) + 1), explained_variance)\n",
        "plt.xticks(range(1, len(explained_variance) + 1, 50), rotation=90)\n",
        "\n",
        "fig.show()"
      ]
    },
    {
      "cell_type": "markdown",
      "id": "a23f474c-a509-4c39-93ef-cc646f05d01e",
      "metadata": {
        "id": "a23f474c-a509-4c39-93ef-cc646f05d01e"
      },
      "source": [
        "**Extra - find variance captured in more PCs**"
      ]
    },
    {
      "cell_type": "code",
      "execution_count": 33,
      "id": "e0829863-1883-42d1-b28d-9eab8356a253",
      "metadata": {
        "colab": {
          "base_uri": "https://localhost:8080/"
        },
        "id": "e0829863-1883-42d1-b28d-9eab8356a253",
        "outputId": "9d55b269-fb33-4d34-d368-181a757ac4be"
      },
      "outputs": [
        {
          "output_type": "stream",
          "name": "stdout",
          "text": [
            "Variance explained by first 100 PCs: 30.834%\n"
          ]
        }
      ],
      "source": [
        "print(f\"Variance explained by first 100 PCs: {sum(pca.explained_variance_ratio_[:100])*100:.3f}%\")"
      ]
    },
    {
      "cell_type": "code",
      "execution_count": 34,
      "id": "cdcade8c-17f6-44fb-a525-fdd52123864d",
      "metadata": {
        "colab": {
          "base_uri": "https://localhost:8080/"
        },
        "id": "cdcade8c-17f6-44fb-a525-fdd52123864d",
        "outputId": "6709314d-df74-4cf7-dd1d-8fe62783c5fd"
      },
      "outputs": [
        {
          "output_type": "stream",
          "name": "stdout",
          "text": [
            "To capture 70% of the variance we need to take 477 PCs\n",
            "To capture 80% of the variance we need to take 642 PCs\n",
            "To capture 90% of the variance we need to take 883 PCs\n",
            "\n",
            "** \"To capture\" meaning to capture at least this amount of variance\n"
          ]
        }
      ],
      "source": [
        "print(r\"To capture 70% of the variance we need to take\", np.where(pca.explained_variance_ratio_.cumsum() > 0.7)[0][0], \"PCs\")\n",
        "print(r\"To capture 80% of the variance we need to take\", np.where(pca.explained_variance_ratio_.cumsum() > 0.8)[0][0], \"PCs\")\n",
        "print(r\"To capture 90% of the variance we need to take\", np.where(pca.explained_variance_ratio_.cumsum() > 0.9)[0][0], \"PCs\")\n",
        "\n",
        "print('\\n** \"To capture\" meaning to capture at least this amount of variance')"
      ]
    },
    {
      "cell_type": "markdown",
      "id": "6fa2f2b5-5ba7-460a-8075-c8c5ee1183a9",
      "metadata": {
        "id": "6fa2f2b5-5ba7-460a-8075-c8c5ee1183a9"
      },
      "source": [
        "**Extra - discussing the PCA results**\n",
        "\n",
        "We can see that there is no small amount of features that capture a big precent of the variance. To capture at least 70% of the variance we need to take 477 PCs, 642 PCs for 80% of the variance and 883 PCs for 90% of the variance.\n",
        "\n",
        "In part 7 we use 100 PCs in our model. We see that although this improve the performance of the model, the improvement is not great. This might be due to the fact that these 100 PCs only capture ~30% of the data, and hence this might not be enough to train our model."
      ]
    },
    {
      "cell_type": "markdown",
      "id": "669c0e50-2d77-48e6-9ec2-9b601289bdc6",
      "metadata": {
        "id": "669c0e50-2d77-48e6-9ec2-9b601289bdc6"
      },
      "source": [
        "### 7 - PCA inside a prediction pipeline"
      ]
    },
    {
      "cell_type": "markdown",
      "id": "d1789c3f-bdfa-4d5d-8ba8-22e574d2df08",
      "metadata": {
        "id": "d1789c3f-bdfa-4d5d-8ba8-22e574d2df08"
      },
      "source": [
        "For the next part, let’s\n",
        "* use PCA in your prediction Pipeline. ✅\n",
        "  * Insert a PCA step where you think it fits ✅\n",
        "    * use 100 principal components. ✅\n",
        "* Keep the regularisation in your logistic regression. ✅\n",
        "* Report the average macro F1 score and ROC AUC OvR over folds now that you’ve included linear dimensionality reduction in your notebook. ✅\n",
        "* How many percentage points do you improve? ✅\n",
        "* Train a final model on all training data. Use this final model to predict on the test set. ❌❌❌❌ (**Dieter removed this**)"
      ]
    },
    {
      "cell_type": "code",
      "execution_count": 35,
      "id": "b7fa90ce-7c9c-4e92-9e33-a4d973cc3dcc",
      "metadata": {
        "colab": {
          "base_uri": "https://localhost:8080/"
        },
        "id": "b7fa90ce-7c9c-4e92-9e33-a4d973cc3dcc",
        "outputId": "dc576dec-912e-4ba8-f4e5-2087a8d03f74"
      },
      "outputs": [
        {
          "output_type": "stream",
          "name": "stdout",
          "text": [
            "Fitting took 27.7 seconds\n"
          ]
        }
      ],
      "source": [
        "# Build the pipeline for our model\n",
        "imputer_7 = SimpleImputer(missing_values=np.nan, strategy='mean')\n",
        "scaler_7 = StandardScaler()\n",
        "pca_7 = PCA(n_components=100)\n",
        "log_regressor_7 = LogisticRegression(penalty='l2', C=1)\n",
        "\n",
        "model_7 = make_pipeline(imputer_7, scaler_7, pca_7, log_regressor_7)\n",
        "\n",
        "# train model\n",
        "start = time.time()\n",
        "cv_result_7 = cross_validate(model_7, X_downSampled, y_downSampled, cv=10, scoring=['accuracy', 'f1_macro', 'roc_auc_ovr'])\n",
        "print(f\"Fitting took {time.time() - start:0.03} seconds\")"
      ]
    },
    {
      "cell_type": "code",
      "execution_count": 36,
      "id": "48df3712-ce46-471f-96c6-935583f353d9",
      "metadata": {
        "colab": {
          "base_uri": "https://localhost:8080/"
        },
        "id": "48df3712-ce46-471f-96c6-935583f353d9",
        "outputId": "6777a9e4-9091-4aae-c221-a82d97e16599"
      },
      "outputs": [
        {
          "output_type": "stream",
          "name": "stdout",
          "text": [
            "Average accuracy of model across folds: 0.666\n",
            "Average Macro F1 score of model across folds: 0.666\n",
            "Average OvR AUC score of model across folds: 0.885\n"
          ]
        }
      ],
      "source": [
        "# validate model:\n",
        "# calculate the average scores for accuracy, Macro F1 and ROC AUC Ovr, across all folds\n",
        "print(f\"Average accuracy of model across folds: {np.mean(cv_result_7['test_accuracy']):0.03}\")\n",
        "print(f\"Average Macro F1 score of model across folds: {np.mean(cv_result_7['test_f1_macro']):0.03}\")\n",
        "print(f\"Average OvR AUC score of model across folds: {np.mean(cv_result_7['test_roc_auc_ovr']):0.03}\")"
      ]
    },
    {
      "cell_type": "markdown",
      "id": "f684fac0-271e-4b10-a079-0e22f54d0d47",
      "metadata": {
        "id": "f684fac0-271e-4b10-a079-0e22f54d0d47"
      },
      "source": [
        "**How many percentage points do you improve?**\n",
        "(Comparing to model 5)\n",
        "\n",
        "When adding PCA and taking the 100 PCs that explain the most variance, we can see that the model improves a bit. We see an improvement of ~3 percent points in accuracy and Macro F1 score, and an improvement of ~1 percent points in OvR AUC score.\n",
        "(calculations below)\n",
        "\n",
        "Although this is an improvement, this is not a big improvement. We saw in part 6 that these 100 PCs only capture ~30% of the variance in our data, which might be the reason why the model doesn't perform as well as we've hoped. Still, this small improvement suggests that we hopefully managed to reduce the noise in our data and helped our model generalize better."
      ]
    },
    {
      "cell_type": "code",
      "execution_count": 37,
      "id": "733d2499-a4f4-4517-9057-8f65c46126ff",
      "metadata": {
        "colab": {
          "base_uri": "https://localhost:8080/"
        },
        "id": "733d2499-a4f4-4517-9057-8f65c46126ff",
        "outputId": "5347d50b-d07b-448a-a269-feee8bd41b17"
      },
      "outputs": [
        {
          "output_type": "stream",
          "name": "stdout",
          "text": [
            "accuracy_change: 1.39 percent points\n",
            "macro_F1_change: 1.42 percent points\n",
            "OvR_AUC_change: 0.98 percent points\n"
          ]
        }
      ],
      "source": [
        "# Compare the scored for model 5 (no PCA) and model 7 (includes PCA with choosing\n",
        "# 100 principal components)\n",
        "accuracy_change = (np.mean(cv_result_7['test_accuracy'])-np.mean(cv_result_5['test_accuracy'])) * 100\n",
        "macro_F1_change = (np.mean(cv_result_7['test_f1_macro'])-np.mean(cv_result_5['test_f1_macro'])) * 100\n",
        "OvR_AUC_change = (np.mean(cv_result_7['test_roc_auc_ovr'])-np.mean(cv_result_5['test_roc_auc_ovr'])) * 100\n",
        "\n",
        "print(f\"accuracy_change: {accuracy_change:.2f} percent points\\nmacro_F1_change: {macro_F1_change:.2f} percent points\\nOvR_AUC_change: {OvR_AUC_change:.2f} percent points\")"
      ]
    },
    {
      "cell_type": "markdown",
      "id": "f03064f3",
      "metadata": {
        "id": "f03064f3"
      },
      "source": [
        "#### Building final model 7"
      ]
    },
    {
      "cell_type": "code",
      "execution_count": 38,
      "id": "c51f5e3a-22e3-4128-9f2f-b12c34eef28a",
      "metadata": {
        "colab": {
          "base_uri": "https://localhost:8080/",
          "height": 224
        },
        "id": "c51f5e3a-22e3-4128-9f2f-b12c34eef28a",
        "outputId": "8b7e8509-fca4-461d-cdc2-5324ae72f3d8"
      },
      "outputs": [
        {
          "output_type": "execute_result",
          "data": {
            "text/plain": [
              "Pipeline(steps=[('simpleimputer', SimpleImputer()),\n",
              "                ('standardscaler', StandardScaler()),\n",
              "                ('pca', PCA(n_components=100)),\n",
              "                ('logisticregression', LogisticRegression(C=1))])"
            ],
            "text/html": [
              "<style>#sk-container-id-1 {\n",
              "  /* Definition of color scheme common for light and dark mode */\n",
              "  --sklearn-color-text: black;\n",
              "  --sklearn-color-line: gray;\n",
              "  /* Definition of color scheme for unfitted estimators */\n",
              "  --sklearn-color-unfitted-level-0: #fff5e6;\n",
              "  --sklearn-color-unfitted-level-1: #f6e4d2;\n",
              "  --sklearn-color-unfitted-level-2: #ffe0b3;\n",
              "  --sklearn-color-unfitted-level-3: chocolate;\n",
              "  /* Definition of color scheme for fitted estimators */\n",
              "  --sklearn-color-fitted-level-0: #f0f8ff;\n",
              "  --sklearn-color-fitted-level-1: #d4ebff;\n",
              "  --sklearn-color-fitted-level-2: #b3dbfd;\n",
              "  --sklearn-color-fitted-level-3: cornflowerblue;\n",
              "\n",
              "  /* Specific color for light theme */\n",
              "  --sklearn-color-text-on-default-background: var(--sg-text-color, var(--theme-code-foreground, var(--jp-content-font-color1, black)));\n",
              "  --sklearn-color-background: var(--sg-background-color, var(--theme-background, var(--jp-layout-color0, white)));\n",
              "  --sklearn-color-border-box: var(--sg-text-color, var(--theme-code-foreground, var(--jp-content-font-color1, black)));\n",
              "  --sklearn-color-icon: #696969;\n",
              "\n",
              "  @media (prefers-color-scheme: dark) {\n",
              "    /* Redefinition of color scheme for dark theme */\n",
              "    --sklearn-color-text-on-default-background: var(--sg-text-color, var(--theme-code-foreground, var(--jp-content-font-color1, white)));\n",
              "    --sklearn-color-background: var(--sg-background-color, var(--theme-background, var(--jp-layout-color0, #111)));\n",
              "    --sklearn-color-border-box: var(--sg-text-color, var(--theme-code-foreground, var(--jp-content-font-color1, white)));\n",
              "    --sklearn-color-icon: #878787;\n",
              "  }\n",
              "}\n",
              "\n",
              "#sk-container-id-1 {\n",
              "  color: var(--sklearn-color-text);\n",
              "}\n",
              "\n",
              "#sk-container-id-1 pre {\n",
              "  padding: 0;\n",
              "}\n",
              "\n",
              "#sk-container-id-1 input.sk-hidden--visually {\n",
              "  border: 0;\n",
              "  clip: rect(1px 1px 1px 1px);\n",
              "  clip: rect(1px, 1px, 1px, 1px);\n",
              "  height: 1px;\n",
              "  margin: -1px;\n",
              "  overflow: hidden;\n",
              "  padding: 0;\n",
              "  position: absolute;\n",
              "  width: 1px;\n",
              "}\n",
              "\n",
              "#sk-container-id-1 div.sk-dashed-wrapped {\n",
              "  border: 1px dashed var(--sklearn-color-line);\n",
              "  margin: 0 0.4em 0.5em 0.4em;\n",
              "  box-sizing: border-box;\n",
              "  padding-bottom: 0.4em;\n",
              "  background-color: var(--sklearn-color-background);\n",
              "}\n",
              "\n",
              "#sk-container-id-1 div.sk-container {\n",
              "  /* jupyter's `normalize.less` sets `[hidden] { display: none; }`\n",
              "     but bootstrap.min.css set `[hidden] { display: none !important; }`\n",
              "     so we also need the `!important` here to be able to override the\n",
              "     default hidden behavior on the sphinx rendered scikit-learn.org.\n",
              "     See: https://github.com/scikit-learn/scikit-learn/issues/21755 */\n",
              "  display: inline-block !important;\n",
              "  position: relative;\n",
              "}\n",
              "\n",
              "#sk-container-id-1 div.sk-text-repr-fallback {\n",
              "  display: none;\n",
              "}\n",
              "\n",
              "div.sk-parallel-item,\n",
              "div.sk-serial,\n",
              "div.sk-item {\n",
              "  /* draw centered vertical line to link estimators */\n",
              "  background-image: linear-gradient(var(--sklearn-color-text-on-default-background), var(--sklearn-color-text-on-default-background));\n",
              "  background-size: 2px 100%;\n",
              "  background-repeat: no-repeat;\n",
              "  background-position: center center;\n",
              "}\n",
              "\n",
              "/* Parallel-specific style estimator block */\n",
              "\n",
              "#sk-container-id-1 div.sk-parallel-item::after {\n",
              "  content: \"\";\n",
              "  width: 100%;\n",
              "  border-bottom: 2px solid var(--sklearn-color-text-on-default-background);\n",
              "  flex-grow: 1;\n",
              "}\n",
              "\n",
              "#sk-container-id-1 div.sk-parallel {\n",
              "  display: flex;\n",
              "  align-items: stretch;\n",
              "  justify-content: center;\n",
              "  background-color: var(--sklearn-color-background);\n",
              "  position: relative;\n",
              "}\n",
              "\n",
              "#sk-container-id-1 div.sk-parallel-item {\n",
              "  display: flex;\n",
              "  flex-direction: column;\n",
              "}\n",
              "\n",
              "#sk-container-id-1 div.sk-parallel-item:first-child::after {\n",
              "  align-self: flex-end;\n",
              "  width: 50%;\n",
              "}\n",
              "\n",
              "#sk-container-id-1 div.sk-parallel-item:last-child::after {\n",
              "  align-self: flex-start;\n",
              "  width: 50%;\n",
              "}\n",
              "\n",
              "#sk-container-id-1 div.sk-parallel-item:only-child::after {\n",
              "  width: 0;\n",
              "}\n",
              "\n",
              "/* Serial-specific style estimator block */\n",
              "\n",
              "#sk-container-id-1 div.sk-serial {\n",
              "  display: flex;\n",
              "  flex-direction: column;\n",
              "  align-items: center;\n",
              "  background-color: var(--sklearn-color-background);\n",
              "  padding-right: 1em;\n",
              "  padding-left: 1em;\n",
              "}\n",
              "\n",
              "\n",
              "/* Toggleable style: style used for estimator/Pipeline/ColumnTransformer box that is\n",
              "clickable and can be expanded/collapsed.\n",
              "- Pipeline and ColumnTransformer use this feature and define the default style\n",
              "- Estimators will overwrite some part of the style using the `sk-estimator` class\n",
              "*/\n",
              "\n",
              "/* Pipeline and ColumnTransformer style (default) */\n",
              "\n",
              "#sk-container-id-1 div.sk-toggleable {\n",
              "  /* Default theme specific background. It is overwritten whether we have a\n",
              "  specific estimator or a Pipeline/ColumnTransformer */\n",
              "  background-color: var(--sklearn-color-background);\n",
              "}\n",
              "\n",
              "/* Toggleable label */\n",
              "#sk-container-id-1 label.sk-toggleable__label {\n",
              "  cursor: pointer;\n",
              "  display: block;\n",
              "  width: 100%;\n",
              "  margin-bottom: 0;\n",
              "  padding: 0.5em;\n",
              "  box-sizing: border-box;\n",
              "  text-align: center;\n",
              "}\n",
              "\n",
              "#sk-container-id-1 label.sk-toggleable__label-arrow:before {\n",
              "  /* Arrow on the left of the label */\n",
              "  content: \"▸\";\n",
              "  float: left;\n",
              "  margin-right: 0.25em;\n",
              "  color: var(--sklearn-color-icon);\n",
              "}\n",
              "\n",
              "#sk-container-id-1 label.sk-toggleable__label-arrow:hover:before {\n",
              "  color: var(--sklearn-color-text);\n",
              "}\n",
              "\n",
              "/* Toggleable content - dropdown */\n",
              "\n",
              "#sk-container-id-1 div.sk-toggleable__content {\n",
              "  max-height: 0;\n",
              "  max-width: 0;\n",
              "  overflow: hidden;\n",
              "  text-align: left;\n",
              "  /* unfitted */\n",
              "  background-color: var(--sklearn-color-unfitted-level-0);\n",
              "}\n",
              "\n",
              "#sk-container-id-1 div.sk-toggleable__content.fitted {\n",
              "  /* fitted */\n",
              "  background-color: var(--sklearn-color-fitted-level-0);\n",
              "}\n",
              "\n",
              "#sk-container-id-1 div.sk-toggleable__content pre {\n",
              "  margin: 0.2em;\n",
              "  border-radius: 0.25em;\n",
              "  color: var(--sklearn-color-text);\n",
              "  /* unfitted */\n",
              "  background-color: var(--sklearn-color-unfitted-level-0);\n",
              "}\n",
              "\n",
              "#sk-container-id-1 div.sk-toggleable__content.fitted pre {\n",
              "  /* unfitted */\n",
              "  background-color: var(--sklearn-color-fitted-level-0);\n",
              "}\n",
              "\n",
              "#sk-container-id-1 input.sk-toggleable__control:checked~div.sk-toggleable__content {\n",
              "  /* Expand drop-down */\n",
              "  max-height: 200px;\n",
              "  max-width: 100%;\n",
              "  overflow: auto;\n",
              "}\n",
              "\n",
              "#sk-container-id-1 input.sk-toggleable__control:checked~label.sk-toggleable__label-arrow:before {\n",
              "  content: \"▾\";\n",
              "}\n",
              "\n",
              "/* Pipeline/ColumnTransformer-specific style */\n",
              "\n",
              "#sk-container-id-1 div.sk-label input.sk-toggleable__control:checked~label.sk-toggleable__label {\n",
              "  color: var(--sklearn-color-text);\n",
              "  background-color: var(--sklearn-color-unfitted-level-2);\n",
              "}\n",
              "\n",
              "#sk-container-id-1 div.sk-label.fitted input.sk-toggleable__control:checked~label.sk-toggleable__label {\n",
              "  background-color: var(--sklearn-color-fitted-level-2);\n",
              "}\n",
              "\n",
              "/* Estimator-specific style */\n",
              "\n",
              "/* Colorize estimator box */\n",
              "#sk-container-id-1 div.sk-estimator input.sk-toggleable__control:checked~label.sk-toggleable__label {\n",
              "  /* unfitted */\n",
              "  background-color: var(--sklearn-color-unfitted-level-2);\n",
              "}\n",
              "\n",
              "#sk-container-id-1 div.sk-estimator.fitted input.sk-toggleable__control:checked~label.sk-toggleable__label {\n",
              "  /* fitted */\n",
              "  background-color: var(--sklearn-color-fitted-level-2);\n",
              "}\n",
              "\n",
              "#sk-container-id-1 div.sk-label label.sk-toggleable__label,\n",
              "#sk-container-id-1 div.sk-label label {\n",
              "  /* The background is the default theme color */\n",
              "  color: var(--sklearn-color-text-on-default-background);\n",
              "}\n",
              "\n",
              "/* On hover, darken the color of the background */\n",
              "#sk-container-id-1 div.sk-label:hover label.sk-toggleable__label {\n",
              "  color: var(--sklearn-color-text);\n",
              "  background-color: var(--sklearn-color-unfitted-level-2);\n",
              "}\n",
              "\n",
              "/* Label box, darken color on hover, fitted */\n",
              "#sk-container-id-1 div.sk-label.fitted:hover label.sk-toggleable__label.fitted {\n",
              "  color: var(--sklearn-color-text);\n",
              "  background-color: var(--sklearn-color-fitted-level-2);\n",
              "}\n",
              "\n",
              "/* Estimator label */\n",
              "\n",
              "#sk-container-id-1 div.sk-label label {\n",
              "  font-family: monospace;\n",
              "  font-weight: bold;\n",
              "  display: inline-block;\n",
              "  line-height: 1.2em;\n",
              "}\n",
              "\n",
              "#sk-container-id-1 div.sk-label-container {\n",
              "  text-align: center;\n",
              "}\n",
              "\n",
              "/* Estimator-specific */\n",
              "#sk-container-id-1 div.sk-estimator {\n",
              "  font-family: monospace;\n",
              "  border: 1px dotted var(--sklearn-color-border-box);\n",
              "  border-radius: 0.25em;\n",
              "  box-sizing: border-box;\n",
              "  margin-bottom: 0.5em;\n",
              "  /* unfitted */\n",
              "  background-color: var(--sklearn-color-unfitted-level-0);\n",
              "}\n",
              "\n",
              "#sk-container-id-1 div.sk-estimator.fitted {\n",
              "  /* fitted */\n",
              "  background-color: var(--sklearn-color-fitted-level-0);\n",
              "}\n",
              "\n",
              "/* on hover */\n",
              "#sk-container-id-1 div.sk-estimator:hover {\n",
              "  /* unfitted */\n",
              "  background-color: var(--sklearn-color-unfitted-level-2);\n",
              "}\n",
              "\n",
              "#sk-container-id-1 div.sk-estimator.fitted:hover {\n",
              "  /* fitted */\n",
              "  background-color: var(--sklearn-color-fitted-level-2);\n",
              "}\n",
              "\n",
              "/* Specification for estimator info (e.g. \"i\" and \"?\") */\n",
              "\n",
              "/* Common style for \"i\" and \"?\" */\n",
              "\n",
              ".sk-estimator-doc-link,\n",
              "a:link.sk-estimator-doc-link,\n",
              "a:visited.sk-estimator-doc-link {\n",
              "  float: right;\n",
              "  font-size: smaller;\n",
              "  line-height: 1em;\n",
              "  font-family: monospace;\n",
              "  background-color: var(--sklearn-color-background);\n",
              "  border-radius: 1em;\n",
              "  height: 1em;\n",
              "  width: 1em;\n",
              "  text-decoration: none !important;\n",
              "  margin-left: 1ex;\n",
              "  /* unfitted */\n",
              "  border: var(--sklearn-color-unfitted-level-1) 1pt solid;\n",
              "  color: var(--sklearn-color-unfitted-level-1);\n",
              "}\n",
              "\n",
              ".sk-estimator-doc-link.fitted,\n",
              "a:link.sk-estimator-doc-link.fitted,\n",
              "a:visited.sk-estimator-doc-link.fitted {\n",
              "  /* fitted */\n",
              "  border: var(--sklearn-color-fitted-level-1) 1pt solid;\n",
              "  color: var(--sklearn-color-fitted-level-1);\n",
              "}\n",
              "\n",
              "/* On hover */\n",
              "div.sk-estimator:hover .sk-estimator-doc-link:hover,\n",
              ".sk-estimator-doc-link:hover,\n",
              "div.sk-label-container:hover .sk-estimator-doc-link:hover,\n",
              ".sk-estimator-doc-link:hover {\n",
              "  /* unfitted */\n",
              "  background-color: var(--sklearn-color-unfitted-level-3);\n",
              "  color: var(--sklearn-color-background);\n",
              "  text-decoration: none;\n",
              "}\n",
              "\n",
              "div.sk-estimator.fitted:hover .sk-estimator-doc-link.fitted:hover,\n",
              ".sk-estimator-doc-link.fitted:hover,\n",
              "div.sk-label-container:hover .sk-estimator-doc-link.fitted:hover,\n",
              ".sk-estimator-doc-link.fitted:hover {\n",
              "  /* fitted */\n",
              "  background-color: var(--sklearn-color-fitted-level-3);\n",
              "  color: var(--sklearn-color-background);\n",
              "  text-decoration: none;\n",
              "}\n",
              "\n",
              "/* Span, style for the box shown on hovering the info icon */\n",
              ".sk-estimator-doc-link span {\n",
              "  display: none;\n",
              "  z-index: 9999;\n",
              "  position: relative;\n",
              "  font-weight: normal;\n",
              "  right: .2ex;\n",
              "  padding: .5ex;\n",
              "  margin: .5ex;\n",
              "  width: min-content;\n",
              "  min-width: 20ex;\n",
              "  max-width: 50ex;\n",
              "  color: var(--sklearn-color-text);\n",
              "  box-shadow: 2pt 2pt 4pt #999;\n",
              "  /* unfitted */\n",
              "  background: var(--sklearn-color-unfitted-level-0);\n",
              "  border: .5pt solid var(--sklearn-color-unfitted-level-3);\n",
              "}\n",
              "\n",
              ".sk-estimator-doc-link.fitted span {\n",
              "  /* fitted */\n",
              "  background: var(--sklearn-color-fitted-level-0);\n",
              "  border: var(--sklearn-color-fitted-level-3);\n",
              "}\n",
              "\n",
              ".sk-estimator-doc-link:hover span {\n",
              "  display: block;\n",
              "}\n",
              "\n",
              "/* \"?\"-specific style due to the `<a>` HTML tag */\n",
              "\n",
              "#sk-container-id-1 a.estimator_doc_link {\n",
              "  float: right;\n",
              "  font-size: 1rem;\n",
              "  line-height: 1em;\n",
              "  font-family: monospace;\n",
              "  background-color: var(--sklearn-color-background);\n",
              "  border-radius: 1rem;\n",
              "  height: 1rem;\n",
              "  width: 1rem;\n",
              "  text-decoration: none;\n",
              "  /* unfitted */\n",
              "  color: var(--sklearn-color-unfitted-level-1);\n",
              "  border: var(--sklearn-color-unfitted-level-1) 1pt solid;\n",
              "}\n",
              "\n",
              "#sk-container-id-1 a.estimator_doc_link.fitted {\n",
              "  /* fitted */\n",
              "  border: var(--sklearn-color-fitted-level-1) 1pt solid;\n",
              "  color: var(--sklearn-color-fitted-level-1);\n",
              "}\n",
              "\n",
              "/* On hover */\n",
              "#sk-container-id-1 a.estimator_doc_link:hover {\n",
              "  /* unfitted */\n",
              "  background-color: var(--sklearn-color-unfitted-level-3);\n",
              "  color: var(--sklearn-color-background);\n",
              "  text-decoration: none;\n",
              "}\n",
              "\n",
              "#sk-container-id-1 a.estimator_doc_link.fitted:hover {\n",
              "  /* fitted */\n",
              "  background-color: var(--sklearn-color-fitted-level-3);\n",
              "}\n",
              "</style><div id=\"sk-container-id-1\" class=\"sk-top-container\"><div class=\"sk-text-repr-fallback\"><pre>Pipeline(steps=[(&#x27;simpleimputer&#x27;, SimpleImputer()),\n",
              "                (&#x27;standardscaler&#x27;, StandardScaler()),\n",
              "                (&#x27;pca&#x27;, PCA(n_components=100)),\n",
              "                (&#x27;logisticregression&#x27;, LogisticRegression(C=1))])</pre><b>In a Jupyter environment, please rerun this cell to show the HTML representation or trust the notebook. <br />On GitHub, the HTML representation is unable to render, please try loading this page with nbviewer.org.</b></div><div class=\"sk-container\" hidden><div class=\"sk-item sk-dashed-wrapped\"><div class=\"sk-label-container\"><div class=\"sk-label fitted sk-toggleable\"><input class=\"sk-toggleable__control sk-hidden--visually\" id=\"sk-estimator-id-1\" type=\"checkbox\" ><label for=\"sk-estimator-id-1\" class=\"sk-toggleable__label fitted sk-toggleable__label-arrow fitted\">&nbsp;&nbsp;Pipeline<a class=\"sk-estimator-doc-link fitted\" rel=\"noreferrer\" target=\"_blank\" href=\"https://scikit-learn.org/1.5/modules/generated/sklearn.pipeline.Pipeline.html\">?<span>Documentation for Pipeline</span></a><span class=\"sk-estimator-doc-link fitted\">i<span>Fitted</span></span></label><div class=\"sk-toggleable__content fitted\"><pre>Pipeline(steps=[(&#x27;simpleimputer&#x27;, SimpleImputer()),\n",
              "                (&#x27;standardscaler&#x27;, StandardScaler()),\n",
              "                (&#x27;pca&#x27;, PCA(n_components=100)),\n",
              "                (&#x27;logisticregression&#x27;, LogisticRegression(C=1))])</pre></div> </div></div><div class=\"sk-serial\"><div class=\"sk-item\"><div class=\"sk-estimator fitted sk-toggleable\"><input class=\"sk-toggleable__control sk-hidden--visually\" id=\"sk-estimator-id-2\" type=\"checkbox\" ><label for=\"sk-estimator-id-2\" class=\"sk-toggleable__label fitted sk-toggleable__label-arrow fitted\">&nbsp;SimpleImputer<a class=\"sk-estimator-doc-link fitted\" rel=\"noreferrer\" target=\"_blank\" href=\"https://scikit-learn.org/1.5/modules/generated/sklearn.impute.SimpleImputer.html\">?<span>Documentation for SimpleImputer</span></a></label><div class=\"sk-toggleable__content fitted\"><pre>SimpleImputer()</pre></div> </div></div><div class=\"sk-item\"><div class=\"sk-estimator fitted sk-toggleable\"><input class=\"sk-toggleable__control sk-hidden--visually\" id=\"sk-estimator-id-3\" type=\"checkbox\" ><label for=\"sk-estimator-id-3\" class=\"sk-toggleable__label fitted sk-toggleable__label-arrow fitted\">&nbsp;StandardScaler<a class=\"sk-estimator-doc-link fitted\" rel=\"noreferrer\" target=\"_blank\" href=\"https://scikit-learn.org/1.5/modules/generated/sklearn.preprocessing.StandardScaler.html\">?<span>Documentation for StandardScaler</span></a></label><div class=\"sk-toggleable__content fitted\"><pre>StandardScaler()</pre></div> </div></div><div class=\"sk-item\"><div class=\"sk-estimator fitted sk-toggleable\"><input class=\"sk-toggleable__control sk-hidden--visually\" id=\"sk-estimator-id-4\" type=\"checkbox\" ><label for=\"sk-estimator-id-4\" class=\"sk-toggleable__label fitted sk-toggleable__label-arrow fitted\">&nbsp;PCA<a class=\"sk-estimator-doc-link fitted\" rel=\"noreferrer\" target=\"_blank\" href=\"https://scikit-learn.org/1.5/modules/generated/sklearn.decomposition.PCA.html\">?<span>Documentation for PCA</span></a></label><div class=\"sk-toggleable__content fitted\"><pre>PCA(n_components=100)</pre></div> </div></div><div class=\"sk-item\"><div class=\"sk-estimator fitted sk-toggleable\"><input class=\"sk-toggleable__control sk-hidden--visually\" id=\"sk-estimator-id-5\" type=\"checkbox\" ><label for=\"sk-estimator-id-5\" class=\"sk-toggleable__label fitted sk-toggleable__label-arrow fitted\">&nbsp;LogisticRegression<a class=\"sk-estimator-doc-link fitted\" rel=\"noreferrer\" target=\"_blank\" href=\"https://scikit-learn.org/1.5/modules/generated/sklearn.linear_model.LogisticRegression.html\">?<span>Documentation for LogisticRegression</span></a></label><div class=\"sk-toggleable__content fitted\"><pre>LogisticRegression(C=1)</pre></div> </div></div></div></div></div></div>"
            ]
          },
          "metadata": {},
          "execution_count": 38
        }
      ],
      "source": [
        "# Training a final model (model 7)\n",
        "final_model_7 = make_pipeline(\n",
        "    SimpleImputer(missing_values=np.nan, strategy='mean'),\n",
        "    StandardScaler(),\n",
        "    PCA(n_components=100),\n",
        "    LogisticRegression(penalty='l2', C=1)\n",
        ")\n",
        "\n",
        "final_model_7.fit(X=X_downSampled, y=y_downSampled)"
      ]
    },
    {
      "cell_type": "markdown",
      "id": "1c70c207-8404-4cc2-a7c1-ab0c898aae5a",
      "metadata": {
        "id": "1c70c207-8404-4cc2-a7c1-ab0c898aae5a"
      },
      "source": [
        "### 8 - PCA with nested cross-validation"
      ]
    },
    {
      "cell_type": "markdown",
      "id": "168e93d1-3857-4d1b-91be-e40bddfeec9c",
      "metadata": {
        "id": "168e93d1-3857-4d1b-91be-e40bddfeec9c"
      },
      "source": [
        "There’s two things left to do:\n",
        "1. using nested cross-validation for hyperparameter optimalisation\n",
        "2. training some different classifiers.\n",
        "\n",
        "Let’s focus on nested cross-validation first.\n",
        "* do a RandomizedSearchCV over n_components for the PCA [50, 100, 200, 500] and C for the logistic regression [0.01, 0.1, 1, 10, 100]. ✅\n",
        "* Use an outer_cv of 5, and an inner_cv of 3. ✅\n",
        "* In your notebook, again report the average F1 macro and ROC AUC OvR over outer folds. ✅\n",
        "\n",
        "Finally,\n",
        "* train a classifier on all the train data using the best hyperparameters (take the average of the ones used in the outer folds), and ✅\n",
        "* make your predictions on the test set. ❌ (dieter said not to do it)"
      ]
    },
    {
      "cell_type": "code",
      "execution_count": 39,
      "id": "2150f747-9197-4047-98a3-a47ebd5ee25f",
      "metadata": {
        "id": "2150f747-9197-4047-98a3-a47ebd5ee25f"
      },
      "outputs": [],
      "source": [
        "# Define values for the nested cross-validation and hyperparameters tuning\n",
        "pca_vals = [50, 100, 200, 500]\n",
        "c_vals = [0.01, 0.1, 1, 10, 100]\n",
        "outer_cv = StratifiedKFold(n_splits=5, shuffle=True, random_state=global_seed)\n",
        "inner_cv = StratifiedKFold(n_splits=3, shuffle=True, random_state=global_seed)\n",
        "\n",
        "grid = {\"pca__n_components\": pca_vals, \"logisticregression__C\": c_vals}\n",
        "\n",
        "# Build the pipeline for our model\n",
        "imputer_8 = SimpleImputer(missing_values=np.nan, strategy='mean')\n",
        "scaler_8 = StandardScaler()\n",
        "pca_8 = PCA()\n",
        "log_regressor_8 = LogisticRegression(penalty='l2')\n",
        "\n",
        "model_8 = make_pipeline(imputer_8, scaler_8, pca_8, log_regressor_8)\n",
        "\n",
        "# train model - perform nested cross validation with random search for hyperparameter tuning\n",
        "cv_search = RandomizedSearchCV(estimator=model_8, cv=inner_cv, param_distributions=grid,\n",
        "                               refit=True, n_jobs=-1, n_iter=10)\n",
        "\n",
        "cv_result_8 = cross_validate(cv_search, X=X_downSampled, y=y_downSampled, cv=outer_cv,\n",
        "                             scoring=['accuracy', 'f1_macro', 'roc_auc_ovr'],\n",
        "                             return_estimator=True)"
      ]
    },
    {
      "cell_type": "code",
      "execution_count": 40,
      "id": "2896456c-7295-4d22-b196-9c9f5f93803b",
      "metadata": {
        "colab": {
          "base_uri": "https://localhost:8080/"
        },
        "id": "2896456c-7295-4d22-b196-9c9f5f93803b",
        "outputId": "d1a45dfb-5299-476e-bd0c-fe66c18358e3"
      },
      "outputs": [
        {
          "output_type": "stream",
          "name": "stdout",
          "text": [
            "Average accuracy of model across folds: 0.678\n",
            "Average Macro F1 score of model across folds: 0.678\n",
            "Average OvR AUC score of model across folds: 0.889\n"
          ]
        }
      ],
      "source": [
        "# validate model:\n",
        "# calculate the average scores for accuracy, Macro F1 and ROC AUC Ovr, across all folds\n",
        "print(f\"Average accuracy of model across folds: {np.mean(cv_result_8['test_accuracy']):0.03}\")\n",
        "print(f\"Average Macro F1 score of model across folds: {np.mean(cv_result_8['test_f1_macro']):0.03}\")\n",
        "print(f\"Average OvR AUC score of model across folds: {np.mean(cv_result_8['test_roc_auc_ovr']):0.03}\")"
      ]
    },
    {
      "cell_type": "code",
      "execution_count": 41,
      "id": "f1f12e67-25ba-40b8-ac12-47cdf80c053f",
      "metadata": {
        "colab": {
          "base_uri": "https://localhost:8080/"
        },
        "id": "f1f12e67-25ba-40b8-ac12-47cdf80c053f",
        "outputId": "eeeb42b0-f033-404b-88eb-1d9858519c6f"
      },
      "outputs": [
        {
          "output_type": "stream",
          "name": "stdout",
          "text": [
            "# Best parameters for fold 0:\n",
            "{'pca__n_components': 500, 'logisticregression__C': 0.01}\n",
            "# Best parameters for fold 1:\n",
            "{'pca__n_components': 200, 'logisticregression__C': 0.01}\n",
            "# Best parameters for fold 2:\n",
            "{'pca__n_components': 100, 'logisticregression__C': 10}\n",
            "# Best parameters for fold 3:\n",
            "{'pca__n_components': 100, 'logisticregression__C': 0.01}\n",
            "# Best parameters for fold 4:\n",
            "{'pca__n_components': 200, 'logisticregression__C': 0.01}\n"
          ]
        }
      ],
      "source": [
        "# Viewing best performing parameters for each of the our folds\n",
        "for outer_i in range(5):\n",
        "    print(f\"# Best parameters for fold {outer_i}:\")\n",
        "    print(cv_result_8['estimator'][outer_i].best_params_)"
      ]
    },
    {
      "cell_type": "code",
      "execution_count": 42,
      "id": "bb0821f4-9579-4b73-81ee-713d98ef65b7",
      "metadata": {
        "colab": {
          "base_uri": "https://localhost:8080/",
          "height": 224
        },
        "id": "bb0821f4-9579-4b73-81ee-713d98ef65b7",
        "outputId": "df775ac8-fef3-4637-8243-09c03fa80c54"
      },
      "outputs": [
        {
          "output_type": "execute_result",
          "data": {
            "text/plain": [
              "Pipeline(steps=[('simpleimputer', SimpleImputer()),\n",
              "                ('standardscaler', StandardScaler()),\n",
              "                ('pca', PCA(n_components=220)),\n",
              "                ('logisticregression', LogisticRegression(C=2.008))])"
            ],
            "text/html": [
              "<style>#sk-container-id-2 {\n",
              "  /* Definition of color scheme common for light and dark mode */\n",
              "  --sklearn-color-text: black;\n",
              "  --sklearn-color-line: gray;\n",
              "  /* Definition of color scheme for unfitted estimators */\n",
              "  --sklearn-color-unfitted-level-0: #fff5e6;\n",
              "  --sklearn-color-unfitted-level-1: #f6e4d2;\n",
              "  --sklearn-color-unfitted-level-2: #ffe0b3;\n",
              "  --sklearn-color-unfitted-level-3: chocolate;\n",
              "  /* Definition of color scheme for fitted estimators */\n",
              "  --sklearn-color-fitted-level-0: #f0f8ff;\n",
              "  --sklearn-color-fitted-level-1: #d4ebff;\n",
              "  --sklearn-color-fitted-level-2: #b3dbfd;\n",
              "  --sklearn-color-fitted-level-3: cornflowerblue;\n",
              "\n",
              "  /* Specific color for light theme */\n",
              "  --sklearn-color-text-on-default-background: var(--sg-text-color, var(--theme-code-foreground, var(--jp-content-font-color1, black)));\n",
              "  --sklearn-color-background: var(--sg-background-color, var(--theme-background, var(--jp-layout-color0, white)));\n",
              "  --sklearn-color-border-box: var(--sg-text-color, var(--theme-code-foreground, var(--jp-content-font-color1, black)));\n",
              "  --sklearn-color-icon: #696969;\n",
              "\n",
              "  @media (prefers-color-scheme: dark) {\n",
              "    /* Redefinition of color scheme for dark theme */\n",
              "    --sklearn-color-text-on-default-background: var(--sg-text-color, var(--theme-code-foreground, var(--jp-content-font-color1, white)));\n",
              "    --sklearn-color-background: var(--sg-background-color, var(--theme-background, var(--jp-layout-color0, #111)));\n",
              "    --sklearn-color-border-box: var(--sg-text-color, var(--theme-code-foreground, var(--jp-content-font-color1, white)));\n",
              "    --sklearn-color-icon: #878787;\n",
              "  }\n",
              "}\n",
              "\n",
              "#sk-container-id-2 {\n",
              "  color: var(--sklearn-color-text);\n",
              "}\n",
              "\n",
              "#sk-container-id-2 pre {\n",
              "  padding: 0;\n",
              "}\n",
              "\n",
              "#sk-container-id-2 input.sk-hidden--visually {\n",
              "  border: 0;\n",
              "  clip: rect(1px 1px 1px 1px);\n",
              "  clip: rect(1px, 1px, 1px, 1px);\n",
              "  height: 1px;\n",
              "  margin: -1px;\n",
              "  overflow: hidden;\n",
              "  padding: 0;\n",
              "  position: absolute;\n",
              "  width: 1px;\n",
              "}\n",
              "\n",
              "#sk-container-id-2 div.sk-dashed-wrapped {\n",
              "  border: 1px dashed var(--sklearn-color-line);\n",
              "  margin: 0 0.4em 0.5em 0.4em;\n",
              "  box-sizing: border-box;\n",
              "  padding-bottom: 0.4em;\n",
              "  background-color: var(--sklearn-color-background);\n",
              "}\n",
              "\n",
              "#sk-container-id-2 div.sk-container {\n",
              "  /* jupyter's `normalize.less` sets `[hidden] { display: none; }`\n",
              "     but bootstrap.min.css set `[hidden] { display: none !important; }`\n",
              "     so we also need the `!important` here to be able to override the\n",
              "     default hidden behavior on the sphinx rendered scikit-learn.org.\n",
              "     See: https://github.com/scikit-learn/scikit-learn/issues/21755 */\n",
              "  display: inline-block !important;\n",
              "  position: relative;\n",
              "}\n",
              "\n",
              "#sk-container-id-2 div.sk-text-repr-fallback {\n",
              "  display: none;\n",
              "}\n",
              "\n",
              "div.sk-parallel-item,\n",
              "div.sk-serial,\n",
              "div.sk-item {\n",
              "  /* draw centered vertical line to link estimators */\n",
              "  background-image: linear-gradient(var(--sklearn-color-text-on-default-background), var(--sklearn-color-text-on-default-background));\n",
              "  background-size: 2px 100%;\n",
              "  background-repeat: no-repeat;\n",
              "  background-position: center center;\n",
              "}\n",
              "\n",
              "/* Parallel-specific style estimator block */\n",
              "\n",
              "#sk-container-id-2 div.sk-parallel-item::after {\n",
              "  content: \"\";\n",
              "  width: 100%;\n",
              "  border-bottom: 2px solid var(--sklearn-color-text-on-default-background);\n",
              "  flex-grow: 1;\n",
              "}\n",
              "\n",
              "#sk-container-id-2 div.sk-parallel {\n",
              "  display: flex;\n",
              "  align-items: stretch;\n",
              "  justify-content: center;\n",
              "  background-color: var(--sklearn-color-background);\n",
              "  position: relative;\n",
              "}\n",
              "\n",
              "#sk-container-id-2 div.sk-parallel-item {\n",
              "  display: flex;\n",
              "  flex-direction: column;\n",
              "}\n",
              "\n",
              "#sk-container-id-2 div.sk-parallel-item:first-child::after {\n",
              "  align-self: flex-end;\n",
              "  width: 50%;\n",
              "}\n",
              "\n",
              "#sk-container-id-2 div.sk-parallel-item:last-child::after {\n",
              "  align-self: flex-start;\n",
              "  width: 50%;\n",
              "}\n",
              "\n",
              "#sk-container-id-2 div.sk-parallel-item:only-child::after {\n",
              "  width: 0;\n",
              "}\n",
              "\n",
              "/* Serial-specific style estimator block */\n",
              "\n",
              "#sk-container-id-2 div.sk-serial {\n",
              "  display: flex;\n",
              "  flex-direction: column;\n",
              "  align-items: center;\n",
              "  background-color: var(--sklearn-color-background);\n",
              "  padding-right: 1em;\n",
              "  padding-left: 1em;\n",
              "}\n",
              "\n",
              "\n",
              "/* Toggleable style: style used for estimator/Pipeline/ColumnTransformer box that is\n",
              "clickable and can be expanded/collapsed.\n",
              "- Pipeline and ColumnTransformer use this feature and define the default style\n",
              "- Estimators will overwrite some part of the style using the `sk-estimator` class\n",
              "*/\n",
              "\n",
              "/* Pipeline and ColumnTransformer style (default) */\n",
              "\n",
              "#sk-container-id-2 div.sk-toggleable {\n",
              "  /* Default theme specific background. It is overwritten whether we have a\n",
              "  specific estimator or a Pipeline/ColumnTransformer */\n",
              "  background-color: var(--sklearn-color-background);\n",
              "}\n",
              "\n",
              "/* Toggleable label */\n",
              "#sk-container-id-2 label.sk-toggleable__label {\n",
              "  cursor: pointer;\n",
              "  display: block;\n",
              "  width: 100%;\n",
              "  margin-bottom: 0;\n",
              "  padding: 0.5em;\n",
              "  box-sizing: border-box;\n",
              "  text-align: center;\n",
              "}\n",
              "\n",
              "#sk-container-id-2 label.sk-toggleable__label-arrow:before {\n",
              "  /* Arrow on the left of the label */\n",
              "  content: \"▸\";\n",
              "  float: left;\n",
              "  margin-right: 0.25em;\n",
              "  color: var(--sklearn-color-icon);\n",
              "}\n",
              "\n",
              "#sk-container-id-2 label.sk-toggleable__label-arrow:hover:before {\n",
              "  color: var(--sklearn-color-text);\n",
              "}\n",
              "\n",
              "/* Toggleable content - dropdown */\n",
              "\n",
              "#sk-container-id-2 div.sk-toggleable__content {\n",
              "  max-height: 0;\n",
              "  max-width: 0;\n",
              "  overflow: hidden;\n",
              "  text-align: left;\n",
              "  /* unfitted */\n",
              "  background-color: var(--sklearn-color-unfitted-level-0);\n",
              "}\n",
              "\n",
              "#sk-container-id-2 div.sk-toggleable__content.fitted {\n",
              "  /* fitted */\n",
              "  background-color: var(--sklearn-color-fitted-level-0);\n",
              "}\n",
              "\n",
              "#sk-container-id-2 div.sk-toggleable__content pre {\n",
              "  margin: 0.2em;\n",
              "  border-radius: 0.25em;\n",
              "  color: var(--sklearn-color-text);\n",
              "  /* unfitted */\n",
              "  background-color: var(--sklearn-color-unfitted-level-0);\n",
              "}\n",
              "\n",
              "#sk-container-id-2 div.sk-toggleable__content.fitted pre {\n",
              "  /* unfitted */\n",
              "  background-color: var(--sklearn-color-fitted-level-0);\n",
              "}\n",
              "\n",
              "#sk-container-id-2 input.sk-toggleable__control:checked~div.sk-toggleable__content {\n",
              "  /* Expand drop-down */\n",
              "  max-height: 200px;\n",
              "  max-width: 100%;\n",
              "  overflow: auto;\n",
              "}\n",
              "\n",
              "#sk-container-id-2 input.sk-toggleable__control:checked~label.sk-toggleable__label-arrow:before {\n",
              "  content: \"▾\";\n",
              "}\n",
              "\n",
              "/* Pipeline/ColumnTransformer-specific style */\n",
              "\n",
              "#sk-container-id-2 div.sk-label input.sk-toggleable__control:checked~label.sk-toggleable__label {\n",
              "  color: var(--sklearn-color-text);\n",
              "  background-color: var(--sklearn-color-unfitted-level-2);\n",
              "}\n",
              "\n",
              "#sk-container-id-2 div.sk-label.fitted input.sk-toggleable__control:checked~label.sk-toggleable__label {\n",
              "  background-color: var(--sklearn-color-fitted-level-2);\n",
              "}\n",
              "\n",
              "/* Estimator-specific style */\n",
              "\n",
              "/* Colorize estimator box */\n",
              "#sk-container-id-2 div.sk-estimator input.sk-toggleable__control:checked~label.sk-toggleable__label {\n",
              "  /* unfitted */\n",
              "  background-color: var(--sklearn-color-unfitted-level-2);\n",
              "}\n",
              "\n",
              "#sk-container-id-2 div.sk-estimator.fitted input.sk-toggleable__control:checked~label.sk-toggleable__label {\n",
              "  /* fitted */\n",
              "  background-color: var(--sklearn-color-fitted-level-2);\n",
              "}\n",
              "\n",
              "#sk-container-id-2 div.sk-label label.sk-toggleable__label,\n",
              "#sk-container-id-2 div.sk-label label {\n",
              "  /* The background is the default theme color */\n",
              "  color: var(--sklearn-color-text-on-default-background);\n",
              "}\n",
              "\n",
              "/* On hover, darken the color of the background */\n",
              "#sk-container-id-2 div.sk-label:hover label.sk-toggleable__label {\n",
              "  color: var(--sklearn-color-text);\n",
              "  background-color: var(--sklearn-color-unfitted-level-2);\n",
              "}\n",
              "\n",
              "/* Label box, darken color on hover, fitted */\n",
              "#sk-container-id-2 div.sk-label.fitted:hover label.sk-toggleable__label.fitted {\n",
              "  color: var(--sklearn-color-text);\n",
              "  background-color: var(--sklearn-color-fitted-level-2);\n",
              "}\n",
              "\n",
              "/* Estimator label */\n",
              "\n",
              "#sk-container-id-2 div.sk-label label {\n",
              "  font-family: monospace;\n",
              "  font-weight: bold;\n",
              "  display: inline-block;\n",
              "  line-height: 1.2em;\n",
              "}\n",
              "\n",
              "#sk-container-id-2 div.sk-label-container {\n",
              "  text-align: center;\n",
              "}\n",
              "\n",
              "/* Estimator-specific */\n",
              "#sk-container-id-2 div.sk-estimator {\n",
              "  font-family: monospace;\n",
              "  border: 1px dotted var(--sklearn-color-border-box);\n",
              "  border-radius: 0.25em;\n",
              "  box-sizing: border-box;\n",
              "  margin-bottom: 0.5em;\n",
              "  /* unfitted */\n",
              "  background-color: var(--sklearn-color-unfitted-level-0);\n",
              "}\n",
              "\n",
              "#sk-container-id-2 div.sk-estimator.fitted {\n",
              "  /* fitted */\n",
              "  background-color: var(--sklearn-color-fitted-level-0);\n",
              "}\n",
              "\n",
              "/* on hover */\n",
              "#sk-container-id-2 div.sk-estimator:hover {\n",
              "  /* unfitted */\n",
              "  background-color: var(--sklearn-color-unfitted-level-2);\n",
              "}\n",
              "\n",
              "#sk-container-id-2 div.sk-estimator.fitted:hover {\n",
              "  /* fitted */\n",
              "  background-color: var(--sklearn-color-fitted-level-2);\n",
              "}\n",
              "\n",
              "/* Specification for estimator info (e.g. \"i\" and \"?\") */\n",
              "\n",
              "/* Common style for \"i\" and \"?\" */\n",
              "\n",
              ".sk-estimator-doc-link,\n",
              "a:link.sk-estimator-doc-link,\n",
              "a:visited.sk-estimator-doc-link {\n",
              "  float: right;\n",
              "  font-size: smaller;\n",
              "  line-height: 1em;\n",
              "  font-family: monospace;\n",
              "  background-color: var(--sklearn-color-background);\n",
              "  border-radius: 1em;\n",
              "  height: 1em;\n",
              "  width: 1em;\n",
              "  text-decoration: none !important;\n",
              "  margin-left: 1ex;\n",
              "  /* unfitted */\n",
              "  border: var(--sklearn-color-unfitted-level-1) 1pt solid;\n",
              "  color: var(--sklearn-color-unfitted-level-1);\n",
              "}\n",
              "\n",
              ".sk-estimator-doc-link.fitted,\n",
              "a:link.sk-estimator-doc-link.fitted,\n",
              "a:visited.sk-estimator-doc-link.fitted {\n",
              "  /* fitted */\n",
              "  border: var(--sklearn-color-fitted-level-1) 1pt solid;\n",
              "  color: var(--sklearn-color-fitted-level-1);\n",
              "}\n",
              "\n",
              "/* On hover */\n",
              "div.sk-estimator:hover .sk-estimator-doc-link:hover,\n",
              ".sk-estimator-doc-link:hover,\n",
              "div.sk-label-container:hover .sk-estimator-doc-link:hover,\n",
              ".sk-estimator-doc-link:hover {\n",
              "  /* unfitted */\n",
              "  background-color: var(--sklearn-color-unfitted-level-3);\n",
              "  color: var(--sklearn-color-background);\n",
              "  text-decoration: none;\n",
              "}\n",
              "\n",
              "div.sk-estimator.fitted:hover .sk-estimator-doc-link.fitted:hover,\n",
              ".sk-estimator-doc-link.fitted:hover,\n",
              "div.sk-label-container:hover .sk-estimator-doc-link.fitted:hover,\n",
              ".sk-estimator-doc-link.fitted:hover {\n",
              "  /* fitted */\n",
              "  background-color: var(--sklearn-color-fitted-level-3);\n",
              "  color: var(--sklearn-color-background);\n",
              "  text-decoration: none;\n",
              "}\n",
              "\n",
              "/* Span, style for the box shown on hovering the info icon */\n",
              ".sk-estimator-doc-link span {\n",
              "  display: none;\n",
              "  z-index: 9999;\n",
              "  position: relative;\n",
              "  font-weight: normal;\n",
              "  right: .2ex;\n",
              "  padding: .5ex;\n",
              "  margin: .5ex;\n",
              "  width: min-content;\n",
              "  min-width: 20ex;\n",
              "  max-width: 50ex;\n",
              "  color: var(--sklearn-color-text);\n",
              "  box-shadow: 2pt 2pt 4pt #999;\n",
              "  /* unfitted */\n",
              "  background: var(--sklearn-color-unfitted-level-0);\n",
              "  border: .5pt solid var(--sklearn-color-unfitted-level-3);\n",
              "}\n",
              "\n",
              ".sk-estimator-doc-link.fitted span {\n",
              "  /* fitted */\n",
              "  background: var(--sklearn-color-fitted-level-0);\n",
              "  border: var(--sklearn-color-fitted-level-3);\n",
              "}\n",
              "\n",
              ".sk-estimator-doc-link:hover span {\n",
              "  display: block;\n",
              "}\n",
              "\n",
              "/* \"?\"-specific style due to the `<a>` HTML tag */\n",
              "\n",
              "#sk-container-id-2 a.estimator_doc_link {\n",
              "  float: right;\n",
              "  font-size: 1rem;\n",
              "  line-height: 1em;\n",
              "  font-family: monospace;\n",
              "  background-color: var(--sklearn-color-background);\n",
              "  border-radius: 1rem;\n",
              "  height: 1rem;\n",
              "  width: 1rem;\n",
              "  text-decoration: none;\n",
              "  /* unfitted */\n",
              "  color: var(--sklearn-color-unfitted-level-1);\n",
              "  border: var(--sklearn-color-unfitted-level-1) 1pt solid;\n",
              "}\n",
              "\n",
              "#sk-container-id-2 a.estimator_doc_link.fitted {\n",
              "  /* fitted */\n",
              "  border: var(--sklearn-color-fitted-level-1) 1pt solid;\n",
              "  color: var(--sklearn-color-fitted-level-1);\n",
              "}\n",
              "\n",
              "/* On hover */\n",
              "#sk-container-id-2 a.estimator_doc_link:hover {\n",
              "  /* unfitted */\n",
              "  background-color: var(--sklearn-color-unfitted-level-3);\n",
              "  color: var(--sklearn-color-background);\n",
              "  text-decoration: none;\n",
              "}\n",
              "\n",
              "#sk-container-id-2 a.estimator_doc_link.fitted:hover {\n",
              "  /* fitted */\n",
              "  background-color: var(--sklearn-color-fitted-level-3);\n",
              "}\n",
              "</style><div id=\"sk-container-id-2\" class=\"sk-top-container\"><div class=\"sk-text-repr-fallback\"><pre>Pipeline(steps=[(&#x27;simpleimputer&#x27;, SimpleImputer()),\n",
              "                (&#x27;standardscaler&#x27;, StandardScaler()),\n",
              "                (&#x27;pca&#x27;, PCA(n_components=220)),\n",
              "                (&#x27;logisticregression&#x27;, LogisticRegression(C=2.008))])</pre><b>In a Jupyter environment, please rerun this cell to show the HTML representation or trust the notebook. <br />On GitHub, the HTML representation is unable to render, please try loading this page with nbviewer.org.</b></div><div class=\"sk-container\" hidden><div class=\"sk-item sk-dashed-wrapped\"><div class=\"sk-label-container\"><div class=\"sk-label fitted sk-toggleable\"><input class=\"sk-toggleable__control sk-hidden--visually\" id=\"sk-estimator-id-6\" type=\"checkbox\" ><label for=\"sk-estimator-id-6\" class=\"sk-toggleable__label fitted sk-toggleable__label-arrow fitted\">&nbsp;&nbsp;Pipeline<a class=\"sk-estimator-doc-link fitted\" rel=\"noreferrer\" target=\"_blank\" href=\"https://scikit-learn.org/1.5/modules/generated/sklearn.pipeline.Pipeline.html\">?<span>Documentation for Pipeline</span></a><span class=\"sk-estimator-doc-link fitted\">i<span>Fitted</span></span></label><div class=\"sk-toggleable__content fitted\"><pre>Pipeline(steps=[(&#x27;simpleimputer&#x27;, SimpleImputer()),\n",
              "                (&#x27;standardscaler&#x27;, StandardScaler()),\n",
              "                (&#x27;pca&#x27;, PCA(n_components=220)),\n",
              "                (&#x27;logisticregression&#x27;, LogisticRegression(C=2.008))])</pre></div> </div></div><div class=\"sk-serial\"><div class=\"sk-item\"><div class=\"sk-estimator fitted sk-toggleable\"><input class=\"sk-toggleable__control sk-hidden--visually\" id=\"sk-estimator-id-7\" type=\"checkbox\" ><label for=\"sk-estimator-id-7\" class=\"sk-toggleable__label fitted sk-toggleable__label-arrow fitted\">&nbsp;SimpleImputer<a class=\"sk-estimator-doc-link fitted\" rel=\"noreferrer\" target=\"_blank\" href=\"https://scikit-learn.org/1.5/modules/generated/sklearn.impute.SimpleImputer.html\">?<span>Documentation for SimpleImputer</span></a></label><div class=\"sk-toggleable__content fitted\"><pre>SimpleImputer()</pre></div> </div></div><div class=\"sk-item\"><div class=\"sk-estimator fitted sk-toggleable\"><input class=\"sk-toggleable__control sk-hidden--visually\" id=\"sk-estimator-id-8\" type=\"checkbox\" ><label for=\"sk-estimator-id-8\" class=\"sk-toggleable__label fitted sk-toggleable__label-arrow fitted\">&nbsp;StandardScaler<a class=\"sk-estimator-doc-link fitted\" rel=\"noreferrer\" target=\"_blank\" href=\"https://scikit-learn.org/1.5/modules/generated/sklearn.preprocessing.StandardScaler.html\">?<span>Documentation for StandardScaler</span></a></label><div class=\"sk-toggleable__content fitted\"><pre>StandardScaler()</pre></div> </div></div><div class=\"sk-item\"><div class=\"sk-estimator fitted sk-toggleable\"><input class=\"sk-toggleable__control sk-hidden--visually\" id=\"sk-estimator-id-9\" type=\"checkbox\" ><label for=\"sk-estimator-id-9\" class=\"sk-toggleable__label fitted sk-toggleable__label-arrow fitted\">&nbsp;PCA<a class=\"sk-estimator-doc-link fitted\" rel=\"noreferrer\" target=\"_blank\" href=\"https://scikit-learn.org/1.5/modules/generated/sklearn.decomposition.PCA.html\">?<span>Documentation for PCA</span></a></label><div class=\"sk-toggleable__content fitted\"><pre>PCA(n_components=220)</pre></div> </div></div><div class=\"sk-item\"><div class=\"sk-estimator fitted sk-toggleable\"><input class=\"sk-toggleable__control sk-hidden--visually\" id=\"sk-estimator-id-10\" type=\"checkbox\" ><label for=\"sk-estimator-id-10\" class=\"sk-toggleable__label fitted sk-toggleable__label-arrow fitted\">&nbsp;LogisticRegression<a class=\"sk-estimator-doc-link fitted\" rel=\"noreferrer\" target=\"_blank\" href=\"https://scikit-learn.org/1.5/modules/generated/sklearn.linear_model.LogisticRegression.html\">?<span>Documentation for LogisticRegression</span></a></label><div class=\"sk-toggleable__content fitted\"><pre>LogisticRegression(C=2.008)</pre></div> </div></div></div></div></div></div>"
            ]
          },
          "metadata": {},
          "execution_count": 42
        }
      ],
      "source": [
        "# Get hyperparameters for final model (model 8)\n",
        "# These are the best perfoeming parameters for each of the inner folds\n",
        "# Taking the average of the parameters used in the outer folds as instructed, but then\n",
        "# rounding the value of n_components since it should be of type int.\n",
        "n_components = np.round(np.mean([cv_result_8['estimator'][outer_i].best_params_['pca__n_components'] for outer_i in range(5)])).astype(np.int64)\n",
        "c = np.mean([cv_result_8['estimator'][outer_i].best_params_['logisticregression__C'] for outer_i in range(5)])\n",
        "\n",
        "# Training a final model (for model 8)\n",
        "final_model_8 = make_pipeline(\n",
        "    SimpleImputer(missing_values=np.nan, strategy='mean'),\n",
        "    StandardScaler(),\n",
        "    PCA(n_components=int(n_components)),\n",
        "    LogisticRegression(penalty='l2', C=c)\n",
        ")\n",
        "\n",
        "final_model_8.fit(X=X_downSampled, y=y_downSampled)"
      ]
    },
    {
      "cell_type": "markdown",
      "id": "b188bf52",
      "metadata": {
        "id": "b188bf52"
      },
      "source": [
        "#### **Extra** (model 8_2)"
      ]
    },
    {
      "cell_type": "markdown",
      "id": "afa9951b",
      "metadata": {
        "id": "afa9951b"
      },
      "source": [
        "**NOTE - it takes a very long time to run (~80 minutes!!), so you don't have to run it :)**"
      ]
    },
    {
      "cell_type": "markdown",
      "id": "818d2b13",
      "metadata": {
        "id": "818d2b13"
      },
      "source": [
        "**further optimizing hyper-parameters and using KNN imputation**\n",
        "\n",
        "As seen before, the KNN imputation has slightly better results than the simple imputation. We will then try to use the KNN imputer, trying to optimize the number of neighbors used using nested cross validation.\n",
        "\n",
        "In addition to that, we would also further optimize the number of components in PCA and the C value in the linear regression. We would test with best performing parameters** as found in model 8, as well as one additional parameter that is between the 2 best parameters from model 8.\n",
        "\n",
        "**To cut back on time and computational power, we would only keep best performing parameters based on model 8 and not all possible parameters."
      ]
    },
    {
      "cell_type": "code",
      "execution_count": 43,
      "id": "89d3a365",
      "metadata": {
        "colab": {
          "base_uri": "https://localhost:8080/",
          "height": 356
        },
        "id": "89d3a365",
        "outputId": "85592c16-5058-4e87-a411-5c9089be23de"
      },
      "outputs": [
        {
          "output_type": "error",
          "ename": "KeyboardInterrupt",
          "evalue": "",
          "traceback": [
            "\u001b[0;31m---------------------------------------------------------------------------\u001b[0m",
            "\u001b[0;31mKeyboardInterrupt\u001b[0m                         Traceback (most recent call last)",
            "\u001b[0;32m<ipython-input-43-bd99bd6665c2>\u001b[0m in \u001b[0;36m<cell line: 0>\u001b[0;34m()\u001b[0m\n\u001b[1;32m     21\u001b[0m                                refit=True, n_jobs=-1, n_iter=10)\n\u001b[1;32m     22\u001b[0m \u001b[0;34m\u001b[0m\u001b[0m\n\u001b[0;32m---> 23\u001b[0;31m cv_result_8_2 = cross_validate(cv_search_8_2, X=X_downSampled, y=y_downSampled, cv=outer_cv,\n\u001b[0m\u001b[1;32m     24\u001b[0m                              \u001b[0mscoring\u001b[0m\u001b[0;34m=\u001b[0m\u001b[0;34m[\u001b[0m\u001b[0;34m'accuracy'\u001b[0m\u001b[0;34m,\u001b[0m \u001b[0;34m'f1_macro'\u001b[0m\u001b[0;34m,\u001b[0m \u001b[0;34m'roc_auc_ovr'\u001b[0m\u001b[0;34m]\u001b[0m\u001b[0;34m,\u001b[0m\u001b[0;34m\u001b[0m\u001b[0;34m\u001b[0m\u001b[0m\n\u001b[1;32m     25\u001b[0m                              return_estimator=True)\n",
            "\u001b[0;32m/usr/local/lib/python3.11/dist-packages/sklearn/utils/_param_validation.py\u001b[0m in \u001b[0;36mwrapper\u001b[0;34m(*args, **kwargs)\u001b[0m\n\u001b[1;32m    211\u001b[0m                     )\n\u001b[1;32m    212\u001b[0m                 ):\n\u001b[0;32m--> 213\u001b[0;31m                     \u001b[0;32mreturn\u001b[0m \u001b[0mfunc\u001b[0m\u001b[0;34m(\u001b[0m\u001b[0;34m*\u001b[0m\u001b[0margs\u001b[0m\u001b[0;34m,\u001b[0m \u001b[0;34m**\u001b[0m\u001b[0mkwargs\u001b[0m\u001b[0;34m)\u001b[0m\u001b[0;34m\u001b[0m\u001b[0;34m\u001b[0m\u001b[0m\n\u001b[0m\u001b[1;32m    214\u001b[0m             \u001b[0;32mexcept\u001b[0m \u001b[0mInvalidParameterError\u001b[0m \u001b[0;32mas\u001b[0m \u001b[0me\u001b[0m\u001b[0;34m:\u001b[0m\u001b[0;34m\u001b[0m\u001b[0;34m\u001b[0m\u001b[0m\n\u001b[1;32m    215\u001b[0m                 \u001b[0;31m# When the function is just a wrapper around an estimator, we allow\u001b[0m\u001b[0;34m\u001b[0m\u001b[0;34m\u001b[0m\u001b[0m\n",
            "\u001b[0;32m/usr/local/lib/python3.11/dist-packages/sklearn/model_selection/_validation.py\u001b[0m in \u001b[0;36mcross_validate\u001b[0;34m(estimator, X, y, groups, scoring, cv, n_jobs, verbose, fit_params, params, pre_dispatch, return_train_score, return_estimator, return_indices, error_score)\u001b[0m\n\u001b[1;32m    421\u001b[0m     \u001b[0;31m# independent, and that it is pickle-able.\u001b[0m\u001b[0;34m\u001b[0m\u001b[0;34m\u001b[0m\u001b[0m\n\u001b[1;32m    422\u001b[0m     \u001b[0mparallel\u001b[0m \u001b[0;34m=\u001b[0m \u001b[0mParallel\u001b[0m\u001b[0;34m(\u001b[0m\u001b[0mn_jobs\u001b[0m\u001b[0;34m=\u001b[0m\u001b[0mn_jobs\u001b[0m\u001b[0;34m,\u001b[0m \u001b[0mverbose\u001b[0m\u001b[0;34m=\u001b[0m\u001b[0mverbose\u001b[0m\u001b[0;34m,\u001b[0m \u001b[0mpre_dispatch\u001b[0m\u001b[0;34m=\u001b[0m\u001b[0mpre_dispatch\u001b[0m\u001b[0;34m)\u001b[0m\u001b[0;34m\u001b[0m\u001b[0;34m\u001b[0m\u001b[0m\n\u001b[0;32m--> 423\u001b[0;31m     results = parallel(\n\u001b[0m\u001b[1;32m    424\u001b[0m         delayed(_fit_and_score)(\n\u001b[1;32m    425\u001b[0m             \u001b[0mclone\u001b[0m\u001b[0;34m(\u001b[0m\u001b[0mestimator\u001b[0m\u001b[0;34m)\u001b[0m\u001b[0;34m,\u001b[0m\u001b[0;34m\u001b[0m\u001b[0;34m\u001b[0m\u001b[0m\n",
            "\u001b[0;32m/usr/local/lib/python3.11/dist-packages/sklearn/utils/parallel.py\u001b[0m in \u001b[0;36m__call__\u001b[0;34m(self, iterable)\u001b[0m\n\u001b[1;32m     72\u001b[0m             \u001b[0;32mfor\u001b[0m \u001b[0mdelayed_func\u001b[0m\u001b[0;34m,\u001b[0m \u001b[0margs\u001b[0m\u001b[0;34m,\u001b[0m \u001b[0mkwargs\u001b[0m \u001b[0;32min\u001b[0m \u001b[0miterable\u001b[0m\u001b[0;34m\u001b[0m\u001b[0;34m\u001b[0m\u001b[0m\n\u001b[1;32m     73\u001b[0m         )\n\u001b[0;32m---> 74\u001b[0;31m         \u001b[0;32mreturn\u001b[0m \u001b[0msuper\u001b[0m\u001b[0;34m(\u001b[0m\u001b[0;34m)\u001b[0m\u001b[0;34m.\u001b[0m\u001b[0m__call__\u001b[0m\u001b[0;34m(\u001b[0m\u001b[0miterable_with_config\u001b[0m\u001b[0;34m)\u001b[0m\u001b[0;34m\u001b[0m\u001b[0;34m\u001b[0m\u001b[0m\n\u001b[0m\u001b[1;32m     75\u001b[0m \u001b[0;34m\u001b[0m\u001b[0m\n\u001b[1;32m     76\u001b[0m \u001b[0;34m\u001b[0m\u001b[0m\n",
            "\u001b[0;32m/usr/local/lib/python3.11/dist-packages/joblib/parallel.py\u001b[0m in \u001b[0;36m__call__\u001b[0;34m(self, iterable)\u001b[0m\n\u001b[1;32m   1916\u001b[0m             \u001b[0moutput\u001b[0m \u001b[0;34m=\u001b[0m \u001b[0mself\u001b[0m\u001b[0;34m.\u001b[0m\u001b[0m_get_sequential_output\u001b[0m\u001b[0;34m(\u001b[0m\u001b[0miterable\u001b[0m\u001b[0;34m)\u001b[0m\u001b[0;34m\u001b[0m\u001b[0;34m\u001b[0m\u001b[0m\n\u001b[1;32m   1917\u001b[0m             \u001b[0mnext\u001b[0m\u001b[0;34m(\u001b[0m\u001b[0moutput\u001b[0m\u001b[0;34m)\u001b[0m\u001b[0;34m\u001b[0m\u001b[0;34m\u001b[0m\u001b[0m\n\u001b[0;32m-> 1918\u001b[0;31m             \u001b[0;32mreturn\u001b[0m \u001b[0moutput\u001b[0m \u001b[0;32mif\u001b[0m \u001b[0mself\u001b[0m\u001b[0;34m.\u001b[0m\u001b[0mreturn_generator\u001b[0m \u001b[0;32melse\u001b[0m \u001b[0mlist\u001b[0m\u001b[0;34m(\u001b[0m\u001b[0moutput\u001b[0m\u001b[0;34m)\u001b[0m\u001b[0;34m\u001b[0m\u001b[0;34m\u001b[0m\u001b[0m\n\u001b[0m\u001b[1;32m   1919\u001b[0m \u001b[0;34m\u001b[0m\u001b[0m\n\u001b[1;32m   1920\u001b[0m         \u001b[0;31m# Let's create an ID that uniquely identifies the current call. If the\u001b[0m\u001b[0;34m\u001b[0m\u001b[0;34m\u001b[0m\u001b[0m\n",
            "\u001b[0;32m/usr/local/lib/python3.11/dist-packages/joblib/parallel.py\u001b[0m in \u001b[0;36m_get_sequential_output\u001b[0;34m(self, iterable)\u001b[0m\n\u001b[1;32m   1845\u001b[0m                 \u001b[0mself\u001b[0m\u001b[0;34m.\u001b[0m\u001b[0mn_dispatched_batches\u001b[0m \u001b[0;34m+=\u001b[0m \u001b[0;36m1\u001b[0m\u001b[0;34m\u001b[0m\u001b[0;34m\u001b[0m\u001b[0m\n\u001b[1;32m   1846\u001b[0m                 \u001b[0mself\u001b[0m\u001b[0;34m.\u001b[0m\u001b[0mn_dispatched_tasks\u001b[0m \u001b[0;34m+=\u001b[0m \u001b[0;36m1\u001b[0m\u001b[0;34m\u001b[0m\u001b[0;34m\u001b[0m\u001b[0m\n\u001b[0;32m-> 1847\u001b[0;31m                 \u001b[0mres\u001b[0m \u001b[0;34m=\u001b[0m \u001b[0mfunc\u001b[0m\u001b[0;34m(\u001b[0m\u001b[0;34m*\u001b[0m\u001b[0margs\u001b[0m\u001b[0;34m,\u001b[0m \u001b[0;34m**\u001b[0m\u001b[0mkwargs\u001b[0m\u001b[0;34m)\u001b[0m\u001b[0;34m\u001b[0m\u001b[0;34m\u001b[0m\u001b[0m\n\u001b[0m\u001b[1;32m   1848\u001b[0m                 \u001b[0mself\u001b[0m\u001b[0;34m.\u001b[0m\u001b[0mn_completed_tasks\u001b[0m \u001b[0;34m+=\u001b[0m \u001b[0;36m1\u001b[0m\u001b[0;34m\u001b[0m\u001b[0;34m\u001b[0m\u001b[0m\n\u001b[1;32m   1849\u001b[0m                 \u001b[0mself\u001b[0m\u001b[0;34m.\u001b[0m\u001b[0mprint_progress\u001b[0m\u001b[0;34m(\u001b[0m\u001b[0;34m)\u001b[0m\u001b[0;34m\u001b[0m\u001b[0;34m\u001b[0m\u001b[0m\n",
            "\u001b[0;32m/usr/local/lib/python3.11/dist-packages/sklearn/utils/parallel.py\u001b[0m in \u001b[0;36m__call__\u001b[0;34m(self, *args, **kwargs)\u001b[0m\n\u001b[1;32m    134\u001b[0m             \u001b[0mconfig\u001b[0m \u001b[0;34m=\u001b[0m \u001b[0;34m{\u001b[0m\u001b[0;34m}\u001b[0m\u001b[0;34m\u001b[0m\u001b[0;34m\u001b[0m\u001b[0m\n\u001b[1;32m    135\u001b[0m         \u001b[0;32mwith\u001b[0m \u001b[0mconfig_context\u001b[0m\u001b[0;34m(\u001b[0m\u001b[0;34m**\u001b[0m\u001b[0mconfig\u001b[0m\u001b[0;34m)\u001b[0m\u001b[0;34m:\u001b[0m\u001b[0;34m\u001b[0m\u001b[0;34m\u001b[0m\u001b[0m\n\u001b[0;32m--> 136\u001b[0;31m             \u001b[0;32mreturn\u001b[0m \u001b[0mself\u001b[0m\u001b[0;34m.\u001b[0m\u001b[0mfunction\u001b[0m\u001b[0;34m(\u001b[0m\u001b[0;34m*\u001b[0m\u001b[0margs\u001b[0m\u001b[0;34m,\u001b[0m \u001b[0;34m**\u001b[0m\u001b[0mkwargs\u001b[0m\u001b[0;34m)\u001b[0m\u001b[0;34m\u001b[0m\u001b[0;34m\u001b[0m\u001b[0m\n\u001b[0m\u001b[1;32m    137\u001b[0m \u001b[0;34m\u001b[0m\u001b[0m\n\u001b[1;32m    138\u001b[0m \u001b[0;34m\u001b[0m\u001b[0m\n",
            "\u001b[0;32m/usr/local/lib/python3.11/dist-packages/sklearn/model_selection/_validation.py\u001b[0m in \u001b[0;36m_fit_and_score\u001b[0;34m(estimator, X, y, scorer, train, test, verbose, parameters, fit_params, score_params, return_train_score, return_parameters, return_n_test_samples, return_times, return_estimator, split_progress, candidate_progress, error_score)\u001b[0m\n\u001b[1;32m    886\u001b[0m             \u001b[0mestimator\u001b[0m\u001b[0;34m.\u001b[0m\u001b[0mfit\u001b[0m\u001b[0;34m(\u001b[0m\u001b[0mX_train\u001b[0m\u001b[0;34m,\u001b[0m \u001b[0;34m**\u001b[0m\u001b[0mfit_params\u001b[0m\u001b[0;34m)\u001b[0m\u001b[0;34m\u001b[0m\u001b[0;34m\u001b[0m\u001b[0m\n\u001b[1;32m    887\u001b[0m         \u001b[0;32melse\u001b[0m\u001b[0;34m:\u001b[0m\u001b[0;34m\u001b[0m\u001b[0;34m\u001b[0m\u001b[0m\n\u001b[0;32m--> 888\u001b[0;31m             \u001b[0mestimator\u001b[0m\u001b[0;34m.\u001b[0m\u001b[0mfit\u001b[0m\u001b[0;34m(\u001b[0m\u001b[0mX_train\u001b[0m\u001b[0;34m,\u001b[0m \u001b[0my_train\u001b[0m\u001b[0;34m,\u001b[0m \u001b[0;34m**\u001b[0m\u001b[0mfit_params\u001b[0m\u001b[0;34m)\u001b[0m\u001b[0;34m\u001b[0m\u001b[0;34m\u001b[0m\u001b[0m\n\u001b[0m\u001b[1;32m    889\u001b[0m \u001b[0;34m\u001b[0m\u001b[0m\n\u001b[1;32m    890\u001b[0m     \u001b[0;32mexcept\u001b[0m \u001b[0mException\u001b[0m\u001b[0;34m:\u001b[0m\u001b[0;34m\u001b[0m\u001b[0;34m\u001b[0m\u001b[0m\n",
            "\u001b[0;32m/usr/local/lib/python3.11/dist-packages/sklearn/base.py\u001b[0m in \u001b[0;36mwrapper\u001b[0;34m(estimator, *args, **kwargs)\u001b[0m\n\u001b[1;32m   1471\u001b[0m                 )\n\u001b[1;32m   1472\u001b[0m             ):\n\u001b[0;32m-> 1473\u001b[0;31m                 \u001b[0;32mreturn\u001b[0m \u001b[0mfit_method\u001b[0m\u001b[0;34m(\u001b[0m\u001b[0mestimator\u001b[0m\u001b[0;34m,\u001b[0m \u001b[0;34m*\u001b[0m\u001b[0margs\u001b[0m\u001b[0;34m,\u001b[0m \u001b[0;34m**\u001b[0m\u001b[0mkwargs\u001b[0m\u001b[0;34m)\u001b[0m\u001b[0;34m\u001b[0m\u001b[0;34m\u001b[0m\u001b[0m\n\u001b[0m\u001b[1;32m   1474\u001b[0m \u001b[0;34m\u001b[0m\u001b[0m\n\u001b[1;32m   1475\u001b[0m         \u001b[0;32mreturn\u001b[0m \u001b[0mwrapper\u001b[0m\u001b[0;34m\u001b[0m\u001b[0;34m\u001b[0m\u001b[0m\n",
            "\u001b[0;32m/usr/local/lib/python3.11/dist-packages/sklearn/model_selection/_search.py\u001b[0m in \u001b[0;36mfit\u001b[0;34m(self, X, y, **params)\u001b[0m\n\u001b[1;32m   1017\u001b[0m                 \u001b[0;32mreturn\u001b[0m \u001b[0mresults\u001b[0m\u001b[0;34m\u001b[0m\u001b[0;34m\u001b[0m\u001b[0m\n\u001b[1;32m   1018\u001b[0m \u001b[0;34m\u001b[0m\u001b[0m\n\u001b[0;32m-> 1019\u001b[0;31m             \u001b[0mself\u001b[0m\u001b[0;34m.\u001b[0m\u001b[0m_run_search\u001b[0m\u001b[0;34m(\u001b[0m\u001b[0mevaluate_candidates\u001b[0m\u001b[0;34m)\u001b[0m\u001b[0;34m\u001b[0m\u001b[0;34m\u001b[0m\u001b[0m\n\u001b[0m\u001b[1;32m   1020\u001b[0m \u001b[0;34m\u001b[0m\u001b[0m\n\u001b[1;32m   1021\u001b[0m             \u001b[0;31m# multimetric is determined here because in the case of a callable\u001b[0m\u001b[0;34m\u001b[0m\u001b[0;34m\u001b[0m\u001b[0m\n",
            "\u001b[0;32m/usr/local/lib/python3.11/dist-packages/sklearn/model_selection/_search.py\u001b[0m in \u001b[0;36m_run_search\u001b[0;34m(self, evaluate_candidates)\u001b[0m\n\u001b[1;32m   1958\u001b[0m     \u001b[0;32mdef\u001b[0m \u001b[0m_run_search\u001b[0m\u001b[0;34m(\u001b[0m\u001b[0mself\u001b[0m\u001b[0;34m,\u001b[0m \u001b[0mevaluate_candidates\u001b[0m\u001b[0;34m)\u001b[0m\u001b[0;34m:\u001b[0m\u001b[0;34m\u001b[0m\u001b[0;34m\u001b[0m\u001b[0m\n\u001b[1;32m   1959\u001b[0m         \u001b[0;34m\"\"\"Search n_iter candidates from param_distributions\"\"\"\u001b[0m\u001b[0;34m\u001b[0m\u001b[0;34m\u001b[0m\u001b[0m\n\u001b[0;32m-> 1960\u001b[0;31m         evaluate_candidates(\n\u001b[0m\u001b[1;32m   1961\u001b[0m             ParameterSampler(\n\u001b[1;32m   1962\u001b[0m                 \u001b[0mself\u001b[0m\u001b[0;34m.\u001b[0m\u001b[0mparam_distributions\u001b[0m\u001b[0;34m,\u001b[0m \u001b[0mself\u001b[0m\u001b[0;34m.\u001b[0m\u001b[0mn_iter\u001b[0m\u001b[0;34m,\u001b[0m \u001b[0mrandom_state\u001b[0m\u001b[0;34m=\u001b[0m\u001b[0mself\u001b[0m\u001b[0;34m.\u001b[0m\u001b[0mrandom_state\u001b[0m\u001b[0;34m\u001b[0m\u001b[0;34m\u001b[0m\u001b[0m\n",
            "\u001b[0;32m/usr/local/lib/python3.11/dist-packages/sklearn/model_selection/_search.py\u001b[0m in \u001b[0;36mevaluate_candidates\u001b[0;34m(candidate_params, cv, more_results)\u001b[0m\n\u001b[1;32m    963\u001b[0m                     )\n\u001b[1;32m    964\u001b[0m \u001b[0;34m\u001b[0m\u001b[0m\n\u001b[0;32m--> 965\u001b[0;31m                 out = parallel(\n\u001b[0m\u001b[1;32m    966\u001b[0m                     delayed(_fit_and_score)(\n\u001b[1;32m    967\u001b[0m                         \u001b[0mclone\u001b[0m\u001b[0;34m(\u001b[0m\u001b[0mbase_estimator\u001b[0m\u001b[0;34m)\u001b[0m\u001b[0;34m,\u001b[0m\u001b[0;34m\u001b[0m\u001b[0;34m\u001b[0m\u001b[0m\n",
            "\u001b[0;32m/usr/local/lib/python3.11/dist-packages/sklearn/utils/parallel.py\u001b[0m in \u001b[0;36m__call__\u001b[0;34m(self, iterable)\u001b[0m\n\u001b[1;32m     72\u001b[0m             \u001b[0;32mfor\u001b[0m \u001b[0mdelayed_func\u001b[0m\u001b[0;34m,\u001b[0m \u001b[0margs\u001b[0m\u001b[0;34m,\u001b[0m \u001b[0mkwargs\u001b[0m \u001b[0;32min\u001b[0m \u001b[0miterable\u001b[0m\u001b[0;34m\u001b[0m\u001b[0;34m\u001b[0m\u001b[0m\n\u001b[1;32m     73\u001b[0m         )\n\u001b[0;32m---> 74\u001b[0;31m         \u001b[0;32mreturn\u001b[0m \u001b[0msuper\u001b[0m\u001b[0;34m(\u001b[0m\u001b[0;34m)\u001b[0m\u001b[0;34m.\u001b[0m\u001b[0m__call__\u001b[0m\u001b[0;34m(\u001b[0m\u001b[0miterable_with_config\u001b[0m\u001b[0;34m)\u001b[0m\u001b[0;34m\u001b[0m\u001b[0;34m\u001b[0m\u001b[0m\n\u001b[0m\u001b[1;32m     75\u001b[0m \u001b[0;34m\u001b[0m\u001b[0m\n\u001b[1;32m     76\u001b[0m \u001b[0;34m\u001b[0m\u001b[0m\n",
            "\u001b[0;32m/usr/local/lib/python3.11/dist-packages/joblib/parallel.py\u001b[0m in \u001b[0;36m__call__\u001b[0;34m(self, iterable)\u001b[0m\n\u001b[1;32m   2005\u001b[0m         \u001b[0mnext\u001b[0m\u001b[0;34m(\u001b[0m\u001b[0moutput\u001b[0m\u001b[0;34m)\u001b[0m\u001b[0;34m\u001b[0m\u001b[0;34m\u001b[0m\u001b[0m\n\u001b[1;32m   2006\u001b[0m \u001b[0;34m\u001b[0m\u001b[0m\n\u001b[0;32m-> 2007\u001b[0;31m         \u001b[0;32mreturn\u001b[0m \u001b[0moutput\u001b[0m \u001b[0;32mif\u001b[0m \u001b[0mself\u001b[0m\u001b[0;34m.\u001b[0m\u001b[0mreturn_generator\u001b[0m \u001b[0;32melse\u001b[0m \u001b[0mlist\u001b[0m\u001b[0;34m(\u001b[0m\u001b[0moutput\u001b[0m\u001b[0;34m)\u001b[0m\u001b[0;34m\u001b[0m\u001b[0;34m\u001b[0m\u001b[0m\n\u001b[0m\u001b[1;32m   2008\u001b[0m \u001b[0;34m\u001b[0m\u001b[0m\n\u001b[1;32m   2009\u001b[0m     \u001b[0;32mdef\u001b[0m \u001b[0m__repr__\u001b[0m\u001b[0;34m(\u001b[0m\u001b[0mself\u001b[0m\u001b[0;34m)\u001b[0m\u001b[0;34m:\u001b[0m\u001b[0;34m\u001b[0m\u001b[0;34m\u001b[0m\u001b[0m\n",
            "\u001b[0;32m/usr/local/lib/python3.11/dist-packages/joblib/parallel.py\u001b[0m in \u001b[0;36m_get_outputs\u001b[0;34m(self, iterator, pre_dispatch)\u001b[0m\n\u001b[1;32m   1648\u001b[0m \u001b[0;34m\u001b[0m\u001b[0m\n\u001b[1;32m   1649\u001b[0m             \u001b[0;32mwith\u001b[0m \u001b[0mself\u001b[0m\u001b[0;34m.\u001b[0m\u001b[0m_backend\u001b[0m\u001b[0;34m.\u001b[0m\u001b[0mretrieval_context\u001b[0m\u001b[0;34m(\u001b[0m\u001b[0;34m)\u001b[0m\u001b[0;34m:\u001b[0m\u001b[0;34m\u001b[0m\u001b[0;34m\u001b[0m\u001b[0m\n\u001b[0;32m-> 1650\u001b[0;31m                 \u001b[0;32myield\u001b[0m \u001b[0;32mfrom\u001b[0m \u001b[0mself\u001b[0m\u001b[0;34m.\u001b[0m\u001b[0m_retrieve\u001b[0m\u001b[0;34m(\u001b[0m\u001b[0;34m)\u001b[0m\u001b[0;34m\u001b[0m\u001b[0;34m\u001b[0m\u001b[0m\n\u001b[0m\u001b[1;32m   1651\u001b[0m \u001b[0;34m\u001b[0m\u001b[0m\n\u001b[1;32m   1652\u001b[0m         \u001b[0;32mexcept\u001b[0m \u001b[0mGeneratorExit\u001b[0m\u001b[0;34m:\u001b[0m\u001b[0;34m\u001b[0m\u001b[0;34m\u001b[0m\u001b[0m\n",
            "\u001b[0;32m/usr/local/lib/python3.11/dist-packages/joblib/parallel.py\u001b[0m in \u001b[0;36m_retrieve\u001b[0;34m(self)\u001b[0m\n\u001b[1;32m   1760\u001b[0m                 (self._jobs[0].get_status(\n\u001b[1;32m   1761\u001b[0m                     timeout=self.timeout) == TASK_PENDING)):\n\u001b[0;32m-> 1762\u001b[0;31m                 \u001b[0mtime\u001b[0m\u001b[0;34m.\u001b[0m\u001b[0msleep\u001b[0m\u001b[0;34m(\u001b[0m\u001b[0;36m0.01\u001b[0m\u001b[0;34m)\u001b[0m\u001b[0;34m\u001b[0m\u001b[0;34m\u001b[0m\u001b[0m\n\u001b[0m\u001b[1;32m   1763\u001b[0m                 \u001b[0;32mcontinue\u001b[0m\u001b[0;34m\u001b[0m\u001b[0;34m\u001b[0m\u001b[0m\n\u001b[1;32m   1764\u001b[0m \u001b[0;34m\u001b[0m\u001b[0m\n",
            "\u001b[0;31mKeyboardInterrupt\u001b[0m: "
          ]
        }
      ],
      "source": [
        "# Define values for the nested cross-validation and hyperparameters tuning\n",
        "pca_vals_8_2 = [200, 350, 500] # added 350\n",
        "c_vals_8_2 = [0.01, 0.05, 0.1] # added 0.05\n",
        "n_neighbors = [1, 3, 5]\n",
        "outer_cv = StratifiedKFold(n_splits=5, shuffle=True, random_state=global_seed)\n",
        "inner_cv = StratifiedKFold(n_splits=3, shuffle=True, random_state=global_seed)\n",
        "\n",
        "grid = {\"pca__n_components\": pca_vals_8_2, \"logisticregression__C\": c_vals_8_2,\n",
        "        \"knnimputer__n_neighbors\": n_neighbors}\n",
        "\n",
        "# Build the pipeline for our model\n",
        "imputer_8_2 = KNNImputer(missing_values=np.nan, weights='distance')\n",
        "scaler_8_2 = StandardScaler()\n",
        "pca_8_2 = PCA()\n",
        "log_regressor_8_2 = LogisticRegression(penalty='l2')\n",
        "\n",
        "model_8_2 = make_pipeline(imputer_8_2, scaler_8_2, pca_8_2, log_regressor_8_2)\n",
        "\n",
        "# train model - perform nested cross validation with random search for hyperparameter tuning\n",
        "cv_search_8_2 = RandomizedSearchCV(estimator=model_8_2, cv=inner_cv, param_distributions=grid,\n",
        "                               refit=True, n_jobs=-1, n_iter=10)\n",
        "\n",
        "cv_result_8_2 = cross_validate(cv_search_8_2, X=X_downSampled, y=y_downSampled, cv=outer_cv,\n",
        "                             scoring=['accuracy', 'f1_macro', 'roc_auc_ovr'],\n",
        "                             return_estimator=True)"
      ]
    },
    {
      "cell_type": "code",
      "execution_count": null,
      "id": "9a7833b7",
      "metadata": {
        "id": "9a7833b7"
      },
      "outputs": [],
      "source": [
        "# validate model:\n",
        "# calculate the average scores for accuracy, Macro F1 and ROC AUC Ovr, across all folds\n",
        "print(f\"Average accuracy of model across folds: {np.mean(cv_result_8_2['test_accuracy']):0.03}\")\n",
        "print(f\"Average Macro F1 score of model across folds: {np.mean(cv_result_8_2['test_f1_macro']):0.03}\")\n",
        "print(f\"Average OvR AUC score of model across folds: {np.mean(cv_result_8_2['test_roc_auc_ovr']):0.03}\")\n",
        "\n",
        "# Viewing best performing parameters for each of the our folds\n",
        "for outer_i in range(5):\n",
        "    print(f\"# Best parameters for fold {outer_i}:\")\n",
        "    print(cv_result_8_2['estimator'][outer_i].best_params_)"
      ]
    },
    {
      "cell_type": "code",
      "execution_count": null,
      "id": "686586ff",
      "metadata": {
        "id": "686586ff"
      },
      "outputs": [],
      "source": [
        "# Compare the scored for model 8 and model 8_2\n",
        "accuracy_change = (np.mean(cv_result_8_2['test_accuracy'])-np.mean(cv_result_8['test_accuracy'])) * 100\n",
        "macro_F1_change = (np.mean(cv_result_8_2['test_f1_macro'])-np.mean(cv_result_8['test_f1_macro'])) * 100\n",
        "OvR_AUC_change = (np.mean(cv_result_8_2['test_roc_auc_ovr'])-np.mean(cv_result_8['test_roc_auc_ovr'])) * 100\n",
        "\n",
        "print(f\"accuracy_change: {accuracy_change:.2f} percent points\\nmacro_F1_change: {macro_F1_change:.2f} percent points\\nOvR_AUC_change: {OvR_AUC_change:.2f} percent points\")"
      ]
    },
    {
      "cell_type": "markdown",
      "id": "69ef5090",
      "metadata": {
        "id": "69ef5090"
      },
      "source": [
        "We can see that we indeed improve the model, however it takes a very long time to run (~80 minutes!!)"
      ]
    },
    {
      "cell_type": "code",
      "execution_count": null,
      "id": "3ef2dfd5",
      "metadata": {
        "id": "3ef2dfd5"
      },
      "outputs": [],
      "source": [
        "# Get hyperparameters for final model (model 8_2)\n",
        "# taking the average of the parameters used in the outer folds\n",
        "# These are the best perfoeming parameters for each of the inner folds\n",
        "n_components_8_2 = np.round(np.mean([cv_result_8_2['estimator'][outer_i].best_params_['pca__n_components'] for outer_i in range(5)])).astype(np.int64)\n",
        "c_8_2 = np.mean([cv_result_8_2['estimator'][outer_i].best_params_['logisticregression__C'] for outer_i in range(5)])\n",
        "n_neighbors_8_2 = np.round(np.mean([cv_result_8_2['estimator'][outer_i].best_params_['knnimputer__n_neighbors'] for outer_i in range(5)])).astype(np.int64)\n",
        "\n",
        "# Training a final model (for model 8_2)\n",
        "final_model_8_2 = make_pipeline(\n",
        "    KNNImputer(missing_values=np.nan, weights='distance', n_neighbors=n_neighbors_8_2),\n",
        "    StandardScaler(),\n",
        "    PCA(n_components=int(n_components)),\n",
        "    LogisticRegression(penalty='l2', C=c)\n",
        ")\n",
        "\n",
        "final_model_8_2.fit(X=X_downSampled, y=y_downSampled)"
      ]
    },
    {
      "cell_type": "markdown",
      "id": "72545323-6eb1-4430-b9cb-708140892d24",
      "metadata": {
        "id": "72545323-6eb1-4430-b9cb-708140892d24"
      },
      "source": [
        "# 9. Random forest\n",
        "- exercises:\n",
        "    - Write down in one or two paragraphs how a RF works, mentioning what the Gini impurity is and how it is used, and how bootstrapping per tree and random feature subsampling per split are used to automatically combat overfitting. ✅\n",
        "    - Report the following:\n",
        "        - The cross validation performances (AUC ROC OVR, F1 macro) of the Random Forest classifier. ✅\n",
        "        - How much better or worse then regularised logistic regression the RF classifier performs ✅\n",
        "        - The 5 features that had the highest feature importance (and the associated feature importances) in the final RF trained on all training data. ✅\n",
        "        - A plot for each of these 5 features that shows the distribution of the feature split by class in the training data (see this). ✅\n"
      ]
    },
    {
      "cell_type": "markdown",
      "id": "0352affd-5ac8-4bbe-955d-e04e01c0f35d",
      "metadata": {
        "id": "0352affd-5ac8-4bbe-955d-e04e01c0f35d"
      },
      "source": [
        "A random forest is a collection of decision trees that together form an ensemble classification method. A singular decision tree classifies samples by ‘asking questions’ such as ‘is feature A greater than 10?’ or ‘is feature B true?’. The order in which these questions are asked significantly impacts the final classification, as each question splits the data. To determine the order of nodes in the decision tree, the metric Gini impurity is used. Gini impurity measures how well a node splits the data, with lower values indicating a purer split. Features that result in lower Gini impurity are placed higher in the tree.\n",
        "While this helps create a good decision tree, a single tree alone does not generalize well.\n",
        "\n",
        "To improve generalization, a random forest combines multiple decision trees while introducing randomness. This is done through bootstrapping, where each tree is trained on a randomly selected subset of the data, allowing some samples to appear more than once. Additionally at each node, a random subset of features is considered, rather than considering all features. This results in a collection of different decision trees, each making slightly different classifications for the same sample. The final prediction is determined by the classification that most decision trees agree on."
      ]
    },
    {
      "cell_type": "code",
      "execution_count": 44,
      "id": "7e7cc579-94a7-4df2-be19-8a9a27543491",
      "metadata": {
        "id": "7e7cc579-94a7-4df2-be19-8a9a27543491"
      },
      "outputs": [],
      "source": [
        "# splitting the data\n",
        "X_train, X_val, y_train, y_val = train_test_split(X_downSampled, y_downSampled, train_size=0.8, test_size=0.2, stratify=y_downSampled, random_state=global_seed)"
      ]
    },
    {
      "cell_type": "code",
      "execution_count": 45,
      "id": "cbe10c5f-084a-48af-9f3e-6eb935a9ae9d",
      "metadata": {
        "colab": {
          "base_uri": "https://localhost:8080/",
          "height": 373
        },
        "id": "cbe10c5f-084a-48af-9f3e-6eb935a9ae9d",
        "outputId": "fe601a05-8ad3-4ff0-b871-ce3e467b5764"
      },
      "outputs": [
        {
          "output_type": "error",
          "ename": "KeyboardInterrupt",
          "evalue": "",
          "traceback": [
            "\u001b[0;31m---------------------------------------------------------------------------\u001b[0m",
            "\u001b[0;31mKeyboardInterrupt\u001b[0m                         Traceback (most recent call last)",
            "\u001b[0;32m<ipython-input-45-d63161334747>\u001b[0m in \u001b[0;36m<cell line: 0>\u001b[0;34m()\u001b[0m\n\u001b[1;32m     15\u001b[0m     \u001b[0;34m(\u001b[0m\u001b[0;34m'random_forest'\u001b[0m\u001b[0;34m,\u001b[0m \u001b[0mrfc\u001b[0m\u001b[0;34m)\u001b[0m\u001b[0;34m\u001b[0m\u001b[0;34m\u001b[0m\u001b[0m\n\u001b[1;32m     16\u001b[0m ])\n\u001b[0;32m---> 17\u001b[0;31m \u001b[0mpipe\u001b[0m\u001b[0;34m.\u001b[0m\u001b[0mfit\u001b[0m\u001b[0;34m(\u001b[0m\u001b[0mX_train\u001b[0m\u001b[0;34m,\u001b[0m \u001b[0my_train\u001b[0m\u001b[0;34m)\u001b[0m\u001b[0;34m\u001b[0m\u001b[0;34m\u001b[0m\u001b[0m\n\u001b[0m\u001b[1;32m     18\u001b[0m \u001b[0;34m\u001b[0m\u001b[0m\n\u001b[1;32m     19\u001b[0m \u001b[0;31m# Which metrics to use\u001b[0m\u001b[0;34m\u001b[0m\u001b[0;34m\u001b[0m\u001b[0m\n",
            "\u001b[0;32m/usr/local/lib/python3.11/dist-packages/sklearn/base.py\u001b[0m in \u001b[0;36mwrapper\u001b[0;34m(estimator, *args, **kwargs)\u001b[0m\n\u001b[1;32m   1471\u001b[0m                 )\n\u001b[1;32m   1472\u001b[0m             ):\n\u001b[0;32m-> 1473\u001b[0;31m                 \u001b[0;32mreturn\u001b[0m \u001b[0mfit_method\u001b[0m\u001b[0;34m(\u001b[0m\u001b[0mestimator\u001b[0m\u001b[0;34m,\u001b[0m \u001b[0;34m*\u001b[0m\u001b[0margs\u001b[0m\u001b[0;34m,\u001b[0m \u001b[0;34m**\u001b[0m\u001b[0mkwargs\u001b[0m\u001b[0;34m)\u001b[0m\u001b[0;34m\u001b[0m\u001b[0;34m\u001b[0m\u001b[0m\n\u001b[0m\u001b[1;32m   1474\u001b[0m \u001b[0;34m\u001b[0m\u001b[0m\n\u001b[1;32m   1475\u001b[0m         \u001b[0;32mreturn\u001b[0m \u001b[0mwrapper\u001b[0m\u001b[0;34m\u001b[0m\u001b[0;34m\u001b[0m\u001b[0m\n",
            "\u001b[0;32m/usr/local/lib/python3.11/dist-packages/sklearn/pipeline.py\u001b[0m in \u001b[0;36mfit\u001b[0;34m(self, X, y, **params)\u001b[0m\n\u001b[1;32m    471\u001b[0m             \u001b[0;32mif\u001b[0m \u001b[0mself\u001b[0m\u001b[0;34m.\u001b[0m\u001b[0m_final_estimator\u001b[0m \u001b[0;34m!=\u001b[0m \u001b[0;34m\"passthrough\"\u001b[0m\u001b[0;34m:\u001b[0m\u001b[0;34m\u001b[0m\u001b[0;34m\u001b[0m\u001b[0m\n\u001b[1;32m    472\u001b[0m                 \u001b[0mlast_step_params\u001b[0m \u001b[0;34m=\u001b[0m \u001b[0mrouted_params\u001b[0m\u001b[0;34m[\u001b[0m\u001b[0mself\u001b[0m\u001b[0;34m.\u001b[0m\u001b[0msteps\u001b[0m\u001b[0;34m[\u001b[0m\u001b[0;34m-\u001b[0m\u001b[0;36m1\u001b[0m\u001b[0;34m]\u001b[0m\u001b[0;34m[\u001b[0m\u001b[0;36m0\u001b[0m\u001b[0;34m]\u001b[0m\u001b[0;34m]\u001b[0m\u001b[0;34m\u001b[0m\u001b[0;34m\u001b[0m\u001b[0m\n\u001b[0;32m--> 473\u001b[0;31m                 \u001b[0mself\u001b[0m\u001b[0;34m.\u001b[0m\u001b[0m_final_estimator\u001b[0m\u001b[0;34m.\u001b[0m\u001b[0mfit\u001b[0m\u001b[0;34m(\u001b[0m\u001b[0mXt\u001b[0m\u001b[0;34m,\u001b[0m \u001b[0my\u001b[0m\u001b[0;34m,\u001b[0m \u001b[0;34m**\u001b[0m\u001b[0mlast_step_params\u001b[0m\u001b[0;34m[\u001b[0m\u001b[0;34m\"fit\"\u001b[0m\u001b[0;34m]\u001b[0m\u001b[0;34m)\u001b[0m\u001b[0;34m\u001b[0m\u001b[0;34m\u001b[0m\u001b[0m\n\u001b[0m\u001b[1;32m    474\u001b[0m \u001b[0;34m\u001b[0m\u001b[0m\n\u001b[1;32m    475\u001b[0m         \u001b[0;32mreturn\u001b[0m \u001b[0mself\u001b[0m\u001b[0;34m\u001b[0m\u001b[0;34m\u001b[0m\u001b[0m\n",
            "\u001b[0;32m/usr/local/lib/python3.11/dist-packages/sklearn/base.py\u001b[0m in \u001b[0;36mwrapper\u001b[0;34m(estimator, *args, **kwargs)\u001b[0m\n\u001b[1;32m   1471\u001b[0m                 )\n\u001b[1;32m   1472\u001b[0m             ):\n\u001b[0;32m-> 1473\u001b[0;31m                 \u001b[0;32mreturn\u001b[0m \u001b[0mfit_method\u001b[0m\u001b[0;34m(\u001b[0m\u001b[0mestimator\u001b[0m\u001b[0;34m,\u001b[0m \u001b[0;34m*\u001b[0m\u001b[0margs\u001b[0m\u001b[0;34m,\u001b[0m \u001b[0;34m**\u001b[0m\u001b[0mkwargs\u001b[0m\u001b[0;34m)\u001b[0m\u001b[0;34m\u001b[0m\u001b[0;34m\u001b[0m\u001b[0m\n\u001b[0m\u001b[1;32m   1474\u001b[0m \u001b[0;34m\u001b[0m\u001b[0m\n\u001b[1;32m   1475\u001b[0m         \u001b[0;32mreturn\u001b[0m \u001b[0mwrapper\u001b[0m\u001b[0;34m\u001b[0m\u001b[0;34m\u001b[0m\u001b[0m\n",
            "\u001b[0;32m/usr/local/lib/python3.11/dist-packages/sklearn/ensemble/_forest.py\u001b[0m in \u001b[0;36mfit\u001b[0;34m(self, X, y, sample_weight)\u001b[0m\n\u001b[1;32m    487\u001b[0m             \u001b[0;31m# parallel_backend contexts set at a higher level,\u001b[0m\u001b[0;34m\u001b[0m\u001b[0;34m\u001b[0m\u001b[0m\n\u001b[1;32m    488\u001b[0m             \u001b[0;31m# since correctness does not rely on using threads.\u001b[0m\u001b[0;34m\u001b[0m\u001b[0;34m\u001b[0m\u001b[0m\n\u001b[0;32m--> 489\u001b[0;31m             trees = Parallel(\n\u001b[0m\u001b[1;32m    490\u001b[0m                 \u001b[0mn_jobs\u001b[0m\u001b[0;34m=\u001b[0m\u001b[0mself\u001b[0m\u001b[0;34m.\u001b[0m\u001b[0mn_jobs\u001b[0m\u001b[0;34m,\u001b[0m\u001b[0;34m\u001b[0m\u001b[0;34m\u001b[0m\u001b[0m\n\u001b[1;32m    491\u001b[0m                 \u001b[0mverbose\u001b[0m\u001b[0;34m=\u001b[0m\u001b[0mself\u001b[0m\u001b[0;34m.\u001b[0m\u001b[0mverbose\u001b[0m\u001b[0;34m,\u001b[0m\u001b[0;34m\u001b[0m\u001b[0;34m\u001b[0m\u001b[0m\n",
            "\u001b[0;32m/usr/local/lib/python3.11/dist-packages/sklearn/utils/parallel.py\u001b[0m in \u001b[0;36m__call__\u001b[0;34m(self, iterable)\u001b[0m\n\u001b[1;32m     72\u001b[0m             \u001b[0;32mfor\u001b[0m \u001b[0mdelayed_func\u001b[0m\u001b[0;34m,\u001b[0m \u001b[0margs\u001b[0m\u001b[0;34m,\u001b[0m \u001b[0mkwargs\u001b[0m \u001b[0;32min\u001b[0m \u001b[0miterable\u001b[0m\u001b[0;34m\u001b[0m\u001b[0;34m\u001b[0m\u001b[0m\n\u001b[1;32m     73\u001b[0m         )\n\u001b[0;32m---> 74\u001b[0;31m         \u001b[0;32mreturn\u001b[0m \u001b[0msuper\u001b[0m\u001b[0;34m(\u001b[0m\u001b[0;34m)\u001b[0m\u001b[0;34m.\u001b[0m\u001b[0m__call__\u001b[0m\u001b[0;34m(\u001b[0m\u001b[0miterable_with_config\u001b[0m\u001b[0;34m)\u001b[0m\u001b[0;34m\u001b[0m\u001b[0;34m\u001b[0m\u001b[0m\n\u001b[0m\u001b[1;32m     75\u001b[0m \u001b[0;34m\u001b[0m\u001b[0m\n\u001b[1;32m     76\u001b[0m \u001b[0;34m\u001b[0m\u001b[0m\n",
            "\u001b[0;32m/usr/local/lib/python3.11/dist-packages/joblib/parallel.py\u001b[0m in \u001b[0;36m__call__\u001b[0;34m(self, iterable)\u001b[0m\n\u001b[1;32m   1916\u001b[0m             \u001b[0moutput\u001b[0m \u001b[0;34m=\u001b[0m \u001b[0mself\u001b[0m\u001b[0;34m.\u001b[0m\u001b[0m_get_sequential_output\u001b[0m\u001b[0;34m(\u001b[0m\u001b[0miterable\u001b[0m\u001b[0;34m)\u001b[0m\u001b[0;34m\u001b[0m\u001b[0;34m\u001b[0m\u001b[0m\n\u001b[1;32m   1917\u001b[0m             \u001b[0mnext\u001b[0m\u001b[0;34m(\u001b[0m\u001b[0moutput\u001b[0m\u001b[0;34m)\u001b[0m\u001b[0;34m\u001b[0m\u001b[0;34m\u001b[0m\u001b[0m\n\u001b[0;32m-> 1918\u001b[0;31m             \u001b[0;32mreturn\u001b[0m \u001b[0moutput\u001b[0m \u001b[0;32mif\u001b[0m \u001b[0mself\u001b[0m\u001b[0;34m.\u001b[0m\u001b[0mreturn_generator\u001b[0m \u001b[0;32melse\u001b[0m \u001b[0mlist\u001b[0m\u001b[0;34m(\u001b[0m\u001b[0moutput\u001b[0m\u001b[0;34m)\u001b[0m\u001b[0;34m\u001b[0m\u001b[0;34m\u001b[0m\u001b[0m\n\u001b[0m\u001b[1;32m   1919\u001b[0m \u001b[0;34m\u001b[0m\u001b[0m\n\u001b[1;32m   1920\u001b[0m         \u001b[0;31m# Let's create an ID that uniquely identifies the current call. If the\u001b[0m\u001b[0;34m\u001b[0m\u001b[0;34m\u001b[0m\u001b[0m\n",
            "\u001b[0;32m/usr/local/lib/python3.11/dist-packages/joblib/parallel.py\u001b[0m in \u001b[0;36m_get_sequential_output\u001b[0;34m(self, iterable)\u001b[0m\n\u001b[1;32m   1845\u001b[0m                 \u001b[0mself\u001b[0m\u001b[0;34m.\u001b[0m\u001b[0mn_dispatched_batches\u001b[0m \u001b[0;34m+=\u001b[0m \u001b[0;36m1\u001b[0m\u001b[0;34m\u001b[0m\u001b[0;34m\u001b[0m\u001b[0m\n\u001b[1;32m   1846\u001b[0m                 \u001b[0mself\u001b[0m\u001b[0;34m.\u001b[0m\u001b[0mn_dispatched_tasks\u001b[0m \u001b[0;34m+=\u001b[0m \u001b[0;36m1\u001b[0m\u001b[0;34m\u001b[0m\u001b[0;34m\u001b[0m\u001b[0m\n\u001b[0;32m-> 1847\u001b[0;31m                 \u001b[0mres\u001b[0m \u001b[0;34m=\u001b[0m \u001b[0mfunc\u001b[0m\u001b[0;34m(\u001b[0m\u001b[0;34m*\u001b[0m\u001b[0margs\u001b[0m\u001b[0;34m,\u001b[0m \u001b[0;34m**\u001b[0m\u001b[0mkwargs\u001b[0m\u001b[0;34m)\u001b[0m\u001b[0;34m\u001b[0m\u001b[0;34m\u001b[0m\u001b[0m\n\u001b[0m\u001b[1;32m   1848\u001b[0m                 \u001b[0mself\u001b[0m\u001b[0;34m.\u001b[0m\u001b[0mn_completed_tasks\u001b[0m \u001b[0;34m+=\u001b[0m \u001b[0;36m1\u001b[0m\u001b[0;34m\u001b[0m\u001b[0;34m\u001b[0m\u001b[0m\n\u001b[1;32m   1849\u001b[0m                 \u001b[0mself\u001b[0m\u001b[0;34m.\u001b[0m\u001b[0mprint_progress\u001b[0m\u001b[0;34m(\u001b[0m\u001b[0;34m)\u001b[0m\u001b[0;34m\u001b[0m\u001b[0;34m\u001b[0m\u001b[0m\n",
            "\u001b[0;32m/usr/local/lib/python3.11/dist-packages/sklearn/utils/parallel.py\u001b[0m in \u001b[0;36m__call__\u001b[0;34m(self, *args, **kwargs)\u001b[0m\n\u001b[1;32m    134\u001b[0m             \u001b[0mconfig\u001b[0m \u001b[0;34m=\u001b[0m \u001b[0;34m{\u001b[0m\u001b[0;34m}\u001b[0m\u001b[0;34m\u001b[0m\u001b[0;34m\u001b[0m\u001b[0m\n\u001b[1;32m    135\u001b[0m         \u001b[0;32mwith\u001b[0m \u001b[0mconfig_context\u001b[0m\u001b[0;34m(\u001b[0m\u001b[0;34m**\u001b[0m\u001b[0mconfig\u001b[0m\u001b[0;34m)\u001b[0m\u001b[0;34m:\u001b[0m\u001b[0;34m\u001b[0m\u001b[0;34m\u001b[0m\u001b[0m\n\u001b[0;32m--> 136\u001b[0;31m             \u001b[0;32mreturn\u001b[0m \u001b[0mself\u001b[0m\u001b[0;34m.\u001b[0m\u001b[0mfunction\u001b[0m\u001b[0;34m(\u001b[0m\u001b[0;34m*\u001b[0m\u001b[0margs\u001b[0m\u001b[0;34m,\u001b[0m \u001b[0;34m**\u001b[0m\u001b[0mkwargs\u001b[0m\u001b[0;34m)\u001b[0m\u001b[0;34m\u001b[0m\u001b[0;34m\u001b[0m\u001b[0m\n\u001b[0m\u001b[1;32m    137\u001b[0m \u001b[0;34m\u001b[0m\u001b[0m\n\u001b[1;32m    138\u001b[0m \u001b[0;34m\u001b[0m\u001b[0m\n",
            "\u001b[0;32m/usr/local/lib/python3.11/dist-packages/sklearn/ensemble/_forest.py\u001b[0m in \u001b[0;36m_parallel_build_trees\u001b[0;34m(tree, bootstrap, X, y, sample_weight, tree_idx, n_trees, verbose, class_weight, n_samples_bootstrap, missing_values_in_feature_mask)\u001b[0m\n\u001b[1;32m    190\u001b[0m             \u001b[0mcurr_sample_weight\u001b[0m \u001b[0;34m*=\u001b[0m \u001b[0mcompute_sample_weight\u001b[0m\u001b[0;34m(\u001b[0m\u001b[0;34m\"balanced\"\u001b[0m\u001b[0;34m,\u001b[0m \u001b[0my\u001b[0m\u001b[0;34m,\u001b[0m \u001b[0mindices\u001b[0m\u001b[0;34m=\u001b[0m\u001b[0mindices\u001b[0m\u001b[0;34m)\u001b[0m\u001b[0;34m\u001b[0m\u001b[0;34m\u001b[0m\u001b[0m\n\u001b[1;32m    191\u001b[0m \u001b[0;34m\u001b[0m\u001b[0m\n\u001b[0;32m--> 192\u001b[0;31m         tree._fit(\n\u001b[0m\u001b[1;32m    193\u001b[0m             \u001b[0mX\u001b[0m\u001b[0;34m,\u001b[0m\u001b[0;34m\u001b[0m\u001b[0;34m\u001b[0m\u001b[0m\n\u001b[1;32m    194\u001b[0m             \u001b[0my\u001b[0m\u001b[0;34m,\u001b[0m\u001b[0;34m\u001b[0m\u001b[0;34m\u001b[0m\u001b[0m\n",
            "\u001b[0;32m/usr/local/lib/python3.11/dist-packages/sklearn/tree/_classes.py\u001b[0m in \u001b[0;36m_fit\u001b[0;34m(self, X, y, sample_weight, check_input, missing_values_in_feature_mask)\u001b[0m\n\u001b[1;32m    470\u001b[0m             )\n\u001b[1;32m    471\u001b[0m \u001b[0;34m\u001b[0m\u001b[0m\n\u001b[0;32m--> 472\u001b[0;31m         \u001b[0mbuilder\u001b[0m\u001b[0;34m.\u001b[0m\u001b[0mbuild\u001b[0m\u001b[0;34m(\u001b[0m\u001b[0mself\u001b[0m\u001b[0;34m.\u001b[0m\u001b[0mtree_\u001b[0m\u001b[0;34m,\u001b[0m \u001b[0mX\u001b[0m\u001b[0;34m,\u001b[0m \u001b[0my\u001b[0m\u001b[0;34m,\u001b[0m \u001b[0msample_weight\u001b[0m\u001b[0;34m,\u001b[0m \u001b[0mmissing_values_in_feature_mask\u001b[0m\u001b[0;34m)\u001b[0m\u001b[0;34m\u001b[0m\u001b[0;34m\u001b[0m\u001b[0m\n\u001b[0m\u001b[1;32m    473\u001b[0m \u001b[0;34m\u001b[0m\u001b[0m\n\u001b[1;32m    474\u001b[0m         \u001b[0;32mif\u001b[0m \u001b[0mself\u001b[0m\u001b[0;34m.\u001b[0m\u001b[0mn_outputs_\u001b[0m \u001b[0;34m==\u001b[0m \u001b[0;36m1\u001b[0m \u001b[0;32mand\u001b[0m \u001b[0mis_classifier\u001b[0m\u001b[0;34m(\u001b[0m\u001b[0mself\u001b[0m\u001b[0;34m)\u001b[0m\u001b[0;34m:\u001b[0m\u001b[0;34m\u001b[0m\u001b[0;34m\u001b[0m\u001b[0m\n",
            "\u001b[0;31mKeyboardInterrupt\u001b[0m: "
          ]
        }
      ],
      "source": [
        "# Initialise pipeline\n",
        "\n",
        "# Required by exercise\n",
        "# n_estimators=250\n",
        "# n_jobs=-2 to use all but one CPU to speed up the fitting\n",
        "rfc = RandomForestClassifier(\n",
        "    n_estimators=250,\n",
        "    criterion='gini',\n",
        "    n_jobs=-2,\n",
        "    random_state=global_seed\n",
        ")\n",
        "\n",
        "pipe = Pipeline(steps=[\n",
        "    ('impute', SimpleImputer()),\n",
        "    ('random_forest', rfc)\n",
        "])\n",
        "pipe.fit(X_train, y_train)\n",
        "\n",
        "# Which metrics to use\n",
        "# See total list: https://scikit-learn.org/stable/modules/model_evaluation.html#scoring-parameter\n",
        "scoring = ['roc_auc_ovr','f1_macro']\n",
        "\n",
        "# Get scores using cross validation\n",
        "score = cross_validate(pipe, X_val, y_val, cv=5, scoring=scoring)\n",
        "for metric in scoring:\n",
        "    print(f'Mean validation {metric} across folds: {round(np.mean(score[\"test_\"+metric]), 2)}')"
      ]
    },
    {
      "cell_type": "markdown",
      "id": "4cb8f1da-58da-4e4a-b16a-b70965658424",
      "metadata": {
        "id": "4cb8f1da-58da-4e4a-b16a-b70965658424"
      },
      "source": [
        "When performing random forest classification with 5 fold cross validation we got the following mean scores on the validation dataset:\n",
        "\n",
        "Macro F1: 0.5\n",
        "OvR AUC:  0.76\n",
        "\n",
        "In comparsion with regularized logistic regression we can see that the random forest classifier performed worse. The regularized logistic regression scored around 0.15 higher on F1 and 0.10 higher in ROC AUC OVR"
      ]
    },
    {
      "cell_type": "markdown",
      "id": "XG8Bm0ac3-af",
      "metadata": {
        "id": "XG8Bm0ac3-af"
      },
      "source": [
        "#### Building final model 9"
      ]
    },
    {
      "cell_type": "code",
      "execution_count": null,
      "id": "fe3c0df5",
      "metadata": {
        "id": "fe3c0df5"
      },
      "outputs": [],
      "source": [
        "final_model_9 = Pipeline(steps=[\n",
        "    ('impute', SimpleImputer()),\n",
        "    ('random_forest', rfc)\n",
        "])\n",
        "final_model_9.fit(X_downSampled, y_downSampled)"
      ]
    },
    {
      "cell_type": "markdown",
      "id": "d80d6030-db53-4150-8884-5ed74fb4c323",
      "metadata": {
        "id": "d80d6030-db53-4150-8884-5ed74fb4c323"
      },
      "source": [
        "## Most important features\n",
        "Feature importance in random forest classifiers are kept track of in the classifier. the importance of a feature is calculated with impurtiy in our case gini impurity, which is a measure of how well a node splits the data. The higher the value for the feature importance indicates a higher feature importance."
      ]
    },
    {
      "cell_type": "code",
      "execution_count": null,
      "id": "217ca905-f9a2-413d-b700-e7a866f68eaf",
      "metadata": {
        "id": "217ca905-f9a2-413d-b700-e7a866f68eaf"
      },
      "outputs": [],
      "source": [
        "importances = rfc.feature_importances_\n",
        "forest_importances = pd.Series(importances, index=features.columns)\n",
        "forest_importances = forest_importances.sort_values(ascending=False)[:5] # Keep 5 most important features\n",
        "\n",
        "sns.barplot(x=forest_importances.index, y=forest_importances.values)\n",
        "plt.xlabel('Features')\n",
        "plt.ylabel('Feature Importance')\n",
        "plt.title('Top 5 Most Important Features')\n",
        "plt.xticks(rotation=45)  # Rotate labels for better readability\n",
        "plt.show()"
      ]
    },
    {
      "cell_type": "markdown",
      "id": "ab78fee2-9380-4b78-8c3d-54a19fea5e9c",
      "metadata": {
        "id": "ab78fee2-9380-4b78-8c3d-54a19fea5e9c"
      },
      "source": [
        "### How these top 5 features are distributed per class"
      ]
    },
    {
      "cell_type": "code",
      "execution_count": null,
      "id": "42f4b66d-c1cb-41d2-a1d7-90cec1d04c27",
      "metadata": {
        "id": "42f4b66d-c1cb-41d2-a1d7-90cec1d04c27"
      },
      "outputs": [],
      "source": [
        "data = features[forest_importances.index] # Filter for most important features\n",
        "data = pd.concat((data, labels), axis=1) # add labels as a column\n",
        "data_long = data.melt(id_vars=['Outcome'] ,var_name='Variable', value_name='RPKM') # format data to long format, RPKM =Reads Per Kilobase Mapped\n",
        "\n",
        "graph = sns.FacetGrid(data_long, col='Variable', col_wrap=3, hue='Outcome')\n",
        "graph.map_dataframe(sns.histplot, x ='RPKM', hue='Outcome', multiple='stack', kde=True, palette='Set2')\n",
        "graph.add_legend() # Doesn't work and can't seem to fix it\n",
        "graph.fig.subplots_adjust(top=0.9)\n",
        "graph.fig.suptitle('Expression level distributions of the top 5 most important features')\n",
        "plt.show()"
      ]
    },
    {
      "cell_type": "markdown",
      "id": "d902a38d-a048-49e8-889d-1fde897b1496",
      "metadata": {
        "id": "d902a38d-a048-49e8-889d-1fde897b1496"
      },
      "source": [
        "These are the expression level distributions measured in Reads Per Kilobase Mapped. There is some difference in how each gene is distributed with gene 1960 and 1882 being more concentrated around lower expression values. What is unexpected is that these genes do not seem to differ in their expression values across classes which would be expected from the genes that hold high discriminating power for the classification."
      ]
    },
    {
      "cell_type": "markdown",
      "id": "1956d7c2-5daf-40a6-a31b-af4b5a7e8e87",
      "metadata": {
        "id": "1956d7c2-5daf-40a6-a31b-af4b5a7e8e87"
      },
      "source": [
        "# 10 Neural network\n",
        "Finally, I want you to train a simple feedforward dense/fully-connected neural network on this data. Use ReLU activation functions, and 3 hidden layers with 30, 20, and 10 neurons, and 4 output neurons for the classification (with a softmax activation). Do like we did before: define a function to make your neural net in Keras, make a scikit-learn object out of it, and train it with cross-validation. Don’t perform hyperparameter optimalisation for the neural network here. That could become very time-consuming. Scale the data, but rather than imputing nans just set them all to -1."
      ]
    },
    {
      "cell_type": "code",
      "execution_count": null,
      "id": "3ba27b0d-1458-4c02-8098-06fc11770b5a",
      "metadata": {
        "id": "3ba27b0d-1458-4c02-8098-06fc11770b5a"
      },
      "outputs": [],
      "source": [
        "#function to build model\n",
        "def build_neural_net(input_shape=(2000,), hiddenLayerOne=30, hiddenLayerTwo=20, hiddenLayerThree=10, learnRate=0.01):\n",
        "    # initialize a sequential model and add layer to flatten the input data\n",
        "    model = Sequential()\n",
        "\n",
        "    model.add(Input(input_shape))\n",
        "    model.add(Dense(hiddenLayerOne, activation=\"relu\"))\n",
        "    model.add(Dropout(0.3))\n",
        "\n",
        "    model.add(Dense(hiddenLayerTwo, activation=\"relu\"))\n",
        "    model.add(Dropout(0.3))\n",
        "\n",
        "    model.add(Dense(hiddenLayerThree, activation=\"relu\"))\n",
        "    model.add(Dropout(0.3))\n",
        "\n",
        "    # add a softmax layer on top\n",
        "    model.add(Dense(4, activation=\"softmax\"))\n",
        "\n",
        "    # compile the model\n",
        "    model.compile(\n",
        "        optimizer=keras.optimizers.Adam(learning_rate=learnRate),\n",
        "        loss=\"sparse_categorical_crossentropy\",\n",
        "        metrics=[\"accuracy\"])\n",
        "\n",
        "    # return compiled model\n",
        "    return model\n",
        "\n",
        "model = KerasClassifier(model=build_neural_net, verbose=0)\n",
        "\n",
        "pipe = Pipeline([\n",
        "    ('normilization', StandardScaler()),\n",
        "    ('model', model)\n",
        "])\n",
        "\n",
        "# Convert dataframe to numpy array\n",
        "X_train_array = np.array(X_train)\n",
        "y_train_array = np.array(y_train)\n",
        "X_val_array = np.array(X_val)\n",
        "y_val_array = np.array(y_val)\n",
        "\n",
        "# Replace Nan values with -1\n",
        "X_train_array = np.where(np.isnan(X_train_array), -1, X_train_array)\n",
        "X_val_array = np.where(np.isnan(X_val_array), -1, X_val_array)\n",
        "\n",
        "# Fit and measure performance\n",
        "pipe.fit(X_train_array, y_train_array)\n",
        "scoring = 'accuracy'\n",
        "score = cross_validate(pipe, X_val_array, y_val_array, cv=5, scoring=scoring)\n",
        "\n",
        "print(f'Mean validation {scoring} across folds: {round(np.mean(score[\"test_score\"]), 2)}')"
      ]
    },
    {
      "cell_type": "markdown",
      "source": [
        "**Extra: Checking performance on the test set**"
      ],
      "metadata": {
        "id": "ldv4amJINqVX"
      },
      "id": "ldv4amJINqVX"
    },
    {
      "cell_type": "code",
      "execution_count": null,
      "id": "4ca13a6b-79a1-46c9-b90a-48f6fd6a98aa",
      "metadata": {
        "id": "4ca13a6b-79a1-46c9-b90a-48f6fd6a98aa"
      },
      "outputs": [],
      "source": [
        "# Predict on test set\n",
        "score = pipe.score(np.array(test_features), np.array(test_labels).flatten())\n",
        "print(f'{scoring} on test set: {round(score, 2)}')"
      ]
    },
    {
      "cell_type": "markdown",
      "id": "c8edd855-11c2-434d-b861-d800116e815c",
      "metadata": {
        "id": "c8edd855-11c2-434d-b861-d800116e815c"
      },
      "source": [
        "# Final classifier\n",
        "we've chosen to use a random forest as our final classifier because there are many features that are corralated in our dataset and the Random forest classifier tends to handle those better.\n",
        "we'll improve on our earlier trial with some hyperparameter optimization. Since we don't have access to significant compute we'll try and reduce computation time by using the Halving GridSearch which searches over specified parameter values with successive halving. This search stratgy start by evaluating all candidates and then iteratively selects better candidates.\n",
        "\n",
        "In earlier iterations we wanted to do hyperparameter tuning with a bigger hyperparamter grid and test it across more folds. However because this took significant compute time we've opted to use a smaller grid and less folds. Also we wanted to use the KNN imputer for better results but this also significantly increased compute time so we're using the simple imputer.\n",
        "we've also tried to measure performance using more multiple scoring metrics, specificly ROC AUC however this would cause errors we weren't able to resolve in a timely manner."
      ]
    },
    {
      "cell_type": "code",
      "execution_count": null,
      "id": "f870c2c5-3bb1-4e7a-acf9-151a8b9760ce",
      "metadata": {
        "id": "f870c2c5-3bb1-4e7a-acf9-151a8b9760ce"
      },
      "outputs": [],
      "source": [
        "# train and validation split not needed because those splits happen through nested cross vaidation\n",
        "X = X_downSampled\n",
        "y = y_downSampled"
      ]
    },
    {
      "cell_type": "code",
      "execution_count": null,
      "id": "8c4b8457-5b8d-4108-9b30-41937110bad1",
      "metadata": {
        "id": "8c4b8457-5b8d-4108-9b30-41937110bad1",
        "scrolled": true
      },
      "outputs": [],
      "source": [
        "# define the pipeline\n",
        "pipe = Pipeline(steps=[\n",
        "    ('impute', SimpleImputer()),\n",
        "    ('random_forest', RandomForestClassifier(n_jobs=-2, random_state=global_seed, verbose=0))\n",
        "])\n",
        "\n",
        "# hyperparameter grid\n",
        "param_grid = {\n",
        "    'random_forest__n_estimators': [100, 300],\n",
        "    'random_forest__max_depth': [30, 50],\n",
        "    'random_forest__min_samples_split': [2, 10],\n",
        "    'random_forest__min_samples_leaf': [1, 4],\n",
        "}\n",
        "\n",
        "# nested cross-validation\n",
        "inner_cv = StratifiedKFold(n_splits=3, shuffle=True, random_state=global_seed)\n",
        "outer_cv = StratifiedKFold(n_splits=3, shuffle=True, random_state=global_seed)\n",
        "\n",
        "# Hyperparameter optimization\n",
        "grid_search = HalvingGridSearchCV(\n",
        "    estimator=pipe,\n",
        "    param_grid=param_grid,\n",
        "    cv=inner_cv,\n",
        "    n_jobs=-2,\n",
        "    scoring='f1_macro',\n",
        "    verbose=1\n",
        ")\n",
        "\n",
        "# Measuring performance using nested cross validation\n",
        "print(f\"Starting run...\")\n",
        "start_time = time.time()\n",
        "nested_scores = cross_validate(\n",
        "    grid_search,\n",
        "    X,\n",
        "    y,\n",
        "    cv=outer_cv,\n",
        "    scoring='f1_macro',\n",
        "    n_jobs=-2,\n",
        "    verbose=1,\n",
        "    return_estimator=True\n",
        ")\n",
        "end_time = time.time()\n",
        "elapsed_time = end_time - start_time\n",
        "minutes = int(elapsed_time // 60)\n",
        "seconds = elapsed_time % 60\n",
        "print(f\"Run done! Elapsed time: {minutes} min {seconds:.2f} sec\")"
      ]
    },
    {
      "cell_type": "code",
      "execution_count": null,
      "id": "b13c6b68",
      "metadata": {
        "id": "b13c6b68"
      },
      "outputs": [],
      "source": [
        "# validate model:\n",
        "# calculate the average scores for accuracy, Macro F1 and ROC AUC Ovr, across all folds\n",
        "print(f\"Average Macro F1 score of model across folds: {np.mean(nested_scores['test_score']):0.03}\")\n",
        "\n",
        "# Viewing best performing parameters for each of the our folds\n",
        "for outer_i in range(3):\n",
        "    print(f\"# Best parameters for fold {outer_i}:\")\n",
        "    print(nested_scores['estimator'][outer_i].best_params_)"
      ]
    },
    {
      "cell_type": "code",
      "execution_count": null,
      "id": "a3945c92",
      "metadata": {
        "id": "a3945c92"
      },
      "outputs": [],
      "source": [
        "# Get hyperparameters for our final model\n",
        "# These are the best perfoeming parameters for each of the inner folds\n",
        "# Taking the average of the parameters used in the outer folds as instructed\n",
        "n_estimators = np.round(np.mean([nested_scores['estimator'][outer_i].best_params_['random_forest__n_estimators'] for outer_i in range(3)])).astype(np.int64)\n",
        "max_depth = np.round(np.mean([nested_scores['estimator'][outer_i].best_params_['random_forest__max_depth'] for outer_i in range(3)])).astype(np.int64)\n",
        "min_samples_split = np.round(np.mean([nested_scores['estimator'][outer_i].best_params_['random_forest__min_samples_split'] for outer_i in range(3)])).astype(np.int64)\n",
        "min_samples_leaf = np.round(np.mean([nested_scores['estimator'][outer_i].best_params_['random_forest__min_samples_leaf'] for outer_i in range(3)])).astype(np.int64)\n",
        "\n",
        "# Training our final model\n",
        "final_model_our_model = Pipeline(steps=[\n",
        "    ('impute', KNNImputer(missing_values=np.nan, n_neighbors=3, weights='distance')),\n",
        "    ('random_forest',\n",
        "     RandomForestClassifier(n_jobs=-2,\n",
        "                            random_state=global_seed,\n",
        "                            verbose=0,\n",
        "                            n_estimators=n_estimators,\n",
        "                            max_depth=max_depth,\n",
        "                            min_samples_split=min_samples_split,\n",
        "                            min_samples_leaf=min_samples_leaf\n",
        "                            ))\n",
        "])\n",
        "\n",
        "final_model_our_model.fit(X=X_downSampled, y=y_downSampled)"
      ]
    },
    {
      "cell_type": "markdown",
      "id": "9d9562c1",
      "metadata": {
        "id": "9d9562c1"
      },
      "source": [
        "# Testing on the test set"
      ]
    },
    {
      "cell_type": "markdown",
      "id": "bbdfef9d",
      "metadata": {
        "id": "bbdfef9d"
      },
      "source": [
        "#### model 3"
      ]
    },
    {
      "cell_type": "code",
      "execution_count": null,
      "id": "f3db59cb",
      "metadata": {
        "id": "f3db59cb"
      },
      "outputs": [],
      "source": [
        "# Predict on test set\n",
        "y_pred = final_model_3.predict(test_features)\n",
        "y_prob = final_model_3.predict_proba(test_features)  # for roc_auc\n",
        "\n",
        "test_scores = {\n",
        "    'roc_auc_ovr': roc_auc_score(test_labels, y_prob, multi_class='ovr'),\n",
        "    'f1_macro': f1_score(test_labels, y_pred, average='macro'),\n",
        "    'accuracy': accuracy_score(test_labels, y_pred)\n",
        "}\n",
        "\n",
        "for metric, value in test_scores.items():\n",
        "    print(f'{metric} on test set: {round(value, 2)}')"
      ]
    },
    {
      "cell_type": "markdown",
      "id": "5f13cc8e",
      "metadata": {
        "id": "5f13cc8e"
      },
      "source": [
        "#### model 5"
      ]
    },
    {
      "cell_type": "code",
      "execution_count": null,
      "id": "0b7b10d1",
      "metadata": {
        "id": "0b7b10d1"
      },
      "outputs": [],
      "source": [
        "# Predict on test set\n",
        "y_pred = final_model_5.predict(test_features)\n",
        "y_prob = final_model_5.predict_proba(test_features)  # for roc_auc\n",
        "\n",
        "test_scores = {\n",
        "    'roc_auc_ovr': roc_auc_score(test_labels, y_prob, multi_class='ovr'),\n",
        "    'f1_macro': f1_score(test_labels, y_pred, average='macro'),\n",
        "    'accuracy': accuracy_score(test_labels, y_pred)\n",
        "}\n",
        "\n",
        "for metric, value in test_scores.items():\n",
        "    print(f'{metric} on test set: {round(value, 2)}')"
      ]
    },
    {
      "cell_type": "markdown",
      "id": "d5e99aa4",
      "metadata": {
        "id": "d5e99aa4"
      },
      "source": [
        "#### model 7"
      ]
    },
    {
      "cell_type": "code",
      "execution_count": null,
      "id": "70d12c24",
      "metadata": {
        "id": "70d12c24"
      },
      "outputs": [],
      "source": [
        "# Predict on test set\n",
        "y_pred = final_model_7.predict(test_features)\n",
        "y_prob = final_model_7.predict_proba(test_features)  # for roc_auc\n",
        "\n",
        "test_scores = {\n",
        "    'roc_auc_ovr': roc_auc_score(test_labels, y_prob, multi_class='ovr'),\n",
        "    'f1_macro': f1_score(test_labels, y_pred, average='macro'),\n",
        "    'accuracy': accuracy_score(test_labels, y_pred)\n",
        "}\n",
        "\n",
        "for metric, value in test_scores.items():\n",
        "    print(f'{metric} on test set: {round(value, 2)}')"
      ]
    },
    {
      "cell_type": "markdown",
      "id": "ce4f4861",
      "metadata": {
        "id": "ce4f4861"
      },
      "source": [
        "#### **Extra - model 8_2**"
      ]
    },
    {
      "cell_type": "code",
      "execution_count": null,
      "id": "b24ce41e",
      "metadata": {
        "id": "b24ce41e"
      },
      "outputs": [],
      "source": [
        "# Predict on test set\n",
        "y_pred = final_model_8_2.predict(test_features)\n",
        "y_prob = final_model_8_2.predict_proba(test_features)  # for roc_auc\n",
        "\n",
        "test_scores = {\n",
        "    'roc_auc_ovr': roc_auc_score(test_labels, y_prob, multi_class='ovr'),\n",
        "    'f1_macro': f1_score(test_labels, y_pred, average='macro'),\n",
        "    'accuracy': accuracy_score(test_labels, y_pred)\n",
        "}\n",
        "\n",
        "for metric, value in test_scores.items():\n",
        "    print(f'{metric} on test set: {round(value, 2)}')"
      ]
    },
    {
      "cell_type": "markdown",
      "id": "1104e27c",
      "metadata": {
        "id": "1104e27c"
      },
      "source": [
        "#### model 9"
      ]
    },
    {
      "cell_type": "code",
      "execution_count": null,
      "id": "080bea88",
      "metadata": {
        "id": "080bea88"
      },
      "outputs": [],
      "source": [
        "# Predict on test set\n",
        "y_pred = final_model_9.predict(test_features)\n",
        "y_prob = final_model_9.predict_proba(test_features)  # for roc_auc\n",
        "\n",
        "test_scores = {\n",
        "    'roc_auc_ovr': roc_auc_score(test_labels, y_prob, multi_class='ovr'),\n",
        "    'f1_macro': f1_score(test_labels, y_pred, average='macro'),\n",
        "    'accuracy': accuracy_score(test_labels, y_pred)\n",
        "}\n",
        "\n",
        "for metric, value in test_scores.items():\n",
        "    print(f'{metric} on test set: {round(value, 2)}')"
      ]
    },
    {
      "cell_type": "markdown",
      "id": "86e1ab6c",
      "metadata": {
        "id": "86e1ab6c"
      },
      "source": [
        "#### Our chosen model"
      ]
    },
    {
      "cell_type": "code",
      "execution_count": null,
      "id": "916eb5f3",
      "metadata": {
        "id": "916eb5f3"
      },
      "outputs": [],
      "source": [
        "# Predict on test set\n",
        "y_pred = final_model_our_model.predict(test_features)\n",
        "y_prob = final_model_our_model.predict_proba(test_features)  # for roc_auc\n",
        "\n",
        "test_scores = {\n",
        "    'roc_auc_ovr': roc_auc_score(test_labels, y_prob, multi_class='ovr'),\n",
        "    'f1_macro': f1_score(test_labels, y_pred, average='macro'),\n",
        "    'accuracy': accuracy_score(test_labels, y_pred)\n",
        "}\n",
        "\n",
        "for metric, value in test_scores.items():\n",
        "    print(f'{metric} on test set: {round(value, 2)}')"
      ]
    }
  ],
  "metadata": {
    "colab": {
      "provenance": [],
      "include_colab_link": true
    },
    "kernelspec": {
      "display_name": "Python 3 (ipykernel)",
      "language": "python",
      "name": "python3"
    },
    "language_info": {
      "codemirror_mode": {
        "name": "ipython",
        "version": 3
      },
      "file_extension": ".py",
      "mimetype": "text/x-python",
      "name": "python",
      "nbconvert_exporter": "python",
      "pygments_lexer": "ipython3",
      "version": "3.10.16"
    }
  },
  "nbformat": 4,
  "nbformat_minor": 5
}