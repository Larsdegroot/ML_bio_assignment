{
 "cells": [
  {
   "cell_type": "markdown",
   "id": "83b25bb5-91b8-4907-8207-38d2a7b2494b",
   "metadata": {},
   "source": [
    "# Load Data & Preprocess\n",
    "do some data exploration here and maybe based on that explain what we're going to do"
   ]
  },
  {
   "cell_type": "markdown",
   "id": "72545323-6eb1-4430-b9cb-708140892d24",
   "metadata": {},
   "source": [
    "# Initialize experiment\n",
    "Initialize model, pipeline, cross validation, and run them"
   ]
  },
  {
   "cell_type": "markdown",
   "id": "1956d7c2-5daf-40a6-a31b-af4b5a7e8e87",
   "metadata": {},
   "source": [
    "# Results\n",
    "analyze results"
   ]
  }
 ],
 "metadata": {
  "kernelspec": {
   "display_name": "Python 3 (ipykernel)",
   "language": "python",
   "name": "python3"
  },
  "language_info": {
   "codemirror_mode": {
    "name": "ipython",
    "version": 3
   },
   "file_extension": ".py",
   "mimetype": "text/x-python",
   "name": "python",
   "nbconvert_exporter": "python",
   "pygments_lexer": "ipython3",
   "version": "3.10.16"
  }
 },
 "nbformat": 4,
 "nbformat_minor": 5
}
