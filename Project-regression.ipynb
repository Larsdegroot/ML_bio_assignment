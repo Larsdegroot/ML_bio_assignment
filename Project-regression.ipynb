{
 "cells": [
  {
   "cell_type": "markdown",
   "id": "83b25bb5-91b8-4907-8207-38d2a7b2494b",
   "metadata": {},
   "source": [
    "# 1 - Load Data & Preprocess\n",
    "do some data exploration here and maybe based on that explain what we're going to do"
   ]
  },
  {
   "cell_type": "code",
   "execution_count": 2,
   "id": "e91d6a9b-761a-4204-ba3a-3b4001c95ff3",
   "metadata": {},
   "outputs": [],
   "source": [
    "from pathlib import Path\n",
    "from os.path import abspath\n",
    "import pandas as pd\n",
    "import numpy as np\n",
    "import matplotlib.pyplot as plt\n",
    "from sklearn.feature_selection import VarianceThreshold"
   ]
  },
  {
   "cell_type": "code",
   "execution_count": 3,
   "id": "f15ef3a3-ace4-4138-8b0a-6fc44cbfbf06",
   "metadata": {},
   "outputs": [],
   "source": [
    "home_path = Path(abspath(''))\n",
    "train_data_path = home_path.joinpath('data/train_2025.csv')\n",
    "test_data_path = home_path.joinpath('data/test_2025.csv')\n",
    "test_answers_path = home_path.joinpath('data/answer_key_2025.csv')"
   ]
  },
  {
   "cell_type": "code",
   "execution_count": 4,
   "id": "e4532be7-64fd-4483-953f-b602c3cec2ed",
   "metadata": {},
   "outputs": [],
   "source": [
    "X_dataframe = pd.read_csv(train_data_path)\n",
    "test_X_dataframe = pd.read_csv(test_data_path)\n",
    "test_y_dataframe = pd.read_csv(test_answers_path)"
   ]
  },
  {
   "cell_type": "code",
   "execution_count": 5,
   "id": "3779e28e-1198-47dd-b463-bae25672324b",
   "metadata": {},
   "outputs": [
    {
     "data": {
      "application/vnd.microsoft.datawrangler.viewer.v0+json": {
       "columns": [
        {
         "name": "index",
         "rawType": "int64",
         "type": "integer"
        },
        {
         "name": "Gene 1",
         "rawType": "float64",
         "type": "float"
        },
        {
         "name": "Gene 2",
         "rawType": "float64",
         "type": "float"
        },
        {
         "name": "Gene 3",
         "rawType": "float64",
         "type": "float"
        },
        {
         "name": "Gene 4",
         "rawType": "float64",
         "type": "float"
        },
        {
         "name": "Gene 5",
         "rawType": "float64",
         "type": "float"
        },
        {
         "name": "Gene 6",
         "rawType": "float64",
         "type": "float"
        },
        {
         "name": "Gene 7",
         "rawType": "float64",
         "type": "float"
        },
        {
         "name": "Gene 8",
         "rawType": "float64",
         "type": "float"
        },
        {
         "name": "Gene 9",
         "rawType": "float64",
         "type": "float"
        },
        {
         "name": "Gene 10",
         "rawType": "float64",
         "type": "float"
        },
        {
         "name": "Gene 11",
         "rawType": "float64",
         "type": "float"
        },
        {
         "name": "Gene 12",
         "rawType": "float64",
         "type": "float"
        },
        {
         "name": "Gene 13",
         "rawType": "float64",
         "type": "float"
        },
        {
         "name": "Gene 14",
         "rawType": "float64",
         "type": "float"
        },
        {
         "name": "Gene 15",
         "rawType": "float64",
         "type": "float"
        },
        {
         "name": "Gene 16",
         "rawType": "float64",
         "type": "float"
        },
        {
         "name": "Gene 17",
         "rawType": "float64",
         "type": "float"
        },
        {
         "name": "Gene 18",
         "rawType": "float64",
         "type": "float"
        },
        {
         "name": "Gene 19",
         "rawType": "float64",
         "type": "float"
        },
        {
         "name": "Gene 20",
         "rawType": "float64",
         "type": "float"
        },
        {
         "name": "Gene 21",
         "rawType": "float64",
         "type": "float"
        },
        {
         "name": "Gene 22",
         "rawType": "float64",
         "type": "float"
        },
        {
         "name": "Gene 23",
         "rawType": "float64",
         "type": "float"
        },
        {
         "name": "Gene 24",
         "rawType": "float64",
         "type": "float"
        },
        {
         "name": "Gene 25",
         "rawType": "float64",
         "type": "float"
        },
        {
         "name": "Gene 26",
         "rawType": "float64",
         "type": "float"
        },
        {
         "name": "Gene 27",
         "rawType": "float64",
         "type": "float"
        },
        {
         "name": "Gene 28",
         "rawType": "float64",
         "type": "float"
        },
        {
         "name": "Gene 29",
         "rawType": "float64",
         "type": "float"
        },
        {
         "name": "Gene 30",
         "rawType": "float64",
         "type": "float"
        },
        {
         "name": "Gene 31",
         "rawType": "float64",
         "type": "float"
        },
        {
         "name": "Gene 32",
         "rawType": "float64",
         "type": "float"
        },
        {
         "name": "Gene 33",
         "rawType": "float64",
         "type": "float"
        },
        {
         "name": "Gene 34",
         "rawType": "float64",
         "type": "float"
        },
        {
         "name": "Gene 35",
         "rawType": "float64",
         "type": "float"
        },
        {
         "name": "Gene 36",
         "rawType": "float64",
         "type": "float"
        },
        {
         "name": "Gene 37",
         "rawType": "float64",
         "type": "float"
        },
        {
         "name": "Gene 38",
         "rawType": "float64",
         "type": "float"
        },
        {
         "name": "Gene 39",
         "rawType": "float64",
         "type": "float"
        },
        {
         "name": "Gene 40",
         "rawType": "float64",
         "type": "float"
        },
        {
         "name": "Gene 41",
         "rawType": "float64",
         "type": "float"
        },
        {
         "name": "Gene 42",
         "rawType": "float64",
         "type": "float"
        },
        {
         "name": "Gene 43",
         "rawType": "float64",
         "type": "float"
        },
        {
         "name": "Gene 44",
         "rawType": "float64",
         "type": "float"
        },
        {
         "name": "Gene 45",
         "rawType": "float64",
         "type": "float"
        },
        {
         "name": "Gene 46",
         "rawType": "float64",
         "type": "float"
        },
        {
         "name": "Gene 47",
         "rawType": "float64",
         "type": "float"
        },
        {
         "name": "Gene 48",
         "rawType": "float64",
         "type": "float"
        },
        {
         "name": "Gene 49",
         "rawType": "float64",
         "type": "float"
        },
        {
         "name": "Gene 50",
         "rawType": "float64",
         "type": "float"
        },
        {
         "name": "Gene 51",
         "rawType": "float64",
         "type": "float"
        },
        {
         "name": "Gene 52",
         "rawType": "float64",
         "type": "float"
        },
        {
         "name": "Gene 53",
         "rawType": "float64",
         "type": "float"
        },
        {
         "name": "Gene 54",
         "rawType": "float64",
         "type": "float"
        },
        {
         "name": "Gene 55",
         "rawType": "float64",
         "type": "float"
        },
        {
         "name": "Gene 56",
         "rawType": "float64",
         "type": "float"
        },
        {
         "name": "Gene 57",
         "rawType": "float64",
         "type": "float"
        },
        {
         "name": "Gene 58",
         "rawType": "float64",
         "type": "float"
        },
        {
         "name": "Gene 59",
         "rawType": "float64",
         "type": "float"
        },
        {
         "name": "Gene 60",
         "rawType": "float64",
         "type": "float"
        },
        {
         "name": "Gene 61",
         "rawType": "float64",
         "type": "float"
        },
        {
         "name": "Gene 62",
         "rawType": "float64",
         "type": "float"
        },
        {
         "name": "Gene 63",
         "rawType": "float64",
         "type": "float"
        },
        {
         "name": "Gene 64",
         "rawType": "float64",
         "type": "float"
        },
        {
         "name": "Gene 65",
         "rawType": "float64",
         "type": "float"
        },
        {
         "name": "Gene 66",
         "rawType": "float64",
         "type": "float"
        },
        {
         "name": "Gene 67",
         "rawType": "float64",
         "type": "float"
        },
        {
         "name": "Gene 68",
         "rawType": "float64",
         "type": "float"
        },
        {
         "name": "Gene 69",
         "rawType": "float64",
         "type": "float"
        },
        {
         "name": "Gene 70",
         "rawType": "float64",
         "type": "float"
        },
        {
         "name": "Gene 71",
         "rawType": "float64",
         "type": "float"
        },
        {
         "name": "Gene 72",
         "rawType": "float64",
         "type": "float"
        },
        {
         "name": "Gene 73",
         "rawType": "float64",
         "type": "float"
        },
        {
         "name": "Gene 74",
         "rawType": "float64",
         "type": "float"
        },
        {
         "name": "Gene 75",
         "rawType": "float64",
         "type": "float"
        },
        {
         "name": "Gene 76",
         "rawType": "float64",
         "type": "float"
        },
        {
         "name": "Gene 77",
         "rawType": "float64",
         "type": "float"
        },
        {
         "name": "Gene 78",
         "rawType": "float64",
         "type": "float"
        },
        {
         "name": "Gene 79",
         "rawType": "float64",
         "type": "float"
        },
        {
         "name": "Gene 80",
         "rawType": "float64",
         "type": "float"
        },
        {
         "name": "Gene 81",
         "rawType": "float64",
         "type": "float"
        },
        {
         "name": "Gene 82",
         "rawType": "float64",
         "type": "float"
        },
        {
         "name": "Gene 83",
         "rawType": "float64",
         "type": "float"
        },
        {
         "name": "Gene 84",
         "rawType": "float64",
         "type": "float"
        },
        {
         "name": "Gene 85",
         "rawType": "float64",
         "type": "float"
        },
        {
         "name": "Gene 86",
         "rawType": "float64",
         "type": "float"
        },
        {
         "name": "Gene 87",
         "rawType": "float64",
         "type": "float"
        },
        {
         "name": "Gene 88",
         "rawType": "float64",
         "type": "float"
        },
        {
         "name": "Gene 89",
         "rawType": "float64",
         "type": "float"
        },
        {
         "name": "Gene 90",
         "rawType": "float64",
         "type": "float"
        },
        {
         "name": "Gene 91",
         "rawType": "float64",
         "type": "float"
        },
        {
         "name": "Gene 92",
         "rawType": "float64",
         "type": "float"
        },
        {
         "name": "Gene 93",
         "rawType": "float64",
         "type": "float"
        },
        {
         "name": "Gene 94",
         "rawType": "float64",
         "type": "float"
        },
        {
         "name": "Gene 95",
         "rawType": "float64",
         "type": "float"
        },
        {
         "name": "Gene 96",
         "rawType": "float64",
         "type": "float"
        },
        {
         "name": "Gene 97",
         "rawType": "float64",
         "type": "float"
        },
        {
         "name": "Gene 98",
         "rawType": "float64",
         "type": "float"
        },
        {
         "name": "Gene 99",
         "rawType": "float64",
         "type": "float"
        },
        {
         "name": "Gene 100",
         "rawType": "float64",
         "type": "float"
        },
        {
         "name": "Gene 101",
         "rawType": "float64",
         "type": "float"
        },
        {
         "name": "Gene 102",
         "rawType": "float64",
         "type": "float"
        },
        {
         "name": "Gene 103",
         "rawType": "float64",
         "type": "float"
        },
        {
         "name": "Gene 104",
         "rawType": "float64",
         "type": "float"
        },
        {
         "name": "Gene 105",
         "rawType": "float64",
         "type": "float"
        },
        {
         "name": "Gene 106",
         "rawType": "float64",
         "type": "float"
        },
        {
         "name": "Gene 107",
         "rawType": "float64",
         "type": "float"
        },
        {
         "name": "Gene 108",
         "rawType": "float64",
         "type": "float"
        },
        {
         "name": "Gene 109",
         "rawType": "float64",
         "type": "float"
        },
        {
         "name": "Gene 110",
         "rawType": "float64",
         "type": "float"
        },
        {
         "name": "Gene 111",
         "rawType": "float64",
         "type": "float"
        },
        {
         "name": "Gene 112",
         "rawType": "float64",
         "type": "float"
        },
        {
         "name": "Gene 113",
         "rawType": "float64",
         "type": "float"
        },
        {
         "name": "Gene 114",
         "rawType": "float64",
         "type": "float"
        },
        {
         "name": "Gene 115",
         "rawType": "float64",
         "type": "float"
        },
        {
         "name": "Gene 116",
         "rawType": "float64",
         "type": "float"
        },
        {
         "name": "Gene 117",
         "rawType": "float64",
         "type": "float"
        },
        {
         "name": "Gene 118",
         "rawType": "float64",
         "type": "float"
        },
        {
         "name": "Gene 119",
         "rawType": "float64",
         "type": "float"
        },
        {
         "name": "Gene 120",
         "rawType": "float64",
         "type": "float"
        },
        {
         "name": "Gene 121",
         "rawType": "float64",
         "type": "float"
        },
        {
         "name": "Gene 122",
         "rawType": "float64",
         "type": "float"
        },
        {
         "name": "Gene 123",
         "rawType": "float64",
         "type": "float"
        },
        {
         "name": "Gene 124",
         "rawType": "float64",
         "type": "float"
        },
        {
         "name": "Gene 125",
         "rawType": "float64",
         "type": "float"
        },
        {
         "name": "Gene 126",
         "rawType": "float64",
         "type": "float"
        },
        {
         "name": "Gene 127",
         "rawType": "float64",
         "type": "float"
        },
        {
         "name": "Gene 128",
         "rawType": "float64",
         "type": "float"
        },
        {
         "name": "Gene 129",
         "rawType": "float64",
         "type": "float"
        },
        {
         "name": "Gene 130",
         "rawType": "float64",
         "type": "float"
        },
        {
         "name": "Gene 131",
         "rawType": "float64",
         "type": "float"
        },
        {
         "name": "Gene 132",
         "rawType": "float64",
         "type": "float"
        },
        {
         "name": "Gene 133",
         "rawType": "float64",
         "type": "float"
        },
        {
         "name": "Gene 134",
         "rawType": "float64",
         "type": "float"
        },
        {
         "name": "Gene 135",
         "rawType": "float64",
         "type": "float"
        },
        {
         "name": "Gene 136",
         "rawType": "float64",
         "type": "float"
        },
        {
         "name": "Gene 137",
         "rawType": "float64",
         "type": "float"
        },
        {
         "name": "Gene 138",
         "rawType": "float64",
         "type": "float"
        },
        {
         "name": "Gene 139",
         "rawType": "float64",
         "type": "float"
        },
        {
         "name": "Gene 140",
         "rawType": "float64",
         "type": "float"
        },
        {
         "name": "Gene 141",
         "rawType": "float64",
         "type": "float"
        },
        {
         "name": "Gene 142",
         "rawType": "float64",
         "type": "float"
        },
        {
         "name": "Gene 143",
         "rawType": "float64",
         "type": "float"
        },
        {
         "name": "Gene 144",
         "rawType": "float64",
         "type": "float"
        },
        {
         "name": "Gene 145",
         "rawType": "float64",
         "type": "float"
        },
        {
         "name": "Gene 146",
         "rawType": "float64",
         "type": "float"
        },
        {
         "name": "Gene 147",
         "rawType": "float64",
         "type": "float"
        },
        {
         "name": "Gene 148",
         "rawType": "float64",
         "type": "float"
        },
        {
         "name": "Gene 149",
         "rawType": "float64",
         "type": "float"
        },
        {
         "name": "Gene 150",
         "rawType": "float64",
         "type": "float"
        },
        {
         "name": "Gene 151",
         "rawType": "float64",
         "type": "float"
        },
        {
         "name": "Gene 152",
         "rawType": "float64",
         "type": "float"
        },
        {
         "name": "Gene 153",
         "rawType": "float64",
         "type": "float"
        },
        {
         "name": "Gene 154",
         "rawType": "float64",
         "type": "float"
        },
        {
         "name": "Gene 155",
         "rawType": "float64",
         "type": "float"
        },
        {
         "name": "Gene 156",
         "rawType": "float64",
         "type": "float"
        },
        {
         "name": "Gene 157",
         "rawType": "float64",
         "type": "float"
        },
        {
         "name": "Gene 158",
         "rawType": "float64",
         "type": "float"
        },
        {
         "name": "Gene 159",
         "rawType": "float64",
         "type": "float"
        },
        {
         "name": "Gene 160",
         "rawType": "float64",
         "type": "float"
        },
        {
         "name": "Gene 161",
         "rawType": "float64",
         "type": "float"
        },
        {
         "name": "Gene 162",
         "rawType": "float64",
         "type": "float"
        },
        {
         "name": "Gene 163",
         "rawType": "float64",
         "type": "float"
        },
        {
         "name": "Gene 164",
         "rawType": "float64",
         "type": "float"
        },
        {
         "name": "Gene 165",
         "rawType": "float64",
         "type": "float"
        },
        {
         "name": "Gene 166",
         "rawType": "float64",
         "type": "float"
        },
        {
         "name": "Gene 167",
         "rawType": "float64",
         "type": "float"
        },
        {
         "name": "Gene 168",
         "rawType": "float64",
         "type": "float"
        },
        {
         "name": "Gene 169",
         "rawType": "float64",
         "type": "float"
        },
        {
         "name": "Gene 170",
         "rawType": "float64",
         "type": "float"
        },
        {
         "name": "Gene 171",
         "rawType": "float64",
         "type": "float"
        },
        {
         "name": "Gene 172",
         "rawType": "float64",
         "type": "float"
        },
        {
         "name": "Gene 173",
         "rawType": "float64",
         "type": "float"
        },
        {
         "name": "Gene 174",
         "rawType": "float64",
         "type": "float"
        },
        {
         "name": "Gene 175",
         "rawType": "float64",
         "type": "float"
        },
        {
         "name": "Gene 176",
         "rawType": "float64",
         "type": "float"
        },
        {
         "name": "Gene 177",
         "rawType": "float64",
         "type": "float"
        },
        {
         "name": "Gene 178",
         "rawType": "float64",
         "type": "float"
        },
        {
         "name": "Gene 179",
         "rawType": "float64",
         "type": "float"
        },
        {
         "name": "Gene 180",
         "rawType": "float64",
         "type": "float"
        },
        {
         "name": "Gene 181",
         "rawType": "float64",
         "type": "float"
        },
        {
         "name": "Gene 182",
         "rawType": "float64",
         "type": "float"
        },
        {
         "name": "Gene 183",
         "rawType": "float64",
         "type": "float"
        },
        {
         "name": "Gene 184",
         "rawType": "float64",
         "type": "float"
        },
        {
         "name": "Gene 185",
         "rawType": "float64",
         "type": "float"
        },
        {
         "name": "Gene 186",
         "rawType": "float64",
         "type": "float"
        },
        {
         "name": "Gene 187",
         "rawType": "float64",
         "type": "float"
        },
        {
         "name": "Gene 188",
         "rawType": "float64",
         "type": "float"
        },
        {
         "name": "Gene 189",
         "rawType": "float64",
         "type": "float"
        },
        {
         "name": "Gene 190",
         "rawType": "float64",
         "type": "float"
        },
        {
         "name": "Gene 191",
         "rawType": "float64",
         "type": "float"
        },
        {
         "name": "Gene 192",
         "rawType": "float64",
         "type": "float"
        },
        {
         "name": "Gene 193",
         "rawType": "float64",
         "type": "float"
        },
        {
         "name": "Gene 194",
         "rawType": "float64",
         "type": "float"
        },
        {
         "name": "Gene 195",
         "rawType": "float64",
         "type": "float"
        },
        {
         "name": "Gene 196",
         "rawType": "float64",
         "type": "float"
        },
        {
         "name": "Gene 197",
         "rawType": "float64",
         "type": "float"
        },
        {
         "name": "Gene 198",
         "rawType": "float64",
         "type": "float"
        },
        {
         "name": "Gene 199",
         "rawType": "float64",
         "type": "float"
        },
        {
         "name": "Gene 200",
         "rawType": "float64",
         "type": "float"
        },
        {
         "name": "Gene 201",
         "rawType": "float64",
         "type": "float"
        },
        {
         "name": "Gene 202",
         "rawType": "float64",
         "type": "float"
        },
        {
         "name": "Gene 203",
         "rawType": "float64",
         "type": "float"
        },
        {
         "name": "Gene 204",
         "rawType": "float64",
         "type": "float"
        },
        {
         "name": "Gene 205",
         "rawType": "float64",
         "type": "float"
        },
        {
         "name": "Gene 206",
         "rawType": "float64",
         "type": "float"
        },
        {
         "name": "Gene 207",
         "rawType": "float64",
         "type": "float"
        },
        {
         "name": "Gene 208",
         "rawType": "float64",
         "type": "float"
        },
        {
         "name": "Gene 209",
         "rawType": "float64",
         "type": "float"
        },
        {
         "name": "Gene 210",
         "rawType": "float64",
         "type": "float"
        },
        {
         "name": "Gene 211",
         "rawType": "float64",
         "type": "float"
        },
        {
         "name": "Gene 212",
         "rawType": "float64",
         "type": "float"
        },
        {
         "name": "Gene 213",
         "rawType": "float64",
         "type": "float"
        },
        {
         "name": "Gene 214",
         "rawType": "float64",
         "type": "float"
        },
        {
         "name": "Gene 215",
         "rawType": "float64",
         "type": "float"
        },
        {
         "name": "Gene 216",
         "rawType": "float64",
         "type": "float"
        },
        {
         "name": "Gene 217",
         "rawType": "float64",
         "type": "float"
        },
        {
         "name": "Gene 218",
         "rawType": "float64",
         "type": "float"
        },
        {
         "name": "Gene 219",
         "rawType": "float64",
         "type": "float"
        },
        {
         "name": "Gene 220",
         "rawType": "float64",
         "type": "float"
        },
        {
         "name": "Gene 221",
         "rawType": "float64",
         "type": "float"
        },
        {
         "name": "Gene 222",
         "rawType": "float64",
         "type": "float"
        },
        {
         "name": "Gene 223",
         "rawType": "float64",
         "type": "float"
        },
        {
         "name": "Gene 224",
         "rawType": "float64",
         "type": "float"
        },
        {
         "name": "Gene 225",
         "rawType": "float64",
         "type": "float"
        },
        {
         "name": "Gene 226",
         "rawType": "float64",
         "type": "float"
        },
        {
         "name": "Gene 227",
         "rawType": "float64",
         "type": "float"
        },
        {
         "name": "Gene 228",
         "rawType": "float64",
         "type": "float"
        },
        {
         "name": "Gene 229",
         "rawType": "float64",
         "type": "float"
        },
        {
         "name": "Gene 230",
         "rawType": "float64",
         "type": "float"
        },
        {
         "name": "Gene 231",
         "rawType": "float64",
         "type": "float"
        },
        {
         "name": "Gene 232",
         "rawType": "float64",
         "type": "float"
        },
        {
         "name": "Gene 233",
         "rawType": "float64",
         "type": "float"
        },
        {
         "name": "Gene 234",
         "rawType": "float64",
         "type": "float"
        },
        {
         "name": "Gene 235",
         "rawType": "float64",
         "type": "float"
        },
        {
         "name": "Gene 236",
         "rawType": "float64",
         "type": "float"
        },
        {
         "name": "Gene 237",
         "rawType": "float64",
         "type": "float"
        },
        {
         "name": "Gene 238",
         "rawType": "float64",
         "type": "float"
        },
        {
         "name": "Gene 239",
         "rawType": "float64",
         "type": "float"
        },
        {
         "name": "Gene 240",
         "rawType": "float64",
         "type": "float"
        },
        {
         "name": "Gene 241",
         "rawType": "float64",
         "type": "float"
        },
        {
         "name": "Gene 242",
         "rawType": "float64",
         "type": "float"
        },
        {
         "name": "Gene 243",
         "rawType": "float64",
         "type": "float"
        },
        {
         "name": "Gene 244",
         "rawType": "float64",
         "type": "float"
        },
        {
         "name": "Gene 245",
         "rawType": "float64",
         "type": "float"
        },
        {
         "name": "Gene 246",
         "rawType": "float64",
         "type": "float"
        },
        {
         "name": "Gene 247",
         "rawType": "float64",
         "type": "float"
        },
        {
         "name": "Gene 248",
         "rawType": "float64",
         "type": "float"
        },
        {
         "name": "Gene 249",
         "rawType": "float64",
         "type": "float"
        },
        {
         "name": "Gene 250",
         "rawType": "float64",
         "type": "float"
        },
        {
         "name": "Gene 251",
         "rawType": "float64",
         "type": "float"
        },
        {
         "name": "Gene 252",
         "rawType": "float64",
         "type": "float"
        },
        {
         "name": "Gene 253",
         "rawType": "float64",
         "type": "float"
        },
        {
         "name": "Gene 254",
         "rawType": "float64",
         "type": "float"
        },
        {
         "name": "Gene 255",
         "rawType": "float64",
         "type": "float"
        },
        {
         "name": "Gene 256",
         "rawType": "float64",
         "type": "float"
        },
        {
         "name": "Gene 257",
         "rawType": "float64",
         "type": "float"
        },
        {
         "name": "Gene 258",
         "rawType": "float64",
         "type": "float"
        },
        {
         "name": "Gene 259",
         "rawType": "float64",
         "type": "float"
        },
        {
         "name": "Gene 260",
         "rawType": "float64",
         "type": "float"
        },
        {
         "name": "Gene 261",
         "rawType": "float64",
         "type": "float"
        },
        {
         "name": "Gene 262",
         "rawType": "float64",
         "type": "float"
        },
        {
         "name": "Gene 263",
         "rawType": "float64",
         "type": "float"
        },
        {
         "name": "Gene 264",
         "rawType": "float64",
         "type": "float"
        },
        {
         "name": "Gene 265",
         "rawType": "float64",
         "type": "float"
        },
        {
         "name": "Gene 266",
         "rawType": "float64",
         "type": "float"
        },
        {
         "name": "Gene 267",
         "rawType": "float64",
         "type": "float"
        },
        {
         "name": "Gene 268",
         "rawType": "float64",
         "type": "float"
        },
        {
         "name": "Gene 269",
         "rawType": "float64",
         "type": "float"
        },
        {
         "name": "Gene 270",
         "rawType": "float64",
         "type": "float"
        },
        {
         "name": "Gene 271",
         "rawType": "float64",
         "type": "float"
        },
        {
         "name": "Gene 272",
         "rawType": "float64",
         "type": "float"
        },
        {
         "name": "Gene 273",
         "rawType": "float64",
         "type": "float"
        },
        {
         "name": "Gene 274",
         "rawType": "float64",
         "type": "float"
        },
        {
         "name": "Gene 275",
         "rawType": "float64",
         "type": "float"
        },
        {
         "name": "Gene 276",
         "rawType": "float64",
         "type": "float"
        },
        {
         "name": "Gene 277",
         "rawType": "float64",
         "type": "float"
        },
        {
         "name": "Gene 278",
         "rawType": "float64",
         "type": "float"
        },
        {
         "name": "Gene 279",
         "rawType": "float64",
         "type": "float"
        },
        {
         "name": "Gene 280",
         "rawType": "float64",
         "type": "float"
        },
        {
         "name": "Gene 281",
         "rawType": "float64",
         "type": "float"
        },
        {
         "name": "Gene 282",
         "rawType": "float64",
         "type": "float"
        },
        {
         "name": "Gene 283",
         "rawType": "float64",
         "type": "float"
        },
        {
         "name": "Gene 284",
         "rawType": "float64",
         "type": "float"
        },
        {
         "name": "Gene 285",
         "rawType": "float64",
         "type": "float"
        },
        {
         "name": "Gene 286",
         "rawType": "float64",
         "type": "float"
        },
        {
         "name": "Gene 287",
         "rawType": "float64",
         "type": "float"
        },
        {
         "name": "Gene 288",
         "rawType": "float64",
         "type": "float"
        },
        {
         "name": "Gene 289",
         "rawType": "float64",
         "type": "float"
        },
        {
         "name": "Gene 290",
         "rawType": "float64",
         "type": "float"
        },
        {
         "name": "Gene 291",
         "rawType": "float64",
         "type": "float"
        },
        {
         "name": "Gene 292",
         "rawType": "float64",
         "type": "float"
        },
        {
         "name": "Gene 293",
         "rawType": "float64",
         "type": "float"
        },
        {
         "name": "Gene 294",
         "rawType": "float64",
         "type": "float"
        },
        {
         "name": "Gene 295",
         "rawType": "float64",
         "type": "float"
        },
        {
         "name": "Gene 296",
         "rawType": "float64",
         "type": "float"
        },
        {
         "name": "Gene 297",
         "rawType": "float64",
         "type": "float"
        },
        {
         "name": "Gene 298",
         "rawType": "float64",
         "type": "float"
        },
        {
         "name": "Gene 299",
         "rawType": "float64",
         "type": "float"
        },
        {
         "name": "Gene 300",
         "rawType": "float64",
         "type": "float"
        },
        {
         "name": "Gene 301",
         "rawType": "float64",
         "type": "float"
        },
        {
         "name": "Gene 302",
         "rawType": "float64",
         "type": "float"
        },
        {
         "name": "Gene 303",
         "rawType": "float64",
         "type": "float"
        },
        {
         "name": "Gene 304",
         "rawType": "float64",
         "type": "float"
        },
        {
         "name": "Gene 305",
         "rawType": "float64",
         "type": "float"
        },
        {
         "name": "Gene 306",
         "rawType": "float64",
         "type": "float"
        },
        {
         "name": "Gene 307",
         "rawType": "float64",
         "type": "float"
        },
        {
         "name": "Gene 308",
         "rawType": "float64",
         "type": "float"
        },
        {
         "name": "Gene 309",
         "rawType": "float64",
         "type": "float"
        },
        {
         "name": "Gene 310",
         "rawType": "float64",
         "type": "float"
        },
        {
         "name": "Gene 311",
         "rawType": "float64",
         "type": "float"
        },
        {
         "name": "Gene 312",
         "rawType": "float64",
         "type": "float"
        },
        {
         "name": "Gene 313",
         "rawType": "float64",
         "type": "float"
        },
        {
         "name": "Gene 314",
         "rawType": "float64",
         "type": "float"
        },
        {
         "name": "Gene 315",
         "rawType": "float64",
         "type": "float"
        },
        {
         "name": "Gene 316",
         "rawType": "float64",
         "type": "float"
        },
        {
         "name": "Gene 317",
         "rawType": "float64",
         "type": "float"
        },
        {
         "name": "Gene 318",
         "rawType": "float64",
         "type": "float"
        },
        {
         "name": "Gene 319",
         "rawType": "float64",
         "type": "float"
        },
        {
         "name": "Gene 320",
         "rawType": "float64",
         "type": "float"
        },
        {
         "name": "Gene 321",
         "rawType": "float64",
         "type": "float"
        },
        {
         "name": "Gene 322",
         "rawType": "float64",
         "type": "float"
        },
        {
         "name": "Gene 323",
         "rawType": "float64",
         "type": "float"
        },
        {
         "name": "Gene 324",
         "rawType": "float64",
         "type": "float"
        },
        {
         "name": "Gene 325",
         "rawType": "float64",
         "type": "float"
        },
        {
         "name": "Gene 326",
         "rawType": "float64",
         "type": "float"
        },
        {
         "name": "Gene 327",
         "rawType": "float64",
         "type": "float"
        },
        {
         "name": "Gene 328",
         "rawType": "float64",
         "type": "float"
        },
        {
         "name": "Gene 329",
         "rawType": "float64",
         "type": "float"
        },
        {
         "name": "Gene 330",
         "rawType": "float64",
         "type": "float"
        },
        {
         "name": "Gene 331",
         "rawType": "float64",
         "type": "float"
        },
        {
         "name": "Gene 332",
         "rawType": "float64",
         "type": "float"
        },
        {
         "name": "Gene 333",
         "rawType": "float64",
         "type": "float"
        },
        {
         "name": "Gene 334",
         "rawType": "float64",
         "type": "float"
        },
        {
         "name": "Gene 335",
         "rawType": "float64",
         "type": "float"
        },
        {
         "name": "Gene 336",
         "rawType": "float64",
         "type": "float"
        },
        {
         "name": "Gene 337",
         "rawType": "float64",
         "type": "float"
        },
        {
         "name": "Gene 338",
         "rawType": "float64",
         "type": "float"
        },
        {
         "name": "Gene 339",
         "rawType": "float64",
         "type": "float"
        },
        {
         "name": "Gene 340",
         "rawType": "float64",
         "type": "float"
        },
        {
         "name": "Gene 341",
         "rawType": "float64",
         "type": "float"
        },
        {
         "name": "Gene 342",
         "rawType": "float64",
         "type": "float"
        },
        {
         "name": "Gene 343",
         "rawType": "float64",
         "type": "float"
        },
        {
         "name": "Gene 344",
         "rawType": "float64",
         "type": "float"
        },
        {
         "name": "Gene 345",
         "rawType": "float64",
         "type": "float"
        },
        {
         "name": "Gene 346",
         "rawType": "float64",
         "type": "float"
        },
        {
         "name": "Gene 347",
         "rawType": "float64",
         "type": "float"
        },
        {
         "name": "Gene 348",
         "rawType": "float64",
         "type": "float"
        },
        {
         "name": "Gene 349",
         "rawType": "float64",
         "type": "float"
        },
        {
         "name": "Gene 350",
         "rawType": "float64",
         "type": "float"
        },
        {
         "name": "Gene 351",
         "rawType": "float64",
         "type": "float"
        },
        {
         "name": "Gene 352",
         "rawType": "float64",
         "type": "float"
        },
        {
         "name": "Gene 353",
         "rawType": "float64",
         "type": "float"
        },
        {
         "name": "Gene 354",
         "rawType": "float64",
         "type": "float"
        },
        {
         "name": "Gene 355",
         "rawType": "float64",
         "type": "float"
        },
        {
         "name": "Gene 356",
         "rawType": "float64",
         "type": "float"
        },
        {
         "name": "Gene 357",
         "rawType": "float64",
         "type": "float"
        },
        {
         "name": "Gene 358",
         "rawType": "float64",
         "type": "float"
        },
        {
         "name": "Gene 359",
         "rawType": "float64",
         "type": "float"
        },
        {
         "name": "Gene 360",
         "rawType": "float64",
         "type": "float"
        },
        {
         "name": "Gene 361",
         "rawType": "float64",
         "type": "float"
        },
        {
         "name": "Gene 362",
         "rawType": "float64",
         "type": "float"
        },
        {
         "name": "Gene 363",
         "rawType": "float64",
         "type": "float"
        },
        {
         "name": "Gene 364",
         "rawType": "float64",
         "type": "float"
        },
        {
         "name": "Gene 365",
         "rawType": "float64",
         "type": "float"
        },
        {
         "name": "Gene 366",
         "rawType": "float64",
         "type": "float"
        },
        {
         "name": "Gene 367",
         "rawType": "float64",
         "type": "float"
        },
        {
         "name": "Gene 368",
         "rawType": "float64",
         "type": "float"
        },
        {
         "name": "Gene 369",
         "rawType": "float64",
         "type": "float"
        },
        {
         "name": "Gene 370",
         "rawType": "float64",
         "type": "float"
        },
        {
         "name": "Gene 371",
         "rawType": "float64",
         "type": "float"
        },
        {
         "name": "Gene 372",
         "rawType": "float64",
         "type": "float"
        },
        {
         "name": "Gene 373",
         "rawType": "float64",
         "type": "float"
        },
        {
         "name": "Gene 374",
         "rawType": "float64",
         "type": "float"
        },
        {
         "name": "Gene 375",
         "rawType": "float64",
         "type": "float"
        },
        {
         "name": "Gene 376",
         "rawType": "float64",
         "type": "float"
        },
        {
         "name": "Gene 377",
         "rawType": "float64",
         "type": "float"
        },
        {
         "name": "Gene 378",
         "rawType": "float64",
         "type": "float"
        },
        {
         "name": "Gene 379",
         "rawType": "float64",
         "type": "float"
        },
        {
         "name": "Gene 380",
         "rawType": "float64",
         "type": "float"
        },
        {
         "name": "Gene 381",
         "rawType": "float64",
         "type": "float"
        },
        {
         "name": "Gene 382",
         "rawType": "float64",
         "type": "float"
        },
        {
         "name": "Gene 383",
         "rawType": "float64",
         "type": "float"
        },
        {
         "name": "Gene 384",
         "rawType": "float64",
         "type": "float"
        },
        {
         "name": "Gene 385",
         "rawType": "float64",
         "type": "float"
        },
        {
         "name": "Gene 386",
         "rawType": "float64",
         "type": "float"
        },
        {
         "name": "Gene 387",
         "rawType": "float64",
         "type": "float"
        },
        {
         "name": "Gene 388",
         "rawType": "float64",
         "type": "float"
        },
        {
         "name": "Gene 389",
         "rawType": "float64",
         "type": "float"
        },
        {
         "name": "Gene 390",
         "rawType": "float64",
         "type": "float"
        },
        {
         "name": "Gene 391",
         "rawType": "float64",
         "type": "float"
        },
        {
         "name": "Gene 392",
         "rawType": "float64",
         "type": "float"
        },
        {
         "name": "Gene 393",
         "rawType": "float64",
         "type": "float"
        },
        {
         "name": "Gene 394",
         "rawType": "float64",
         "type": "float"
        },
        {
         "name": "Gene 395",
         "rawType": "float64",
         "type": "float"
        },
        {
         "name": "Gene 396",
         "rawType": "float64",
         "type": "float"
        },
        {
         "name": "Gene 397",
         "rawType": "float64",
         "type": "float"
        },
        {
         "name": "Gene 398",
         "rawType": "float64",
         "type": "float"
        },
        {
         "name": "Gene 399",
         "rawType": "float64",
         "type": "float"
        },
        {
         "name": "Gene 400",
         "rawType": "float64",
         "type": "float"
        },
        {
         "name": "Gene 401",
         "rawType": "float64",
         "type": "float"
        },
        {
         "name": "Gene 402",
         "rawType": "float64",
         "type": "float"
        },
        {
         "name": "Gene 403",
         "rawType": "float64",
         "type": "float"
        },
        {
         "name": "Gene 404",
         "rawType": "float64",
         "type": "float"
        },
        {
         "name": "Gene 405",
         "rawType": "float64",
         "type": "float"
        },
        {
         "name": "Gene 406",
         "rawType": "float64",
         "type": "float"
        },
        {
         "name": "Gene 407",
         "rawType": "float64",
         "type": "float"
        },
        {
         "name": "Gene 408",
         "rawType": "float64",
         "type": "float"
        },
        {
         "name": "Gene 409",
         "rawType": "float64",
         "type": "float"
        },
        {
         "name": "Gene 410",
         "rawType": "float64",
         "type": "float"
        },
        {
         "name": "Gene 411",
         "rawType": "float64",
         "type": "float"
        },
        {
         "name": "Gene 412",
         "rawType": "float64",
         "type": "float"
        },
        {
         "name": "Gene 413",
         "rawType": "float64",
         "type": "float"
        },
        {
         "name": "Gene 414",
         "rawType": "float64",
         "type": "float"
        },
        {
         "name": "Gene 415",
         "rawType": "float64",
         "type": "float"
        },
        {
         "name": "Gene 416",
         "rawType": "float64",
         "type": "float"
        },
        {
         "name": "Gene 417",
         "rawType": "float64",
         "type": "float"
        },
        {
         "name": "Gene 418",
         "rawType": "float64",
         "type": "float"
        },
        {
         "name": "Gene 419",
         "rawType": "float64",
         "type": "float"
        },
        {
         "name": "Gene 420",
         "rawType": "float64",
         "type": "float"
        },
        {
         "name": "Gene 421",
         "rawType": "float64",
         "type": "float"
        },
        {
         "name": "Gene 422",
         "rawType": "float64",
         "type": "float"
        },
        {
         "name": "Gene 423",
         "rawType": "float64",
         "type": "float"
        },
        {
         "name": "Gene 424",
         "rawType": "float64",
         "type": "float"
        },
        {
         "name": "Gene 425",
         "rawType": "float64",
         "type": "float"
        },
        {
         "name": "Gene 426",
         "rawType": "float64",
         "type": "float"
        },
        {
         "name": "Gene 427",
         "rawType": "float64",
         "type": "float"
        },
        {
         "name": "Gene 428",
         "rawType": "float64",
         "type": "float"
        },
        {
         "name": "Gene 429",
         "rawType": "float64",
         "type": "float"
        },
        {
         "name": "Gene 430",
         "rawType": "float64",
         "type": "float"
        },
        {
         "name": "Gene 431",
         "rawType": "float64",
         "type": "float"
        },
        {
         "name": "Gene 432",
         "rawType": "float64",
         "type": "float"
        },
        {
         "name": "Gene 433",
         "rawType": "float64",
         "type": "float"
        },
        {
         "name": "Gene 434",
         "rawType": "float64",
         "type": "float"
        },
        {
         "name": "Gene 435",
         "rawType": "float64",
         "type": "float"
        },
        {
         "name": "Gene 436",
         "rawType": "float64",
         "type": "float"
        },
        {
         "name": "Gene 437",
         "rawType": "float64",
         "type": "float"
        },
        {
         "name": "Gene 438",
         "rawType": "float64",
         "type": "float"
        },
        {
         "name": "Gene 439",
         "rawType": "float64",
         "type": "float"
        },
        {
         "name": "Gene 440",
         "rawType": "float64",
         "type": "float"
        },
        {
         "name": "Gene 441",
         "rawType": "float64",
         "type": "float"
        },
        {
         "name": "Gene 442",
         "rawType": "float64",
         "type": "float"
        },
        {
         "name": "Gene 443",
         "rawType": "float64",
         "type": "float"
        },
        {
         "name": "Gene 444",
         "rawType": "float64",
         "type": "float"
        },
        {
         "name": "Gene 445",
         "rawType": "float64",
         "type": "float"
        },
        {
         "name": "Gene 446",
         "rawType": "float64",
         "type": "float"
        },
        {
         "name": "Gene 447",
         "rawType": "float64",
         "type": "float"
        },
        {
         "name": "Gene 448",
         "rawType": "float64",
         "type": "float"
        },
        {
         "name": "Gene 449",
         "rawType": "float64",
         "type": "float"
        },
        {
         "name": "Gene 450",
         "rawType": "float64",
         "type": "float"
        },
        {
         "name": "Gene 451",
         "rawType": "float64",
         "type": "float"
        },
        {
         "name": "Gene 452",
         "rawType": "float64",
         "type": "float"
        },
        {
         "name": "Gene 453",
         "rawType": "float64",
         "type": "float"
        },
        {
         "name": "Gene 454",
         "rawType": "float64",
         "type": "float"
        },
        {
         "name": "Gene 455",
         "rawType": "float64",
         "type": "float"
        },
        {
         "name": "Gene 456",
         "rawType": "float64",
         "type": "float"
        },
        {
         "name": "Gene 457",
         "rawType": "float64",
         "type": "float"
        },
        {
         "name": "Gene 458",
         "rawType": "float64",
         "type": "float"
        },
        {
         "name": "Gene 459",
         "rawType": "float64",
         "type": "float"
        },
        {
         "name": "Gene 460",
         "rawType": "float64",
         "type": "float"
        },
        {
         "name": "Gene 461",
         "rawType": "float64",
         "type": "float"
        },
        {
         "name": "Gene 462",
         "rawType": "float64",
         "type": "float"
        },
        {
         "name": "Gene 463",
         "rawType": "float64",
         "type": "float"
        },
        {
         "name": "Gene 464",
         "rawType": "float64",
         "type": "float"
        },
        {
         "name": "Gene 465",
         "rawType": "float64",
         "type": "float"
        },
        {
         "name": "Gene 466",
         "rawType": "float64",
         "type": "float"
        },
        {
         "name": "Gene 467",
         "rawType": "float64",
         "type": "float"
        },
        {
         "name": "Gene 468",
         "rawType": "float64",
         "type": "float"
        },
        {
         "name": "Gene 469",
         "rawType": "float64",
         "type": "float"
        },
        {
         "name": "Gene 470",
         "rawType": "float64",
         "type": "float"
        },
        {
         "name": "Gene 471",
         "rawType": "float64",
         "type": "float"
        },
        {
         "name": "Gene 472",
         "rawType": "float64",
         "type": "float"
        },
        {
         "name": "Gene 473",
         "rawType": "float64",
         "type": "float"
        },
        {
         "name": "Gene 474",
         "rawType": "float64",
         "type": "float"
        },
        {
         "name": "Gene 475",
         "rawType": "float64",
         "type": "float"
        },
        {
         "name": "Gene 476",
         "rawType": "float64",
         "type": "float"
        },
        {
         "name": "Gene 477",
         "rawType": "float64",
         "type": "float"
        },
        {
         "name": "Gene 478",
         "rawType": "float64",
         "type": "float"
        },
        {
         "name": "Gene 479",
         "rawType": "float64",
         "type": "float"
        },
        {
         "name": "Gene 480",
         "rawType": "float64",
         "type": "float"
        },
        {
         "name": "Gene 481",
         "rawType": "float64",
         "type": "float"
        },
        {
         "name": "Gene 482",
         "rawType": "float64",
         "type": "float"
        },
        {
         "name": "Gene 483",
         "rawType": "float64",
         "type": "float"
        },
        {
         "name": "Gene 484",
         "rawType": "float64",
         "type": "float"
        },
        {
         "name": "Gene 485",
         "rawType": "float64",
         "type": "float"
        },
        {
         "name": "Gene 486",
         "rawType": "float64",
         "type": "float"
        },
        {
         "name": "Gene 487",
         "rawType": "float64",
         "type": "float"
        },
        {
         "name": "Gene 488",
         "rawType": "float64",
         "type": "float"
        },
        {
         "name": "Gene 489",
         "rawType": "float64",
         "type": "float"
        },
        {
         "name": "Gene 490",
         "rawType": "float64",
         "type": "float"
        },
        {
         "name": "Gene 491",
         "rawType": "float64",
         "type": "float"
        },
        {
         "name": "Gene 492",
         "rawType": "float64",
         "type": "float"
        },
        {
         "name": "Gene 493",
         "rawType": "float64",
         "type": "float"
        },
        {
         "name": "Gene 494",
         "rawType": "float64",
         "type": "float"
        },
        {
         "name": "Gene 495",
         "rawType": "float64",
         "type": "float"
        },
        {
         "name": "Gene 496",
         "rawType": "float64",
         "type": "float"
        },
        {
         "name": "Gene 497",
         "rawType": "float64",
         "type": "float"
        },
        {
         "name": "Gene 498",
         "rawType": "float64",
         "type": "float"
        },
        {
         "name": "Gene 499",
         "rawType": "float64",
         "type": "float"
        },
        {
         "name": "Gene 500",
         "rawType": "float64",
         "type": "float"
        },
        {
         "name": "Gene 501",
         "rawType": "float64",
         "type": "float"
        },
        {
         "name": "Gene 502",
         "rawType": "float64",
         "type": "float"
        },
        {
         "name": "Gene 503",
         "rawType": "float64",
         "type": "float"
        },
        {
         "name": "Gene 504",
         "rawType": "float64",
         "type": "float"
        },
        {
         "name": "Gene 505",
         "rawType": "float64",
         "type": "float"
        },
        {
         "name": "Gene 506",
         "rawType": "float64",
         "type": "float"
        },
        {
         "name": "Gene 507",
         "rawType": "float64",
         "type": "float"
        },
        {
         "name": "Gene 508",
         "rawType": "float64",
         "type": "float"
        },
        {
         "name": "Gene 509",
         "rawType": "float64",
         "type": "float"
        },
        {
         "name": "Gene 510",
         "rawType": "float64",
         "type": "float"
        },
        {
         "name": "Gene 511",
         "rawType": "float64",
         "type": "float"
        },
        {
         "name": "Gene 512",
         "rawType": "float64",
         "type": "float"
        },
        {
         "name": "Gene 513",
         "rawType": "float64",
         "type": "float"
        },
        {
         "name": "Gene 514",
         "rawType": "float64",
         "type": "float"
        },
        {
         "name": "Gene 515",
         "rawType": "float64",
         "type": "float"
        },
        {
         "name": "Gene 516",
         "rawType": "float64",
         "type": "float"
        },
        {
         "name": "Gene 517",
         "rawType": "float64",
         "type": "float"
        },
        {
         "name": "Gene 518",
         "rawType": "float64",
         "type": "float"
        },
        {
         "name": "Gene 519",
         "rawType": "float64",
         "type": "float"
        },
        {
         "name": "Gene 520",
         "rawType": "float64",
         "type": "float"
        },
        {
         "name": "Gene 521",
         "rawType": "float64",
         "type": "float"
        },
        {
         "name": "Gene 522",
         "rawType": "float64",
         "type": "float"
        },
        {
         "name": "Gene 523",
         "rawType": "float64",
         "type": "float"
        },
        {
         "name": "Gene 524",
         "rawType": "float64",
         "type": "float"
        },
        {
         "name": "Gene 525",
         "rawType": "float64",
         "type": "float"
        },
        {
         "name": "Gene 526",
         "rawType": "float64",
         "type": "float"
        },
        {
         "name": "Gene 527",
         "rawType": "float64",
         "type": "float"
        },
        {
         "name": "Gene 528",
         "rawType": "float64",
         "type": "float"
        },
        {
         "name": "Gene 529",
         "rawType": "float64",
         "type": "float"
        },
        {
         "name": "Gene 530",
         "rawType": "float64",
         "type": "float"
        },
        {
         "name": "Gene 531",
         "rawType": "float64",
         "type": "float"
        },
        {
         "name": "Gene 532",
         "rawType": "float64",
         "type": "float"
        },
        {
         "name": "Gene 533",
         "rawType": "float64",
         "type": "float"
        },
        {
         "name": "Gene 534",
         "rawType": "float64",
         "type": "float"
        },
        {
         "name": "Gene 535",
         "rawType": "float64",
         "type": "float"
        },
        {
         "name": "Gene 536",
         "rawType": "float64",
         "type": "float"
        },
        {
         "name": "Gene 537",
         "rawType": "float64",
         "type": "float"
        },
        {
         "name": "Gene 538",
         "rawType": "float64",
         "type": "float"
        },
        {
         "name": "Gene 539",
         "rawType": "float64",
         "type": "float"
        },
        {
         "name": "Gene 540",
         "rawType": "float64",
         "type": "float"
        },
        {
         "name": "Gene 541",
         "rawType": "float64",
         "type": "float"
        },
        {
         "name": "Gene 542",
         "rawType": "float64",
         "type": "float"
        },
        {
         "name": "Gene 543",
         "rawType": "float64",
         "type": "float"
        },
        {
         "name": "Gene 544",
         "rawType": "float64",
         "type": "float"
        },
        {
         "name": "Gene 545",
         "rawType": "float64",
         "type": "float"
        },
        {
         "name": "Gene 546",
         "rawType": "float64",
         "type": "float"
        },
        {
         "name": "Gene 547",
         "rawType": "float64",
         "type": "float"
        },
        {
         "name": "Gene 548",
         "rawType": "float64",
         "type": "float"
        },
        {
         "name": "Gene 549",
         "rawType": "float64",
         "type": "float"
        },
        {
         "name": "Gene 550",
         "rawType": "float64",
         "type": "float"
        },
        {
         "name": "Gene 551",
         "rawType": "float64",
         "type": "float"
        },
        {
         "name": "Gene 552",
         "rawType": "float64",
         "type": "float"
        },
        {
         "name": "Gene 553",
         "rawType": "float64",
         "type": "float"
        },
        {
         "name": "Gene 554",
         "rawType": "float64",
         "type": "float"
        },
        {
         "name": "Gene 555",
         "rawType": "float64",
         "type": "float"
        },
        {
         "name": "Gene 556",
         "rawType": "float64",
         "type": "float"
        },
        {
         "name": "Gene 557",
         "rawType": "float64",
         "type": "float"
        },
        {
         "name": "Gene 558",
         "rawType": "float64",
         "type": "float"
        },
        {
         "name": "Gene 559",
         "rawType": "float64",
         "type": "float"
        },
        {
         "name": "Gene 560",
         "rawType": "float64",
         "type": "float"
        },
        {
         "name": "Gene 561",
         "rawType": "float64",
         "type": "float"
        },
        {
         "name": "Gene 562",
         "rawType": "float64",
         "type": "float"
        },
        {
         "name": "Gene 563",
         "rawType": "float64",
         "type": "float"
        },
        {
         "name": "Gene 564",
         "rawType": "float64",
         "type": "float"
        },
        {
         "name": "Gene 565",
         "rawType": "float64",
         "type": "float"
        },
        {
         "name": "Gene 566",
         "rawType": "float64",
         "type": "float"
        },
        {
         "name": "Gene 567",
         "rawType": "float64",
         "type": "float"
        },
        {
         "name": "Gene 568",
         "rawType": "float64",
         "type": "float"
        },
        {
         "name": "Gene 569",
         "rawType": "float64",
         "type": "float"
        },
        {
         "name": "Gene 570",
         "rawType": "float64",
         "type": "float"
        },
        {
         "name": "Gene 571",
         "rawType": "float64",
         "type": "float"
        },
        {
         "name": "Gene 572",
         "rawType": "float64",
         "type": "float"
        },
        {
         "name": "Gene 573",
         "rawType": "float64",
         "type": "float"
        },
        {
         "name": "Gene 574",
         "rawType": "float64",
         "type": "float"
        },
        {
         "name": "Gene 575",
         "rawType": "float64",
         "type": "float"
        },
        {
         "name": "Gene 576",
         "rawType": "float64",
         "type": "float"
        },
        {
         "name": "Gene 577",
         "rawType": "float64",
         "type": "float"
        },
        {
         "name": "Gene 578",
         "rawType": "float64",
         "type": "float"
        },
        {
         "name": "Gene 579",
         "rawType": "float64",
         "type": "float"
        },
        {
         "name": "Gene 580",
         "rawType": "float64",
         "type": "float"
        },
        {
         "name": "Gene 581",
         "rawType": "float64",
         "type": "float"
        },
        {
         "name": "Gene 582",
         "rawType": "float64",
         "type": "float"
        },
        {
         "name": "Gene 583",
         "rawType": "float64",
         "type": "float"
        },
        {
         "name": "Gene 584",
         "rawType": "float64",
         "type": "float"
        },
        {
         "name": "Gene 585",
         "rawType": "float64",
         "type": "float"
        },
        {
         "name": "Gene 586",
         "rawType": "float64",
         "type": "float"
        },
        {
         "name": "Gene 587",
         "rawType": "float64",
         "type": "float"
        },
        {
         "name": "Gene 588",
         "rawType": "float64",
         "type": "float"
        },
        {
         "name": "Gene 589",
         "rawType": "float64",
         "type": "float"
        },
        {
         "name": "Gene 590",
         "rawType": "float64",
         "type": "float"
        },
        {
         "name": "Gene 591",
         "rawType": "float64",
         "type": "float"
        },
        {
         "name": "Gene 592",
         "rawType": "float64",
         "type": "float"
        },
        {
         "name": "Gene 593",
         "rawType": "float64",
         "type": "float"
        },
        {
         "name": "Gene 594",
         "rawType": "float64",
         "type": "float"
        },
        {
         "name": "Gene 595",
         "rawType": "float64",
         "type": "float"
        },
        {
         "name": "Gene 596",
         "rawType": "float64",
         "type": "float"
        },
        {
         "name": "Gene 597",
         "rawType": "float64",
         "type": "float"
        },
        {
         "name": "Gene 598",
         "rawType": "float64",
         "type": "float"
        },
        {
         "name": "Gene 599",
         "rawType": "float64",
         "type": "float"
        },
        {
         "name": "Gene 600",
         "rawType": "float64",
         "type": "float"
        },
        {
         "name": "Gene 601",
         "rawType": "float64",
         "type": "float"
        },
        {
         "name": "Gene 602",
         "rawType": "float64",
         "type": "float"
        },
        {
         "name": "Gene 603",
         "rawType": "float64",
         "type": "float"
        },
        {
         "name": "Gene 604",
         "rawType": "float64",
         "type": "float"
        },
        {
         "name": "Gene 605",
         "rawType": "float64",
         "type": "float"
        },
        {
         "name": "Gene 606",
         "rawType": "float64",
         "type": "float"
        },
        {
         "name": "Gene 607",
         "rawType": "float64",
         "type": "float"
        },
        {
         "name": "Gene 608",
         "rawType": "float64",
         "type": "float"
        },
        {
         "name": "Gene 609",
         "rawType": "float64",
         "type": "float"
        },
        {
         "name": "Gene 610",
         "rawType": "float64",
         "type": "float"
        },
        {
         "name": "Gene 611",
         "rawType": "float64",
         "type": "float"
        },
        {
         "name": "Gene 612",
         "rawType": "float64",
         "type": "float"
        },
        {
         "name": "Gene 613",
         "rawType": "float64",
         "type": "float"
        },
        {
         "name": "Gene 614",
         "rawType": "float64",
         "type": "float"
        },
        {
         "name": "Gene 615",
         "rawType": "float64",
         "type": "float"
        },
        {
         "name": "Gene 616",
         "rawType": "float64",
         "type": "float"
        },
        {
         "name": "Gene 617",
         "rawType": "float64",
         "type": "float"
        },
        {
         "name": "Gene 618",
         "rawType": "float64",
         "type": "float"
        },
        {
         "name": "Gene 619",
         "rawType": "float64",
         "type": "float"
        },
        {
         "name": "Gene 620",
         "rawType": "float64",
         "type": "float"
        },
        {
         "name": "Gene 621",
         "rawType": "float64",
         "type": "float"
        },
        {
         "name": "Gene 622",
         "rawType": "float64",
         "type": "float"
        },
        {
         "name": "Gene 623",
         "rawType": "float64",
         "type": "float"
        },
        {
         "name": "Gene 624",
         "rawType": "float64",
         "type": "float"
        },
        {
         "name": "Gene 625",
         "rawType": "float64",
         "type": "float"
        },
        {
         "name": "Gene 626",
         "rawType": "float64",
         "type": "float"
        },
        {
         "name": "Gene 627",
         "rawType": "float64",
         "type": "float"
        },
        {
         "name": "Gene 628",
         "rawType": "float64",
         "type": "float"
        },
        {
         "name": "Gene 629",
         "rawType": "float64",
         "type": "float"
        },
        {
         "name": "Gene 630",
         "rawType": "float64",
         "type": "float"
        },
        {
         "name": "Gene 631",
         "rawType": "float64",
         "type": "float"
        },
        {
         "name": "Gene 632",
         "rawType": "float64",
         "type": "float"
        },
        {
         "name": "Gene 633",
         "rawType": "float64",
         "type": "float"
        },
        {
         "name": "Gene 634",
         "rawType": "float64",
         "type": "float"
        },
        {
         "name": "Gene 635",
         "rawType": "float64",
         "type": "float"
        },
        {
         "name": "Gene 636",
         "rawType": "float64",
         "type": "float"
        },
        {
         "name": "Gene 637",
         "rawType": "float64",
         "type": "float"
        },
        {
         "name": "Gene 638",
         "rawType": "float64",
         "type": "float"
        },
        {
         "name": "Gene 639",
         "rawType": "float64",
         "type": "float"
        },
        {
         "name": "Gene 640",
         "rawType": "float64",
         "type": "float"
        },
        {
         "name": "Gene 641",
         "rawType": "float64",
         "type": "float"
        },
        {
         "name": "Gene 642",
         "rawType": "float64",
         "type": "float"
        },
        {
         "name": "Gene 643",
         "rawType": "float64",
         "type": "float"
        },
        {
         "name": "Gene 644",
         "rawType": "float64",
         "type": "float"
        },
        {
         "name": "Gene 645",
         "rawType": "float64",
         "type": "float"
        },
        {
         "name": "Gene 646",
         "rawType": "float64",
         "type": "float"
        },
        {
         "name": "Gene 647",
         "rawType": "float64",
         "type": "float"
        },
        {
         "name": "Gene 648",
         "rawType": "float64",
         "type": "float"
        },
        {
         "name": "Gene 649",
         "rawType": "float64",
         "type": "float"
        },
        {
         "name": "Gene 650",
         "rawType": "float64",
         "type": "float"
        },
        {
         "name": "Gene 651",
         "rawType": "float64",
         "type": "float"
        },
        {
         "name": "Gene 652",
         "rawType": "float64",
         "type": "float"
        },
        {
         "name": "Gene 653",
         "rawType": "float64",
         "type": "float"
        },
        {
         "name": "Gene 654",
         "rawType": "float64",
         "type": "float"
        },
        {
         "name": "Gene 655",
         "rawType": "float64",
         "type": "float"
        },
        {
         "name": "Gene 656",
         "rawType": "float64",
         "type": "float"
        },
        {
         "name": "Gene 657",
         "rawType": "float64",
         "type": "float"
        },
        {
         "name": "Gene 658",
         "rawType": "float64",
         "type": "float"
        },
        {
         "name": "Gene 659",
         "rawType": "float64",
         "type": "float"
        },
        {
         "name": "Gene 660",
         "rawType": "float64",
         "type": "float"
        },
        {
         "name": "Gene 661",
         "rawType": "float64",
         "type": "float"
        },
        {
         "name": "Gene 662",
         "rawType": "float64",
         "type": "float"
        },
        {
         "name": "Gene 663",
         "rawType": "float64",
         "type": "float"
        },
        {
         "name": "Gene 664",
         "rawType": "float64",
         "type": "float"
        },
        {
         "name": "Gene 665",
         "rawType": "float64",
         "type": "float"
        },
        {
         "name": "Gene 666",
         "rawType": "float64",
         "type": "float"
        },
        {
         "name": "Gene 667",
         "rawType": "float64",
         "type": "float"
        },
        {
         "name": "Gene 668",
         "rawType": "float64",
         "type": "float"
        },
        {
         "name": "Gene 669",
         "rawType": "float64",
         "type": "float"
        },
        {
         "name": "Gene 670",
         "rawType": "float64",
         "type": "float"
        },
        {
         "name": "Gene 671",
         "rawType": "float64",
         "type": "float"
        },
        {
         "name": "Gene 672",
         "rawType": "float64",
         "type": "float"
        },
        {
         "name": "Gene 673",
         "rawType": "float64",
         "type": "float"
        },
        {
         "name": "Gene 674",
         "rawType": "float64",
         "type": "float"
        },
        {
         "name": "Gene 675",
         "rawType": "float64",
         "type": "float"
        },
        {
         "name": "Gene 676",
         "rawType": "float64",
         "type": "float"
        },
        {
         "name": "Gene 677",
         "rawType": "float64",
         "type": "float"
        },
        {
         "name": "Gene 678",
         "rawType": "float64",
         "type": "float"
        },
        {
         "name": "Gene 679",
         "rawType": "float64",
         "type": "float"
        },
        {
         "name": "Gene 680",
         "rawType": "float64",
         "type": "float"
        },
        {
         "name": "Gene 681",
         "rawType": "float64",
         "type": "float"
        },
        {
         "name": "Gene 682",
         "rawType": "float64",
         "type": "float"
        },
        {
         "name": "Gene 683",
         "rawType": "float64",
         "type": "float"
        },
        {
         "name": "Gene 684",
         "rawType": "float64",
         "type": "float"
        },
        {
         "name": "Gene 685",
         "rawType": "float64",
         "type": "float"
        },
        {
         "name": "Gene 686",
         "rawType": "float64",
         "type": "float"
        },
        {
         "name": "Gene 687",
         "rawType": "float64",
         "type": "float"
        },
        {
         "name": "Gene 688",
         "rawType": "float64",
         "type": "float"
        },
        {
         "name": "Gene 689",
         "rawType": "float64",
         "type": "float"
        },
        {
         "name": "Gene 690",
         "rawType": "float64",
         "type": "float"
        },
        {
         "name": "Gene 691",
         "rawType": "float64",
         "type": "float"
        },
        {
         "name": "Gene 692",
         "rawType": "float64",
         "type": "float"
        },
        {
         "name": "Gene 693",
         "rawType": "float64",
         "type": "float"
        },
        {
         "name": "Gene 694",
         "rawType": "float64",
         "type": "float"
        },
        {
         "name": "Gene 695",
         "rawType": "float64",
         "type": "float"
        },
        {
         "name": "Gene 696",
         "rawType": "float64",
         "type": "float"
        },
        {
         "name": "Gene 697",
         "rawType": "float64",
         "type": "float"
        },
        {
         "name": "Gene 698",
         "rawType": "float64",
         "type": "float"
        },
        {
         "name": "Gene 699",
         "rawType": "float64",
         "type": "float"
        },
        {
         "name": "Gene 700",
         "rawType": "float64",
         "type": "float"
        },
        {
         "name": "Gene 701",
         "rawType": "float64",
         "type": "float"
        },
        {
         "name": "Gene 702",
         "rawType": "float64",
         "type": "float"
        },
        {
         "name": "Gene 703",
         "rawType": "float64",
         "type": "float"
        },
        {
         "name": "Gene 704",
         "rawType": "float64",
         "type": "float"
        },
        {
         "name": "Gene 705",
         "rawType": "float64",
         "type": "float"
        },
        {
         "name": "Gene 706",
         "rawType": "float64",
         "type": "float"
        },
        {
         "name": "Gene 707",
         "rawType": "float64",
         "type": "float"
        },
        {
         "name": "Gene 708",
         "rawType": "float64",
         "type": "float"
        },
        {
         "name": "Gene 709",
         "rawType": "float64",
         "type": "float"
        },
        {
         "name": "Gene 710",
         "rawType": "float64",
         "type": "float"
        },
        {
         "name": "Gene 711",
         "rawType": "float64",
         "type": "float"
        },
        {
         "name": "Gene 712",
         "rawType": "float64",
         "type": "float"
        },
        {
         "name": "Gene 713",
         "rawType": "float64",
         "type": "float"
        },
        {
         "name": "Gene 714",
         "rawType": "float64",
         "type": "float"
        },
        {
         "name": "Gene 715",
         "rawType": "float64",
         "type": "float"
        },
        {
         "name": "Gene 716",
         "rawType": "float64",
         "type": "float"
        },
        {
         "name": "Gene 717",
         "rawType": "float64",
         "type": "float"
        },
        {
         "name": "Gene 718",
         "rawType": "float64",
         "type": "float"
        },
        {
         "name": "Gene 719",
         "rawType": "float64",
         "type": "float"
        },
        {
         "name": "Gene 720",
         "rawType": "float64",
         "type": "float"
        },
        {
         "name": "Gene 721",
         "rawType": "float64",
         "type": "float"
        },
        {
         "name": "Gene 722",
         "rawType": "float64",
         "type": "float"
        },
        {
         "name": "Gene 723",
         "rawType": "float64",
         "type": "float"
        },
        {
         "name": "Gene 724",
         "rawType": "float64",
         "type": "float"
        },
        {
         "name": "Gene 725",
         "rawType": "float64",
         "type": "float"
        },
        {
         "name": "Gene 726",
         "rawType": "float64",
         "type": "float"
        },
        {
         "name": "Gene 727",
         "rawType": "float64",
         "type": "float"
        },
        {
         "name": "Gene 728",
         "rawType": "float64",
         "type": "float"
        },
        {
         "name": "Gene 729",
         "rawType": "float64",
         "type": "float"
        },
        {
         "name": "Gene 730",
         "rawType": "float64",
         "type": "float"
        },
        {
         "name": "Gene 731",
         "rawType": "float64",
         "type": "float"
        },
        {
         "name": "Gene 732",
         "rawType": "float64",
         "type": "float"
        },
        {
         "name": "Gene 733",
         "rawType": "float64",
         "type": "float"
        },
        {
         "name": "Gene 734",
         "rawType": "float64",
         "type": "float"
        },
        {
         "name": "Gene 735",
         "rawType": "float64",
         "type": "float"
        },
        {
         "name": "Gene 736",
         "rawType": "float64",
         "type": "float"
        },
        {
         "name": "Gene 737",
         "rawType": "float64",
         "type": "float"
        },
        {
         "name": "Gene 738",
         "rawType": "float64",
         "type": "float"
        },
        {
         "name": "Gene 739",
         "rawType": "float64",
         "type": "float"
        },
        {
         "name": "Gene 740",
         "rawType": "float64",
         "type": "float"
        },
        {
         "name": "Gene 741",
         "rawType": "float64",
         "type": "float"
        },
        {
         "name": "Gene 742",
         "rawType": "float64",
         "type": "float"
        },
        {
         "name": "Gene 743",
         "rawType": "float64",
         "type": "float"
        },
        {
         "name": "Gene 744",
         "rawType": "float64",
         "type": "float"
        },
        {
         "name": "Gene 745",
         "rawType": "float64",
         "type": "float"
        },
        {
         "name": "Gene 746",
         "rawType": "float64",
         "type": "float"
        },
        {
         "name": "Gene 747",
         "rawType": "float64",
         "type": "float"
        },
        {
         "name": "Gene 748",
         "rawType": "float64",
         "type": "float"
        },
        {
         "name": "Gene 749",
         "rawType": "float64",
         "type": "float"
        },
        {
         "name": "Gene 750",
         "rawType": "float64",
         "type": "float"
        },
        {
         "name": "Gene 751",
         "rawType": "float64",
         "type": "float"
        },
        {
         "name": "Gene 752",
         "rawType": "float64",
         "type": "float"
        },
        {
         "name": "Gene 753",
         "rawType": "float64",
         "type": "float"
        },
        {
         "name": "Gene 754",
         "rawType": "float64",
         "type": "float"
        },
        {
         "name": "Gene 755",
         "rawType": "float64",
         "type": "float"
        },
        {
         "name": "Gene 756",
         "rawType": "float64",
         "type": "float"
        },
        {
         "name": "Gene 757",
         "rawType": "float64",
         "type": "float"
        },
        {
         "name": "Gene 758",
         "rawType": "float64",
         "type": "float"
        },
        {
         "name": "Gene 759",
         "rawType": "float64",
         "type": "float"
        },
        {
         "name": "Gene 760",
         "rawType": "float64",
         "type": "float"
        },
        {
         "name": "Gene 761",
         "rawType": "float64",
         "type": "float"
        },
        {
         "name": "Gene 762",
         "rawType": "float64",
         "type": "float"
        },
        {
         "name": "Gene 763",
         "rawType": "float64",
         "type": "float"
        },
        {
         "name": "Gene 764",
         "rawType": "float64",
         "type": "float"
        },
        {
         "name": "Gene 765",
         "rawType": "float64",
         "type": "float"
        },
        {
         "name": "Gene 766",
         "rawType": "float64",
         "type": "float"
        },
        {
         "name": "Gene 767",
         "rawType": "float64",
         "type": "float"
        },
        {
         "name": "Gene 768",
         "rawType": "float64",
         "type": "float"
        },
        {
         "name": "Gene 769",
         "rawType": "float64",
         "type": "float"
        },
        {
         "name": "Gene 770",
         "rawType": "float64",
         "type": "float"
        },
        {
         "name": "Gene 771",
         "rawType": "float64",
         "type": "float"
        },
        {
         "name": "Gene 772",
         "rawType": "float64",
         "type": "float"
        },
        {
         "name": "Gene 773",
         "rawType": "float64",
         "type": "float"
        },
        {
         "name": "Gene 774",
         "rawType": "float64",
         "type": "float"
        },
        {
         "name": "Gene 775",
         "rawType": "float64",
         "type": "float"
        },
        {
         "name": "Gene 776",
         "rawType": "float64",
         "type": "float"
        },
        {
         "name": "Gene 777",
         "rawType": "float64",
         "type": "float"
        },
        {
         "name": "Gene 778",
         "rawType": "float64",
         "type": "float"
        },
        {
         "name": "Gene 779",
         "rawType": "float64",
         "type": "float"
        },
        {
         "name": "Gene 780",
         "rawType": "float64",
         "type": "float"
        },
        {
         "name": "Gene 781",
         "rawType": "float64",
         "type": "float"
        },
        {
         "name": "Gene 782",
         "rawType": "float64",
         "type": "float"
        },
        {
         "name": "Gene 783",
         "rawType": "float64",
         "type": "float"
        },
        {
         "name": "Gene 784",
         "rawType": "float64",
         "type": "float"
        },
        {
         "name": "Gene 785",
         "rawType": "float64",
         "type": "float"
        },
        {
         "name": "Gene 786",
         "rawType": "float64",
         "type": "float"
        },
        {
         "name": "Gene 787",
         "rawType": "float64",
         "type": "float"
        },
        {
         "name": "Gene 788",
         "rawType": "float64",
         "type": "float"
        },
        {
         "name": "Gene 789",
         "rawType": "float64",
         "type": "float"
        },
        {
         "name": "Gene 790",
         "rawType": "float64",
         "type": "float"
        },
        {
         "name": "Gene 791",
         "rawType": "float64",
         "type": "float"
        },
        {
         "name": "Gene 792",
         "rawType": "float64",
         "type": "float"
        },
        {
         "name": "Gene 793",
         "rawType": "float64",
         "type": "float"
        },
        {
         "name": "Gene 794",
         "rawType": "float64",
         "type": "float"
        },
        {
         "name": "Gene 795",
         "rawType": "float64",
         "type": "float"
        },
        {
         "name": "Gene 796",
         "rawType": "float64",
         "type": "float"
        },
        {
         "name": "Gene 797",
         "rawType": "float64",
         "type": "float"
        },
        {
         "name": "Gene 798",
         "rawType": "float64",
         "type": "float"
        },
        {
         "name": "Gene 799",
         "rawType": "float64",
         "type": "float"
        },
        {
         "name": "Gene 800",
         "rawType": "float64",
         "type": "float"
        },
        {
         "name": "Gene 801",
         "rawType": "float64",
         "type": "float"
        },
        {
         "name": "Gene 802",
         "rawType": "float64",
         "type": "float"
        },
        {
         "name": "Gene 803",
         "rawType": "float64",
         "type": "float"
        },
        {
         "name": "Gene 804",
         "rawType": "float64",
         "type": "float"
        },
        {
         "name": "Gene 805",
         "rawType": "float64",
         "type": "float"
        },
        {
         "name": "Gene 806",
         "rawType": "float64",
         "type": "float"
        },
        {
         "name": "Gene 807",
         "rawType": "float64",
         "type": "float"
        },
        {
         "name": "Gene 808",
         "rawType": "float64",
         "type": "float"
        },
        {
         "name": "Gene 809",
         "rawType": "float64",
         "type": "float"
        },
        {
         "name": "Gene 810",
         "rawType": "float64",
         "type": "float"
        },
        {
         "name": "Gene 811",
         "rawType": "float64",
         "type": "float"
        },
        {
         "name": "Gene 812",
         "rawType": "float64",
         "type": "float"
        },
        {
         "name": "Gene 813",
         "rawType": "float64",
         "type": "float"
        },
        {
         "name": "Gene 814",
         "rawType": "float64",
         "type": "float"
        },
        {
         "name": "Gene 815",
         "rawType": "float64",
         "type": "float"
        },
        {
         "name": "Gene 816",
         "rawType": "float64",
         "type": "float"
        },
        {
         "name": "Gene 817",
         "rawType": "float64",
         "type": "float"
        },
        {
         "name": "Gene 818",
         "rawType": "float64",
         "type": "float"
        },
        {
         "name": "Gene 819",
         "rawType": "float64",
         "type": "float"
        },
        {
         "name": "Gene 820",
         "rawType": "float64",
         "type": "float"
        },
        {
         "name": "Gene 821",
         "rawType": "float64",
         "type": "float"
        },
        {
         "name": "Gene 822",
         "rawType": "float64",
         "type": "float"
        },
        {
         "name": "Gene 823",
         "rawType": "float64",
         "type": "float"
        },
        {
         "name": "Gene 824",
         "rawType": "float64",
         "type": "float"
        },
        {
         "name": "Gene 825",
         "rawType": "float64",
         "type": "float"
        },
        {
         "name": "Gene 826",
         "rawType": "float64",
         "type": "float"
        },
        {
         "name": "Gene 827",
         "rawType": "float64",
         "type": "float"
        },
        {
         "name": "Gene 828",
         "rawType": "float64",
         "type": "float"
        },
        {
         "name": "Gene 829",
         "rawType": "float64",
         "type": "float"
        },
        {
         "name": "Gene 830",
         "rawType": "float64",
         "type": "float"
        },
        {
         "name": "Gene 831",
         "rawType": "float64",
         "type": "float"
        },
        {
         "name": "Gene 832",
         "rawType": "float64",
         "type": "float"
        },
        {
         "name": "Gene 833",
         "rawType": "float64",
         "type": "float"
        },
        {
         "name": "Gene 834",
         "rawType": "float64",
         "type": "float"
        },
        {
         "name": "Gene 835",
         "rawType": "float64",
         "type": "float"
        },
        {
         "name": "Gene 836",
         "rawType": "float64",
         "type": "float"
        },
        {
         "name": "Gene 837",
         "rawType": "float64",
         "type": "float"
        },
        {
         "name": "Gene 838",
         "rawType": "float64",
         "type": "float"
        },
        {
         "name": "Gene 839",
         "rawType": "float64",
         "type": "float"
        },
        {
         "name": "Gene 840",
         "rawType": "float64",
         "type": "float"
        },
        {
         "name": "Gene 841",
         "rawType": "float64",
         "type": "float"
        },
        {
         "name": "Gene 842",
         "rawType": "float64",
         "type": "float"
        },
        {
         "name": "Gene 843",
         "rawType": "float64",
         "type": "float"
        },
        {
         "name": "Gene 844",
         "rawType": "float64",
         "type": "float"
        },
        {
         "name": "Gene 845",
         "rawType": "float64",
         "type": "float"
        },
        {
         "name": "Gene 846",
         "rawType": "float64",
         "type": "float"
        },
        {
         "name": "Gene 847",
         "rawType": "float64",
         "type": "float"
        },
        {
         "name": "Gene 848",
         "rawType": "float64",
         "type": "float"
        },
        {
         "name": "Gene 849",
         "rawType": "float64",
         "type": "float"
        },
        {
         "name": "Gene 850",
         "rawType": "float64",
         "type": "float"
        },
        {
         "name": "Gene 851",
         "rawType": "float64",
         "type": "float"
        },
        {
         "name": "Gene 852",
         "rawType": "float64",
         "type": "float"
        },
        {
         "name": "Gene 853",
         "rawType": "float64",
         "type": "float"
        },
        {
         "name": "Gene 854",
         "rawType": "float64",
         "type": "float"
        },
        {
         "name": "Gene 855",
         "rawType": "float64",
         "type": "float"
        },
        {
         "name": "Gene 856",
         "rawType": "float64",
         "type": "float"
        },
        {
         "name": "Gene 857",
         "rawType": "float64",
         "type": "float"
        },
        {
         "name": "Gene 858",
         "rawType": "float64",
         "type": "float"
        },
        {
         "name": "Gene 859",
         "rawType": "float64",
         "type": "float"
        },
        {
         "name": "Gene 860",
         "rawType": "float64",
         "type": "float"
        },
        {
         "name": "Gene 861",
         "rawType": "float64",
         "type": "float"
        },
        {
         "name": "Gene 862",
         "rawType": "float64",
         "type": "float"
        },
        {
         "name": "Gene 863",
         "rawType": "float64",
         "type": "float"
        },
        {
         "name": "Gene 864",
         "rawType": "float64",
         "type": "float"
        },
        {
         "name": "Gene 865",
         "rawType": "float64",
         "type": "float"
        },
        {
         "name": "Gene 866",
         "rawType": "float64",
         "type": "float"
        },
        {
         "name": "Gene 867",
         "rawType": "float64",
         "type": "float"
        },
        {
         "name": "Gene 868",
         "rawType": "float64",
         "type": "float"
        },
        {
         "name": "Gene 869",
         "rawType": "float64",
         "type": "float"
        },
        {
         "name": "Gene 870",
         "rawType": "float64",
         "type": "float"
        },
        {
         "name": "Gene 871",
         "rawType": "float64",
         "type": "float"
        },
        {
         "name": "Gene 872",
         "rawType": "float64",
         "type": "float"
        },
        {
         "name": "Gene 873",
         "rawType": "float64",
         "type": "float"
        },
        {
         "name": "Gene 874",
         "rawType": "float64",
         "type": "float"
        },
        {
         "name": "Gene 875",
         "rawType": "float64",
         "type": "float"
        },
        {
         "name": "Gene 876",
         "rawType": "float64",
         "type": "float"
        },
        {
         "name": "Gene 877",
         "rawType": "float64",
         "type": "float"
        },
        {
         "name": "Gene 878",
         "rawType": "float64",
         "type": "float"
        },
        {
         "name": "Gene 879",
         "rawType": "float64",
         "type": "float"
        },
        {
         "name": "Gene 880",
         "rawType": "float64",
         "type": "float"
        },
        {
         "name": "Gene 881",
         "rawType": "float64",
         "type": "float"
        },
        {
         "name": "Gene 882",
         "rawType": "float64",
         "type": "float"
        },
        {
         "name": "Gene 883",
         "rawType": "float64",
         "type": "float"
        },
        {
         "name": "Gene 884",
         "rawType": "float64",
         "type": "float"
        },
        {
         "name": "Gene 885",
         "rawType": "float64",
         "type": "float"
        },
        {
         "name": "Gene 886",
         "rawType": "float64",
         "type": "float"
        },
        {
         "name": "Gene 887",
         "rawType": "float64",
         "type": "float"
        },
        {
         "name": "Gene 888",
         "rawType": "float64",
         "type": "float"
        },
        {
         "name": "Gene 889",
         "rawType": "float64",
         "type": "float"
        },
        {
         "name": "Gene 890",
         "rawType": "float64",
         "type": "float"
        },
        {
         "name": "Gene 891",
         "rawType": "float64",
         "type": "float"
        },
        {
         "name": "Gene 892",
         "rawType": "float64",
         "type": "float"
        },
        {
         "name": "Gene 893",
         "rawType": "float64",
         "type": "float"
        },
        {
         "name": "Gene 894",
         "rawType": "float64",
         "type": "float"
        },
        {
         "name": "Gene 895",
         "rawType": "float64",
         "type": "float"
        },
        {
         "name": "Gene 896",
         "rawType": "float64",
         "type": "float"
        },
        {
         "name": "Gene 897",
         "rawType": "float64",
         "type": "float"
        },
        {
         "name": "Gene 898",
         "rawType": "float64",
         "type": "float"
        },
        {
         "name": "Gene 899",
         "rawType": "float64",
         "type": "float"
        },
        {
         "name": "Gene 900",
         "rawType": "float64",
         "type": "float"
        },
        {
         "name": "Gene 901",
         "rawType": "float64",
         "type": "float"
        },
        {
         "name": "Gene 902",
         "rawType": "float64",
         "type": "float"
        },
        {
         "name": "Gene 903",
         "rawType": "float64",
         "type": "float"
        },
        {
         "name": "Gene 904",
         "rawType": "float64",
         "type": "float"
        },
        {
         "name": "Gene 905",
         "rawType": "float64",
         "type": "float"
        },
        {
         "name": "Gene 906",
         "rawType": "float64",
         "type": "float"
        },
        {
         "name": "Gene 907",
         "rawType": "float64",
         "type": "float"
        },
        {
         "name": "Gene 908",
         "rawType": "float64",
         "type": "float"
        },
        {
         "name": "Gene 909",
         "rawType": "float64",
         "type": "float"
        },
        {
         "name": "Gene 910",
         "rawType": "float64",
         "type": "float"
        },
        {
         "name": "Gene 911",
         "rawType": "float64",
         "type": "float"
        },
        {
         "name": "Gene 912",
         "rawType": "float64",
         "type": "float"
        },
        {
         "name": "Gene 913",
         "rawType": "float64",
         "type": "float"
        },
        {
         "name": "Gene 914",
         "rawType": "float64",
         "type": "float"
        },
        {
         "name": "Gene 915",
         "rawType": "float64",
         "type": "float"
        },
        {
         "name": "Gene 916",
         "rawType": "float64",
         "type": "float"
        },
        {
         "name": "Gene 917",
         "rawType": "float64",
         "type": "float"
        },
        {
         "name": "Gene 918",
         "rawType": "float64",
         "type": "float"
        },
        {
         "name": "Gene 919",
         "rawType": "float64",
         "type": "float"
        },
        {
         "name": "Gene 920",
         "rawType": "float64",
         "type": "float"
        },
        {
         "name": "Gene 921",
         "rawType": "float64",
         "type": "float"
        },
        {
         "name": "Gene 922",
         "rawType": "float64",
         "type": "float"
        },
        {
         "name": "Gene 923",
         "rawType": "float64",
         "type": "float"
        },
        {
         "name": "Gene 924",
         "rawType": "float64",
         "type": "float"
        },
        {
         "name": "Gene 925",
         "rawType": "float64",
         "type": "float"
        },
        {
         "name": "Gene 926",
         "rawType": "float64",
         "type": "float"
        },
        {
         "name": "Gene 927",
         "rawType": "float64",
         "type": "float"
        },
        {
         "name": "Gene 928",
         "rawType": "float64",
         "type": "float"
        },
        {
         "name": "Gene 929",
         "rawType": "float64",
         "type": "float"
        },
        {
         "name": "Gene 930",
         "rawType": "float64",
         "type": "float"
        },
        {
         "name": "Gene 931",
         "rawType": "float64",
         "type": "float"
        },
        {
         "name": "Gene 932",
         "rawType": "float64",
         "type": "float"
        },
        {
         "name": "Gene 933",
         "rawType": "float64",
         "type": "float"
        },
        {
         "name": "Gene 934",
         "rawType": "float64",
         "type": "float"
        },
        {
         "name": "Gene 935",
         "rawType": "float64",
         "type": "float"
        },
        {
         "name": "Gene 936",
         "rawType": "float64",
         "type": "float"
        },
        {
         "name": "Gene 937",
         "rawType": "float64",
         "type": "float"
        },
        {
         "name": "Gene 938",
         "rawType": "float64",
         "type": "float"
        },
        {
         "name": "Gene 939",
         "rawType": "float64",
         "type": "float"
        },
        {
         "name": "Gene 940",
         "rawType": "float64",
         "type": "float"
        },
        {
         "name": "Gene 941",
         "rawType": "float64",
         "type": "float"
        },
        {
         "name": "Gene 942",
         "rawType": "float64",
         "type": "float"
        },
        {
         "name": "Gene 943",
         "rawType": "float64",
         "type": "float"
        },
        {
         "name": "Gene 944",
         "rawType": "float64",
         "type": "float"
        },
        {
         "name": "Gene 945",
         "rawType": "float64",
         "type": "float"
        },
        {
         "name": "Gene 946",
         "rawType": "float64",
         "type": "float"
        },
        {
         "name": "Gene 947",
         "rawType": "float64",
         "type": "float"
        },
        {
         "name": "Gene 948",
         "rawType": "float64",
         "type": "float"
        },
        {
         "name": "Gene 949",
         "rawType": "float64",
         "type": "float"
        },
        {
         "name": "Gene 950",
         "rawType": "float64",
         "type": "float"
        },
        {
         "name": "Gene 951",
         "rawType": "float64",
         "type": "float"
        },
        {
         "name": "Gene 952",
         "rawType": "float64",
         "type": "float"
        },
        {
         "name": "Gene 953",
         "rawType": "float64",
         "type": "float"
        },
        {
         "name": "Gene 954",
         "rawType": "float64",
         "type": "float"
        },
        {
         "name": "Gene 955",
         "rawType": "float64",
         "type": "float"
        },
        {
         "name": "Gene 956",
         "rawType": "float64",
         "type": "float"
        },
        {
         "name": "Gene 957",
         "rawType": "float64",
         "type": "float"
        },
        {
         "name": "Gene 958",
         "rawType": "float64",
         "type": "float"
        },
        {
         "name": "Gene 959",
         "rawType": "float64",
         "type": "float"
        },
        {
         "name": "Gene 960",
         "rawType": "float64",
         "type": "float"
        },
        {
         "name": "Gene 961",
         "rawType": "float64",
         "type": "float"
        },
        {
         "name": "Gene 962",
         "rawType": "float64",
         "type": "float"
        },
        {
         "name": "Gene 963",
         "rawType": "float64",
         "type": "float"
        },
        {
         "name": "Gene 964",
         "rawType": "float64",
         "type": "float"
        },
        {
         "name": "Gene 965",
         "rawType": "float64",
         "type": "float"
        },
        {
         "name": "Gene 966",
         "rawType": "float64",
         "type": "float"
        },
        {
         "name": "Gene 967",
         "rawType": "float64",
         "type": "float"
        },
        {
         "name": "Gene 968",
         "rawType": "float64",
         "type": "float"
        },
        {
         "name": "Gene 969",
         "rawType": "float64",
         "type": "float"
        },
        {
         "name": "Gene 970",
         "rawType": "float64",
         "type": "float"
        },
        {
         "name": "Gene 971",
         "rawType": "float64",
         "type": "float"
        },
        {
         "name": "Gene 972",
         "rawType": "float64",
         "type": "float"
        },
        {
         "name": "Gene 973",
         "rawType": "float64",
         "type": "float"
        },
        {
         "name": "Gene 974",
         "rawType": "float64",
         "type": "float"
        },
        {
         "name": "Gene 975",
         "rawType": "float64",
         "type": "float"
        },
        {
         "name": "Gene 976",
         "rawType": "float64",
         "type": "float"
        },
        {
         "name": "Gene 977",
         "rawType": "float64",
         "type": "float"
        },
        {
         "name": "Gene 978",
         "rawType": "float64",
         "type": "float"
        },
        {
         "name": "Gene 979",
         "rawType": "float64",
         "type": "float"
        },
        {
         "name": "Gene 980",
         "rawType": "float64",
         "type": "float"
        },
        {
         "name": "Gene 981",
         "rawType": "float64",
         "type": "float"
        },
        {
         "name": "Gene 982",
         "rawType": "float64",
         "type": "float"
        },
        {
         "name": "Gene 983",
         "rawType": "float64",
         "type": "float"
        },
        {
         "name": "Gene 984",
         "rawType": "float64",
         "type": "float"
        },
        {
         "name": "Gene 985",
         "rawType": "float64",
         "type": "float"
        },
        {
         "name": "Gene 986",
         "rawType": "float64",
         "type": "float"
        },
        {
         "name": "Gene 987",
         "rawType": "float64",
         "type": "float"
        },
        {
         "name": "Gene 988",
         "rawType": "float64",
         "type": "float"
        },
        {
         "name": "Gene 989",
         "rawType": "float64",
         "type": "float"
        },
        {
         "name": "Gene 990",
         "rawType": "float64",
         "type": "float"
        },
        {
         "name": "Gene 991",
         "rawType": "float64",
         "type": "float"
        },
        {
         "name": "Gene 992",
         "rawType": "float64",
         "type": "float"
        },
        {
         "name": "Gene 993",
         "rawType": "float64",
         "type": "float"
        },
        {
         "name": "Gene 994",
         "rawType": "float64",
         "type": "float"
        },
        {
         "name": "Gene 995",
         "rawType": "float64",
         "type": "float"
        },
        {
         "name": "Gene 996",
         "rawType": "float64",
         "type": "float"
        },
        {
         "name": "Gene 997",
         "rawType": "float64",
         "type": "float"
        },
        {
         "name": "Gene 998",
         "rawType": "float64",
         "type": "float"
        },
        {
         "name": "Gene 999",
         "rawType": "float64",
         "type": "float"
        },
        {
         "name": "Gene 1000",
         "rawType": "float64",
         "type": "float"
        },
        {
         "name": "Gene 1001",
         "rawType": "float64",
         "type": "float"
        },
        {
         "name": "Gene 1002",
         "rawType": "float64",
         "type": "float"
        },
        {
         "name": "Gene 1003",
         "rawType": "float64",
         "type": "float"
        },
        {
         "name": "Gene 1004",
         "rawType": "float64",
         "type": "float"
        },
        {
         "name": "Gene 1005",
         "rawType": "float64",
         "type": "float"
        },
        {
         "name": "Gene 1006",
         "rawType": "float64",
         "type": "float"
        },
        {
         "name": "Gene 1007",
         "rawType": "float64",
         "type": "float"
        },
        {
         "name": "Gene 1008",
         "rawType": "float64",
         "type": "float"
        },
        {
         "name": "Gene 1009",
         "rawType": "float64",
         "type": "float"
        },
        {
         "name": "Gene 1010",
         "rawType": "float64",
         "type": "float"
        },
        {
         "name": "Gene 1011",
         "rawType": "float64",
         "type": "float"
        },
        {
         "name": "Gene 1012",
         "rawType": "float64",
         "type": "float"
        },
        {
         "name": "Gene 1013",
         "rawType": "float64",
         "type": "float"
        },
        {
         "name": "Gene 1014",
         "rawType": "float64",
         "type": "float"
        },
        {
         "name": "Gene 1015",
         "rawType": "float64",
         "type": "float"
        },
        {
         "name": "Gene 1016",
         "rawType": "float64",
         "type": "float"
        },
        {
         "name": "Gene 1017",
         "rawType": "float64",
         "type": "float"
        },
        {
         "name": "Gene 1018",
         "rawType": "float64",
         "type": "float"
        },
        {
         "name": "Gene 1019",
         "rawType": "float64",
         "type": "float"
        },
        {
         "name": "Gene 1020",
         "rawType": "float64",
         "type": "float"
        },
        {
         "name": "Gene 1021",
         "rawType": "float64",
         "type": "float"
        },
        {
         "name": "Gene 1022",
         "rawType": "float64",
         "type": "float"
        },
        {
         "name": "Gene 1023",
         "rawType": "float64",
         "type": "float"
        },
        {
         "name": "Gene 1024",
         "rawType": "float64",
         "type": "float"
        },
        {
         "name": "Gene 1025",
         "rawType": "float64",
         "type": "float"
        },
        {
         "name": "Gene 1026",
         "rawType": "float64",
         "type": "float"
        },
        {
         "name": "Gene 1027",
         "rawType": "float64",
         "type": "float"
        },
        {
         "name": "Gene 1028",
         "rawType": "float64",
         "type": "float"
        },
        {
         "name": "Gene 1029",
         "rawType": "float64",
         "type": "float"
        },
        {
         "name": "Gene 1030",
         "rawType": "float64",
         "type": "float"
        },
        {
         "name": "Gene 1031",
         "rawType": "float64",
         "type": "float"
        },
        {
         "name": "Gene 1032",
         "rawType": "float64",
         "type": "float"
        },
        {
         "name": "Gene 1033",
         "rawType": "float64",
         "type": "float"
        },
        {
         "name": "Gene 1034",
         "rawType": "float64",
         "type": "float"
        },
        {
         "name": "Gene 1035",
         "rawType": "float64",
         "type": "float"
        },
        {
         "name": "Gene 1036",
         "rawType": "float64",
         "type": "float"
        },
        {
         "name": "Gene 1037",
         "rawType": "float64",
         "type": "float"
        },
        {
         "name": "Gene 1038",
         "rawType": "float64",
         "type": "float"
        },
        {
         "name": "Gene 1039",
         "rawType": "float64",
         "type": "float"
        },
        {
         "name": "Gene 1040",
         "rawType": "float64",
         "type": "float"
        },
        {
         "name": "Gene 1041",
         "rawType": "float64",
         "type": "float"
        },
        {
         "name": "Gene 1042",
         "rawType": "float64",
         "type": "float"
        },
        {
         "name": "Gene 1043",
         "rawType": "float64",
         "type": "float"
        },
        {
         "name": "Gene 1044",
         "rawType": "float64",
         "type": "float"
        },
        {
         "name": "Gene 1045",
         "rawType": "float64",
         "type": "float"
        },
        {
         "name": "Gene 1046",
         "rawType": "float64",
         "type": "float"
        },
        {
         "name": "Gene 1047",
         "rawType": "float64",
         "type": "float"
        },
        {
         "name": "Gene 1048",
         "rawType": "float64",
         "type": "float"
        },
        {
         "name": "Gene 1049",
         "rawType": "float64",
         "type": "float"
        },
        {
         "name": "Gene 1050",
         "rawType": "float64",
         "type": "float"
        },
        {
         "name": "Gene 1051",
         "rawType": "float64",
         "type": "float"
        },
        {
         "name": "Gene 1052",
         "rawType": "float64",
         "type": "float"
        },
        {
         "name": "Gene 1053",
         "rawType": "float64",
         "type": "float"
        },
        {
         "name": "Gene 1054",
         "rawType": "float64",
         "type": "float"
        },
        {
         "name": "Gene 1055",
         "rawType": "float64",
         "type": "float"
        },
        {
         "name": "Gene 1056",
         "rawType": "float64",
         "type": "float"
        },
        {
         "name": "Gene 1057",
         "rawType": "float64",
         "type": "float"
        },
        {
         "name": "Gene 1058",
         "rawType": "float64",
         "type": "float"
        },
        {
         "name": "Gene 1059",
         "rawType": "float64",
         "type": "float"
        },
        {
         "name": "Gene 1060",
         "rawType": "float64",
         "type": "float"
        },
        {
         "name": "Gene 1061",
         "rawType": "float64",
         "type": "float"
        },
        {
         "name": "Gene 1062",
         "rawType": "float64",
         "type": "float"
        },
        {
         "name": "Gene 1063",
         "rawType": "float64",
         "type": "float"
        },
        {
         "name": "Gene 1064",
         "rawType": "float64",
         "type": "float"
        },
        {
         "name": "Gene 1065",
         "rawType": "float64",
         "type": "float"
        },
        {
         "name": "Gene 1066",
         "rawType": "float64",
         "type": "float"
        },
        {
         "name": "Gene 1067",
         "rawType": "float64",
         "type": "float"
        },
        {
         "name": "Gene 1068",
         "rawType": "float64",
         "type": "float"
        },
        {
         "name": "Gene 1069",
         "rawType": "float64",
         "type": "float"
        },
        {
         "name": "Gene 1070",
         "rawType": "float64",
         "type": "float"
        },
        {
         "name": "Gene 1071",
         "rawType": "float64",
         "type": "float"
        },
        {
         "name": "Gene 1072",
         "rawType": "float64",
         "type": "float"
        },
        {
         "name": "Gene 1073",
         "rawType": "float64",
         "type": "float"
        },
        {
         "name": "Gene 1074",
         "rawType": "float64",
         "type": "float"
        },
        {
         "name": "Gene 1075",
         "rawType": "float64",
         "type": "float"
        },
        {
         "name": "Gene 1076",
         "rawType": "float64",
         "type": "float"
        },
        {
         "name": "Gene 1077",
         "rawType": "float64",
         "type": "float"
        },
        {
         "name": "Gene 1078",
         "rawType": "float64",
         "type": "float"
        },
        {
         "name": "Gene 1079",
         "rawType": "float64",
         "type": "float"
        },
        {
         "name": "Gene 1080",
         "rawType": "float64",
         "type": "float"
        },
        {
         "name": "Gene 1081",
         "rawType": "float64",
         "type": "float"
        },
        {
         "name": "Gene 1082",
         "rawType": "float64",
         "type": "float"
        },
        {
         "name": "Gene 1083",
         "rawType": "float64",
         "type": "float"
        },
        {
         "name": "Gene 1084",
         "rawType": "float64",
         "type": "float"
        },
        {
         "name": "Gene 1085",
         "rawType": "float64",
         "type": "float"
        },
        {
         "name": "Gene 1086",
         "rawType": "float64",
         "type": "float"
        },
        {
         "name": "Gene 1087",
         "rawType": "float64",
         "type": "float"
        },
        {
         "name": "Gene 1088",
         "rawType": "float64",
         "type": "float"
        },
        {
         "name": "Gene 1089",
         "rawType": "float64",
         "type": "float"
        },
        {
         "name": "Gene 1090",
         "rawType": "float64",
         "type": "float"
        },
        {
         "name": "Gene 1091",
         "rawType": "float64",
         "type": "float"
        },
        {
         "name": "Gene 1092",
         "rawType": "float64",
         "type": "float"
        },
        {
         "name": "Gene 1093",
         "rawType": "float64",
         "type": "float"
        },
        {
         "name": "Gene 1094",
         "rawType": "float64",
         "type": "float"
        },
        {
         "name": "Gene 1095",
         "rawType": "float64",
         "type": "float"
        },
        {
         "name": "Gene 1096",
         "rawType": "float64",
         "type": "float"
        },
        {
         "name": "Gene 1097",
         "rawType": "float64",
         "type": "float"
        },
        {
         "name": "Gene 1098",
         "rawType": "float64",
         "type": "float"
        },
        {
         "name": "Gene 1099",
         "rawType": "float64",
         "type": "float"
        },
        {
         "name": "Gene 1100",
         "rawType": "float64",
         "type": "float"
        },
        {
         "name": "Gene 1101",
         "rawType": "float64",
         "type": "float"
        },
        {
         "name": "Gene 1102",
         "rawType": "float64",
         "type": "float"
        },
        {
         "name": "Gene 1103",
         "rawType": "float64",
         "type": "float"
        },
        {
         "name": "Gene 1104",
         "rawType": "float64",
         "type": "float"
        },
        {
         "name": "Gene 1105",
         "rawType": "float64",
         "type": "float"
        },
        {
         "name": "Gene 1106",
         "rawType": "float64",
         "type": "float"
        },
        {
         "name": "Gene 1107",
         "rawType": "float64",
         "type": "float"
        },
        {
         "name": "Gene 1108",
         "rawType": "float64",
         "type": "float"
        },
        {
         "name": "Gene 1109",
         "rawType": "float64",
         "type": "float"
        },
        {
         "name": "Gene 1110",
         "rawType": "float64",
         "type": "float"
        },
        {
         "name": "Gene 1111",
         "rawType": "float64",
         "type": "float"
        },
        {
         "name": "Gene 1112",
         "rawType": "float64",
         "type": "float"
        },
        {
         "name": "Gene 1113",
         "rawType": "float64",
         "type": "float"
        },
        {
         "name": "Gene 1114",
         "rawType": "float64",
         "type": "float"
        },
        {
         "name": "Gene 1115",
         "rawType": "float64",
         "type": "float"
        },
        {
         "name": "Gene 1116",
         "rawType": "float64",
         "type": "float"
        },
        {
         "name": "Gene 1117",
         "rawType": "float64",
         "type": "float"
        },
        {
         "name": "Gene 1118",
         "rawType": "float64",
         "type": "float"
        },
        {
         "name": "Gene 1119",
         "rawType": "float64",
         "type": "float"
        },
        {
         "name": "Gene 1120",
         "rawType": "float64",
         "type": "float"
        },
        {
         "name": "Gene 1121",
         "rawType": "float64",
         "type": "float"
        },
        {
         "name": "Gene 1122",
         "rawType": "float64",
         "type": "float"
        },
        {
         "name": "Gene 1123",
         "rawType": "float64",
         "type": "float"
        },
        {
         "name": "Gene 1124",
         "rawType": "float64",
         "type": "float"
        },
        {
         "name": "Gene 1125",
         "rawType": "float64",
         "type": "float"
        },
        {
         "name": "Gene 1126",
         "rawType": "float64",
         "type": "float"
        },
        {
         "name": "Gene 1127",
         "rawType": "float64",
         "type": "float"
        },
        {
         "name": "Gene 1128",
         "rawType": "float64",
         "type": "float"
        },
        {
         "name": "Gene 1129",
         "rawType": "float64",
         "type": "float"
        },
        {
         "name": "Gene 1130",
         "rawType": "float64",
         "type": "float"
        },
        {
         "name": "Gene 1131",
         "rawType": "float64",
         "type": "float"
        },
        {
         "name": "Gene 1132",
         "rawType": "float64",
         "type": "float"
        },
        {
         "name": "Gene 1133",
         "rawType": "float64",
         "type": "float"
        },
        {
         "name": "Gene 1134",
         "rawType": "float64",
         "type": "float"
        },
        {
         "name": "Gene 1135",
         "rawType": "float64",
         "type": "float"
        },
        {
         "name": "Gene 1136",
         "rawType": "float64",
         "type": "float"
        },
        {
         "name": "Gene 1137",
         "rawType": "float64",
         "type": "float"
        },
        {
         "name": "Gene 1138",
         "rawType": "float64",
         "type": "float"
        },
        {
         "name": "Gene 1139",
         "rawType": "float64",
         "type": "float"
        },
        {
         "name": "Gene 1140",
         "rawType": "float64",
         "type": "float"
        },
        {
         "name": "Gene 1141",
         "rawType": "float64",
         "type": "float"
        },
        {
         "name": "Gene 1142",
         "rawType": "float64",
         "type": "float"
        },
        {
         "name": "Gene 1143",
         "rawType": "float64",
         "type": "float"
        },
        {
         "name": "Gene 1144",
         "rawType": "float64",
         "type": "float"
        },
        {
         "name": "Gene 1145",
         "rawType": "float64",
         "type": "float"
        },
        {
         "name": "Gene 1146",
         "rawType": "float64",
         "type": "float"
        },
        {
         "name": "Gene 1147",
         "rawType": "float64",
         "type": "float"
        },
        {
         "name": "Gene 1148",
         "rawType": "float64",
         "type": "float"
        },
        {
         "name": "Gene 1149",
         "rawType": "float64",
         "type": "float"
        },
        {
         "name": "Gene 1150",
         "rawType": "float64",
         "type": "float"
        },
        {
         "name": "Gene 1151",
         "rawType": "float64",
         "type": "float"
        },
        {
         "name": "Gene 1152",
         "rawType": "float64",
         "type": "float"
        },
        {
         "name": "Gene 1153",
         "rawType": "float64",
         "type": "float"
        },
        {
         "name": "Gene 1154",
         "rawType": "float64",
         "type": "float"
        },
        {
         "name": "Gene 1155",
         "rawType": "float64",
         "type": "float"
        },
        {
         "name": "Gene 1156",
         "rawType": "float64",
         "type": "float"
        },
        {
         "name": "Gene 1157",
         "rawType": "float64",
         "type": "float"
        },
        {
         "name": "Gene 1158",
         "rawType": "float64",
         "type": "float"
        },
        {
         "name": "Gene 1159",
         "rawType": "float64",
         "type": "float"
        },
        {
         "name": "Gene 1160",
         "rawType": "float64",
         "type": "float"
        },
        {
         "name": "Gene 1161",
         "rawType": "float64",
         "type": "float"
        },
        {
         "name": "Gene 1162",
         "rawType": "float64",
         "type": "float"
        },
        {
         "name": "Gene 1163",
         "rawType": "float64",
         "type": "float"
        },
        {
         "name": "Gene 1164",
         "rawType": "float64",
         "type": "float"
        },
        {
         "name": "Gene 1165",
         "rawType": "float64",
         "type": "float"
        },
        {
         "name": "Gene 1166",
         "rawType": "float64",
         "type": "float"
        },
        {
         "name": "Gene 1167",
         "rawType": "float64",
         "type": "float"
        },
        {
         "name": "Gene 1168",
         "rawType": "float64",
         "type": "float"
        },
        {
         "name": "Gene 1169",
         "rawType": "float64",
         "type": "float"
        },
        {
         "name": "Gene 1170",
         "rawType": "float64",
         "type": "float"
        },
        {
         "name": "Gene 1171",
         "rawType": "float64",
         "type": "float"
        },
        {
         "name": "Gene 1172",
         "rawType": "float64",
         "type": "float"
        },
        {
         "name": "Gene 1173",
         "rawType": "float64",
         "type": "float"
        },
        {
         "name": "Gene 1174",
         "rawType": "float64",
         "type": "float"
        },
        {
         "name": "Gene 1175",
         "rawType": "float64",
         "type": "float"
        },
        {
         "name": "Gene 1176",
         "rawType": "float64",
         "type": "float"
        },
        {
         "name": "Gene 1177",
         "rawType": "float64",
         "type": "float"
        },
        {
         "name": "Gene 1178",
         "rawType": "float64",
         "type": "float"
        },
        {
         "name": "Gene 1179",
         "rawType": "float64",
         "type": "float"
        },
        {
         "name": "Gene 1180",
         "rawType": "float64",
         "type": "float"
        },
        {
         "name": "Gene 1181",
         "rawType": "float64",
         "type": "float"
        },
        {
         "name": "Gene 1182",
         "rawType": "float64",
         "type": "float"
        },
        {
         "name": "Gene 1183",
         "rawType": "float64",
         "type": "float"
        },
        {
         "name": "Gene 1184",
         "rawType": "float64",
         "type": "float"
        },
        {
         "name": "Gene 1185",
         "rawType": "float64",
         "type": "float"
        },
        {
         "name": "Gene 1186",
         "rawType": "float64",
         "type": "float"
        },
        {
         "name": "Gene 1187",
         "rawType": "float64",
         "type": "float"
        },
        {
         "name": "Gene 1188",
         "rawType": "float64",
         "type": "float"
        },
        {
         "name": "Gene 1189",
         "rawType": "float64",
         "type": "float"
        },
        {
         "name": "Gene 1190",
         "rawType": "float64",
         "type": "float"
        },
        {
         "name": "Gene 1191",
         "rawType": "float64",
         "type": "float"
        },
        {
         "name": "Gene 1192",
         "rawType": "float64",
         "type": "float"
        },
        {
         "name": "Gene 1193",
         "rawType": "float64",
         "type": "float"
        },
        {
         "name": "Gene 1194",
         "rawType": "float64",
         "type": "float"
        },
        {
         "name": "Gene 1195",
         "rawType": "float64",
         "type": "float"
        },
        {
         "name": "Gene 1196",
         "rawType": "float64",
         "type": "float"
        },
        {
         "name": "Gene 1197",
         "rawType": "float64",
         "type": "float"
        },
        {
         "name": "Gene 1198",
         "rawType": "float64",
         "type": "float"
        },
        {
         "name": "Gene 1199",
         "rawType": "float64",
         "type": "float"
        },
        {
         "name": "Gene 1200",
         "rawType": "float64",
         "type": "float"
        },
        {
         "name": "Gene 1201",
         "rawType": "float64",
         "type": "float"
        },
        {
         "name": "Gene 1202",
         "rawType": "float64",
         "type": "float"
        },
        {
         "name": "Gene 1203",
         "rawType": "float64",
         "type": "float"
        },
        {
         "name": "Gene 1204",
         "rawType": "float64",
         "type": "float"
        },
        {
         "name": "Gene 1205",
         "rawType": "float64",
         "type": "float"
        },
        {
         "name": "Gene 1206",
         "rawType": "float64",
         "type": "float"
        },
        {
         "name": "Gene 1207",
         "rawType": "float64",
         "type": "float"
        },
        {
         "name": "Gene 1208",
         "rawType": "float64",
         "type": "float"
        },
        {
         "name": "Gene 1209",
         "rawType": "float64",
         "type": "float"
        },
        {
         "name": "Gene 1210",
         "rawType": "float64",
         "type": "float"
        },
        {
         "name": "Gene 1211",
         "rawType": "float64",
         "type": "float"
        },
        {
         "name": "Gene 1212",
         "rawType": "float64",
         "type": "float"
        },
        {
         "name": "Gene 1213",
         "rawType": "float64",
         "type": "float"
        },
        {
         "name": "Gene 1214",
         "rawType": "float64",
         "type": "float"
        },
        {
         "name": "Gene 1215",
         "rawType": "float64",
         "type": "float"
        },
        {
         "name": "Gene 1216",
         "rawType": "float64",
         "type": "float"
        },
        {
         "name": "Gene 1217",
         "rawType": "float64",
         "type": "float"
        },
        {
         "name": "Gene 1218",
         "rawType": "float64",
         "type": "float"
        },
        {
         "name": "Gene 1219",
         "rawType": "float64",
         "type": "float"
        },
        {
         "name": "Gene 1220",
         "rawType": "float64",
         "type": "float"
        },
        {
         "name": "Gene 1221",
         "rawType": "float64",
         "type": "float"
        },
        {
         "name": "Gene 1222",
         "rawType": "float64",
         "type": "float"
        },
        {
         "name": "Gene 1223",
         "rawType": "float64",
         "type": "float"
        },
        {
         "name": "Gene 1224",
         "rawType": "float64",
         "type": "float"
        },
        {
         "name": "Gene 1225",
         "rawType": "float64",
         "type": "float"
        },
        {
         "name": "Gene 1226",
         "rawType": "float64",
         "type": "float"
        },
        {
         "name": "Gene 1227",
         "rawType": "float64",
         "type": "float"
        },
        {
         "name": "Gene 1228",
         "rawType": "float64",
         "type": "float"
        },
        {
         "name": "Gene 1229",
         "rawType": "float64",
         "type": "float"
        },
        {
         "name": "Gene 1230",
         "rawType": "float64",
         "type": "float"
        },
        {
         "name": "Gene 1231",
         "rawType": "float64",
         "type": "float"
        },
        {
         "name": "Gene 1232",
         "rawType": "float64",
         "type": "float"
        },
        {
         "name": "Gene 1233",
         "rawType": "float64",
         "type": "float"
        },
        {
         "name": "Gene 1234",
         "rawType": "float64",
         "type": "float"
        },
        {
         "name": "Gene 1235",
         "rawType": "float64",
         "type": "float"
        },
        {
         "name": "Gene 1236",
         "rawType": "float64",
         "type": "float"
        },
        {
         "name": "Gene 1237",
         "rawType": "float64",
         "type": "float"
        },
        {
         "name": "Gene 1238",
         "rawType": "float64",
         "type": "float"
        },
        {
         "name": "Gene 1239",
         "rawType": "float64",
         "type": "float"
        },
        {
         "name": "Gene 1240",
         "rawType": "float64",
         "type": "float"
        },
        {
         "name": "Gene 1241",
         "rawType": "float64",
         "type": "float"
        },
        {
         "name": "Gene 1242",
         "rawType": "float64",
         "type": "float"
        },
        {
         "name": "Gene 1243",
         "rawType": "float64",
         "type": "float"
        },
        {
         "name": "Gene 1244",
         "rawType": "float64",
         "type": "float"
        },
        {
         "name": "Gene 1245",
         "rawType": "float64",
         "type": "float"
        },
        {
         "name": "Gene 1246",
         "rawType": "float64",
         "type": "float"
        },
        {
         "name": "Gene 1247",
         "rawType": "float64",
         "type": "float"
        },
        {
         "name": "Gene 1248",
         "rawType": "float64",
         "type": "float"
        },
        {
         "name": "Gene 1249",
         "rawType": "float64",
         "type": "float"
        },
        {
         "name": "Gene 1250",
         "rawType": "float64",
         "type": "float"
        },
        {
         "name": "Gene 1251",
         "rawType": "float64",
         "type": "float"
        },
        {
         "name": "Gene 1252",
         "rawType": "float64",
         "type": "float"
        },
        {
         "name": "Gene 1253",
         "rawType": "float64",
         "type": "float"
        },
        {
         "name": "Gene 1254",
         "rawType": "float64",
         "type": "float"
        },
        {
         "name": "Gene 1255",
         "rawType": "float64",
         "type": "float"
        },
        {
         "name": "Gene 1256",
         "rawType": "float64",
         "type": "float"
        },
        {
         "name": "Gene 1257",
         "rawType": "float64",
         "type": "float"
        },
        {
         "name": "Gene 1258",
         "rawType": "float64",
         "type": "float"
        },
        {
         "name": "Gene 1259",
         "rawType": "float64",
         "type": "float"
        },
        {
         "name": "Gene 1260",
         "rawType": "float64",
         "type": "float"
        },
        {
         "name": "Gene 1261",
         "rawType": "float64",
         "type": "float"
        },
        {
         "name": "Gene 1262",
         "rawType": "float64",
         "type": "float"
        },
        {
         "name": "Gene 1263",
         "rawType": "float64",
         "type": "float"
        },
        {
         "name": "Gene 1264",
         "rawType": "float64",
         "type": "float"
        },
        {
         "name": "Gene 1265",
         "rawType": "float64",
         "type": "float"
        },
        {
         "name": "Gene 1266",
         "rawType": "float64",
         "type": "float"
        },
        {
         "name": "Gene 1267",
         "rawType": "float64",
         "type": "float"
        },
        {
         "name": "Gene 1268",
         "rawType": "float64",
         "type": "float"
        },
        {
         "name": "Gene 1269",
         "rawType": "float64",
         "type": "float"
        },
        {
         "name": "Gene 1270",
         "rawType": "float64",
         "type": "float"
        },
        {
         "name": "Gene 1271",
         "rawType": "float64",
         "type": "float"
        },
        {
         "name": "Gene 1272",
         "rawType": "float64",
         "type": "float"
        },
        {
         "name": "Gene 1273",
         "rawType": "float64",
         "type": "float"
        },
        {
         "name": "Gene 1274",
         "rawType": "float64",
         "type": "float"
        },
        {
         "name": "Gene 1275",
         "rawType": "float64",
         "type": "float"
        },
        {
         "name": "Gene 1276",
         "rawType": "float64",
         "type": "float"
        },
        {
         "name": "Gene 1277",
         "rawType": "float64",
         "type": "float"
        },
        {
         "name": "Gene 1278",
         "rawType": "float64",
         "type": "float"
        },
        {
         "name": "Gene 1279",
         "rawType": "float64",
         "type": "float"
        },
        {
         "name": "Gene 1280",
         "rawType": "float64",
         "type": "float"
        },
        {
         "name": "Gene 1281",
         "rawType": "float64",
         "type": "float"
        },
        {
         "name": "Gene 1282",
         "rawType": "float64",
         "type": "float"
        },
        {
         "name": "Gene 1283",
         "rawType": "float64",
         "type": "float"
        },
        {
         "name": "Gene 1284",
         "rawType": "float64",
         "type": "float"
        },
        {
         "name": "Gene 1285",
         "rawType": "float64",
         "type": "float"
        },
        {
         "name": "Gene 1286",
         "rawType": "float64",
         "type": "float"
        },
        {
         "name": "Gene 1287",
         "rawType": "float64",
         "type": "float"
        },
        {
         "name": "Gene 1288",
         "rawType": "float64",
         "type": "float"
        },
        {
         "name": "Gene 1289",
         "rawType": "float64",
         "type": "float"
        },
        {
         "name": "Gene 1290",
         "rawType": "float64",
         "type": "float"
        },
        {
         "name": "Gene 1291",
         "rawType": "float64",
         "type": "float"
        },
        {
         "name": "Gene 1292",
         "rawType": "float64",
         "type": "float"
        },
        {
         "name": "Gene 1293",
         "rawType": "float64",
         "type": "float"
        },
        {
         "name": "Gene 1294",
         "rawType": "float64",
         "type": "float"
        },
        {
         "name": "Gene 1295",
         "rawType": "float64",
         "type": "float"
        },
        {
         "name": "Gene 1296",
         "rawType": "float64",
         "type": "float"
        },
        {
         "name": "Gene 1297",
         "rawType": "float64",
         "type": "float"
        },
        {
         "name": "Gene 1298",
         "rawType": "float64",
         "type": "float"
        },
        {
         "name": "Gene 1299",
         "rawType": "float64",
         "type": "float"
        },
        {
         "name": "Gene 1300",
         "rawType": "float64",
         "type": "float"
        },
        {
         "name": "Gene 1301",
         "rawType": "float64",
         "type": "float"
        },
        {
         "name": "Gene 1302",
         "rawType": "float64",
         "type": "float"
        },
        {
         "name": "Gene 1303",
         "rawType": "float64",
         "type": "float"
        },
        {
         "name": "Gene 1304",
         "rawType": "float64",
         "type": "float"
        },
        {
         "name": "Gene 1305",
         "rawType": "float64",
         "type": "float"
        },
        {
         "name": "Gene 1306",
         "rawType": "float64",
         "type": "float"
        },
        {
         "name": "Gene 1307",
         "rawType": "float64",
         "type": "float"
        },
        {
         "name": "Gene 1308",
         "rawType": "float64",
         "type": "float"
        },
        {
         "name": "Gene 1309",
         "rawType": "float64",
         "type": "float"
        },
        {
         "name": "Gene 1310",
         "rawType": "float64",
         "type": "float"
        },
        {
         "name": "Gene 1311",
         "rawType": "float64",
         "type": "float"
        },
        {
         "name": "Gene 1312",
         "rawType": "float64",
         "type": "float"
        },
        {
         "name": "Gene 1313",
         "rawType": "float64",
         "type": "float"
        },
        {
         "name": "Gene 1314",
         "rawType": "float64",
         "type": "float"
        },
        {
         "name": "Gene 1315",
         "rawType": "float64",
         "type": "float"
        },
        {
         "name": "Gene 1316",
         "rawType": "float64",
         "type": "float"
        },
        {
         "name": "Gene 1317",
         "rawType": "float64",
         "type": "float"
        },
        {
         "name": "Gene 1318",
         "rawType": "float64",
         "type": "float"
        },
        {
         "name": "Gene 1319",
         "rawType": "float64",
         "type": "float"
        },
        {
         "name": "Gene 1320",
         "rawType": "float64",
         "type": "float"
        },
        {
         "name": "Gene 1321",
         "rawType": "float64",
         "type": "float"
        },
        {
         "name": "Gene 1322",
         "rawType": "float64",
         "type": "float"
        },
        {
         "name": "Gene 1323",
         "rawType": "float64",
         "type": "float"
        },
        {
         "name": "Gene 1324",
         "rawType": "float64",
         "type": "float"
        },
        {
         "name": "Gene 1325",
         "rawType": "float64",
         "type": "float"
        },
        {
         "name": "Gene 1326",
         "rawType": "float64",
         "type": "float"
        },
        {
         "name": "Gene 1327",
         "rawType": "float64",
         "type": "float"
        },
        {
         "name": "Gene 1328",
         "rawType": "float64",
         "type": "float"
        },
        {
         "name": "Gene 1329",
         "rawType": "float64",
         "type": "float"
        },
        {
         "name": "Gene 1330",
         "rawType": "float64",
         "type": "float"
        },
        {
         "name": "Gene 1331",
         "rawType": "float64",
         "type": "float"
        },
        {
         "name": "Gene 1332",
         "rawType": "float64",
         "type": "float"
        },
        {
         "name": "Gene 1333",
         "rawType": "float64",
         "type": "float"
        },
        {
         "name": "Gene 1334",
         "rawType": "float64",
         "type": "float"
        },
        {
         "name": "Gene 1335",
         "rawType": "float64",
         "type": "float"
        },
        {
         "name": "Gene 1336",
         "rawType": "float64",
         "type": "float"
        },
        {
         "name": "Gene 1337",
         "rawType": "float64",
         "type": "float"
        },
        {
         "name": "Gene 1338",
         "rawType": "float64",
         "type": "float"
        },
        {
         "name": "Gene 1339",
         "rawType": "float64",
         "type": "float"
        },
        {
         "name": "Gene 1340",
         "rawType": "float64",
         "type": "float"
        },
        {
         "name": "Gene 1341",
         "rawType": "float64",
         "type": "float"
        },
        {
         "name": "Gene 1342",
         "rawType": "float64",
         "type": "float"
        },
        {
         "name": "Gene 1343",
         "rawType": "float64",
         "type": "float"
        },
        {
         "name": "Gene 1344",
         "rawType": "float64",
         "type": "float"
        },
        {
         "name": "Gene 1345",
         "rawType": "float64",
         "type": "float"
        },
        {
         "name": "Gene 1346",
         "rawType": "float64",
         "type": "float"
        },
        {
         "name": "Gene 1347",
         "rawType": "float64",
         "type": "float"
        },
        {
         "name": "Gene 1348",
         "rawType": "float64",
         "type": "float"
        },
        {
         "name": "Gene 1349",
         "rawType": "float64",
         "type": "float"
        },
        {
         "name": "Gene 1350",
         "rawType": "float64",
         "type": "float"
        },
        {
         "name": "Gene 1351",
         "rawType": "float64",
         "type": "float"
        },
        {
         "name": "Gene 1352",
         "rawType": "float64",
         "type": "float"
        },
        {
         "name": "Gene 1353",
         "rawType": "float64",
         "type": "float"
        },
        {
         "name": "Gene 1354",
         "rawType": "float64",
         "type": "float"
        },
        {
         "name": "Gene 1355",
         "rawType": "float64",
         "type": "float"
        },
        {
         "name": "Gene 1356",
         "rawType": "float64",
         "type": "float"
        },
        {
         "name": "Gene 1357",
         "rawType": "float64",
         "type": "float"
        },
        {
         "name": "Gene 1358",
         "rawType": "float64",
         "type": "float"
        },
        {
         "name": "Gene 1359",
         "rawType": "float64",
         "type": "float"
        },
        {
         "name": "Gene 1360",
         "rawType": "float64",
         "type": "float"
        },
        {
         "name": "Gene 1361",
         "rawType": "float64",
         "type": "float"
        },
        {
         "name": "Gene 1362",
         "rawType": "float64",
         "type": "float"
        },
        {
         "name": "Gene 1363",
         "rawType": "float64",
         "type": "float"
        },
        {
         "name": "Gene 1364",
         "rawType": "float64",
         "type": "float"
        },
        {
         "name": "Gene 1365",
         "rawType": "float64",
         "type": "float"
        },
        {
         "name": "Gene 1366",
         "rawType": "float64",
         "type": "float"
        },
        {
         "name": "Gene 1367",
         "rawType": "float64",
         "type": "float"
        },
        {
         "name": "Gene 1368",
         "rawType": "float64",
         "type": "float"
        },
        {
         "name": "Gene 1369",
         "rawType": "float64",
         "type": "float"
        },
        {
         "name": "Gene 1370",
         "rawType": "float64",
         "type": "float"
        },
        {
         "name": "Gene 1371",
         "rawType": "float64",
         "type": "float"
        },
        {
         "name": "Gene 1372",
         "rawType": "float64",
         "type": "float"
        },
        {
         "name": "Gene 1373",
         "rawType": "float64",
         "type": "float"
        },
        {
         "name": "Gene 1374",
         "rawType": "float64",
         "type": "float"
        },
        {
         "name": "Gene 1375",
         "rawType": "float64",
         "type": "float"
        },
        {
         "name": "Gene 1376",
         "rawType": "float64",
         "type": "float"
        },
        {
         "name": "Gene 1377",
         "rawType": "float64",
         "type": "float"
        },
        {
         "name": "Gene 1378",
         "rawType": "float64",
         "type": "float"
        },
        {
         "name": "Gene 1379",
         "rawType": "float64",
         "type": "float"
        },
        {
         "name": "Gene 1380",
         "rawType": "float64",
         "type": "float"
        },
        {
         "name": "Gene 1381",
         "rawType": "float64",
         "type": "float"
        },
        {
         "name": "Gene 1382",
         "rawType": "float64",
         "type": "float"
        },
        {
         "name": "Gene 1383",
         "rawType": "float64",
         "type": "float"
        },
        {
         "name": "Gene 1384",
         "rawType": "float64",
         "type": "float"
        },
        {
         "name": "Gene 1385",
         "rawType": "float64",
         "type": "float"
        },
        {
         "name": "Gene 1386",
         "rawType": "float64",
         "type": "float"
        },
        {
         "name": "Gene 1387",
         "rawType": "float64",
         "type": "float"
        },
        {
         "name": "Gene 1388",
         "rawType": "float64",
         "type": "float"
        },
        {
         "name": "Gene 1389",
         "rawType": "float64",
         "type": "float"
        },
        {
         "name": "Gene 1390",
         "rawType": "float64",
         "type": "float"
        },
        {
         "name": "Gene 1391",
         "rawType": "float64",
         "type": "float"
        },
        {
         "name": "Gene 1392",
         "rawType": "float64",
         "type": "float"
        },
        {
         "name": "Gene 1393",
         "rawType": "float64",
         "type": "float"
        },
        {
         "name": "Gene 1394",
         "rawType": "float64",
         "type": "float"
        },
        {
         "name": "Gene 1395",
         "rawType": "float64",
         "type": "float"
        },
        {
         "name": "Gene 1396",
         "rawType": "float64",
         "type": "float"
        },
        {
         "name": "Gene 1397",
         "rawType": "float64",
         "type": "float"
        },
        {
         "name": "Gene 1398",
         "rawType": "float64",
         "type": "float"
        },
        {
         "name": "Gene 1399",
         "rawType": "float64",
         "type": "float"
        },
        {
         "name": "Gene 1400",
         "rawType": "float64",
         "type": "float"
        },
        {
         "name": "Gene 1401",
         "rawType": "float64",
         "type": "float"
        },
        {
         "name": "Gene 1402",
         "rawType": "float64",
         "type": "float"
        },
        {
         "name": "Gene 1403",
         "rawType": "float64",
         "type": "float"
        },
        {
         "name": "Gene 1404",
         "rawType": "float64",
         "type": "float"
        },
        {
         "name": "Gene 1405",
         "rawType": "float64",
         "type": "float"
        },
        {
         "name": "Gene 1406",
         "rawType": "float64",
         "type": "float"
        },
        {
         "name": "Gene 1407",
         "rawType": "float64",
         "type": "float"
        },
        {
         "name": "Gene 1408",
         "rawType": "float64",
         "type": "float"
        },
        {
         "name": "Gene 1409",
         "rawType": "float64",
         "type": "float"
        },
        {
         "name": "Gene 1410",
         "rawType": "float64",
         "type": "float"
        },
        {
         "name": "Gene 1411",
         "rawType": "float64",
         "type": "float"
        },
        {
         "name": "Gene 1412",
         "rawType": "float64",
         "type": "float"
        },
        {
         "name": "Gene 1413",
         "rawType": "float64",
         "type": "float"
        },
        {
         "name": "Gene 1414",
         "rawType": "float64",
         "type": "float"
        },
        {
         "name": "Gene 1415",
         "rawType": "float64",
         "type": "float"
        },
        {
         "name": "Gene 1416",
         "rawType": "float64",
         "type": "float"
        },
        {
         "name": "Gene 1417",
         "rawType": "float64",
         "type": "float"
        },
        {
         "name": "Gene 1418",
         "rawType": "float64",
         "type": "float"
        },
        {
         "name": "Gene 1419",
         "rawType": "float64",
         "type": "float"
        },
        {
         "name": "Gene 1420",
         "rawType": "float64",
         "type": "float"
        },
        {
         "name": "Gene 1421",
         "rawType": "float64",
         "type": "float"
        },
        {
         "name": "Gene 1422",
         "rawType": "float64",
         "type": "float"
        },
        {
         "name": "Gene 1423",
         "rawType": "float64",
         "type": "float"
        },
        {
         "name": "Gene 1424",
         "rawType": "float64",
         "type": "float"
        },
        {
         "name": "Gene 1425",
         "rawType": "float64",
         "type": "float"
        },
        {
         "name": "Gene 1426",
         "rawType": "float64",
         "type": "float"
        },
        {
         "name": "Gene 1427",
         "rawType": "float64",
         "type": "float"
        },
        {
         "name": "Gene 1428",
         "rawType": "float64",
         "type": "float"
        },
        {
         "name": "Gene 1429",
         "rawType": "float64",
         "type": "float"
        },
        {
         "name": "Gene 1430",
         "rawType": "float64",
         "type": "float"
        },
        {
         "name": "Gene 1431",
         "rawType": "float64",
         "type": "float"
        },
        {
         "name": "Gene 1432",
         "rawType": "float64",
         "type": "float"
        },
        {
         "name": "Gene 1433",
         "rawType": "float64",
         "type": "float"
        },
        {
         "name": "Gene 1434",
         "rawType": "float64",
         "type": "float"
        },
        {
         "name": "Gene 1435",
         "rawType": "float64",
         "type": "float"
        },
        {
         "name": "Gene 1436",
         "rawType": "float64",
         "type": "float"
        },
        {
         "name": "Gene 1437",
         "rawType": "float64",
         "type": "float"
        },
        {
         "name": "Gene 1438",
         "rawType": "float64",
         "type": "float"
        },
        {
         "name": "Gene 1439",
         "rawType": "float64",
         "type": "float"
        },
        {
         "name": "Gene 1440",
         "rawType": "float64",
         "type": "float"
        },
        {
         "name": "Gene 1441",
         "rawType": "float64",
         "type": "float"
        },
        {
         "name": "Gene 1442",
         "rawType": "float64",
         "type": "float"
        },
        {
         "name": "Gene 1443",
         "rawType": "float64",
         "type": "float"
        },
        {
         "name": "Gene 1444",
         "rawType": "float64",
         "type": "float"
        },
        {
         "name": "Gene 1445",
         "rawType": "float64",
         "type": "float"
        },
        {
         "name": "Gene 1446",
         "rawType": "float64",
         "type": "float"
        },
        {
         "name": "Gene 1447",
         "rawType": "float64",
         "type": "float"
        },
        {
         "name": "Gene 1448",
         "rawType": "float64",
         "type": "float"
        },
        {
         "name": "Gene 1449",
         "rawType": "float64",
         "type": "float"
        },
        {
         "name": "Gene 1450",
         "rawType": "float64",
         "type": "float"
        },
        {
         "name": "Gene 1451",
         "rawType": "float64",
         "type": "float"
        },
        {
         "name": "Gene 1452",
         "rawType": "float64",
         "type": "float"
        },
        {
         "name": "Gene 1453",
         "rawType": "float64",
         "type": "float"
        },
        {
         "name": "Gene 1454",
         "rawType": "float64",
         "type": "float"
        },
        {
         "name": "Gene 1455",
         "rawType": "float64",
         "type": "float"
        },
        {
         "name": "Gene 1456",
         "rawType": "float64",
         "type": "float"
        },
        {
         "name": "Gene 1457",
         "rawType": "float64",
         "type": "float"
        },
        {
         "name": "Gene 1458",
         "rawType": "float64",
         "type": "float"
        },
        {
         "name": "Gene 1459",
         "rawType": "float64",
         "type": "float"
        },
        {
         "name": "Gene 1460",
         "rawType": "float64",
         "type": "float"
        },
        {
         "name": "Gene 1461",
         "rawType": "float64",
         "type": "float"
        },
        {
         "name": "Gene 1462",
         "rawType": "float64",
         "type": "float"
        },
        {
         "name": "Gene 1463",
         "rawType": "float64",
         "type": "float"
        },
        {
         "name": "Gene 1464",
         "rawType": "float64",
         "type": "float"
        },
        {
         "name": "Gene 1465",
         "rawType": "float64",
         "type": "float"
        },
        {
         "name": "Gene 1466",
         "rawType": "float64",
         "type": "float"
        },
        {
         "name": "Gene 1467",
         "rawType": "float64",
         "type": "float"
        },
        {
         "name": "Gene 1468",
         "rawType": "float64",
         "type": "float"
        },
        {
         "name": "Gene 1469",
         "rawType": "float64",
         "type": "float"
        },
        {
         "name": "Gene 1470",
         "rawType": "float64",
         "type": "float"
        },
        {
         "name": "Gene 1471",
         "rawType": "float64",
         "type": "float"
        },
        {
         "name": "Gene 1472",
         "rawType": "float64",
         "type": "float"
        },
        {
         "name": "Gene 1473",
         "rawType": "float64",
         "type": "float"
        },
        {
         "name": "Gene 1474",
         "rawType": "float64",
         "type": "float"
        },
        {
         "name": "Gene 1475",
         "rawType": "float64",
         "type": "float"
        },
        {
         "name": "Gene 1476",
         "rawType": "float64",
         "type": "float"
        },
        {
         "name": "Gene 1477",
         "rawType": "float64",
         "type": "float"
        },
        {
         "name": "Gene 1478",
         "rawType": "float64",
         "type": "float"
        },
        {
         "name": "Gene 1479",
         "rawType": "float64",
         "type": "float"
        },
        {
         "name": "Gene 1480",
         "rawType": "float64",
         "type": "float"
        },
        {
         "name": "Gene 1481",
         "rawType": "float64",
         "type": "float"
        },
        {
         "name": "Gene 1482",
         "rawType": "float64",
         "type": "float"
        },
        {
         "name": "Gene 1483",
         "rawType": "float64",
         "type": "float"
        },
        {
         "name": "Gene 1484",
         "rawType": "float64",
         "type": "float"
        },
        {
         "name": "Gene 1485",
         "rawType": "float64",
         "type": "float"
        },
        {
         "name": "Gene 1486",
         "rawType": "float64",
         "type": "float"
        },
        {
         "name": "Gene 1487",
         "rawType": "float64",
         "type": "float"
        },
        {
         "name": "Gene 1488",
         "rawType": "float64",
         "type": "float"
        },
        {
         "name": "Gene 1489",
         "rawType": "float64",
         "type": "float"
        },
        {
         "name": "Gene 1490",
         "rawType": "float64",
         "type": "float"
        },
        {
         "name": "Gene 1491",
         "rawType": "float64",
         "type": "float"
        },
        {
         "name": "Gene 1492",
         "rawType": "float64",
         "type": "float"
        },
        {
         "name": "Gene 1493",
         "rawType": "float64",
         "type": "float"
        },
        {
         "name": "Gene 1494",
         "rawType": "float64",
         "type": "float"
        },
        {
         "name": "Gene 1495",
         "rawType": "float64",
         "type": "float"
        },
        {
         "name": "Gene 1496",
         "rawType": "float64",
         "type": "float"
        },
        {
         "name": "Gene 1497",
         "rawType": "float64",
         "type": "float"
        },
        {
         "name": "Gene 1498",
         "rawType": "float64",
         "type": "float"
        },
        {
         "name": "Gene 1499",
         "rawType": "float64",
         "type": "float"
        },
        {
         "name": "Gene 1500",
         "rawType": "float64",
         "type": "float"
        },
        {
         "name": "Gene 1501",
         "rawType": "float64",
         "type": "float"
        },
        {
         "name": "Gene 1502",
         "rawType": "float64",
         "type": "float"
        },
        {
         "name": "Gene 1503",
         "rawType": "float64",
         "type": "float"
        },
        {
         "name": "Gene 1504",
         "rawType": "float64",
         "type": "float"
        },
        {
         "name": "Gene 1505",
         "rawType": "float64",
         "type": "float"
        },
        {
         "name": "Gene 1506",
         "rawType": "float64",
         "type": "float"
        },
        {
         "name": "Gene 1507",
         "rawType": "float64",
         "type": "float"
        },
        {
         "name": "Gene 1508",
         "rawType": "float64",
         "type": "float"
        },
        {
         "name": "Gene 1509",
         "rawType": "float64",
         "type": "float"
        },
        {
         "name": "Gene 1510",
         "rawType": "float64",
         "type": "float"
        },
        {
         "name": "Gene 1511",
         "rawType": "float64",
         "type": "float"
        },
        {
         "name": "Gene 1512",
         "rawType": "float64",
         "type": "float"
        },
        {
         "name": "Gene 1513",
         "rawType": "float64",
         "type": "float"
        },
        {
         "name": "Gene 1514",
         "rawType": "float64",
         "type": "float"
        },
        {
         "name": "Gene 1515",
         "rawType": "float64",
         "type": "float"
        },
        {
         "name": "Gene 1516",
         "rawType": "float64",
         "type": "float"
        },
        {
         "name": "Gene 1517",
         "rawType": "float64",
         "type": "float"
        },
        {
         "name": "Gene 1518",
         "rawType": "float64",
         "type": "float"
        },
        {
         "name": "Gene 1519",
         "rawType": "float64",
         "type": "float"
        },
        {
         "name": "Gene 1520",
         "rawType": "float64",
         "type": "float"
        },
        {
         "name": "Gene 1521",
         "rawType": "float64",
         "type": "float"
        },
        {
         "name": "Gene 1522",
         "rawType": "float64",
         "type": "float"
        },
        {
         "name": "Gene 1523",
         "rawType": "float64",
         "type": "float"
        },
        {
         "name": "Gene 1524",
         "rawType": "float64",
         "type": "float"
        },
        {
         "name": "Gene 1525",
         "rawType": "float64",
         "type": "float"
        },
        {
         "name": "Gene 1526",
         "rawType": "float64",
         "type": "float"
        },
        {
         "name": "Gene 1527",
         "rawType": "float64",
         "type": "float"
        },
        {
         "name": "Gene 1528",
         "rawType": "float64",
         "type": "float"
        },
        {
         "name": "Gene 1529",
         "rawType": "float64",
         "type": "float"
        },
        {
         "name": "Gene 1530",
         "rawType": "float64",
         "type": "float"
        },
        {
         "name": "Gene 1531",
         "rawType": "float64",
         "type": "float"
        },
        {
         "name": "Gene 1532",
         "rawType": "float64",
         "type": "float"
        },
        {
         "name": "Gene 1533",
         "rawType": "float64",
         "type": "float"
        },
        {
         "name": "Gene 1534",
         "rawType": "float64",
         "type": "float"
        },
        {
         "name": "Gene 1535",
         "rawType": "float64",
         "type": "float"
        },
        {
         "name": "Gene 1536",
         "rawType": "float64",
         "type": "float"
        },
        {
         "name": "Gene 1537",
         "rawType": "float64",
         "type": "float"
        },
        {
         "name": "Gene 1538",
         "rawType": "float64",
         "type": "float"
        },
        {
         "name": "Gene 1539",
         "rawType": "float64",
         "type": "float"
        },
        {
         "name": "Gene 1540",
         "rawType": "float64",
         "type": "float"
        },
        {
         "name": "Gene 1541",
         "rawType": "float64",
         "type": "float"
        },
        {
         "name": "Gene 1542",
         "rawType": "float64",
         "type": "float"
        },
        {
         "name": "Gene 1543",
         "rawType": "float64",
         "type": "float"
        },
        {
         "name": "Gene 1544",
         "rawType": "float64",
         "type": "float"
        },
        {
         "name": "Gene 1545",
         "rawType": "float64",
         "type": "float"
        },
        {
         "name": "Gene 1546",
         "rawType": "float64",
         "type": "float"
        },
        {
         "name": "Gene 1547",
         "rawType": "float64",
         "type": "float"
        },
        {
         "name": "Gene 1548",
         "rawType": "float64",
         "type": "float"
        },
        {
         "name": "Gene 1549",
         "rawType": "float64",
         "type": "float"
        },
        {
         "name": "Gene 1550",
         "rawType": "float64",
         "type": "float"
        },
        {
         "name": "Gene 1551",
         "rawType": "float64",
         "type": "float"
        },
        {
         "name": "Gene 1552",
         "rawType": "float64",
         "type": "float"
        },
        {
         "name": "Gene 1553",
         "rawType": "float64",
         "type": "float"
        },
        {
         "name": "Gene 1554",
         "rawType": "float64",
         "type": "float"
        },
        {
         "name": "Gene 1555",
         "rawType": "float64",
         "type": "float"
        },
        {
         "name": "Gene 1556",
         "rawType": "float64",
         "type": "float"
        },
        {
         "name": "Gene 1557",
         "rawType": "float64",
         "type": "float"
        },
        {
         "name": "Gene 1558",
         "rawType": "float64",
         "type": "float"
        },
        {
         "name": "Gene 1559",
         "rawType": "float64",
         "type": "float"
        },
        {
         "name": "Gene 1560",
         "rawType": "float64",
         "type": "float"
        },
        {
         "name": "Gene 1561",
         "rawType": "float64",
         "type": "float"
        },
        {
         "name": "Gene 1562",
         "rawType": "float64",
         "type": "float"
        },
        {
         "name": "Gene 1563",
         "rawType": "float64",
         "type": "float"
        },
        {
         "name": "Gene 1564",
         "rawType": "float64",
         "type": "float"
        },
        {
         "name": "Gene 1565",
         "rawType": "float64",
         "type": "float"
        },
        {
         "name": "Gene 1566",
         "rawType": "float64",
         "type": "float"
        },
        {
         "name": "Gene 1567",
         "rawType": "float64",
         "type": "float"
        },
        {
         "name": "Gene 1568",
         "rawType": "float64",
         "type": "float"
        },
        {
         "name": "Gene 1569",
         "rawType": "float64",
         "type": "float"
        },
        {
         "name": "Gene 1570",
         "rawType": "float64",
         "type": "float"
        },
        {
         "name": "Gene 1571",
         "rawType": "float64",
         "type": "float"
        },
        {
         "name": "Gene 1572",
         "rawType": "float64",
         "type": "float"
        },
        {
         "name": "Gene 1573",
         "rawType": "float64",
         "type": "float"
        },
        {
         "name": "Gene 1574",
         "rawType": "float64",
         "type": "float"
        },
        {
         "name": "Gene 1575",
         "rawType": "float64",
         "type": "float"
        },
        {
         "name": "Gene 1576",
         "rawType": "float64",
         "type": "float"
        },
        {
         "name": "Gene 1577",
         "rawType": "float64",
         "type": "float"
        },
        {
         "name": "Gene 1578",
         "rawType": "float64",
         "type": "float"
        },
        {
         "name": "Gene 1579",
         "rawType": "float64",
         "type": "float"
        },
        {
         "name": "Gene 1580",
         "rawType": "float64",
         "type": "float"
        },
        {
         "name": "Gene 1581",
         "rawType": "float64",
         "type": "float"
        },
        {
         "name": "Gene 1582",
         "rawType": "float64",
         "type": "float"
        },
        {
         "name": "Gene 1583",
         "rawType": "float64",
         "type": "float"
        },
        {
         "name": "Gene 1584",
         "rawType": "float64",
         "type": "float"
        },
        {
         "name": "Gene 1585",
         "rawType": "float64",
         "type": "float"
        },
        {
         "name": "Gene 1586",
         "rawType": "float64",
         "type": "float"
        },
        {
         "name": "Gene 1587",
         "rawType": "float64",
         "type": "float"
        },
        {
         "name": "Gene 1588",
         "rawType": "float64",
         "type": "float"
        },
        {
         "name": "Gene 1589",
         "rawType": "float64",
         "type": "float"
        },
        {
         "name": "Gene 1590",
         "rawType": "float64",
         "type": "float"
        },
        {
         "name": "Gene 1591",
         "rawType": "float64",
         "type": "float"
        },
        {
         "name": "Gene 1592",
         "rawType": "float64",
         "type": "float"
        },
        {
         "name": "Gene 1593",
         "rawType": "float64",
         "type": "float"
        },
        {
         "name": "Gene 1594",
         "rawType": "float64",
         "type": "float"
        },
        {
         "name": "Gene 1595",
         "rawType": "float64",
         "type": "float"
        },
        {
         "name": "Gene 1596",
         "rawType": "float64",
         "type": "float"
        },
        {
         "name": "Gene 1597",
         "rawType": "float64",
         "type": "float"
        },
        {
         "name": "Gene 1598",
         "rawType": "float64",
         "type": "float"
        },
        {
         "name": "Gene 1599",
         "rawType": "float64",
         "type": "float"
        },
        {
         "name": "Gene 1600",
         "rawType": "float64",
         "type": "float"
        },
        {
         "name": "Gene 1601",
         "rawType": "float64",
         "type": "float"
        },
        {
         "name": "Gene 1602",
         "rawType": "float64",
         "type": "float"
        },
        {
         "name": "Gene 1603",
         "rawType": "float64",
         "type": "float"
        },
        {
         "name": "Gene 1604",
         "rawType": "float64",
         "type": "float"
        },
        {
         "name": "Gene 1605",
         "rawType": "float64",
         "type": "float"
        },
        {
         "name": "Gene 1606",
         "rawType": "float64",
         "type": "float"
        },
        {
         "name": "Gene 1607",
         "rawType": "float64",
         "type": "float"
        },
        {
         "name": "Gene 1608",
         "rawType": "float64",
         "type": "float"
        },
        {
         "name": "Gene 1609",
         "rawType": "float64",
         "type": "float"
        },
        {
         "name": "Gene 1610",
         "rawType": "float64",
         "type": "float"
        },
        {
         "name": "Gene 1611",
         "rawType": "float64",
         "type": "float"
        },
        {
         "name": "Gene 1612",
         "rawType": "float64",
         "type": "float"
        },
        {
         "name": "Gene 1613",
         "rawType": "float64",
         "type": "float"
        },
        {
         "name": "Gene 1614",
         "rawType": "float64",
         "type": "float"
        },
        {
         "name": "Gene 1615",
         "rawType": "float64",
         "type": "float"
        },
        {
         "name": "Gene 1616",
         "rawType": "float64",
         "type": "float"
        },
        {
         "name": "Gene 1617",
         "rawType": "float64",
         "type": "float"
        },
        {
         "name": "Gene 1618",
         "rawType": "float64",
         "type": "float"
        },
        {
         "name": "Gene 1619",
         "rawType": "float64",
         "type": "float"
        },
        {
         "name": "Gene 1620",
         "rawType": "float64",
         "type": "float"
        },
        {
         "name": "Gene 1621",
         "rawType": "float64",
         "type": "float"
        },
        {
         "name": "Gene 1622",
         "rawType": "float64",
         "type": "float"
        },
        {
         "name": "Gene 1623",
         "rawType": "float64",
         "type": "float"
        },
        {
         "name": "Gene 1624",
         "rawType": "float64",
         "type": "float"
        },
        {
         "name": "Gene 1625",
         "rawType": "float64",
         "type": "float"
        },
        {
         "name": "Gene 1626",
         "rawType": "float64",
         "type": "float"
        },
        {
         "name": "Gene 1627",
         "rawType": "float64",
         "type": "float"
        },
        {
         "name": "Gene 1628",
         "rawType": "float64",
         "type": "float"
        },
        {
         "name": "Gene 1629",
         "rawType": "float64",
         "type": "float"
        },
        {
         "name": "Gene 1630",
         "rawType": "float64",
         "type": "float"
        },
        {
         "name": "Gene 1631",
         "rawType": "float64",
         "type": "float"
        },
        {
         "name": "Gene 1632",
         "rawType": "float64",
         "type": "float"
        },
        {
         "name": "Gene 1633",
         "rawType": "float64",
         "type": "float"
        },
        {
         "name": "Gene 1634",
         "rawType": "float64",
         "type": "float"
        },
        {
         "name": "Gene 1635",
         "rawType": "float64",
         "type": "float"
        },
        {
         "name": "Gene 1636",
         "rawType": "float64",
         "type": "float"
        },
        {
         "name": "Gene 1637",
         "rawType": "float64",
         "type": "float"
        },
        {
         "name": "Gene 1638",
         "rawType": "float64",
         "type": "float"
        },
        {
         "name": "Gene 1639",
         "rawType": "float64",
         "type": "float"
        },
        {
         "name": "Gene 1640",
         "rawType": "float64",
         "type": "float"
        },
        {
         "name": "Gene 1641",
         "rawType": "float64",
         "type": "float"
        },
        {
         "name": "Gene 1642",
         "rawType": "float64",
         "type": "float"
        },
        {
         "name": "Gene 1643",
         "rawType": "float64",
         "type": "float"
        },
        {
         "name": "Gene 1644",
         "rawType": "float64",
         "type": "float"
        },
        {
         "name": "Gene 1645",
         "rawType": "float64",
         "type": "float"
        },
        {
         "name": "Gene 1646",
         "rawType": "float64",
         "type": "float"
        },
        {
         "name": "Gene 1647",
         "rawType": "float64",
         "type": "float"
        },
        {
         "name": "Gene 1648",
         "rawType": "float64",
         "type": "float"
        },
        {
         "name": "Gene 1649",
         "rawType": "float64",
         "type": "float"
        },
        {
         "name": "Gene 1650",
         "rawType": "float64",
         "type": "float"
        },
        {
         "name": "Gene 1651",
         "rawType": "float64",
         "type": "float"
        },
        {
         "name": "Gene 1652",
         "rawType": "float64",
         "type": "float"
        },
        {
         "name": "Gene 1653",
         "rawType": "float64",
         "type": "float"
        },
        {
         "name": "Gene 1654",
         "rawType": "float64",
         "type": "float"
        },
        {
         "name": "Gene 1655",
         "rawType": "float64",
         "type": "float"
        },
        {
         "name": "Gene 1656",
         "rawType": "float64",
         "type": "float"
        },
        {
         "name": "Gene 1657",
         "rawType": "float64",
         "type": "float"
        },
        {
         "name": "Gene 1658",
         "rawType": "float64",
         "type": "float"
        },
        {
         "name": "Gene 1659",
         "rawType": "float64",
         "type": "float"
        },
        {
         "name": "Gene 1660",
         "rawType": "float64",
         "type": "float"
        },
        {
         "name": "Gene 1661",
         "rawType": "float64",
         "type": "float"
        },
        {
         "name": "Gene 1662",
         "rawType": "float64",
         "type": "float"
        },
        {
         "name": "Gene 1663",
         "rawType": "float64",
         "type": "float"
        },
        {
         "name": "Gene 1664",
         "rawType": "float64",
         "type": "float"
        },
        {
         "name": "Gene 1665",
         "rawType": "float64",
         "type": "float"
        },
        {
         "name": "Gene 1666",
         "rawType": "float64",
         "type": "float"
        },
        {
         "name": "Gene 1667",
         "rawType": "float64",
         "type": "float"
        },
        {
         "name": "Gene 1668",
         "rawType": "float64",
         "type": "float"
        },
        {
         "name": "Gene 1669",
         "rawType": "float64",
         "type": "float"
        },
        {
         "name": "Gene 1670",
         "rawType": "float64",
         "type": "float"
        },
        {
         "name": "Gene 1671",
         "rawType": "float64",
         "type": "float"
        },
        {
         "name": "Gene 1672",
         "rawType": "float64",
         "type": "float"
        },
        {
         "name": "Gene 1673",
         "rawType": "float64",
         "type": "float"
        },
        {
         "name": "Gene 1674",
         "rawType": "float64",
         "type": "float"
        },
        {
         "name": "Gene 1675",
         "rawType": "float64",
         "type": "float"
        },
        {
         "name": "Gene 1676",
         "rawType": "float64",
         "type": "float"
        },
        {
         "name": "Gene 1677",
         "rawType": "float64",
         "type": "float"
        },
        {
         "name": "Gene 1678",
         "rawType": "float64",
         "type": "float"
        },
        {
         "name": "Gene 1679",
         "rawType": "float64",
         "type": "float"
        },
        {
         "name": "Gene 1680",
         "rawType": "float64",
         "type": "float"
        },
        {
         "name": "Gene 1681",
         "rawType": "float64",
         "type": "float"
        },
        {
         "name": "Gene 1682",
         "rawType": "float64",
         "type": "float"
        },
        {
         "name": "Gene 1683",
         "rawType": "float64",
         "type": "float"
        },
        {
         "name": "Gene 1684",
         "rawType": "float64",
         "type": "float"
        },
        {
         "name": "Gene 1685",
         "rawType": "float64",
         "type": "float"
        },
        {
         "name": "Gene 1686",
         "rawType": "float64",
         "type": "float"
        },
        {
         "name": "Gene 1687",
         "rawType": "float64",
         "type": "float"
        },
        {
         "name": "Gene 1688",
         "rawType": "float64",
         "type": "float"
        },
        {
         "name": "Gene 1689",
         "rawType": "float64",
         "type": "float"
        },
        {
         "name": "Gene 1690",
         "rawType": "float64",
         "type": "float"
        },
        {
         "name": "Gene 1691",
         "rawType": "float64",
         "type": "float"
        },
        {
         "name": "Gene 1692",
         "rawType": "float64",
         "type": "float"
        },
        {
         "name": "Gene 1693",
         "rawType": "float64",
         "type": "float"
        },
        {
         "name": "Gene 1694",
         "rawType": "float64",
         "type": "float"
        },
        {
         "name": "Gene 1695",
         "rawType": "float64",
         "type": "float"
        },
        {
         "name": "Gene 1696",
         "rawType": "float64",
         "type": "float"
        },
        {
         "name": "Gene 1697",
         "rawType": "float64",
         "type": "float"
        },
        {
         "name": "Gene 1698",
         "rawType": "float64",
         "type": "float"
        },
        {
         "name": "Gene 1699",
         "rawType": "float64",
         "type": "float"
        },
        {
         "name": "Gene 1700",
         "rawType": "float64",
         "type": "float"
        },
        {
         "name": "Gene 1701",
         "rawType": "float64",
         "type": "float"
        },
        {
         "name": "Gene 1702",
         "rawType": "float64",
         "type": "float"
        },
        {
         "name": "Gene 1703",
         "rawType": "float64",
         "type": "float"
        },
        {
         "name": "Gene 1704",
         "rawType": "float64",
         "type": "float"
        },
        {
         "name": "Gene 1705",
         "rawType": "float64",
         "type": "float"
        },
        {
         "name": "Gene 1706",
         "rawType": "float64",
         "type": "float"
        },
        {
         "name": "Gene 1707",
         "rawType": "float64",
         "type": "float"
        },
        {
         "name": "Gene 1708",
         "rawType": "float64",
         "type": "float"
        },
        {
         "name": "Gene 1709",
         "rawType": "float64",
         "type": "float"
        },
        {
         "name": "Gene 1710",
         "rawType": "float64",
         "type": "float"
        },
        {
         "name": "Gene 1711",
         "rawType": "float64",
         "type": "float"
        },
        {
         "name": "Gene 1712",
         "rawType": "float64",
         "type": "float"
        },
        {
         "name": "Gene 1713",
         "rawType": "float64",
         "type": "float"
        },
        {
         "name": "Gene 1714",
         "rawType": "float64",
         "type": "float"
        },
        {
         "name": "Gene 1715",
         "rawType": "float64",
         "type": "float"
        },
        {
         "name": "Gene 1716",
         "rawType": "float64",
         "type": "float"
        },
        {
         "name": "Gene 1717",
         "rawType": "float64",
         "type": "float"
        },
        {
         "name": "Gene 1718",
         "rawType": "float64",
         "type": "float"
        },
        {
         "name": "Gene 1719",
         "rawType": "float64",
         "type": "float"
        },
        {
         "name": "Gene 1720",
         "rawType": "float64",
         "type": "float"
        },
        {
         "name": "Gene 1721",
         "rawType": "float64",
         "type": "float"
        },
        {
         "name": "Gene 1722",
         "rawType": "float64",
         "type": "float"
        },
        {
         "name": "Gene 1723",
         "rawType": "float64",
         "type": "float"
        },
        {
         "name": "Gene 1724",
         "rawType": "float64",
         "type": "float"
        },
        {
         "name": "Gene 1725",
         "rawType": "float64",
         "type": "float"
        },
        {
         "name": "Gene 1726",
         "rawType": "float64",
         "type": "float"
        },
        {
         "name": "Gene 1727",
         "rawType": "float64",
         "type": "float"
        },
        {
         "name": "Gene 1728",
         "rawType": "float64",
         "type": "float"
        },
        {
         "name": "Gene 1729",
         "rawType": "float64",
         "type": "float"
        },
        {
         "name": "Gene 1730",
         "rawType": "float64",
         "type": "float"
        },
        {
         "name": "Gene 1731",
         "rawType": "float64",
         "type": "float"
        },
        {
         "name": "Gene 1732",
         "rawType": "float64",
         "type": "float"
        },
        {
         "name": "Gene 1733",
         "rawType": "float64",
         "type": "float"
        },
        {
         "name": "Gene 1734",
         "rawType": "float64",
         "type": "float"
        },
        {
         "name": "Gene 1735",
         "rawType": "float64",
         "type": "float"
        },
        {
         "name": "Gene 1736",
         "rawType": "float64",
         "type": "float"
        },
        {
         "name": "Gene 1737",
         "rawType": "float64",
         "type": "float"
        },
        {
         "name": "Gene 1738",
         "rawType": "float64",
         "type": "float"
        },
        {
         "name": "Gene 1739",
         "rawType": "float64",
         "type": "float"
        },
        {
         "name": "Gene 1740",
         "rawType": "float64",
         "type": "float"
        },
        {
         "name": "Gene 1741",
         "rawType": "float64",
         "type": "float"
        },
        {
         "name": "Gene 1742",
         "rawType": "float64",
         "type": "float"
        },
        {
         "name": "Gene 1743",
         "rawType": "float64",
         "type": "float"
        },
        {
         "name": "Gene 1744",
         "rawType": "float64",
         "type": "float"
        },
        {
         "name": "Gene 1745",
         "rawType": "float64",
         "type": "float"
        },
        {
         "name": "Gene 1746",
         "rawType": "float64",
         "type": "float"
        },
        {
         "name": "Gene 1747",
         "rawType": "float64",
         "type": "float"
        },
        {
         "name": "Gene 1748",
         "rawType": "float64",
         "type": "float"
        },
        {
         "name": "Gene 1749",
         "rawType": "float64",
         "type": "float"
        },
        {
         "name": "Gene 1750",
         "rawType": "float64",
         "type": "float"
        },
        {
         "name": "Gene 1751",
         "rawType": "float64",
         "type": "float"
        },
        {
         "name": "Gene 1752",
         "rawType": "float64",
         "type": "float"
        },
        {
         "name": "Gene 1753",
         "rawType": "float64",
         "type": "float"
        },
        {
         "name": "Gene 1754",
         "rawType": "float64",
         "type": "float"
        },
        {
         "name": "Gene 1755",
         "rawType": "float64",
         "type": "float"
        },
        {
         "name": "Gene 1756",
         "rawType": "float64",
         "type": "float"
        },
        {
         "name": "Gene 1757",
         "rawType": "float64",
         "type": "float"
        },
        {
         "name": "Gene 1758",
         "rawType": "float64",
         "type": "float"
        },
        {
         "name": "Gene 1759",
         "rawType": "float64",
         "type": "float"
        },
        {
         "name": "Gene 1760",
         "rawType": "float64",
         "type": "float"
        },
        {
         "name": "Gene 1761",
         "rawType": "float64",
         "type": "float"
        },
        {
         "name": "Gene 1762",
         "rawType": "float64",
         "type": "float"
        },
        {
         "name": "Gene 1763",
         "rawType": "float64",
         "type": "float"
        },
        {
         "name": "Gene 1764",
         "rawType": "float64",
         "type": "float"
        },
        {
         "name": "Gene 1765",
         "rawType": "float64",
         "type": "float"
        },
        {
         "name": "Gene 1766",
         "rawType": "float64",
         "type": "float"
        },
        {
         "name": "Gene 1767",
         "rawType": "float64",
         "type": "float"
        },
        {
         "name": "Gene 1768",
         "rawType": "float64",
         "type": "float"
        },
        {
         "name": "Gene 1769",
         "rawType": "float64",
         "type": "float"
        },
        {
         "name": "Gene 1770",
         "rawType": "float64",
         "type": "float"
        },
        {
         "name": "Gene 1771",
         "rawType": "float64",
         "type": "float"
        },
        {
         "name": "Gene 1772",
         "rawType": "float64",
         "type": "float"
        },
        {
         "name": "Gene 1773",
         "rawType": "float64",
         "type": "float"
        },
        {
         "name": "Gene 1774",
         "rawType": "float64",
         "type": "float"
        },
        {
         "name": "Gene 1775",
         "rawType": "float64",
         "type": "float"
        },
        {
         "name": "Gene 1776",
         "rawType": "float64",
         "type": "float"
        },
        {
         "name": "Gene 1777",
         "rawType": "float64",
         "type": "float"
        },
        {
         "name": "Gene 1778",
         "rawType": "float64",
         "type": "float"
        },
        {
         "name": "Gene 1779",
         "rawType": "float64",
         "type": "float"
        },
        {
         "name": "Gene 1780",
         "rawType": "float64",
         "type": "float"
        },
        {
         "name": "Gene 1781",
         "rawType": "float64",
         "type": "float"
        },
        {
         "name": "Gene 1782",
         "rawType": "float64",
         "type": "float"
        },
        {
         "name": "Gene 1783",
         "rawType": "float64",
         "type": "float"
        },
        {
         "name": "Gene 1784",
         "rawType": "float64",
         "type": "float"
        },
        {
         "name": "Gene 1785",
         "rawType": "float64",
         "type": "float"
        },
        {
         "name": "Gene 1786",
         "rawType": "float64",
         "type": "float"
        },
        {
         "name": "Gene 1787",
         "rawType": "float64",
         "type": "float"
        },
        {
         "name": "Gene 1788",
         "rawType": "float64",
         "type": "float"
        },
        {
         "name": "Gene 1789",
         "rawType": "float64",
         "type": "float"
        },
        {
         "name": "Gene 1790",
         "rawType": "float64",
         "type": "float"
        },
        {
         "name": "Gene 1791",
         "rawType": "float64",
         "type": "float"
        },
        {
         "name": "Gene 1792",
         "rawType": "float64",
         "type": "float"
        },
        {
         "name": "Gene 1793",
         "rawType": "float64",
         "type": "float"
        },
        {
         "name": "Gene 1794",
         "rawType": "float64",
         "type": "float"
        },
        {
         "name": "Gene 1795",
         "rawType": "float64",
         "type": "float"
        },
        {
         "name": "Gene 1796",
         "rawType": "float64",
         "type": "float"
        },
        {
         "name": "Gene 1797",
         "rawType": "float64",
         "type": "float"
        },
        {
         "name": "Gene 1798",
         "rawType": "float64",
         "type": "float"
        },
        {
         "name": "Gene 1799",
         "rawType": "float64",
         "type": "float"
        },
        {
         "name": "Gene 1800",
         "rawType": "float64",
         "type": "float"
        },
        {
         "name": "Gene 1801",
         "rawType": "float64",
         "type": "float"
        },
        {
         "name": "Gene 1802",
         "rawType": "float64",
         "type": "float"
        },
        {
         "name": "Gene 1803",
         "rawType": "float64",
         "type": "float"
        },
        {
         "name": "Gene 1804",
         "rawType": "float64",
         "type": "float"
        },
        {
         "name": "Gene 1805",
         "rawType": "float64",
         "type": "float"
        },
        {
         "name": "Gene 1806",
         "rawType": "float64",
         "type": "float"
        },
        {
         "name": "Gene 1807",
         "rawType": "float64",
         "type": "float"
        },
        {
         "name": "Gene 1808",
         "rawType": "float64",
         "type": "float"
        },
        {
         "name": "Gene 1809",
         "rawType": "float64",
         "type": "float"
        },
        {
         "name": "Gene 1810",
         "rawType": "float64",
         "type": "float"
        },
        {
         "name": "Gene 1811",
         "rawType": "float64",
         "type": "float"
        },
        {
         "name": "Gene 1812",
         "rawType": "float64",
         "type": "float"
        },
        {
         "name": "Gene 1813",
         "rawType": "float64",
         "type": "float"
        },
        {
         "name": "Gene 1814",
         "rawType": "float64",
         "type": "float"
        },
        {
         "name": "Gene 1815",
         "rawType": "float64",
         "type": "float"
        },
        {
         "name": "Gene 1816",
         "rawType": "float64",
         "type": "float"
        },
        {
         "name": "Gene 1817",
         "rawType": "float64",
         "type": "float"
        },
        {
         "name": "Gene 1818",
         "rawType": "float64",
         "type": "float"
        },
        {
         "name": "Gene 1819",
         "rawType": "float64",
         "type": "float"
        },
        {
         "name": "Gene 1820",
         "rawType": "float64",
         "type": "float"
        },
        {
         "name": "Gene 1821",
         "rawType": "float64",
         "type": "float"
        },
        {
         "name": "Gene 1822",
         "rawType": "float64",
         "type": "float"
        },
        {
         "name": "Gene 1823",
         "rawType": "float64",
         "type": "float"
        },
        {
         "name": "Gene 1824",
         "rawType": "float64",
         "type": "float"
        },
        {
         "name": "Gene 1825",
         "rawType": "float64",
         "type": "float"
        },
        {
         "name": "Gene 1826",
         "rawType": "float64",
         "type": "float"
        },
        {
         "name": "Gene 1827",
         "rawType": "float64",
         "type": "float"
        },
        {
         "name": "Gene 1828",
         "rawType": "float64",
         "type": "float"
        },
        {
         "name": "Gene 1829",
         "rawType": "float64",
         "type": "float"
        },
        {
         "name": "Gene 1830",
         "rawType": "float64",
         "type": "float"
        },
        {
         "name": "Gene 1831",
         "rawType": "float64",
         "type": "float"
        },
        {
         "name": "Gene 1832",
         "rawType": "float64",
         "type": "float"
        },
        {
         "name": "Gene 1833",
         "rawType": "float64",
         "type": "float"
        },
        {
         "name": "Gene 1834",
         "rawType": "float64",
         "type": "float"
        },
        {
         "name": "Gene 1835",
         "rawType": "float64",
         "type": "float"
        },
        {
         "name": "Gene 1836",
         "rawType": "float64",
         "type": "float"
        },
        {
         "name": "Gene 1837",
         "rawType": "float64",
         "type": "float"
        },
        {
         "name": "Gene 1838",
         "rawType": "float64",
         "type": "float"
        },
        {
         "name": "Gene 1839",
         "rawType": "float64",
         "type": "float"
        },
        {
         "name": "Gene 1840",
         "rawType": "float64",
         "type": "float"
        },
        {
         "name": "Gene 1841",
         "rawType": "float64",
         "type": "float"
        },
        {
         "name": "Gene 1842",
         "rawType": "float64",
         "type": "float"
        },
        {
         "name": "Gene 1843",
         "rawType": "float64",
         "type": "float"
        },
        {
         "name": "Gene 1844",
         "rawType": "float64",
         "type": "float"
        },
        {
         "name": "Gene 1845",
         "rawType": "float64",
         "type": "float"
        },
        {
         "name": "Gene 1846",
         "rawType": "float64",
         "type": "float"
        },
        {
         "name": "Gene 1847",
         "rawType": "float64",
         "type": "float"
        },
        {
         "name": "Gene 1848",
         "rawType": "float64",
         "type": "float"
        },
        {
         "name": "Gene 1849",
         "rawType": "float64",
         "type": "float"
        },
        {
         "name": "Gene 1850",
         "rawType": "float64",
         "type": "float"
        },
        {
         "name": "Gene 1851",
         "rawType": "float64",
         "type": "float"
        },
        {
         "name": "Gene 1852",
         "rawType": "float64",
         "type": "float"
        },
        {
         "name": "Gene 1853",
         "rawType": "float64",
         "type": "float"
        },
        {
         "name": "Gene 1854",
         "rawType": "float64",
         "type": "float"
        },
        {
         "name": "Gene 1855",
         "rawType": "float64",
         "type": "float"
        },
        {
         "name": "Gene 1856",
         "rawType": "float64",
         "type": "float"
        },
        {
         "name": "Gene 1857",
         "rawType": "float64",
         "type": "float"
        },
        {
         "name": "Gene 1858",
         "rawType": "float64",
         "type": "float"
        },
        {
         "name": "Gene 1859",
         "rawType": "float64",
         "type": "float"
        },
        {
         "name": "Gene 1860",
         "rawType": "float64",
         "type": "float"
        },
        {
         "name": "Gene 1861",
         "rawType": "float64",
         "type": "float"
        },
        {
         "name": "Gene 1862",
         "rawType": "float64",
         "type": "float"
        },
        {
         "name": "Gene 1863",
         "rawType": "float64",
         "type": "float"
        },
        {
         "name": "Gene 1864",
         "rawType": "float64",
         "type": "float"
        },
        {
         "name": "Gene 1865",
         "rawType": "float64",
         "type": "float"
        },
        {
         "name": "Gene 1866",
         "rawType": "float64",
         "type": "float"
        },
        {
         "name": "Gene 1867",
         "rawType": "float64",
         "type": "float"
        },
        {
         "name": "Gene 1868",
         "rawType": "float64",
         "type": "float"
        },
        {
         "name": "Gene 1869",
         "rawType": "float64",
         "type": "float"
        },
        {
         "name": "Gene 1870",
         "rawType": "float64",
         "type": "float"
        },
        {
         "name": "Gene 1871",
         "rawType": "float64",
         "type": "float"
        },
        {
         "name": "Gene 1872",
         "rawType": "float64",
         "type": "float"
        },
        {
         "name": "Gene 1873",
         "rawType": "float64",
         "type": "float"
        },
        {
         "name": "Gene 1874",
         "rawType": "float64",
         "type": "float"
        },
        {
         "name": "Gene 1875",
         "rawType": "float64",
         "type": "float"
        },
        {
         "name": "Gene 1876",
         "rawType": "float64",
         "type": "float"
        },
        {
         "name": "Gene 1877",
         "rawType": "float64",
         "type": "float"
        },
        {
         "name": "Gene 1878",
         "rawType": "float64",
         "type": "float"
        },
        {
         "name": "Gene 1879",
         "rawType": "float64",
         "type": "float"
        },
        {
         "name": "Gene 1880",
         "rawType": "float64",
         "type": "float"
        },
        {
         "name": "Gene 1881",
         "rawType": "float64",
         "type": "float"
        },
        {
         "name": "Gene 1882",
         "rawType": "float64",
         "type": "float"
        },
        {
         "name": "Gene 1883",
         "rawType": "float64",
         "type": "float"
        },
        {
         "name": "Gene 1884",
         "rawType": "float64",
         "type": "float"
        },
        {
         "name": "Gene 1885",
         "rawType": "float64",
         "type": "float"
        },
        {
         "name": "Gene 1886",
         "rawType": "float64",
         "type": "float"
        },
        {
         "name": "Gene 1887",
         "rawType": "float64",
         "type": "float"
        },
        {
         "name": "Gene 1888",
         "rawType": "float64",
         "type": "float"
        },
        {
         "name": "Gene 1889",
         "rawType": "float64",
         "type": "float"
        },
        {
         "name": "Gene 1890",
         "rawType": "float64",
         "type": "float"
        },
        {
         "name": "Gene 1891",
         "rawType": "float64",
         "type": "float"
        },
        {
         "name": "Gene 1892",
         "rawType": "float64",
         "type": "float"
        },
        {
         "name": "Gene 1893",
         "rawType": "float64",
         "type": "float"
        },
        {
         "name": "Gene 1894",
         "rawType": "float64",
         "type": "float"
        },
        {
         "name": "Gene 1895",
         "rawType": "float64",
         "type": "float"
        },
        {
         "name": "Gene 1896",
         "rawType": "float64",
         "type": "float"
        },
        {
         "name": "Gene 1897",
         "rawType": "float64",
         "type": "float"
        },
        {
         "name": "Gene 1898",
         "rawType": "float64",
         "type": "float"
        },
        {
         "name": "Gene 1899",
         "rawType": "float64",
         "type": "float"
        },
        {
         "name": "Gene 1900",
         "rawType": "float64",
         "type": "float"
        },
        {
         "name": "Gene 1901",
         "rawType": "float64",
         "type": "float"
        },
        {
         "name": "Gene 1902",
         "rawType": "float64",
         "type": "float"
        },
        {
         "name": "Gene 1903",
         "rawType": "float64",
         "type": "float"
        },
        {
         "name": "Gene 1904",
         "rawType": "float64",
         "type": "float"
        },
        {
         "name": "Gene 1905",
         "rawType": "float64",
         "type": "float"
        },
        {
         "name": "Gene 1906",
         "rawType": "float64",
         "type": "float"
        },
        {
         "name": "Gene 1907",
         "rawType": "float64",
         "type": "float"
        },
        {
         "name": "Gene 1908",
         "rawType": "float64",
         "type": "float"
        },
        {
         "name": "Gene 1909",
         "rawType": "float64",
         "type": "float"
        },
        {
         "name": "Gene 1910",
         "rawType": "float64",
         "type": "float"
        },
        {
         "name": "Gene 1911",
         "rawType": "float64",
         "type": "float"
        },
        {
         "name": "Gene 1912",
         "rawType": "float64",
         "type": "float"
        },
        {
         "name": "Gene 1913",
         "rawType": "float64",
         "type": "float"
        },
        {
         "name": "Gene 1914",
         "rawType": "float64",
         "type": "float"
        },
        {
         "name": "Gene 1915",
         "rawType": "float64",
         "type": "float"
        },
        {
         "name": "Gene 1916",
         "rawType": "float64",
         "type": "float"
        },
        {
         "name": "Gene 1917",
         "rawType": "float64",
         "type": "float"
        },
        {
         "name": "Gene 1918",
         "rawType": "float64",
         "type": "float"
        },
        {
         "name": "Gene 1919",
         "rawType": "float64",
         "type": "float"
        },
        {
         "name": "Gene 1920",
         "rawType": "float64",
         "type": "float"
        },
        {
         "name": "Gene 1921",
         "rawType": "float64",
         "type": "float"
        },
        {
         "name": "Gene 1922",
         "rawType": "float64",
         "type": "float"
        },
        {
         "name": "Gene 1923",
         "rawType": "float64",
         "type": "float"
        },
        {
         "name": "Gene 1924",
         "rawType": "float64",
         "type": "float"
        },
        {
         "name": "Gene 1925",
         "rawType": "float64",
         "type": "float"
        },
        {
         "name": "Gene 1926",
         "rawType": "float64",
         "type": "float"
        },
        {
         "name": "Gene 1927",
         "rawType": "float64",
         "type": "float"
        },
        {
         "name": "Gene 1928",
         "rawType": "float64",
         "type": "float"
        },
        {
         "name": "Gene 1929",
         "rawType": "float64",
         "type": "float"
        },
        {
         "name": "Gene 1930",
         "rawType": "float64",
         "type": "float"
        },
        {
         "name": "Gene 1931",
         "rawType": "float64",
         "type": "float"
        },
        {
         "name": "Gene 1932",
         "rawType": "float64",
         "type": "float"
        },
        {
         "name": "Gene 1933",
         "rawType": "float64",
         "type": "float"
        },
        {
         "name": "Gene 1934",
         "rawType": "float64",
         "type": "float"
        },
        {
         "name": "Gene 1935",
         "rawType": "float64",
         "type": "float"
        },
        {
         "name": "Gene 1936",
         "rawType": "float64",
         "type": "float"
        },
        {
         "name": "Gene 1937",
         "rawType": "float64",
         "type": "float"
        },
        {
         "name": "Gene 1938",
         "rawType": "float64",
         "type": "float"
        },
        {
         "name": "Gene 1939",
         "rawType": "float64",
         "type": "float"
        },
        {
         "name": "Gene 1940",
         "rawType": "float64",
         "type": "float"
        },
        {
         "name": "Gene 1941",
         "rawType": "float64",
         "type": "float"
        },
        {
         "name": "Gene 1942",
         "rawType": "float64",
         "type": "float"
        },
        {
         "name": "Gene 1943",
         "rawType": "float64",
         "type": "float"
        },
        {
         "name": "Gene 1944",
         "rawType": "float64",
         "type": "float"
        },
        {
         "name": "Gene 1945",
         "rawType": "float64",
         "type": "float"
        },
        {
         "name": "Gene 1946",
         "rawType": "float64",
         "type": "float"
        },
        {
         "name": "Gene 1947",
         "rawType": "float64",
         "type": "float"
        },
        {
         "name": "Gene 1948",
         "rawType": "float64",
         "type": "float"
        },
        {
         "name": "Gene 1949",
         "rawType": "float64",
         "type": "float"
        },
        {
         "name": "Gene 1950",
         "rawType": "float64",
         "type": "float"
        },
        {
         "name": "Gene 1951",
         "rawType": "float64",
         "type": "float"
        },
        {
         "name": "Gene 1952",
         "rawType": "float64",
         "type": "float"
        },
        {
         "name": "Gene 1953",
         "rawType": "float64",
         "type": "float"
        },
        {
         "name": "Gene 1954",
         "rawType": "float64",
         "type": "float"
        },
        {
         "name": "Gene 1955",
         "rawType": "float64",
         "type": "float"
        },
        {
         "name": "Gene 1956",
         "rawType": "float64",
         "type": "float"
        },
        {
         "name": "Gene 1957",
         "rawType": "float64",
         "type": "float"
        },
        {
         "name": "Gene 1958",
         "rawType": "float64",
         "type": "float"
        },
        {
         "name": "Gene 1959",
         "rawType": "float64",
         "type": "float"
        },
        {
         "name": "Gene 1960",
         "rawType": "float64",
         "type": "float"
        },
        {
         "name": "Gene 1961",
         "rawType": "float64",
         "type": "float"
        },
        {
         "name": "Gene 1962",
         "rawType": "float64",
         "type": "float"
        },
        {
         "name": "Gene 1963",
         "rawType": "float64",
         "type": "float"
        },
        {
         "name": "Gene 1964",
         "rawType": "float64",
         "type": "float"
        },
        {
         "name": "Gene 1965",
         "rawType": "float64",
         "type": "float"
        },
        {
         "name": "Gene 1966",
         "rawType": "float64",
         "type": "float"
        },
        {
         "name": "Gene 1967",
         "rawType": "float64",
         "type": "float"
        },
        {
         "name": "Gene 1968",
         "rawType": "float64",
         "type": "float"
        },
        {
         "name": "Gene 1969",
         "rawType": "float64",
         "type": "float"
        },
        {
         "name": "Gene 1970",
         "rawType": "float64",
         "type": "float"
        },
        {
         "name": "Gene 1971",
         "rawType": "float64",
         "type": "float"
        },
        {
         "name": "Gene 1972",
         "rawType": "float64",
         "type": "float"
        },
        {
         "name": "Gene 1973",
         "rawType": "float64",
         "type": "float"
        },
        {
         "name": "Gene 1974",
         "rawType": "float64",
         "type": "float"
        },
        {
         "name": "Gene 1975",
         "rawType": "float64",
         "type": "float"
        },
        {
         "name": "Gene 1976",
         "rawType": "float64",
         "type": "float"
        },
        {
         "name": "Gene 1977",
         "rawType": "float64",
         "type": "float"
        },
        {
         "name": "Gene 1978",
         "rawType": "float64",
         "type": "float"
        },
        {
         "name": "Gene 1979",
         "rawType": "float64",
         "type": "float"
        },
        {
         "name": "Gene 1980",
         "rawType": "float64",
         "type": "float"
        },
        {
         "name": "Gene 1981",
         "rawType": "float64",
         "type": "float"
        },
        {
         "name": "Gene 1982",
         "rawType": "float64",
         "type": "float"
        },
        {
         "name": "Gene 1983",
         "rawType": "float64",
         "type": "float"
        },
        {
         "name": "Gene 1984",
         "rawType": "float64",
         "type": "float"
        },
        {
         "name": "Gene 1985",
         "rawType": "float64",
         "type": "float"
        },
        {
         "name": "Gene 1986",
         "rawType": "float64",
         "type": "float"
        },
        {
         "name": "Gene 1987",
         "rawType": "float64",
         "type": "float"
        },
        {
         "name": "Gene 1988",
         "rawType": "float64",
         "type": "float"
        },
        {
         "name": "Gene 1989",
         "rawType": "float64",
         "type": "float"
        },
        {
         "name": "Gene 1990",
         "rawType": "float64",
         "type": "float"
        },
        {
         "name": "Gene 1991",
         "rawType": "float64",
         "type": "float"
        },
        {
         "name": "Gene 1992",
         "rawType": "float64",
         "type": "float"
        },
        {
         "name": "Gene 1993",
         "rawType": "float64",
         "type": "float"
        },
        {
         "name": "Gene 1994",
         "rawType": "float64",
         "type": "float"
        },
        {
         "name": "Gene 1995",
         "rawType": "float64",
         "type": "float"
        },
        {
         "name": "Gene 1996",
         "rawType": "float64",
         "type": "float"
        },
        {
         "name": "Gene 1997",
         "rawType": "float64",
         "type": "float"
        },
        {
         "name": "Gene 1998",
         "rawType": "float64",
         "type": "float"
        },
        {
         "name": "Gene 1999",
         "rawType": "float64",
         "type": "float"
        },
        {
         "name": "Gene 2000",
         "rawType": "float64",
         "type": "float"
        },
        {
         "name": "Outcome",
         "rawType": "int64",
         "type": "integer"
        },
        {
         "name": "Id",
         "rawType": "int64",
         "type": "integer"
        }
       ],
       "conversionMethod": "pd.DataFrame",
       "ref": "e57c61c7-5807-420b-9418-e28dc3a97b83",
       "rows": [
        [
         "0",
         "4.0",
         "107.0",
         "135.0",
         "15752.0",
         "459.0",
         "189.0",
         "222.0",
         "2258.0",
         "2992.0",
         "77.0",
         "38.0",
         "88.0",
         null,
         "48.0",
         "42.0",
         "2539.0",
         "264.0",
         null,
         "86.0",
         "256.0",
         null,
         "206.0",
         "12020.0",
         null,
         "3769.0",
         "117.0",
         "78.0",
         "337.0",
         "261.0",
         "239.0",
         "13686.0",
         "5734.0",
         "485.0",
         "286.0",
         "2263.0",
         "230.0",
         "325.0",
         "1847.0",
         "1900.0",
         "323.0",
         "71.0",
         "110.0",
         "33.0",
         "26.0",
         "98.0",
         "19973.0",
         "94.0",
         "145.0",
         "13259.0",
         "72.0",
         "23.0",
         "71.0",
         "1548.0",
         "15637.0",
         "338.0",
         "411.0",
         "1947.0",
         "9505.0",
         "131.0",
         "391.0",
         "117.0",
         "115.0",
         "185.0",
         "1581.0",
         "331.0",
         "211.0",
         "21505.0",
         "10030.0",
         "34.0",
         "22.0",
         "399.0",
         "369.0",
         "65.0",
         "121.0",
         "2309.0",
         "38.0",
         "232.0",
         "11209.0",
         "10.0",
         "44.0",
         "253.0",
         "67.0",
         "16.0",
         "867.0",
         null,
         "235.0",
         "236.0",
         "16.0",
         "20085.0",
         "10222.0",
         "108.0",
         "1322.0",
         "92.0",
         "284.0",
         "86.0",
         "5966.0",
         "254.0",
         "18709.0",
         "32.0",
         "15.0",
         null,
         "92.0",
         "155.0",
         "133.0",
         "240.0",
         "9014.0",
         "18530.0",
         "78.0",
         "523.0",
         "29.0",
         "445.0",
         "23376.0",
         "3961.0",
         "35.0",
         "4085.0",
         "1493.0",
         "360.0",
         "217.0",
         "36.0",
         "7297.0",
         "2056.0",
         "296.0",
         "152.0",
         "134.0",
         "45.0",
         "322.0",
         "754.0",
         "247.0",
         "99.0",
         "76.0",
         "328.0",
         "635.0",
         "26.0",
         null,
         "53.0",
         "334.0",
         "123.0",
         "16948.0",
         "87.0",
         "84.0",
         "467.0",
         "5842.0",
         "245.0",
         "191.0",
         "140.0",
         "6079.0",
         "371.0",
         "294.0",
         "178.0",
         "335.0",
         "149.0",
         "134.0",
         "79.0",
         "4831.0",
         "14069.0",
         "1067.0",
         "9596.0",
         "2548.0",
         "335.0",
         "399.0",
         "99.0",
         "257.0",
         "109.0",
         "4495.0",
         "173.0",
         null,
         "452.0",
         "263.0",
         "4188.0",
         "42.0",
         "2044.0",
         "428.0",
         "2748.0",
         "120.0",
         "408.0",
         "3427.0",
         "210.0",
         "21843.0",
         "1342.0",
         "14706.0",
         "6394.0",
         "78.0",
         "36.0",
         "311.0",
         "325.0",
         "423.0",
         "1959.0",
         "203.0",
         "23627.0",
         "2550.0",
         "76.0",
         null,
         "2728.0",
         "623.0",
         "162.0",
         "3652.0",
         "95.0",
         "24631.0",
         "278.0",
         "987.0",
         "47.0",
         "11622.0",
         "187.0",
         "73.0",
         "760.0",
         "238.0",
         "32.0",
         null,
         "173.0",
         "87.0",
         "9052.0",
         "561.0",
         "1628.0",
         "360.0",
         "260.0",
         "144.0",
         "193.0",
         "15166.0",
         "379.0",
         "16292.0",
         "6227.0",
         "15821.0",
         "17186.0",
         "33657.0",
         "204.0",
         "433.0",
         "11987.0",
         "241.0",
         "531.0",
         "27.0",
         "46.0",
         "248.0",
         "520.0",
         "199.0",
         "145.0",
         "162.0",
         "176.0",
         "12610.0",
         "1109.0",
         "6851.0",
         "20367.0",
         "335.0",
         "340.0",
         "4823.0",
         "274.0",
         "7193.0",
         "419.0",
         "3.0",
         "173.0",
         "499.0",
         "7189.0",
         "17880.0",
         "193.0",
         "14.0",
         "210.0",
         "158.0",
         "21.0",
         "4019.0",
         "5624.0",
         "35.0",
         "312.0",
         "20307.0",
         "84.0",
         "24.0",
         "182.0",
         "322.0",
         "17.0",
         "360.0",
         "222.0",
         "10230.0",
         "129.0",
         "183.0",
         "186.0",
         "262.0",
         "29.0",
         "331.0",
         "90.0",
         "57.0",
         "162.0",
         "10456.0",
         "21910.0",
         "249.0",
         null,
         "17227.0",
         "1677.0",
         "106.0",
         null,
         "1303.0",
         null,
         "255.0",
         "8.0",
         "464.0",
         "319.0",
         "232.0",
         "304.0",
         "19536.0",
         "33.0",
         "1474.0",
         "8942.0",
         "112.0",
         "202.0",
         "89.0",
         "25293.0",
         "4795.0",
         "1183.0",
         "236.0",
         "7335.0",
         "300.0",
         "369.0",
         "9649.0",
         "273.0",
         null,
         "192.0",
         "130.0",
         "303.0",
         "63.0",
         "129.0",
         "60.0",
         "15509.0",
         "25164.0",
         "3069.0",
         "331.0",
         "295.0",
         "35.0",
         "272.0",
         "112.0",
         "468.0",
         null,
         "279.0",
         "326.0",
         "25163.0",
         "70.0",
         "171.0",
         "18760.0",
         "1002.0",
         "382.0",
         "7496.0",
         "86.0",
         "16364.0",
         "339.0",
         "16.0",
         "759.0",
         "2195.0",
         "10407.0",
         "108.0",
         "106.0",
         "212.0",
         "665.0",
         "1367.0",
         "2976.0",
         "24.0",
         "2512.0",
         "2143.0",
         null,
         "9266.0",
         "47.0",
         null,
         "1341.0",
         "12116.0",
         "12119.0",
         "205.0",
         null,
         "81.0",
         "28.0",
         "105.0",
         "81.0",
         "64.0",
         "1664.0",
         "13513.0",
         "69.0",
         "131.0",
         "20.0",
         "313.0",
         "978.0",
         "148.0",
         "140.0",
         "460.0",
         "221.0",
         "1334.0",
         "82.0",
         "9416.0",
         "284.0",
         "138.0",
         "70.0",
         "16677.0",
         "134.0",
         "183.0",
         "3682.0",
         "326.0",
         "627.0",
         "228.0",
         "187.0",
         "2993.0",
         "159.0",
         "747.0",
         "371.0",
         "12669.0",
         "239.0",
         "17.0",
         "60.0",
         "73.0",
         "46.0",
         "77.0",
         "3474.0",
         "315.0",
         "4127.0",
         "2201.0",
         "13217.0",
         "300.0",
         "7151.0",
         "268.0",
         "457.0",
         "91.0",
         "12227.0",
         "67.0",
         "12186.0",
         "14426.0",
         "372.0",
         "142.0",
         null,
         "1340.0",
         "82.0",
         "200.0",
         "34.0",
         "38.0",
         "246.0",
         "165.0",
         "15787.0",
         "18.0",
         "7.0",
         "24872.0",
         "22.0",
         "3455.0",
         null,
         "26.0",
         "145.0",
         "833.0",
         "4.0",
         "4972.0",
         "293.0",
         "96.0",
         "15207.0",
         null,
         "1716.0",
         null,
         "9418.0",
         "2199.0",
         "238.0",
         "6413.0",
         "443.0",
         "6747.0",
         "31.0",
         "2223.0",
         "166.0",
         "142.0",
         "166.0",
         "200.0",
         "245.0",
         "241.0",
         "340.0",
         "8.0",
         "243.0",
         "227.0",
         "359.0",
         "2768.0",
         "337.0",
         "33.0",
         "34.0",
         "1070.0",
         "312.0",
         "9626.0",
         "148.0",
         "38.0",
         "2510.0",
         "164.0",
         null,
         "13117.0",
         "202.0",
         "98.0",
         "47.0",
         "135.0",
         "159.0",
         "286.0",
         "353.0",
         "274.0",
         "441.0",
         "262.0",
         "10825.0",
         "34.0",
         "14.0",
         "25.0",
         "149.0",
         "98.0",
         "117.0",
         "259.0",
         "3564.0",
         "117.0",
         "231.0",
         "195.0",
         "177.0",
         "299.0",
         "10376.0",
         "368.0",
         "175.0",
         "271.0",
         "20779.0",
         "225.0",
         "149.0",
         "365.0",
         "431.0",
         "4349.0",
         "304.0",
         "215.0",
         "44.0",
         "187.0",
         "226.0",
         "1648.0",
         "2742.0",
         null,
         "251.0",
         "166.0",
         "247.0",
         "2669.0",
         "3225.0",
         "1782.0",
         "1612.0",
         "122.0",
         "1422.0",
         "1139.0",
         "86.0",
         "5.0",
         "118.0",
         "4244.0",
         "242.0",
         "111.0",
         "101.0",
         "107.0",
         "356.0",
         "739.0",
         "7552.0",
         "190.0",
         "4024.0",
         "519.0",
         "222.0",
         "69.0",
         "21985.0",
         null,
         "32.0",
         "270.0",
         "222.0",
         "37.0",
         "3393.0",
         "9072.0",
         "865.0",
         "1845.0",
         "2886.0",
         "53.0",
         "131.0",
         "70.0",
         "2474.0",
         "291.0",
         "2028.0",
         "1614.0",
         "87.0",
         "186.0",
         "16668.0",
         "309.0",
         "373.0",
         null,
         "195.0",
         "19379.0",
         "183.0",
         "15060.0",
         "33.0",
         "995.0",
         "166.0",
         "5335.0",
         "124.0",
         "344.0",
         "47.0",
         "162.0",
         "14182.0",
         "1986.0",
         "13.0",
         null,
         "4615.0",
         "92.0",
         "149.0",
         "95.0",
         "2610.0",
         "290.0",
         "182.0",
         "34.0",
         "7831.0",
         null,
         "14712.0",
         "380.0",
         "18794.0",
         "224.0",
         "3680.0",
         null,
         "221.0",
         "16721.0",
         "111.0",
         "3853.0",
         "348.0",
         "10691.0",
         null,
         "25.0",
         "273.0",
         "387.0",
         null,
         "164.0",
         "364.0",
         "1332.0",
         "15482.0",
         "328.0",
         "473.0",
         "17983.0",
         "16238.0",
         "72.0",
         "6148.0",
         "338.0",
         "16242.0",
         "253.0",
         "267.0",
         "173.0",
         "66.0",
         "177.0",
         "159.0",
         "130.0",
         "136.0",
         "262.0",
         "96.0",
         null,
         "11188.0",
         "397.0",
         "62.0",
         "3790.0",
         "304.0",
         null,
         "177.0",
         null,
         null,
         "299.0",
         null,
         "40.0",
         "106.0",
         "123.0",
         "349.0",
         null,
         "181.0",
         "19751.0",
         "90.0",
         "58.0",
         "11153.0",
         "289.0",
         "2003.0",
         "126.0",
         "383.0",
         "243.0",
         "285.0",
         "15977.0",
         null,
         "10488.0",
         "283.0",
         "176.0",
         "40.0",
         "333.0",
         "111.0",
         "7929.0",
         "220.0",
         "227.0",
         "18665.0",
         "7370.0",
         "1168.0",
         "1388.0",
         "1049.0",
         "43.0",
         "306.0",
         "421.0",
         "10.0",
         "79.0",
         "50.0",
         "292.0",
         "18011.0",
         "371.0",
         "1293.0",
         "333.0",
         "11742.0",
         null,
         "26087.0",
         "47.0",
         "38.0",
         "134.0",
         "1912.0",
         "397.0",
         "3715.0",
         "7318.0",
         "193.0",
         "69.0",
         "159.0",
         "7766.0",
         "38.0",
         "309.0",
         "179.0",
         "298.0",
         "10979.0",
         "307.0",
         "142.0",
         "358.0",
         "12706.0",
         "32.0",
         "16594.0",
         "264.0",
         "133.0",
         "186.0",
         "24.0",
         "3314.0",
         "128.0",
         "12932.0",
         "85.0",
         "308.0",
         "16536.0",
         "8.0",
         "8190.0",
         "18815.0",
         "165.0",
         "235.0",
         "372.0",
         "244.0",
         "11482.0",
         "3231.0",
         "151.0",
         "216.0",
         "12696.0",
         "6408.0",
         "3860.0",
         "496.0",
         "17598.0",
         "90.0",
         "282.0",
         null,
         "84.0",
         "1187.0",
         "19.0",
         "596.0",
         "35.0",
         "418.0",
         "19237.0",
         "24465.0",
         "111.0",
         "260.0",
         "13236.0",
         "342.0",
         "12.0",
         "10585.0",
         "20.0",
         "1771.0",
         "181.0",
         "69.0",
         "30.0",
         "157.0",
         "186.0",
         "23377.0",
         "108.0",
         "131.0",
         "260.0",
         "282.0",
         "10136.0",
         "61.0",
         "48.0",
         "8670.0",
         "53.0",
         "276.0",
         "92.0",
         "184.0",
         null,
         "3243.0",
         "375.0",
         "7062.0",
         "203.0",
         "151.0",
         "419.0",
         "285.0",
         "27.0",
         "503.0",
         "16.0",
         "327.0",
         null,
         "6247.0",
         "344.0",
         "105.0",
         "190.0",
         "2119.0",
         "256.0",
         "20625.0",
         "105.0",
         "15.0",
         "69.0",
         "299.0",
         "267.0",
         "20088.0",
         "51.0",
         "406.0",
         "11234.0",
         "179.0",
         "174.0",
         "96.0",
         "4070.0",
         "19627.0",
         "477.0",
         "221.0",
         "9.0",
         "2626.0",
         "357.0",
         "292.0",
         "13275.0",
         "147.0",
         "18153.0",
         "15286.0",
         "290.0",
         "29.0",
         "170.0",
         "3338.0",
         "25.0",
         "313.0",
         "34.0",
         "16619.0",
         "7107.0",
         "245.0",
         "455.0",
         "121.0",
         "19499.0",
         "425.0",
         "5027.0",
         "97.0",
         "2892.0",
         "223.0",
         "452.0",
         "3318.0",
         "24131.0",
         "4504.0",
         "315.0",
         "169.0",
         "15087.0",
         "3387.0",
         "1507.0",
         "213.0",
         "10946.0",
         "208.0",
         "137.0",
         "97.0",
         "231.0",
         "223.0",
         "150.0",
         "16.0",
         "131.0",
         "314.0",
         "384.0",
         "247.0",
         "228.0",
         "362.0",
         "279.0",
         "3164.0",
         "108.0",
         "484.0",
         "266.0",
         "1319.0",
         "111.0",
         "11748.0",
         "20951.0",
         "100.0",
         "130.0",
         "62.0",
         "395.0",
         "22294.0",
         "1612.0",
         "10675.0",
         "272.0",
         "9914.0",
         "293.0",
         "90.0",
         "8901.0",
         "215.0",
         "12.0",
         "211.0",
         "30289.0",
         "9.0",
         "124.0",
         "149.0",
         "605.0",
         "387.0",
         "133.0",
         "40.0",
         "11123.0",
         "152.0",
         "364.0",
         "114.0",
         "345.0",
         "300.0",
         "15565.0",
         "445.0",
         "7.0",
         "319.0",
         "219.0",
         "524.0",
         "170.0",
         "81.0",
         "230.0",
         "128.0",
         "187.0",
         "425.0",
         "2249.0",
         "7328.0",
         "2171.0",
         "355.0",
         "198.0",
         "306.0",
         "16.0",
         "151.0",
         "13075.0",
         "427.0",
         "10949.0",
         "64.0",
         "32.0",
         "78.0",
         "456.0",
         "314.0",
         "35.0",
         "277.0",
         "17298.0",
         "15666.0",
         "329.0",
         "63.0",
         "18397.0",
         "20.0",
         "35.0",
         "105.0",
         "157.0",
         "25.0",
         "35.0",
         "372.0",
         "273.0",
         "170.0",
         "132.0",
         "17104.0",
         "327.0",
         "9773.0",
         "16911.0",
         "34.0",
         "221.0",
         "86.0",
         "2559.0",
         "200.0",
         "4538.0",
         "23278.0",
         "854.0",
         "473.0",
         "3165.0",
         "22285.0",
         "307.0",
         "4772.0",
         "287.0",
         "194.0",
         "21889.0",
         "325.0",
         "210.0",
         "9227.0",
         "317.0",
         "1768.0",
         "80.0",
         null,
         "101.0",
         "290.0",
         "8227.0",
         "10101.0",
         "19110.0",
         "19747.0",
         "134.0",
         "338.0",
         "30094.0",
         "1479.0",
         "10.0",
         "3.0",
         "2.0",
         "165.0",
         "1337.0",
         "140.0",
         "8779.0",
         "1145.0",
         "273.0",
         "30117.0",
         "120.0",
         "1507.0",
         "4689.0",
         "372.0",
         "260.0",
         "334.0",
         "360.0",
         "13909.0",
         "248.0",
         "147.0",
         "102.0",
         "8.0",
         "14319.0",
         "7226.0",
         "17.0",
         "9.0",
         "359.0",
         "489.0",
         "1104.0",
         "22.0",
         "5051.0",
         "42.0",
         "824.0",
         null,
         "16917.0",
         "17.0",
         "242.0",
         "7553.0",
         "235.0",
         "3.0",
         "1234.0",
         "353.0",
         "20199.0",
         "165.0",
         "422.0",
         "9811.0",
         "5.0",
         "23983.0",
         "184.0",
         "167.0",
         "180.0",
         "2088.0",
         "1411.0",
         "1646.0",
         "130.0",
         "601.0",
         "20057.0",
         "19215.0",
         "224.0",
         "300.0",
         "3516.0",
         "216.0",
         "14474.0",
         "221.0",
         "340.0",
         "15931.0",
         "176.0",
         "2471.0",
         "15376.0",
         "4605.0",
         "593.0",
         "404.0",
         "2283.0",
         null,
         "307.0",
         "83.0",
         "153.0",
         null,
         null,
         "266.0",
         "84.0",
         "2115.0",
         "350.0",
         "186.0",
         "530.0",
         "98.0",
         "18.0",
         "227.0",
         "191.0",
         "11909.0",
         "20733.0",
         "15291.0",
         "281.0",
         "361.0",
         "58.0",
         null,
         "412.0",
         "329.0",
         "200.0",
         "149.0",
         "8422.0",
         "205.0",
         "26254.0",
         "26077.0",
         "183.0",
         "134.0",
         "57.0",
         "5237.0",
         "1824.0",
         "10.0",
         "105.0",
         "162.0",
         "260.0",
         "57.0",
         "282.0",
         "14688.0",
         "268.0",
         "213.0",
         "131.0",
         "49.0",
         "218.0",
         "231.0",
         "39.0",
         "289.0",
         "71.0",
         "94.0",
         "14165.0",
         "1662.0",
         "115.0",
         null,
         "18495.0",
         "217.0",
         null,
         "297.0",
         "2543.0",
         "2140.0",
         "13156.0",
         "242.0",
         "26098.0",
         "263.0",
         "67.0",
         "114.0",
         "145.0",
         null,
         "775.0",
         "131.0",
         "131.0",
         "3009.0",
         "15027.0",
         "150.0",
         "77.0",
         "177.0",
         "153.0",
         "8162.0",
         "24149.0",
         "105.0",
         "344.0",
         null,
         "14434.0",
         "9748.0",
         "443.0",
         "157.0",
         "134.0",
         "121.0",
         "14.0",
         "359.0",
         "138.0",
         "78.0",
         "359.0",
         "9067.0",
         "127.0",
         "69.0",
         "299.0",
         "1458.0",
         "10631.0",
         "13449.0",
         "304.0",
         "85.0",
         "106.0",
         "240.0",
         "3290.0",
         "174.0",
         "11697.0",
         "270.0",
         "163.0",
         "348.0",
         "336.0",
         "223.0",
         "73.0",
         "23766.0",
         "12038.0",
         "28.0",
         "1812.0",
         "53.0",
         "276.0",
         "87.0",
         "548.0",
         "223.0",
         "7445.0",
         "6580.0",
         "400.0",
         "15499.0",
         "281.0",
         "55.0",
         "214.0",
         "322.0",
         "1738.0",
         "29.0",
         null,
         "173.0",
         "75.0",
         "231.0",
         "12695.0",
         "156.0",
         "495.0",
         "55.0",
         "126.0",
         "372.0",
         "111.0",
         "1779.0",
         "2015.0",
         "252.0",
         "62.0",
         "201.0",
         "95.0",
         "6827.0",
         "135.0",
         "177.0",
         "91.0",
         "306.0",
         "55.0",
         "15473.0",
         "99.0",
         "423.0",
         "109.0",
         "100.0",
         null,
         "215.0",
         "187.0",
         "5280.0",
         "10086.0",
         "188.0",
         "1915.0",
         "230.0",
         "309.0",
         "16462.0",
         "203.0",
         "372.0",
         "71.0",
         "41.0",
         "238.0",
         "287.0",
         "18.0",
         "59.0",
         "1580.0",
         "12042.0",
         "147.0",
         "20989.0",
         "4825.0",
         "53.0",
         "135.0",
         "1604.0",
         "8034.0",
         "91.0",
         "6937.0",
         "50.0",
         "10192.0",
         "125.0",
         "62.0",
         "61.0",
         "275.0",
         "295.0",
         "220.0",
         "242.0",
         "2914.0",
         "13309.0",
         "494.0",
         "975.0",
         "332.0",
         "200.0",
         "6555.0",
         "683.0",
         "4430.0",
         "10116.0",
         "15638.0",
         "386.0",
         "16.0",
         "52.0",
         "2254.0",
         "338.0",
         "331.0",
         "83.0",
         "26805.0",
         "51.0",
         "174.0",
         "294.0",
         "864.0",
         "137.0",
         "49.0",
         "237.0",
         "21683.0",
         "11145.0",
         "308.0",
         "40.0",
         "190.0",
         "1775.0",
         "167.0",
         "1377.0",
         "353.0",
         null,
         "74.0",
         "1174.0",
         "248.0",
         null,
         "140.0",
         "3035.0",
         "53.0",
         "111.0",
         "212.0",
         "2734.0",
         "30.0",
         "11991.0",
         "101.0",
         "135.0",
         "950.0",
         "39.0",
         "4658.0",
         null,
         "337.0",
         "191.0",
         "46.0",
         "289.0",
         "1838.0",
         "785.0",
         "50.0",
         "694.0",
         null,
         "117.0",
         "425.0",
         "13313.0",
         "269.0",
         "20974.0",
         "7.0",
         "54.0",
         "21.0",
         "31.0",
         "36.0",
         "3539.0",
         "9735.0",
         null,
         "67.0",
         "10047.0",
         "81.0",
         "78.0",
         "3796.0",
         "145.0",
         "303.0",
         "285.0",
         "25.0",
         "3287.0",
         "39.0",
         "154.0",
         "303.0",
         "377.0",
         "23007.0",
         "2682.0",
         "213.0",
         "77.0",
         "360.0",
         "264.0",
         "262.0",
         "87.0",
         "117.0",
         "135.0",
         "175.0",
         "194.0",
         "84.0",
         "170.0",
         "336.0",
         "367.0",
         "12.0",
         "234.0",
         "6204.0",
         "11729.0",
         "5524.0",
         "300.0",
         "1160.0",
         "374.0",
         "26.0",
         "162.0",
         "82.0",
         null,
         "53.0",
         "3306.0",
         "38.0",
         "557.0",
         "111.0",
         "14942.0",
         "5544.0",
         "5037.0",
         "621.0",
         "186.0",
         "16340.0",
         "10125.0",
         "133.0",
         "19982.0",
         "142.0",
         "12903.0",
         "100.0",
         "55.0",
         "150.0",
         "20.0",
         "236.0",
         "45.0",
         "1312.0",
         "401.0",
         "61.0",
         "45.0",
         "14238.0",
         "182.0",
         "351.0",
         null,
         "107.0",
         "470.0",
         "363.0",
         "13831.0",
         "12387.0",
         "44.0",
         "277.0",
         "271.0",
         "90.0",
         "168.0",
         "292.0",
         "311.0",
         "448.0",
         "50.0",
         "70.0",
         "128.0",
         "149.0",
         "7480.0",
         "110.0",
         "406.0",
         "144.0",
         "202.0",
         "28.0",
         "29.0",
         "237.0",
         "2036.0",
         "38.0",
         "305.0",
         null,
         "159.0",
         "205.0",
         "328.0",
         "10148.0",
         "2550.0",
         "300.0",
         "55.0",
         "310.0",
         "83.0",
         "14.0",
         "25.0",
         "12061.0",
         "235.0",
         "5100.0",
         "3494.0",
         "1489.0",
         "7190.0",
         "215.0",
         "270.0",
         "261.0",
         "2947.0",
         "198.0",
         "453.0",
         "6954.0",
         "135.0",
         "6128.0",
         "310.0",
         "252.0",
         "11980.0",
         "13501.0",
         "37.0",
         "75.0",
         "287.0",
         "74.0",
         "133.0",
         "118.0",
         "228.0",
         "145.0",
         "8482.0",
         "18709.0",
         "18.0",
         "211.0",
         "185.0",
         "10047.0",
         "18063.0",
         "21346.0",
         "2358.0",
         "336.0",
         "1886.0",
         "2614.0",
         "3489.0",
         "14.0",
         "378.0",
         "13709.0",
         "229.0",
         "369.0",
         "479.0",
         "92.0",
         "56.0",
         "179.0",
         "329.0",
         "883.0",
         "269.0",
         "387.0",
         "1659.0",
         "13234.0",
         "234.0",
         "135.0",
         "13596.0",
         "224.0",
         "158.0",
         "17801.0",
         "160.0",
         "91.0",
         "163.0",
         "575.0",
         "13179.0",
         "36.0",
         "1038.0",
         null,
         "14604.0",
         "205.0",
         "20636.0",
         "45.0",
         "8160.0",
         "7186.0",
         "6366.0",
         "1454.0",
         "4463.0",
         "924.0",
         "100.0",
         "173.0",
         "20.0",
         "12458.0",
         "81.0",
         "11344.0",
         "3042.0",
         "232.0",
         "11367.0",
         "348.0",
         "153.0",
         "75.0",
         "23.0",
         "2149.0",
         "150.0",
         "24022.0",
         "255.0",
         "219.0",
         "1376.0",
         "16.0",
         "33.0",
         null,
         "59.0",
         "47.0",
         "260.0",
         "129.0",
         "5390.0",
         "104.0",
         "233.0",
         "16027.0",
         "275.0",
         "5.0",
         "13059.0",
         "23055.0",
         "330.0",
         "188.0",
         "22561.0",
         "9518.0",
         "229.0",
         "21424.0",
         "817.0",
         "34.0",
         "188.0",
         "17209.0",
         "3201.0",
         "408.0",
         "1988.0",
         "60.0",
         "14632.0",
         "35.0",
         "211.0",
         "47.0",
         "204.0",
         "120.0",
         "1530.0",
         "306.0",
         "250.0",
         "167.0",
         "11250.0",
         "1166.0",
         "331.0",
         "154.0",
         "2559.0",
         "3591.0",
         "426.0",
         "17528.0",
         "184.0",
         "158.0",
         "1712.0",
         "1920.0",
         "6.0",
         "274.0",
         "1892.0",
         "121.0",
         "16734.0",
         "282.0",
         "147.0",
         "355.0",
         "372.0",
         "453.0",
         "8102.0",
         "8.0",
         "162.0",
         "8484.0",
         "8.0",
         "139.0",
         "366.0",
         "196.0",
         "242.0",
         "520.0",
         "227.0",
         "2048.0",
         "1502.0",
         "203.0",
         "120.0",
         "44.0",
         "31.0",
         "11418.0",
         "66.0",
         "1624.0",
         "206.0",
         "23188.0",
         "365.0",
         "1417.0",
         "200.0",
         "157.0",
         "120.0",
         "550.0",
         "93.0",
         "168.0",
         "7840.0",
         "9632.0",
         "61.0",
         "30350.0",
         "5969.0",
         "949.0",
         "24.0",
         "330.0",
         "30647.0",
         "187.0",
         "389.0",
         "201.0",
         "61.0",
         "147.0",
         "2456.0",
         "28.0",
         "80.0",
         "13076.0",
         "15590.0",
         "291.0",
         "155.0",
         "5043.0",
         "168.0",
         "152.0",
         "7557.0",
         "56.0",
         "219.0",
         "12.0",
         "240.0",
         "1324.0",
         "215.0",
         "2894.0",
         "5794.0",
         "7929.0",
         "358.0",
         "256.0",
         "28254.0",
         "176.0",
         "93.0",
         "266.0",
         "399.0",
         "381.0",
         "12781.0",
         "22858.0",
         "125.0",
         "236.0",
         "214.0",
         "8.0",
         "67.0",
         "10405.0",
         "150.0",
         "450.0",
         "503.0",
         "303.0",
         "317.0",
         "323.0",
         "26.0",
         "26866.0",
         "20269.0",
         "122.0",
         "172.0",
         "9533.0",
         "189.0",
         "312.0",
         "20216.0",
         "372.0",
         "300.0",
         "230.0",
         "202.0",
         "284.0",
         "2557.0",
         "314.0",
         null,
         "351.0",
         "63.0",
         "10779.0",
         "1314.0",
         "71.0",
         "188.0",
         "97.0",
         null,
         "81.0",
         "53.0",
         "498.0",
         "999.0",
         "207.0",
         "66.0",
         "7.0",
         "142.0",
         "105.0",
         "351.0",
         "1473.0",
         "5135.0",
         "355.0",
         null,
         "142.0",
         "5366.0",
         "133.0",
         "371.0",
         "267.0",
         "10.0",
         "20233.0",
         "237.0",
         "253.0",
         "294.0",
         "305.0",
         "224.0",
         "218.0",
         "30410.0",
         "169.0",
         "333.0",
         "268.0",
         "175.0",
         "256.0",
         null,
         "393.0",
         "8505.0",
         "146.0",
         "23.0",
         "159.0",
         "20749.0",
         "150.0",
         "475.0",
         "6.0",
         "263.0",
         "30.0",
         "76.0",
         "13526.0",
         "20637.0",
         "121.0",
         "6960.0",
         "1563.0",
         "164.0",
         "1597.0",
         null,
         "15517.0",
         "137.0",
         "14983.0",
         "125.0",
         "250.0",
         "102.0",
         "143.0",
         "3117.0",
         "24570.0",
         "25.0",
         "21563.0",
         "21.0",
         "9705.0",
         "21353.0",
         "1128.0",
         "15839.0",
         "410.0",
         "226.0",
         "1753.0",
         "17627.0",
         "19398.0",
         "48.0",
         "6865.0",
         "9519.0",
         "4838.0",
         "19291.0",
         "268.0",
         "378.0",
         "13333.0",
         "2698.0",
         "26.0",
         "6706.0",
         "476.0",
         "320.0",
         "61.0",
         "37.0",
         "11996.0",
         "298.0",
         "372.0",
         "335.0",
         "205.0",
         "15392.0",
         "6821.0",
         "179.0",
         "201.0",
         "29.0",
         "408.0",
         "130.0",
         "122.0",
         "142.0",
         "104.0",
         "3597.0",
         "1120.0",
         "1890.0",
         "595.0",
         "430.0",
         "90.0",
         "136.0",
         "9243.0",
         "97.0",
         "287.0",
         "128.0",
         "177.0",
         "266.0",
         "263.0",
         "11795.0",
         "852.0",
         "23832.0",
         "210.0",
         "2692.0",
         "98.0",
         "68.0",
         "2616.0",
         "13213.0",
         "932.0",
         "2649.0",
         "94.0",
         "258.0",
         "77.0",
         "234.0",
         "4286.0",
         "100.0",
         "170.0",
         "170.0",
         "3399.0",
         null,
         "405.0",
         "232.0",
         "1032.0",
         "31.0",
         "111.0",
         "378.0",
         "22885.0",
         "127.0",
         "224.0",
         "130.0",
         "58.0",
         "123.0",
         "162.0",
         "31.0",
         "280.0",
         "207.0",
         "255.0",
         "214.0",
         "81.0",
         "205.0",
         "14304.0",
         "316.0",
         "160.0",
         "208.0",
         "83.0",
         "10.0",
         "8124.0",
         "17.0",
         "127.0",
         "2895.0",
         "2869.0",
         "19.0",
         "575.0",
         "353.0",
         "29.0",
         "4383.0",
         "438.0",
         "139.0",
         "125.0",
         "137.0",
         "431.0",
         "205.0",
         "108.0",
         "213.0",
         "112.0",
         "263.0",
         "4072.0",
         "1911.0",
         "227.0",
         null,
         "161.0",
         "247.0",
         "97.0",
         "184.0",
         "106.0",
         "202.0",
         "20.0",
         "1080.0",
         "188.0",
         "3734.0",
         "411.0",
         "20.0",
         "25962.0",
         "200.0",
         "15291.0",
         "287.0",
         "473.0",
         "365.0",
         "977.0",
         "201.0",
         "22917.0",
         null,
         "191.0",
         "16387.0",
         "5981.0",
         "47.0",
         "271.0",
         "2219.0",
         "240.0",
         "1638.0",
         "18168.0",
         "157.0",
         "261.0",
         null,
         "239.0",
         "5875.0",
         "330.0",
         "180.0",
         "4208.0",
         "13650.0",
         "19212.0",
         "261.0",
         "30933.0",
         "167.0",
         "28292.0",
         "15425.0",
         "189.0",
         "139.0",
         "364.0",
         "178.0",
         "338.0",
         "17477.0",
         "18868.0",
         "361.0",
         "4934.0",
         "135.0",
         "126.0",
         "11512.0",
         "186.0",
         "2354.0",
         "2122.0",
         "21923.0",
         "286.0",
         "10010.0",
         "8867.0",
         "2138.0",
         null,
         "406.0",
         "12421.0",
         "563.0",
         "204.0",
         "3091.0",
         "18064.0",
         "6272.0",
         "316.0",
         "440.0",
         "103.0",
         "223.0",
         "11655.0",
         "138.0",
         "223.0",
         "255.0",
         "286.0",
         "474.0",
         "11866.0",
         "5788.0",
         "24149.0",
         "156.0",
         "18368.0",
         "318.0",
         "89.0",
         "307.0",
         "82.0",
         "227.0",
         "302.0",
         "3",
         "3328"
        ],
        [
         "1",
         "4.0",
         "96.0",
         "130.0",
         "13704.0",
         "486.0",
         "244.0",
         "298.0",
         null,
         "1874.0",
         "50.0",
         "42.0",
         "211.0",
         "241.0",
         "23.0",
         "62.0",
         "1756.0",
         "186.0",
         "13092.0",
         "121.0",
         "374.0",
         "54.0",
         "139.0",
         "9923.0",
         "293.0",
         "6461.0",
         "324.0",
         "156.0",
         "1166.0",
         "197.0",
         "474.0",
         "4472.0",
         "5115.0",
         "343.0",
         "383.0",
         "1451.0",
         "264.0",
         "258.0",
         "1487.0",
         "2672.0",
         "285.0",
         "60.0",
         "109.0",
         "31.0",
         "13.0",
         "161.0",
         "22401.0",
         "72.0",
         "242.0",
         "18230.0",
         "72.0",
         "33.0",
         "134.0",
         "842.0",
         "19808.0",
         "239.0",
         "419.0",
         "1843.0",
         "10386.0",
         "94.0",
         null,
         "96.0",
         "237.0",
         "174.0",
         "1694.0",
         "203.0",
         "238.0",
         "19839.0",
         "12646.0",
         "60.0",
         "14.0",
         "340.0",
         "215.0",
         "136.0",
         "210.0",
         "3292.0",
         "40.0",
         "227.0",
         "2871.0",
         "9.0",
         null,
         "266.0",
         "107.0",
         "12.0",
         "1220.0",
         "253.0",
         "259.0",
         "207.0",
         "16.0",
         "14801.0",
         "9125.0",
         "152.0",
         "4213.0",
         "89.0",
         "306.0",
         "65.0",
         "5468.0",
         "185.0",
         "24132.0",
         "45.0",
         "19.0",
         "76.0",
         null,
         "171.0",
         "344.0",
         "108.0",
         "11120.0",
         "11414.0",
         "101.0",
         "326.0",
         "47.0",
         "430.0",
         "22684.0",
         "5148.0",
         "57.0",
         "3427.0",
         "1860.0",
         "641.0",
         null,
         "42.0",
         "4375.0",
         "1114.0",
         "207.0",
         "259.0",
         "180.0",
         "64.0",
         "441.0",
         "890.0",
         "231.0",
         "114.0",
         "94.0",
         "141.0",
         "960.0",
         "15.0",
         "30919.0",
         "33.0",
         "405.0",
         "91.0",
         "11125.0",
         "118.0",
         "91.0",
         "563.0",
         "3414.0",
         "168.0",
         "170.0",
         "203.0",
         "8053.0",
         "296.0",
         "343.0",
         "173.0",
         "247.0",
         "109.0",
         "224.0",
         "88.0",
         "2766.0",
         "22592.0",
         "1252.0",
         "7538.0",
         "3850.0",
         null,
         "171.0",
         "149.0",
         null,
         "172.0",
         "3174.0",
         "305.0",
         "19458.0",
         "262.0",
         "324.0",
         "6980.0",
         "32.0",
         "1448.0",
         "290.0",
         "3736.0",
         "226.0",
         "349.0",
         "6557.0",
         "259.0",
         "14115.0",
         "1385.0",
         "9083.0",
         "7910.0",
         "79.0",
         "20.0",
         "335.0",
         null,
         "529.0",
         "1333.0",
         "201.0",
         "21914.0",
         "1834.0",
         "93.0",
         "375.0",
         "2089.0",
         "906.0",
         "94.0",
         "3919.0",
         "52.0",
         "23596.0",
         "269.0",
         "944.0",
         "76.0",
         "12658.0",
         "228.0",
         "83.0",
         "904.0",
         "165.0",
         "49.0",
         "465.0",
         "133.0",
         "123.0",
         "11227.0",
         "453.0",
         "2390.0",
         "132.0",
         "247.0",
         "328.0",
         "181.0",
         "31321.0",
         "235.0",
         "12481.0",
         "8601.0",
         "25063.0",
         "16805.0",
         "19751.0",
         "133.0",
         "312.0",
         "10455.0",
         "256.0",
         "649.0",
         "42.0",
         "40.0",
         "299.0",
         "490.0",
         "225.0",
         "167.0",
         "292.0",
         null,
         "15024.0",
         "1314.0",
         "6844.0",
         "21209.0",
         "311.0",
         "197.0",
         "2001.0",
         "294.0",
         "7874.0",
         "344.0",
         "5.0",
         "602.0",
         "373.0",
         "6859.0",
         "13903.0",
         "283.0",
         "18.0",
         "151.0",
         "227.0",
         "16.0",
         "3035.0",
         "7971.0",
         "44.0",
         "172.0",
         "25163.0",
         "70.0",
         "22.0",
         "291.0",
         "360.0",
         "15.0",
         null,
         "307.0",
         "11521.0",
         "132.0",
         "194.0",
         "227.0",
         "219.0",
         "38.0",
         "436.0",
         "111.0",
         "49.0",
         "298.0",
         "25565.0",
         "16060.0",
         "494.0",
         "1539.0",
         "10929.0",
         "1962.0",
         "119.0",
         "127.0",
         "714.0",
         "5571.0",
         "151.0",
         "5.0",
         "248.0",
         "401.0",
         "324.0",
         "285.0",
         "17611.0",
         "25.0",
         "3565.0",
         "9457.0",
         "149.0",
         "256.0",
         "89.0",
         "31390.0",
         "5002.0",
         "1317.0",
         "150.0",
         "5686.0",
         "369.0",
         "280.0",
         "17999.0",
         "145.0",
         "196.0",
         "296.0",
         "122.0",
         "352.0",
         "73.0",
         "196.0",
         "62.0",
         "20033.0",
         "24425.0",
         "2719.0",
         "270.0",
         "256.0",
         "43.0",
         "343.0",
         "225.0",
         "347.0",
         "8527.0",
         "278.0",
         "102.0",
         "12467.0",
         "393.0",
         "412.0",
         "21713.0",
         "1024.0",
         "407.0",
         "9590.0",
         "75.0",
         "12200.0",
         "170.0",
         "21.0",
         "1426.0",
         "3043.0",
         "11167.0",
         "139.0",
         "54.0",
         "247.0",
         "908.0",
         "2538.0",
         "2426.0",
         "48.0",
         "1448.0",
         "1294.0",
         "19936.0",
         "14768.0",
         "66.0",
         null,
         "1235.0",
         "12710.0",
         "16635.0",
         "363.0",
         "349.0",
         "100.0",
         "18.0",
         "80.0",
         "120.0",
         "59.0",
         "1608.0",
         null,
         "57.0",
         "188.0",
         "24.0",
         null,
         "1112.0",
         "108.0",
         "225.0",
         "297.0",
         "231.0",
         "1104.0",
         "72.0",
         "10515.0",
         "218.0",
         "156.0",
         "54.0",
         null,
         "170.0",
         "434.0",
         "4912.0",
         "292.0",
         "532.0",
         "310.0",
         "169.0",
         "3283.0",
         "265.0",
         "574.0",
         "320.0",
         "9109.0",
         "302.0",
         "13.0",
         "49.0",
         "119.0",
         "45.0",
         "79.0",
         "2641.0",
         "268.0",
         "6922.0",
         "2442.0",
         "30300.0",
         "69.0",
         "5435.0",
         "214.0",
         "383.0",
         "88.0",
         "6710.0",
         null,
         null,
         "19126.0",
         "406.0",
         "238.0",
         "322.0",
         "225.0",
         "36.0",
         "206.0",
         "14.0",
         "17.0",
         "249.0",
         "215.0",
         "11785.0",
         "57.0",
         "9.0",
         "14982.0",
         "40.0",
         "6045.0",
         null,
         "63.0",
         "177.0",
         "746.0",
         "6.0",
         "7100.0",
         "484.0",
         "130.0",
         "15934.0",
         "23272.0",
         "1902.0",
         "92.0",
         "12491.0",
         "1576.0",
         "243.0",
         "8537.0",
         "330.0",
         "6190.0",
         "15.0",
         "1420.0",
         "93.0",
         "242.0",
         "364.0",
         "444.0",
         "356.0",
         "238.0",
         "161.0",
         "11.0",
         "369.0",
         "339.0",
         "292.0",
         "2656.0",
         "1024.0",
         "19.0",
         "30.0",
         "1073.0",
         "314.0",
         "8394.0",
         "184.0",
         "32.0",
         "2927.0",
         "124.0",
         "63.0",
         "19347.0",
         "231.0",
         "91.0",
         "80.0",
         "195.0",
         "107.0",
         "426.0",
         "159.0",
         "302.0",
         null,
         "368.0",
         "8065.0",
         "35.0",
         "52.0",
         "47.0",
         "147.0",
         "94.0",
         "79.0",
         "245.0",
         "2955.0",
         "181.0",
         "107.0",
         "235.0",
         "147.0",
         "191.0",
         "7886.0",
         "188.0",
         "202.0",
         "263.0",
         "15272.0",
         "288.0",
         null,
         "179.0",
         "274.0",
         "2417.0",
         "230.0",
         "262.0",
         "73.0",
         "98.0",
         "81.0",
         "1926.0",
         "3385.0",
         "139.0",
         "217.0",
         "121.0",
         "106.0",
         "1779.0",
         "2315.0",
         "1018.0",
         "918.0",
         "168.0",
         "1662.0",
         "1984.0",
         "53.0",
         "8.0",
         "92.0",
         "4298.0",
         "236.0",
         "258.0",
         "80.0",
         "148.0",
         "390.0",
         "644.0",
         "7995.0",
         "62.0",
         "3939.0",
         "648.0",
         "225.0",
         "63.0",
         "24577.0",
         "4.0",
         "33.0",
         "189.0",
         "430.0",
         "17.0",
         "2736.0",
         "14360.0",
         "801.0",
         "1965.0",
         "2902.0",
         "55.0",
         "240.0",
         "126.0",
         "2664.0",
         "246.0",
         "2263.0",
         "2403.0",
         "191.0",
         "193.0",
         "11860.0",
         "418.0",
         "287.0",
         "50.0",
         "170.0",
         "17320.0",
         "241.0",
         "13286.0",
         "115.0",
         "1512.0",
         "90.0",
         "3384.0",
         "191.0",
         "304.0",
         null,
         null,
         "16971.0",
         "2482.0",
         "15.0",
         "14380.0",
         "3718.0",
         "151.0",
         "171.0",
         "77.0",
         "2389.0",
         "307.0",
         "147.0",
         "37.0",
         "10658.0",
         "314.0",
         "31036.0",
         "396.0",
         "13743.0",
         "239.0",
         "4240.0",
         "154.0",
         "269.0",
         "30906.0",
         "168.0",
         "5287.0",
         "394.0",
         "20982.0",
         "348.0",
         "29.0",
         "159.0",
         "329.0",
         "6793.0",
         "165.0",
         "455.0",
         "2174.0",
         "13482.0",
         "403.0",
         "425.0",
         "17044.0",
         "22315.0",
         "56.0",
         "5132.0",
         "271.0",
         "16403.0",
         "318.0",
         "382.0",
         "156.0",
         "51.0",
         "199.0",
         "88.0",
         "68.0",
         "166.0",
         "269.0",
         "221.0",
         "78.0",
         "2865.0",
         "393.0",
         "56.0",
         "2508.0",
         "260.0",
         "20.0",
         "159.0",
         "4630.0",
         "172.0",
         "413.0",
         "183.0",
         null,
         "122.0",
         "204.0",
         "306.0",
         "87.0",
         "192.0",
         "19950.0",
         "73.0",
         "46.0",
         "8483.0",
         "277.0",
         "2169.0",
         "56.0",
         "290.0",
         "157.0",
         "178.0",
         "12777.0",
         "23113.0",
         "10066.0",
         "180.0",
         "233.0",
         "21.0",
         "97.0",
         "106.0",
         "9524.0",
         "318.0",
         "301.0",
         "21652.0",
         "8547.0",
         "864.0",
         "818.0",
         "1328.0",
         "42.0",
         "305.0",
         "372.0",
         "18.0",
         "351.0",
         "42.0",
         "357.0",
         "13817.0",
         "477.0",
         "767.0",
         "301.0",
         "7646.0",
         "134.0",
         "12492.0",
         "118.0",
         "33.0",
         "111.0",
         "1959.0",
         "209.0",
         "2685.0",
         "13291.0",
         "282.0",
         "95.0",
         "151.0",
         "6268.0",
         "65.0",
         "274.0",
         "303.0",
         "189.0",
         "10725.0",
         "157.0",
         "271.0",
         "569.0",
         null,
         "31.0",
         "17840.0",
         null,
         "139.0",
         "232.0",
         null,
         "4207.0",
         "235.0",
         "15228.0",
         "66.0",
         "329.0",
         "15023.0",
         "14.0",
         "5533.0",
         "13010.0",
         "120.0",
         "308.0",
         "390.0",
         "395.0",
         "8975.0",
         "4147.0",
         "235.0",
         "181.0",
         "11323.0",
         "1658.0",
         "2543.0",
         "457.0",
         "20664.0",
         "96.0",
         "162.0",
         "5757.0",
         "119.0",
         "2579.0",
         "21.0",
         "516.0",
         null,
         null,
         "30742.0",
         "23204.0",
         "259.0",
         "201.0",
         "10467.0",
         "380.0",
         "14.0",
         "18714.0",
         "43.0",
         "1431.0",
         "316.0",
         "58.0",
         "32.0",
         "120.0",
         "328.0",
         "17256.0",
         "130.0",
         "107.0",
         "350.0",
         "344.0",
         "12431.0",
         "45.0",
         "75.0",
         "7551.0",
         "73.0",
         "159.0",
         "119.0",
         "280.0",
         "114.0",
         "2823.0",
         "394.0",
         "8137.0",
         "200.0",
         "269.0",
         "636.0",
         "357.0",
         "23.0",
         "1736.0",
         "309.0",
         "313.0",
         null,
         "6998.0",
         "195.0",
         "92.0",
         "137.0",
         "2126.0",
         "250.0",
         "13418.0",
         "136.0",
         "18.0",
         null,
         "171.0",
         null,
         "14399.0",
         "27.0",
         "463.0",
         "10163.0",
         "118.0",
         "58.0",
         "165.0",
         "4169.0",
         "24804.0",
         "195.0",
         null,
         "9.0",
         "2902.0",
         "304.0",
         "202.0",
         "13025.0",
         "146.0",
         "18278.0",
         "19667.0",
         "370.0",
         "20.0",
         "184.0",
         "1397.0",
         "32.0",
         "383.0",
         "101.0",
         "13166.0",
         "9003.0",
         "252.0",
         "404.0",
         "196.0",
         "32545.0",
         "281.0",
         "4529.0",
         "257.0",
         null,
         "220.0",
         "456.0",
         "4739.0",
         "27888.0",
         "2284.0",
         "611.0",
         "167.0",
         "11490.0",
         "5549.0",
         "2119.0",
         "197.0",
         "15577.0",
         "167.0",
         "193.0",
         "81.0",
         "215.0",
         "187.0",
         null,
         "16.0",
         "229.0",
         "254.0",
         "469.0",
         "355.0",
         "213.0",
         "286.0",
         "338.0",
         "2786.0",
         "296.0",
         "253.0",
         "217.0",
         "2191.0",
         "154.0",
         "9807.0",
         "19526.0",
         "120.0",
         "203.0",
         "76.0",
         "398.0",
         "31610.0",
         "3768.0",
         "6918.0",
         "171.0",
         "11717.0",
         null,
         "100.0",
         "5064.0",
         "274.0",
         "269.0",
         "162.0",
         "27020.0",
         "8.0",
         "109.0",
         "153.0",
         null,
         "336.0",
         "201.0",
         "48.0",
         "12363.0",
         "248.0",
         "422.0",
         "120.0",
         "319.0",
         "189.0",
         "12456.0",
         "533.0",
         "5.0",
         "229.0",
         "211.0",
         "229.0",
         "193.0",
         "202.0",
         "154.0",
         "169.0",
         "289.0",
         "323.0",
         null,
         "10462.0",
         "1667.0",
         "199.0",
         "120.0",
         "448.0",
         "24.0",
         null,
         null,
         null,
         "19886.0",
         "202.0",
         "39.0",
         "144.0",
         "434.0",
         "238.0",
         "79.0",
         "427.0",
         "15915.0",
         "16528.0",
         "407.0",
         "103.0",
         "12519.0",
         null,
         null,
         "96.0",
         "210.0",
         "21.0",
         "47.0",
         "260.0",
         "335.0",
         "222.0",
         "188.0",
         "21194.0",
         "504.0",
         "18266.0",
         "10941.0",
         "30.0",
         null,
         "114.0",
         "3785.0",
         "227.0",
         "14461.0",
         "15995.0",
         "1660.0",
         "798.0",
         "2410.0",
         "25853.0",
         "141.0",
         "4344.0",
         "145.0",
         "119.0",
         "15048.0",
         "243.0",
         null,
         "8638.0",
         "349.0",
         "1140.0",
         "103.0",
         "66.0",
         "135.0",
         "265.0",
         "10689.0",
         "8021.0",
         "19007.0",
         null,
         "256.0",
         "252.0",
         "28199.0",
         "1403.0",
         "3.0",
         "4.0",
         "3.0",
         "115.0",
         "925.0",
         "83.0",
         "8246.0",
         "1214.0",
         "146.0",
         null,
         null,
         "1834.0",
         "5116.0",
         "469.0",
         "262.0",
         "341.0",
         "277.0",
         "22018.0",
         "161.0",
         "89.0",
         "72.0",
         "19.0",
         "11932.0",
         "5308.0",
         "25.0",
         "44.0",
         "312.0",
         "371.0",
         "1210.0",
         "25.0",
         "5182.0",
         "57.0",
         "266.0",
         "5536.0",
         "14757.0",
         "16.0",
         "273.0",
         "6419.0",
         "415.0",
         "4.0",
         "1378.0",
         "391.0",
         "23153.0",
         null,
         "460.0",
         "8872.0",
         "4.0",
         "24120.0",
         "135.0",
         "137.0",
         "40.0",
         "1872.0",
         "803.0",
         "762.0",
         "212.0",
         "731.0",
         "12656.0",
         "20345.0",
         "164.0",
         "244.0",
         "2951.0",
         "202.0",
         null,
         "332.0",
         "208.0",
         "10542.0",
         "155.0",
         "1285.0",
         "12078.0",
         "5416.0",
         "479.0",
         "297.0",
         "3671.0",
         "186.0",
         "230.0",
         "96.0",
         "218.0",
         "856.0",
         "148.0",
         "279.0",
         "139.0",
         "1875.0",
         "462.0",
         "267.0",
         "469.0",
         "133.0",
         "11.0",
         "177.0",
         "246.0",
         "14895.0",
         "17705.0",
         "16664.0",
         "294.0",
         "364.0",
         "88.0",
         "79.0",
         "367.0",
         "512.0",
         "330.0",
         "196.0",
         "10353.0",
         "299.0",
         "28224.0",
         "31080.0",
         "280.0",
         "123.0",
         null,
         "7200.0",
         "2206.0",
         "7.0",
         "41.0",
         "116.0",
         "177.0",
         "50.0",
         "163.0",
         "13725.0",
         "148.0",
         "162.0",
         "279.0",
         "99.0",
         "355.0",
         "182.0",
         "59.0",
         "263.0",
         "95.0",
         null,
         "6036.0",
         "1566.0",
         "62.0",
         "282.0",
         "9679.0",
         "282.0",
         "56.0",
         "311.0",
         "4396.0",
         "2167.0",
         "23469.0",
         "208.0",
         "10497.0",
         "173.0",
         "121.0",
         "87.0",
         "152.0",
         "24841.0",
         "668.0",
         "188.0",
         "92.0",
         "3415.0",
         "23547.0",
         "68.0",
         "141.0",
         "147.0",
         "140.0",
         "20346.0",
         "20476.0",
         "317.0",
         "269.0",
         "163.0",
         "14234.0",
         "13741.0",
         "359.0",
         "161.0",
         null,
         "89.0",
         "6.0",
         "492.0",
         "105.0",
         "97.0",
         "363.0",
         "6545.0",
         "119.0",
         "49.0",
         "241.0",
         "832.0",
         "25729.0",
         "8427.0",
         "219.0",
         "116.0",
         "125.0",
         "181.0",
         "2253.0",
         "187.0",
         "9637.0",
         "287.0",
         "162.0",
         "390.0",
         "315.0",
         "286.0",
         null,
         "18131.0",
         "10524.0",
         "25.0",
         "3143.0",
         "37.0",
         "181.0",
         "142.0",
         "393.0",
         "180.0",
         "6373.0",
         "8937.0",
         "268.0",
         "18479.0",
         "413.0",
         "26.0",
         "248.0",
         null,
         "2222.0",
         "38.0",
         "8023.0",
         "240.0",
         null,
         "178.0",
         "14437.0",
         "146.0",
         "334.0",
         "31.0",
         "183.0",
         "160.0",
         "153.0",
         "1748.0",
         "1600.0",
         "382.0",
         "67.0",
         "273.0",
         "158.0",
         "22632.0",
         "292.0",
         "200.0",
         "224.0",
         "146.0",
         null,
         "13480.0",
         "461.0",
         "274.0",
         "215.0",
         "114.0",
         "179.0",
         "113.0",
         "393.0",
         "4496.0",
         "9275.0",
         "293.0",
         "2657.0",
         "345.0",
         "1068.0",
         "23376.0",
         "217.0",
         null,
         "82.0",
         "48.0",
         "258.0",
         "401.0",
         "21.0",
         "78.0",
         "1123.0",
         "22232.0",
         "125.0",
         "40433.0",
         "3519.0",
         "60.0",
         "298.0",
         "1602.0",
         "14253.0",
         "81.0",
         "8220.0",
         "61.0",
         "16318.0",
         "181.0",
         "88.0",
         "42.0",
         "231.0",
         "353.0",
         "142.0",
         "245.0",
         "3425.0",
         "16911.0",
         "451.0",
         "626.0",
         "241.0",
         "162.0",
         "630.0",
         "646.0",
         "2908.0",
         "17491.0",
         "12561.0",
         "265.0",
         "17.0",
         "54.0",
         "2282.0",
         "739.0",
         "224.0",
         "111.0",
         "13847.0",
         "36.0",
         "340.0",
         "326.0",
         "1525.0",
         "124.0",
         "62.0",
         "193.0",
         "22660.0",
         "18293.0",
         "403.0",
         "42.0",
         "116.0",
         "1364.0",
         "260.0",
         "2061.0",
         "255.0",
         "70.0",
         "113.0",
         "902.0",
         "283.0",
         "65.0",
         "313.0",
         "1689.0",
         "101.0",
         "97.0",
         "208.0",
         "1060.0",
         "53.0",
         "12052.0",
         "262.0",
         "163.0",
         "1505.0",
         "36.0",
         "5299.0",
         "26.0",
         "333.0",
         "85.0",
         "49.0",
         "401.0",
         "972.0",
         "1130.0",
         "78.0",
         null,
         "209.0",
         "166.0",
         "405.0",
         null,
         "307.0",
         "4828.0",
         "4.0",
         "153.0",
         "31.0",
         "26.0",
         "10.0",
         "1093.0",
         "12305.0",
         "69.0",
         "95.0",
         "13054.0",
         "91.0",
         "77.0",
         "5968.0",
         "137.0",
         "161.0",
         "236.0",
         "45.0",
         null,
         "39.0",
         "185.0",
         "297.0",
         "339.0",
         "19034.0",
         "1727.0",
         "143.0",
         "68.0",
         "219.0",
         "346.0",
         "168.0",
         "118.0",
         "201.0",
         "91.0",
         "156.0",
         "211.0",
         "73.0",
         "146.0",
         null,
         "352.0",
         "9.0",
         "161.0",
         "7729.0",
         null,
         "4789.0",
         "215.0",
         "1496.0",
         "203.0",
         "25.0",
         "192.0",
         "145.0",
         "146.0",
         "96.0",
         "1578.0",
         "86.0",
         "155.0",
         "112.0",
         "8140.0",
         "9890.0",
         null,
         "434.0",
         "255.0",
         "8890.0",
         "20054.0",
         "243.0",
         "17430.0",
         "209.0",
         "10751.0",
         "167.0",
         "55.0",
         "49.0",
         "33.0",
         "357.0",
         "31.0",
         "1149.0",
         "580.0",
         "86.0",
         "24.0",
         "7842.0",
         "173.0",
         "412.0",
         "137.0",
         "95.0",
         "286.0",
         "429.0",
         "12066.0",
         "19697.0",
         "53.0",
         "230.0",
         "373.0",
         "102.0",
         "179.0",
         "395.0",
         "270.0",
         "516.0",
         "83.0",
         "71.0",
         "111.0",
         "139.0",
         "6602.0",
         "205.0",
         "216.0",
         "117.0",
         "324.0",
         "11.0",
         "110.0",
         "95.0",
         "3473.0",
         "57.0",
         "237.0",
         "432.0",
         "160.0",
         "243.0",
         "325.0",
         "10264.0",
         "2412.0",
         "282.0",
         "137.0",
         "287.0",
         "29.0",
         "22.0",
         "26.0",
         "12961.0",
         "114.0",
         "5026.0",
         "3104.0",
         "1117.0",
         "4962.0",
         "412.0",
         null,
         "219.0",
         "3529.0",
         "111.0",
         "228.0",
         "11194.0",
         "64.0",
         "6154.0",
         "276.0",
         "268.0",
         null,
         "18676.0",
         "42.0",
         "106.0",
         "278.0",
         "65.0",
         "113.0",
         "146.0",
         "274.0",
         "99.0",
         "9941.0",
         "16855.0",
         "21.0",
         "260.0",
         "177.0",
         "12715.0",
         "13010.0",
         "9894.0",
         "4296.0",
         "534.0",
         "2095.0",
         "3047.0",
         "5199.0",
         "15.0",
         "247.0",
         "8906.0",
         "247.0",
         "332.0",
         "364.0",
         "109.0",
         "78.0",
         "172.0",
         "95.0",
         "957.0",
         "187.0",
         "339.0",
         "6946.0",
         "12666.0",
         "205.0",
         "91.0",
         "7799.0",
         "388.0",
         "209.0",
         "15982.0",
         "110.0",
         "98.0",
         "143.0",
         "587.0",
         "17163.0",
         "39.0",
         null,
         null,
         "18789.0",
         "233.0",
         "12363.0",
         "71.0",
         "8766.0",
         "13495.0",
         "3589.0",
         "1492.0",
         "5714.0",
         "885.0",
         "70.0",
         "128.0",
         "20.0",
         "17469.0",
         "139.0",
         "27305.0",
         "3589.0",
         "171.0",
         "15765.0",
         "420.0",
         "340.0",
         "101.0",
         "47.0",
         "3190.0",
         "183.0",
         "22300.0",
         "364.0",
         "289.0",
         null,
         "16.0",
         "64.0",
         "89.0",
         "92.0",
         null,
         "246.0",
         "79.0",
         "4284.0",
         "100.0",
         "152.0",
         "24819.0",
         "199.0",
         "7.0",
         "10054.0",
         "21107.0",
         "227.0",
         "100.0",
         "21836.0",
         "9807.0",
         "267.0",
         null,
         "245.0",
         "306.0",
         "202.0",
         "23205.0",
         "3692.0",
         "380.0",
         "1135.0",
         "78.0",
         "16776.0",
         "30.0",
         "129.0",
         "27.0",
         null,
         "170.0",
         "3870.0",
         "192.0",
         "323.0",
         "225.0",
         "7752.0",
         "1453.0",
         null,
         "188.0",
         "3282.0",
         "4757.0",
         "385.0",
         null,
         "156.0",
         "105.0",
         "1744.0",
         "1927.0",
         "7.0",
         "88.0",
         "1335.0",
         "176.0",
         "13724.0",
         "204.0",
         "139.0",
         "280.0",
         "290.0",
         "493.0",
         "2937.0",
         "8.0",
         "173.0",
         "8266.0",
         "9.0",
         "302.0",
         "326.0",
         "145.0",
         "118.0",
         "911.0",
         "338.0",
         "1668.0",
         null,
         "214.0",
         "146.0",
         "54.0",
         "56.0",
         "15230.0",
         "66.0",
         "1570.0",
         "204.0",
         "15120.0",
         "446.0",
         "1145.0",
         "162.0",
         "243.0",
         "58.0",
         "460.0",
         "93.0",
         "160.0",
         "2166.0",
         "12222.0",
         "103.0",
         "31646.0",
         "2121.0",
         "416.0",
         "37.0",
         "271.0",
         "31760.0",
         "208.0",
         "364.0",
         "140.0",
         "59.0",
         "119.0",
         "2205.0",
         "36.0",
         "111.0",
         "10214.0",
         "11359.0",
         "239.0",
         null,
         "4720.0",
         "196.0",
         "226.0",
         "7362.0",
         "102.0",
         "282.0",
         "11.0",
         "203.0",
         "1739.0",
         "311.0",
         "2489.0",
         "6296.0",
         "7468.0",
         "423.0",
         "170.0",
         "20678.0",
         "169.0",
         "119.0",
         "283.0",
         "228.0",
         null,
         "24150.0",
         "16356.0",
         "83.0",
         "169.0",
         "272.0",
         "11.0",
         "110.0",
         "8459.0",
         "257.0",
         "433.0",
         "423.0",
         "305.0",
         "501.0",
         "337.0",
         "23.0",
         "24918.0",
         "17000.0",
         "136.0",
         null,
         "18905.0",
         "519.0",
         "200.0",
         "31897.0",
         "457.0",
         "241.0",
         "122.0",
         "203.0",
         "314.0",
         "2136.0",
         "382.0",
         "43.0",
         "309.0",
         "143.0",
         "11739.0",
         "2181.0",
         "36.0",
         "118.0",
         "75.0",
         "3433.0",
         "85.0",
         "93.0",
         "334.0",
         "1411.0",
         "332.0",
         "47.0",
         "10.0",
         "95.0",
         "224.0",
         null,
         "1260.0",
         "14505.0",
         "351.0",
         "180.0",
         "107.0",
         "4395.0",
         "136.0",
         "249.0",
         null,
         "6.0",
         "29702.0",
         "346.0",
         "222.0",
         "240.0",
         "888.0",
         "213.0",
         "326.0",
         "24542.0",
         "237.0",
         "296.0",
         "351.0",
         "190.0",
         "397.0",
         "493.0",
         "430.0",
         "5446.0",
         "178.0",
         "38.0",
         null,
         "17441.0",
         "126.0",
         "391.0",
         null,
         "435.0",
         "28.0",
         "56.0",
         "20611.0",
         "7791.0",
         "128.0",
         "2380.0",
         "2231.0",
         "104.0",
         "899.0",
         "22.0",
         "12383.0",
         "103.0",
         "14737.0",
         "191.0",
         "211.0",
         null,
         "230.0",
         "1862.0",
         "20512.0",
         "18.0",
         "27275.0",
         "14.0",
         "13486.0",
         "11813.0",
         "1729.0",
         "14575.0",
         "379.0",
         "347.0",
         "750.0",
         "18662.0",
         "13136.0",
         "54.0",
         "4114.0",
         "12875.0",
         "3560.0",
         "18864.0",
         "433.0",
         "252.0",
         "16574.0",
         "2084.0",
         "20.0",
         "7843.0",
         "504.0",
         "384.0",
         "84.0",
         "67.0",
         "7938.0",
         "182.0",
         "371.0",
         "186.0",
         "165.0",
         "15470.0",
         "3489.0",
         "206.0",
         "191.0",
         "10.0",
         "304.0",
         "144.0",
         "195.0",
         "225.0",
         "122.0",
         null,
         "1262.0",
         "1750.0",
         "1255.0",
         "255.0",
         "94.0",
         "213.0",
         "5313.0",
         "70.0",
         "380.0",
         "516.0",
         "107.0",
         "231.0",
         "297.0",
         "16102.0",
         "1052.0",
         "17754.0",
         "208.0",
         "3117.0",
         "220.0",
         "45.0",
         "2460.0",
         "8202.0",
         "441.0",
         "3929.0",
         null,
         "177.0",
         "53.0",
         "407.0",
         "4730.0",
         "120.0",
         null,
         "153.0",
         "2554.0",
         "292.0",
         "475.0",
         "226.0",
         "947.0",
         "164.0",
         null,
         "418.0",
         "31807.0",
         "174.0",
         "418.0",
         "165.0",
         "82.0",
         "117.0",
         "157.0",
         "165.0",
         "413.0",
         "169.0",
         "293.0",
         "55.0",
         "110.0",
         "197.0",
         null,
         "248.0",
         "176.0",
         "328.0",
         "118.0",
         "11.0",
         "7291.0",
         "13.0",
         "170.0",
         "3263.0",
         null,
         "12.0",
         "445.0",
         "178.0",
         "29.0",
         "5249.0",
         null,
         "126.0",
         "156.0",
         "266.0",
         "365.0",
         "148.0",
         "87.0",
         "191.0",
         "156.0",
         "139.0",
         "6464.0",
         "1820.0",
         "263.0",
         "930.0",
         "250.0",
         "256.0",
         "158.0",
         "157.0",
         "284.0",
         "195.0",
         "60.0",
         "786.0",
         "86.0",
         "2067.0",
         "251.0",
         "18.0",
         "13079.0",
         "191.0",
         "23293.0",
         "312.0",
         "536.0",
         "156.0",
         null,
         "415.0",
         "15360.0",
         "291.0",
         "213.0",
         "10259.0",
         null,
         "46.0",
         "164.0",
         "2188.0",
         "358.0",
         "1400.0",
         "18286.0",
         "368.0",
         "95.0",
         "180.0",
         "206.0",
         "5227.0",
         "180.0",
         "494.0",
         "3907.0",
         "11000.0",
         "9692.0",
         "292.0",
         "21573.0",
         "243.0",
         "28791.0",
         "10329.0",
         "120.0",
         "138.0",
         "391.0",
         null,
         "393.0",
         null,
         "24552.0",
         "270.0",
         "4314.0",
         "72.0",
         "274.0",
         null,
         "163.0",
         "1127.0",
         "2186.0",
         "23239.0",
         "457.0",
         "24443.0",
         "7570.0",
         "2628.0",
         "22.0",
         "447.0",
         "12337.0",
         "350.0",
         "238.0",
         "2576.0",
         "7931.0",
         "12023.0",
         "257.0",
         null,
         "174.0",
         null,
         "8223.0",
         "174.0",
         "185.0",
         "157.0",
         "519.0",
         "608.0",
         "11096.0",
         "9286.0",
         "21803.0",
         "82.0",
         "21033.0",
         "375.0",
         null,
         "426.0",
         "91.0",
         "232.0",
         "116.0",
         "1",
         "2085"
        ],
        [
         "2",
         "5.0",
         "139.0",
         "71.0",
         "13866.0",
         "326.0",
         "418.0",
         "402.0",
         "2833.0",
         "1821.0",
         "64.0",
         "60.0",
         "177.0",
         "249.0",
         "46.0",
         "69.0",
         "1578.0",
         "290.0",
         "13477.0",
         "100.0",
         "321.0",
         "56.0",
         "123.0",
         "5220.0",
         "299.0",
         "6809.0",
         "222.0",
         "144.0",
         "757.0",
         "402.0",
         "457.0",
         "17949.0",
         "5270.0",
         "344.0",
         "182.0",
         "1579.0",
         "301.0",
         "342.0",
         "1213.0",
         "2205.0",
         null,
         "114.0",
         "120.0",
         "24.0",
         "24.0",
         null,
         "21954.0",
         "87.0",
         "187.0",
         "15202.0",
         "70.0",
         "21.0",
         "186.0",
         "2317.0",
         "14785.0",
         "273.0",
         "409.0",
         "830.0",
         "8786.0",
         "296.0",
         "359.0",
         "100.0",
         "114.0",
         "333.0",
         "1796.0",
         "382.0",
         "111.0",
         "21426.0",
         "9230.0",
         "68.0",
         "18.0",
         "285.0",
         "396.0",
         "141.0",
         "153.0",
         "3032.0",
         "37.0",
         "243.0",
         "9246.0",
         "24.0",
         null,
         "271.0",
         "68.0",
         "14.0",
         "1006.0",
         "123.0",
         "164.0",
         "255.0",
         "20.0",
         "10428.0",
         "11294.0",
         "166.0",
         "6923.0",
         "74.0",
         "301.0",
         "116.0",
         "4215.0",
         "262.0",
         "13696.0",
         "68.0",
         "18.0",
         "84.0",
         "54.0",
         "195.0",
         "172.0",
         "226.0",
         "24934.0",
         "32516.0",
         "53.0",
         "462.0",
         "49.0",
         "177.0",
         "26322.0",
         "3362.0",
         "40.0",
         "2620.0",
         "1196.0",
         "593.0",
         "200.0",
         "53.0",
         "7616.0",
         "1679.0",
         "381.0",
         "191.0",
         "210.0",
         "89.0",
         "406.0",
         "1050.0",
         "260.0",
         "123.0",
         "85.0",
         "325.0",
         "1127.0",
         "17.0",
         "18318.0",
         "35.0",
         "298.0",
         "144.0",
         "17332.0",
         "6.0",
         "131.0",
         "363.0",
         "5604.0",
         "246.0",
         "165.0",
         "242.0",
         "14505.0",
         "420.0",
         null,
         "178.0",
         "366.0",
         "179.0",
         null,
         "125.0",
         "4782.0",
         "13705.0",
         "1036.0",
         "6759.0",
         "1735.0",
         "410.0",
         "231.0",
         "127.0",
         "216.0",
         "184.0",
         "7078.0",
         "218.0",
         "21719.0",
         "260.0",
         "243.0",
         "6812.0",
         "67.0",
         "1802.0",
         "218.0",
         "3828.0",
         "253.0",
         "370.0",
         "4448.0",
         "164.0",
         "8910.0",
         "1635.0",
         "12873.0",
         "6047.0",
         "54.0",
         "30.0",
         "380.0",
         "297.0",
         "317.0",
         "2426.0",
         "141.0",
         "20466.0",
         "3305.0",
         "72.0",
         "268.0",
         "1898.0",
         "183.0",
         "190.0",
         "4232.0",
         "52.0",
         "16227.0",
         "247.0",
         "1108.0",
         "81.0",
         "8618.0",
         "137.0",
         "64.0",
         "1067.0",
         "185.0",
         "46.0",
         "575.0",
         "91.0",
         "123.0",
         "14957.0",
         "695.0",
         "1375.0",
         "381.0",
         null,
         "415.0",
         "98.0",
         "25096.0",
         "474.0",
         "14686.0",
         "7175.0",
         "16509.0",
         "14238.0",
         "14072.0",
         "149.0",
         "445.0",
         "13717.0",
         "227.0",
         "834.0",
         "38.0",
         "11.0",
         "234.0",
         "266.0",
         "187.0",
         "137.0",
         "222.0",
         "109.0",
         "19262.0",
         "862.0",
         "14226.0",
         "22339.0",
         "348.0",
         "228.0",
         "3320.0",
         "232.0",
         "5191.0",
         "314.0",
         "5.0",
         "296.0",
         "469.0",
         "2483.0",
         "4292.0",
         "212.0",
         "10.0",
         "92.0",
         "169.0",
         null,
         "3860.0",
         "3505.0",
         "56.0",
         "238.0",
         "14628.0",
         "50.0",
         "34.0",
         "266.0",
         "522.0",
         "20.0",
         "165.0",
         "234.0",
         "6072.0",
         "113.0",
         "243.0",
         "158.0",
         "196.0",
         "36.0",
         "387.0",
         "84.0",
         "33.0",
         "275.0",
         "12662.0",
         "26482.0",
         "248.0",
         "2424.0",
         null,
         "2829.0",
         "110.0",
         null,
         "855.0",
         "6273.0",
         "201.0",
         "6.0",
         "277.0",
         "331.0",
         null,
         "278.0",
         "10999.0",
         "21.0",
         "1543.0",
         "8162.0",
         "80.0",
         "207.0",
         "89.0",
         "15855.0",
         "2815.0",
         "1593.0",
         "272.0",
         "10680.0",
         "538.0",
         "292.0",
         "12754.0",
         "252.0",
         "310.0",
         "202.0",
         "192.0",
         "349.0",
         "61.0",
         "196.0",
         "54.0",
         "9412.0",
         "22041.0",
         "2240.0",
         "160.0",
         "353.0",
         "25.0",
         "404.0",
         "187.0",
         "380.0",
         "13588.0",
         "181.0",
         "338.0",
         "24728.0",
         "281.0",
         "461.0",
         "18238.0",
         "1284.0",
         "471.0",
         "5254.0",
         "50.0",
         "18980.0",
         "387.0",
         "28.0",
         "1033.0",
         "2991.0",
         "12058.0",
         "121.0",
         "105.0",
         "125.0",
         "756.0",
         null,
         "821.0",
         "60.0",
         "1473.0",
         "1649.0",
         "28966.0",
         "10137.0",
         "44.0",
         "108.0",
         "1180.0",
         "18047.0",
         "8802.0",
         "375.0",
         "240.0",
         "116.0",
         "23.0",
         "110.0",
         "108.0",
         "132.0",
         "2520.0",
         "18513.0",
         "86.0",
         "274.0",
         "31.0",
         "266.0",
         "1258.0",
         "85.0",
         "217.0",
         "195.0",
         "154.0",
         "986.0",
         "38.0",
         "12842.0",
         "406.0",
         null,
         "45.0",
         "20310.0",
         "242.0",
         "263.0",
         "4368.0",
         "190.0",
         "126.0",
         "297.0",
         "155.0",
         "4439.0",
         "153.0",
         "571.0",
         "318.0",
         "7887.0",
         "463.0",
         "12.0",
         "46.0",
         "71.0",
         "63.0",
         "80.0",
         "3681.0",
         "378.0",
         "6594.0",
         "1730.0",
         "27138.0",
         "72.0",
         "6728.0",
         "358.0",
         "369.0",
         null,
         "18145.0",
         "39.0",
         "17240.0",
         "15544.0",
         "326.0",
         "185.0",
         "117.0",
         "1336.0",
         "52.0",
         "236.0",
         "36.0",
         "32.0",
         "314.0",
         "180.0",
         "13920.0",
         "70.0",
         "9.0",
         "14150.0",
         "34.0",
         "4156.0",
         "229.0",
         null,
         "388.0",
         "794.0",
         "4.0",
         "4787.0",
         "323.0",
         "127.0",
         "8943.0",
         null,
         "3243.0",
         "119.0",
         "7537.0",
         "2335.0",
         null,
         "8693.0",
         "370.0",
         "6824.0",
         "32.0",
         "2141.0",
         "193.0",
         "285.0",
         "188.0",
         "247.0",
         "388.0",
         "218.0",
         "228.0",
         "13.0",
         "213.0",
         "271.0",
         "151.0",
         "2120.0",
         "1480.0",
         "29.0",
         "49.0",
         "502.0",
         "414.0",
         "4226.0",
         "169.0",
         "14.0",
         "2797.0",
         "169.0",
         "50.0",
         "5314.0",
         "250.0",
         "90.0",
         "90.0",
         "189.0",
         "100.0",
         "414.0",
         "284.0",
         "189.0",
         "235.0",
         "311.0",
         "15502.0",
         "63.0",
         "15.0",
         "40.0",
         "184.0",
         "119.0",
         "132.0",
         "233.0",
         "2076.0",
         "156.0",
         "125.0",
         "274.0",
         "143.0",
         "331.0",
         "9762.0",
         "356.0",
         "102.0",
         "296.0",
         "13357.0",
         "145.0",
         "126.0",
         "215.0",
         "129.0",
         "3541.0",
         "290.0",
         "188.0",
         "74.0",
         "294.0",
         "296.0",
         "2012.0",
         "3975.0",
         null,
         "247.0",
         "213.0",
         "164.0",
         "2624.0",
         "2516.0",
         "18.0",
         null,
         "175.0",
         "2139.0",
         "697.0",
         "62.0",
         "6.0",
         "127.0",
         "6375.0",
         "183.0",
         "256.0",
         "90.0",
         "133.0",
         "396.0",
         "587.0",
         "8561.0",
         "305.0",
         "7580.0",
         null,
         "575.0",
         "67.0",
         "21594.0",
         "10.0",
         "21.0",
         "289.0",
         "307.0",
         "37.0",
         "3305.0",
         "20360.0",
         "811.0",
         "2619.0",
         null,
         "91.0",
         "187.0",
         "87.0",
         "2864.0",
         "374.0",
         "1952.0",
         "2342.0",
         "175.0",
         null,
         "18169.0",
         "239.0",
         "376.0",
         "18.0",
         "224.0",
         "15023.0",
         "221.0",
         "18618.0",
         "159.0",
         "1636.0",
         "141.0",
         "4638.0",
         "103.0",
         "294.0",
         "88.0",
         "160.0",
         "11081.0",
         "1492.0",
         "11.0",
         "8369.0",
         "3113.0",
         "82.0",
         "168.0",
         "46.0",
         "968.0",
         "254.0",
         "271.0",
         "36.0",
         "1404.0",
         "368.0",
         "19128.0",
         "323.0",
         "10573.0",
         "206.0",
         "2971.0",
         "216.0",
         "234.0",
         "20288.0",
         "182.0",
         "7362.0",
         "324.0",
         "18109.0",
         "155.0",
         "23.0",
         "223.0",
         "297.0",
         "9648.0",
         "130.0",
         "270.0",
         "1649.0",
         "18403.0",
         "187.0",
         "578.0",
         "20494.0",
         "16003.0",
         "73.0",
         "7290.0",
         "455.0",
         "18916.0",
         "281.0",
         "199.0",
         "156.0",
         "50.0",
         "237.0",
         "63.0",
         "33.0",
         "156.0",
         "163.0",
         "213.0",
         "130.0",
         "9229.0",
         "390.0",
         "57.0",
         "3177.0",
         "221.0",
         "12.0",
         "146.0",
         "2562.0",
         "223.0",
         "378.0",
         "145.0",
         "25.0",
         "142.0",
         "290.0",
         "224.0",
         "91.0",
         "195.0",
         "15400.0",
         "33.0",
         "52.0",
         "4221.0",
         "273.0",
         "2484.0",
         "122.0",
         "310.0",
         "187.0",
         "203.0",
         "16667.0",
         "21024.0",
         "8035.0",
         "221.0",
         "236.0",
         "38.0",
         "238.0",
         "94.0",
         "10016.0",
         "190.0",
         "255.0",
         "18363.0",
         "10767.0",
         "1451.0",
         "546.0",
         "2084.0",
         "49.0",
         "211.0",
         "486.0",
         null,
         "307.0",
         "52.0",
         "288.0",
         "16735.0",
         "307.0",
         "1035.0",
         "290.0",
         "7921.0",
         "97.0",
         "19631.0",
         "99.0",
         "28.0",
         "178.0",
         "1561.0",
         "153.0",
         "3444.0",
         "15878.0",
         "232.0",
         "52.0",
         "157.0",
         "5003.0",
         "72.0",
         "342.0",
         "283.0",
         "226.0",
         "7447.0",
         "312.0",
         "197.0",
         "314.0",
         "8348.0",
         "30.0",
         "11460.0",
         "320.0",
         "214.0",
         "258.0",
         "21.0",
         "1998.0",
         "166.0",
         "17303.0",
         "76.0",
         "391.0",
         "12802.0",
         "16.0",
         "8354.0",
         null,
         "118.0",
         "279.0",
         "248.0",
         "416.0",
         "13296.0",
         "3396.0",
         "135.0",
         "176.0",
         "15306.0",
         "9960.0",
         "3022.0",
         "317.0",
         "16464.0",
         "90.0",
         "321.0",
         "5446.0",
         "98.0",
         "2426.0",
         "22.0",
         "428.0",
         "30.0",
         "237.0",
         "16850.0",
         "22793.0",
         "135.0",
         "351.0",
         "13073.0",
         "245.0",
         "17.0",
         "19417.0",
         "39.0",
         "3376.0",
         "304.0",
         "108.0",
         "26.0",
         "221.0",
         "222.0",
         null,
         "135.0",
         "180.0",
         "248.0",
         "273.0",
         "18366.0",
         "67.0",
         "46.0",
         "12663.0",
         "75.0",
         "216.0",
         "77.0",
         "357.0",
         "93.0",
         "3247.0",
         "524.0",
         "5702.0",
         "175.0",
         null,
         "338.0",
         "235.0",
         "21.0",
         "852.0",
         "294.0",
         "355.0",
         "234.0",
         "4029.0",
         "319.0",
         "109.0",
         "162.0",
         "1334.0",
         "169.0",
         "17979.0",
         "179.0",
         "16.0",
         "100.0",
         "217.0",
         "122.0",
         "8673.0",
         null,
         "354.0",
         "17393.0",
         "352.0",
         "125.0",
         "144.0",
         "4626.0",
         "12536.0",
         "356.0",
         "321.0",
         "8.0",
         "1875.0",
         "364.0",
         "367.0",
         "15410.0",
         "225.0",
         "17622.0",
         "19896.0",
         "305.0",
         "28.0",
         "162.0",
         "2322.0",
         "40.0",
         "161.0",
         "65.0",
         "24708.0",
         "7257.0",
         "34.0",
         "450.0",
         "123.0",
         null,
         "354.0",
         "5741.0",
         "326.0",
         "2375.0",
         "311.0",
         "618.0",
         "4734.0",
         "27126.0",
         "3000.0",
         "716.0",
         "146.0",
         "4722.0",
         "6740.0",
         "1749.0",
         "151.0",
         "14920.0",
         null,
         "72.0",
         "68.0",
         "295.0",
         "135.0",
         "278.0",
         "18.0",
         "198.0",
         "273.0",
         "245.0",
         "502.0",
         "182.0",
         "172.0",
         "215.0",
         "2693.0",
         "209.0",
         null,
         "142.0",
         "985.0",
         "90.0",
         "11645.0",
         "18112.0",
         "115.0",
         null,
         "100.0",
         "330.0",
         "26054.0",
         "3030.0",
         "14795.0",
         "250.0",
         "8966.0",
         "269.0",
         "84.0",
         "9322.0",
         "178.0",
         "365.0",
         "127.0",
         "27842.0",
         "15.0",
         "227.0",
         "85.0",
         "727.0",
         "375.0",
         "113.0",
         "63.0",
         "11026.0",
         "340.0",
         "514.0",
         "145.0",
         "341.0",
         "398.0",
         "26087.0",
         "403.0",
         "6.0",
         "249.0",
         "204.0",
         "313.0",
         "192.0",
         "89.0",
         "193.0",
         "152.0",
         "202.0",
         "273.0",
         "3156.0",
         "4717.0",
         "2966.0",
         "272.0",
         "123.0",
         "399.0",
         null,
         "168.0",
         "6840.0",
         null,
         "23757.0",
         "151.0",
         "25.0",
         "138.0",
         "369.0",
         "337.0",
         "67.0",
         "188.0",
         null,
         "10417.0",
         "240.0",
         "144.0",
         "14170.0",
         "11.0",
         "48.0",
         "90.0",
         "119.0",
         "26.0",
         "44.0",
         null,
         "224.0",
         "272.0",
         "125.0",
         "21843.0",
         "427.0",
         "14014.0",
         "19335.0",
         "29.0",
         "524.0",
         "126.0",
         "1259.0",
         "224.0",
         "23763.0",
         "12843.0",
         "1666.0",
         "452.0",
         "3078.0",
         "21925.0",
         "364.0",
         "4218.0",
         "254.0",
         null,
         "14381.0",
         "276.0",
         "164.0",
         null,
         "288.0",
         "986.0",
         "76.0",
         "129.0",
         "202.0",
         "265.0",
         "5527.0",
         "9170.0",
         "18950.0",
         "16771.0",
         "177.0",
         "324.0",
         "40591.0",
         "1373.0",
         "8.0",
         "5.0",
         "3.0",
         "116.0",
         "1447.0",
         "108.0",
         "5647.0",
         "1267.0",
         "383.0",
         "23840.0",
         "176.0",
         "1257.0",
         "4436.0",
         "276.0",
         "180.0",
         "366.0",
         "398.0",
         "31218.0",
         "179.0",
         "121.0",
         "111.0",
         "18.0",
         "12082.0",
         "7619.0",
         "24.0",
         "33.0",
         "458.0",
         "750.0",
         "1784.0",
         "35.0",
         "5136.0",
         "69.0",
         "1056.0",
         "10109.0",
         "10214.0",
         "9.0",
         "340.0",
         "7811.0",
         "284.0",
         "4.0",
         "1938.0",
         "379.0",
         "20819.0",
         "269.0",
         "312.0",
         "10703.0",
         "3.0",
         "19730.0",
         "136.0",
         "145.0",
         "107.0",
         "2163.0",
         "1555.0",
         "1865.0",
         "233.0",
         "501.0",
         "16274.0",
         "22008.0",
         "153.0",
         "382.0",
         "1836.0",
         "176.0",
         "10916.0",
         "325.0",
         "375.0",
         "13355.0",
         "186.0",
         "2146.0",
         "14891.0",
         "4765.0",
         "736.0",
         "213.0",
         "2533.0",
         "138.0",
         "309.0",
         "88.0",
         "155.0",
         "2475.0",
         "158.0",
         "427.0",
         "135.0",
         null,
         "470.0",
         "409.0",
         "446.0",
         "66.0",
         "13.0",
         "45.0",
         "162.0",
         "15243.0",
         "17123.0",
         "13864.0",
         "215.0",
         "404.0",
         "70.0",
         "52.0",
         "182.0",
         "368.0",
         "272.0",
         "74.0",
         "4812.0",
         "231.0",
         "18131.0",
         "10663.0",
         "231.0",
         "179.0",
         "78.0",
         "6004.0",
         "196.0",
         "6.0",
         "95.0",
         "171.0",
         "289.0",
         "61.0",
         "292.0",
         "18976.0",
         "296.0",
         "116.0",
         "318.0",
         "35.0",
         "342.0",
         "213.0",
         "47.0",
         null,
         "75.0",
         "118.0",
         "13055.0",
         "1488.0",
         "50.0",
         "270.0",
         "12804.0",
         "318.0",
         "47.0",
         "244.0",
         "2612.0",
         "2432.0",
         "16960.0",
         "152.0",
         "10785.0",
         "280.0",
         "83.0",
         "141.0",
         "79.0",
         "35283.0",
         "569.0",
         "117.0",
         "109.0",
         "4150.0",
         "22919.0",
         "111.0",
         "106.0",
         "263.0",
         "149.0",
         "27135.0",
         "20912.0",
         "178.0",
         "196.0",
         "195.0",
         "13958.0",
         "15912.0",
         "291.0",
         "255.0",
         "279.0",
         "148.0",
         "7.0",
         "368.0",
         "126.0",
         "64.0",
         "563.0",
         "8904.0",
         "158.0",
         "55.0",
         "236.0",
         "1754.0",
         "9203.0",
         "8928.0",
         "191.0",
         "104.0",
         null,
         "266.0",
         "3800.0",
         "138.0",
         "5042.0",
         "150.0",
         "113.0",
         "482.0",
         "222.0",
         "222.0",
         "122.0",
         "17418.0",
         "9922.0",
         "39.0",
         "3049.0",
         null,
         "591.0",
         "127.0",
         "555.0",
         "54.0",
         "8654.0",
         "10432.0",
         "399.0",
         "23088.0",
         "416.0",
         "47.0",
         "156.0",
         "254.0",
         "1818.0",
         "53.0",
         "8335.0",
         "197.0",
         "79.0",
         "282.0",
         null,
         "167.0",
         "255.0",
         "14.0",
         "165.0",
         "277.0",
         "83.0",
         "1712.0",
         "1676.0",
         "242.0",
         "72.0",
         "250.0",
         null,
         "13853.0",
         "166.0",
         "224.0",
         "161.0",
         "249.0",
         "59.0",
         "7671.0",
         "340.0",
         "398.0",
         "120.0",
         "106.0",
         "167.0",
         "285.0",
         "297.0",
         "4407.0",
         "6743.0",
         "139.0",
         "1782.0",
         "108.0",
         "524.0",
         "14569.0",
         "232.0",
         "354.0",
         "109.0",
         "101.0",
         "316.0",
         "343.0",
         "23.0",
         "87.0",
         "1785.0",
         "19027.0",
         "117.0",
         "21924.0",
         "3794.0",
         "17.0",
         "187.0",
         "1779.0",
         "5726.0",
         "85.0",
         "11147.0",
         "35.0",
         "7414.0",
         "179.0",
         "68.0",
         "28.0",
         "318.0",
         "182.0",
         "145.0",
         "294.0",
         "2325.0",
         "15528.0",
         "420.0",
         "512.0",
         "218.0",
         "188.0",
         "7581.0",
         "319.0",
         "4530.0",
         "14445.0",
         "17051.0",
         "122.0",
         "18.0",
         "55.0",
         null,
         "683.0",
         "217.0",
         "59.0",
         "23133.0",
         "38.0",
         "391.0",
         "283.0",
         "902.0",
         "121.0",
         "65.0",
         "286.0",
         "17321.0",
         "17437.0",
         "490.0",
         "55.0",
         "171.0",
         "2426.0",
         null,
         "3530.0",
         "301.0",
         "63.0",
         "109.0",
         "565.0",
         "187.0",
         "221.0",
         "266.0",
         "2826.0",
         "102.0",
         "59.0",
         "165.0",
         "2235.0",
         "11.0",
         null,
         "208.0",
         "95.0",
         "1499.0",
         "59.0",
         "1313.0",
         "36.0",
         null,
         "159.0",
         "19.0",
         null,
         "1647.0",
         "901.0",
         "70.0",
         "416.0",
         "206.0",
         "58.0",
         "336.0",
         "11719.0",
         "291.0",
         "17932.0",
         "6.0",
         "99.0",
         null,
         "18.0",
         "39.0",
         "4266.0",
         "9946.0",
         "65.0",
         "118.0",
         "6750.0",
         "113.0",
         "94.0",
         "5286.0",
         "109.0",
         "172.0",
         "221.0",
         "37.0",
         "5209.0",
         "35.0",
         "71.0",
         "307.0",
         "186.0",
         "20157.0",
         "2679.0",
         "115.0",
         "80.0",
         "456.0",
         "175.0",
         "365.0",
         "112.0",
         "248.0",
         "94.0",
         "225.0",
         "181.0",
         "121.0",
         "107.0",
         "159.0",
         "348.0",
         "11.0",
         "241.0",
         "5871.0",
         "11306.0",
         "3944.0",
         "195.0",
         "1892.0",
         "417.0",
         "15.0",
         "235.0",
         "117.0",
         "134.0",
         "52.0",
         "1684.0",
         "80.0",
         "294.0",
         "164.0",
         "8459.0",
         "7147.0",
         "7050.0",
         "421.0",
         "282.0",
         "24453.0",
         "23094.0",
         "198.0",
         "12064.0",
         "238.0",
         "13137.0",
         "117.0",
         "69.0",
         "119.0",
         "39.0",
         "276.0",
         "77.0",
         "2047.0",
         "805.0",
         "75.0",
         "34.0",
         null,
         "24.0",
         "271.0",
         "384.0",
         "51.0",
         "250.0",
         null,
         "15823.0",
         "10592.0",
         "49.0",
         "298.0",
         "225.0",
         null,
         "150.0",
         "354.0",
         "213.0",
         "234.0",
         "78.0",
         "64.0",
         "43.0",
         "149.0",
         "8611.0",
         "73.0",
         "336.0",
         "148.0",
         "343.0",
         "35.0",
         "120.0",
         "341.0",
         "2213.0",
         "46.0",
         "278.0",
         "169.0",
         "74.0",
         "263.0",
         "290.0",
         "19569.0",
         "1193.0",
         "277.0",
         "90.0",
         "277.0",
         "92.0",
         "21.0",
         "24.0",
         "11445.0",
         "186.0",
         "5790.0",
         "2686.0",
         "1450.0",
         "8854.0",
         "336.0",
         "170.0",
         "276.0",
         "3852.0",
         "300.0",
         "381.0",
         "11755.0",
         "80.0",
         null,
         "427.0",
         "290.0",
         "16646.0",
         "11515.0",
         "45.0",
         "76.0",
         "288.0",
         "85.0",
         "90.0",
         "126.0",
         "216.0",
         "69.0",
         "11817.0",
         "15464.0",
         "30.0",
         "267.0",
         "158.0",
         "9429.0",
         "15389.0",
         "25127.0",
         "970.0",
         "257.0",
         "2396.0",
         "1788.0",
         "5312.0",
         "17.0",
         "208.0",
         "12741.0",
         "282.0",
         "234.0",
         "403.0",
         "60.0",
         "74.0",
         "132.0",
         "159.0",
         "995.0",
         null,
         "348.0",
         "4762.0",
         "8754.0",
         "267.0",
         "110.0",
         "13861.0",
         "475.0",
         "163.0",
         "21713.0",
         "90.0",
         "196.0",
         "112.0",
         "737.0",
         "19404.0",
         "41.0",
         "1549.0",
         "402.0",
         "19008.0",
         "330.0",
         "16277.0",
         "52.0",
         "6978.0",
         "11946.0",
         "5948.0",
         "833.0",
         "6891.0",
         "499.0",
         "59.0",
         "193.0",
         "24.0",
         "17155.0",
         "96.0",
         "22604.0",
         "2594.0",
         "182.0",
         "8174.0",
         "380.0",
         "170.0",
         "72.0",
         "58.0",
         "3020.0",
         "157.0",
         "29128.0",
         "371.0",
         "283.0",
         "1771.0",
         "14.0",
         null,
         "143.0",
         "69.0",
         "125.0",
         "124.0",
         "156.0",
         "1533.0",
         "137.0",
         "181.0",
         "13184.0",
         "414.0",
         "7.0",
         "20639.0",
         "19636.0",
         "320.0",
         "197.0",
         "21260.0",
         "13311.0",
         "288.0",
         null,
         "631.0",
         "152.0",
         "157.0",
         "15044.0",
         "3356.0",
         "372.0",
         "2353.0",
         "52.0",
         "26803.0",
         "25.0",
         "188.0",
         "21.0",
         "146.0",
         "164.0",
         "2642.0",
         "377.0",
         null,
         "279.0",
         "6108.0",
         "1179.0",
         "219.0",
         "118.0",
         "4228.0",
         "3127.0",
         "350.0",
         null,
         "153.0",
         "303.0",
         "1502.0",
         "1209.0",
         "8.0",
         "231.0",
         "1437.0",
         "133.0",
         "15118.0",
         "151.0",
         "119.0",
         "481.0",
         "259.0",
         "259.0",
         "6381.0",
         null,
         null,
         "10307.0",
         "5.0",
         "227.0",
         "328.0",
         "295.0",
         null,
         "1216.0",
         "107.0",
         null,
         "1764.0",
         "238.0",
         "274.0",
         "57.0",
         "76.0",
         "13544.0",
         "38.0",
         "2459.0",
         "165.0",
         "24189.0",
         "382.0",
         "1532.0",
         "229.0",
         "165.0",
         "126.0",
         "565.0",
         "105.0",
         "234.0",
         "8868.0",
         "8553.0",
         "79.0",
         "22911.0",
         "4083.0",
         "2214.0",
         "27.0",
         "228.0",
         "29900.0",
         "265.0",
         "206.0",
         null,
         "52.0",
         "141.0",
         "2884.0",
         "50.0",
         "76.0",
         "12038.0",
         "11061.0",
         "277.0",
         null,
         "5004.0",
         "243.0",
         "89.0",
         "8424.0",
         "91.0",
         "329.0",
         "14.0",
         "339.0",
         "1709.0",
         "320.0",
         "1735.0",
         "6262.0",
         "12249.0",
         "0.0",
         "215.0",
         "20594.0",
         "145.0",
         "108.0",
         null,
         "467.0",
         "164.0",
         "11746.0",
         "15187.0",
         "134.0",
         "322.0",
         "366.0",
         "13.0",
         "78.0",
         "8844.0",
         "274.0",
         "372.0",
         "346.0",
         null,
         null,
         "365.0",
         "23.0",
         "23271.0",
         "35190.0",
         "101.0",
         "128.0",
         "25836.0",
         "322.0",
         "235.0",
         "15566.0",
         "387.0",
         "300.0",
         "130.0",
         "225.0",
         "221.0",
         "2587.0",
         "169.0",
         "75.0",
         "291.0",
         "26.0",
         "7992.0",
         "1261.0",
         "92.0",
         "246.0",
         "141.0",
         "5693.0",
         "76.0",
         "94.0",
         "295.0",
         "1642.0",
         "161.0",
         "61.0",
         "13.0",
         "232.0",
         "182.0",
         "332.0",
         "1855.0",
         "7238.0",
         "476.0",
         "122.0",
         "147.0",
         "7031.0",
         "143.0",
         "344.0",
         "196.0",
         "6.0",
         "17090.0",
         "284.0",
         "225.0",
         "270.0",
         "628.0",
         "200.0",
         "305.0",
         "17558.0",
         "172.0",
         "381.0",
         "236.0",
         "82.0",
         "325.0",
         "291.0",
         null,
         "6307.0",
         "122.0",
         "48.0",
         null,
         "12889.0",
         "271.0",
         "177.0",
         "10.0",
         "220.0",
         "35.0",
         "83.0",
         "8235.0",
         "15780.0",
         "118.0",
         "2907.0",
         "2428.0",
         "101.0",
         "1333.0",
         "47.0",
         "19778.0",
         "124.0",
         "15574.0",
         "228.0",
         "263.0",
         "125.0",
         "251.0",
         "2307.0",
         "24355.0",
         "22.0",
         "15626.0",
         "9.0",
         "7134.0",
         "20066.0",
         "2029.0",
         "19289.0",
         "256.0",
         "491.0",
         "1621.0",
         "19982.0",
         "21742.0",
         "91.0",
         "1514.0",
         "9434.0",
         "4431.0",
         "15983.0",
         "307.0",
         "220.0",
         "18195.0",
         "3436.0",
         "19.0",
         "7300.0",
         "292.0",
         "308.0",
         "88.0",
         "37.0",
         "10056.0",
         "184.0",
         "409.0",
         "307.0",
         "216.0",
         "19650.0",
         "5775.0",
         "80.0",
         "127.0",
         "22.0",
         "326.0",
         "164.0",
         "174.0",
         "136.0",
         "120.0",
         "6645.0",
         "1406.0",
         "1356.0",
         "1415.0",
         "318.0",
         "61.0",
         "251.0",
         "12663.0",
         "105.0",
         "365.0",
         "220.0",
         "168.0",
         "254.0",
         "274.0",
         "12125.0",
         "284.0",
         "15836.0",
         "216.0",
         "2820.0",
         "164.0",
         "93.0",
         "4133.0",
         "15699.0",
         "485.0",
         "3698.0",
         null,
         "143.0",
         "51.0",
         "122.0",
         "4697.0",
         "138.0",
         "252.0",
         "152.0",
         "2972.0",
         "289.0",
         "264.0",
         "223.0",
         "846.0",
         "248.0",
         "111.0",
         "504.0",
         "23273.0",
         "55.0",
         "250.0",
         "101.0",
         "47.0",
         "111.0",
         "159.0",
         "211.0",
         "336.0",
         "173.0",
         "239.0",
         "174.0",
         "74.0",
         null,
         "19516.0",
         "104.0",
         "161.0",
         "299.0",
         "187.0",
         "4.0",
         "7811.0",
         "18.0",
         "119.0",
         "4052.0",
         "2159.0",
         "21.0",
         "404.0",
         "217.0",
         "23.0",
         "3931.0",
         "476.0",
         "133.0",
         "136.0",
         "206.0",
         "396.0",
         "140.0",
         "175.0",
         "177.0",
         "101.0",
         "309.0",
         "5792.0",
         "1287.0",
         "186.0",
         "2419.0",
         "113.0",
         "330.0",
         "119.0",
         "113.0",
         "217.0",
         "250.0",
         "39.0",
         "1203.0",
         "196.0",
         "4798.0",
         "185.0",
         "4.0",
         "23305.0",
         "213.0",
         "4386.0",
         "250.0",
         "452.0",
         "381.0",
         "1126.0",
         "226.0",
         "8775.0",
         "255.0",
         "165.0",
         "12794.0",
         "11088.0",
         "17.0",
         "574.0",
         "2827.0",
         "386.0",
         "1772.0",
         "9117.0",
         "203.0",
         null,
         "82.0",
         null,
         "7287.0",
         "270.0",
         "304.0",
         "5103.0",
         "15729.0",
         "13298.0",
         "247.0",
         "25855.0",
         "244.0",
         "25108.0",
         "13952.0",
         "115.0",
         "66.0",
         "533.0",
         "70.0",
         "248.0",
         "21285.0",
         "27477.0",
         "268.0",
         "3854.0",
         "204.0",
         "212.0",
         "12532.0",
         "203.0",
         "2211.0",
         "2030.0",
         "25024.0",
         "350.0",
         "19759.0",
         "11505.0",
         "3032.0",
         "70.0",
         "329.0",
         "20585.0",
         "413.0",
         "204.0",
         "2094.0",
         "4781.0",
         "10835.0",
         "367.0",
         "309.0",
         "139.0",
         "229.0",
         "19268.0",
         "170.0",
         "315.0",
         "249.0",
         "313.0",
         null,
         "9335.0",
         "3979.0",
         "16563.0",
         "122.0",
         "13853.0",
         "244.0",
         "114.0",
         "273.0",
         "87.0",
         "219.0",
         null,
         "3",
         "2455"
        ],
        [
         "3",
         "3.0",
         "135.0",
         "47.0",
         "14945.0",
         "432.0",
         "239.0",
         "224.0",
         "3020.0",
         "2958.0",
         "69.0",
         "36.0",
         "131.0",
         "423.0",
         "47.0",
         "37.0",
         "1392.0",
         "280.0",
         "14387.0",
         "121.0",
         "343.0",
         "36.0",
         "185.0",
         "11070.0",
         "205.0",
         "5861.0",
         "184.0",
         "164.0",
         "1384.0",
         "188.0",
         "423.0",
         "15253.0",
         "4972.0",
         "294.0",
         "499.0",
         "1850.0",
         "201.0",
         "441.0",
         "2019.0",
         "2261.0",
         "311.0",
         "79.0",
         "79.0",
         "34.0",
         "12.0",
         "86.0",
         "23335.0",
         "91.0",
         "197.0",
         "21054.0",
         "64.0",
         "16.0",
         "126.0",
         "1571.0",
         "12716.0",
         "261.0",
         "558.0",
         null,
         "7631.0",
         "237.0",
         "331.0",
         "117.0",
         "278.0",
         "388.0",
         "1647.0",
         null,
         "177.0",
         "18972.0",
         "8481.0",
         "46.0",
         "24.0",
         "399.0",
         "233.0",
         "116.0",
         "117.0",
         "1588.0",
         "48.0",
         null,
         null,
         null,
         "122.0",
         "154.0",
         "91.0",
         "18.0",
         "1032.0",
         "119.0",
         "306.0",
         "180.0",
         "19.0",
         "17596.0",
         "8856.0",
         "142.0",
         "6606.0",
         "86.0",
         "336.0",
         "43.0",
         "6131.0",
         "287.0",
         "19033.0",
         "47.0",
         "8.0",
         "76.0",
         "116.0",
         "124.0",
         "152.0",
         "132.0",
         "14442.0",
         "25823.0",
         null,
         "464.0",
         "63.0",
         "316.0",
         "19833.0",
         "4880.0",
         "38.0",
         "4380.0",
         "1294.0",
         "603.0",
         "210.0",
         "59.0",
         "4655.0",
         "1897.0",
         null,
         "355.0",
         "105.0",
         "66.0",
         "257.0",
         "732.0",
         "338.0",
         "99.0",
         "69.0",
         "263.0",
         "1450.0",
         "21.0",
         "17361.0",
         "38.0",
         "292.0",
         "128.0",
         "9719.0",
         "65.0",
         "93.0",
         "307.0",
         null,
         "283.0",
         "266.0",
         "128.0",
         "10894.0",
         "402.0",
         "256.0",
         "171.0",
         "451.0",
         "198.0",
         "100.0",
         "151.0",
         "4625.0",
         "21121.0",
         "555.0",
         "10682.0",
         "2823.0",
         "244.0",
         "182.0",
         "181.0",
         "121.0",
         "141.0",
         "5256.0",
         "135.0",
         "32897.0",
         "262.0",
         "395.0",
         "6663.0",
         "55.0",
         "2733.0",
         "178.0",
         "2406.0",
         "229.0",
         "303.0",
         null,
         "314.0",
         "14531.0",
         "1497.0",
         "13536.0",
         "6534.0",
         "57.0",
         "32.0",
         "422.0",
         "336.0",
         "612.0",
         null,
         "141.0",
         "18142.0",
         "2395.0",
         "67.0",
         "305.0",
         "1753.0",
         "533.0",
         "165.0",
         "5246.0",
         "94.0",
         "28973.0",
         "186.0",
         "852.0",
         "71.0",
         "9253.0",
         "529.0",
         "69.0",
         "1318.0",
         "340.0",
         "129.0",
         "228.0",
         "127.0",
         "117.0",
         "15663.0",
         "484.0",
         "1669.0",
         "287.0",
         "305.0",
         "305.0",
         "141.0",
         "26837.0",
         "331.0",
         "10598.0",
         "4017.0",
         "15474.0",
         "24059.0",
         "29171.0",
         "99.0",
         "227.0",
         "9968.0",
         "145.0",
         "1674.0",
         null,
         "44.0",
         "289.0",
         "361.0",
         "216.0",
         "109.0",
         "265.0",
         "115.0",
         "15751.0",
         "1212.0",
         "7249.0",
         "19005.0",
         "422.0",
         "213.0",
         "4755.0",
         "300.0",
         "6555.0",
         "246.0",
         "7.0",
         "261.0",
         "652.0",
         "7738.0",
         "6186.0",
         "204.0",
         "9.0",
         "268.0",
         "170.0",
         "18.0",
         "2581.0",
         "7497.0",
         "53.0",
         "165.0",
         "28256.0",
         "63.0",
         "30.0",
         "267.0",
         "181.0",
         "14.0",
         "283.0",
         "247.0",
         "13943.0",
         "121.0",
         "252.0",
         "269.0",
         "303.0",
         "43.0",
         "120.0",
         "56.0",
         "50.0",
         "351.0",
         "15032.0",
         "19611.0",
         "262.0",
         "2740.0",
         null,
         null,
         "111.0",
         "348.0",
         "1387.0",
         "7243.0",
         "217.0",
         "8.0",
         "437.0",
         "428.0",
         null,
         "378.0",
         "21940.0",
         "17.0",
         "3863.0",
         "10002.0",
         "83.0",
         "139.0",
         "79.0",
         "17542.0",
         "4346.0",
         "1399.0",
         "223.0",
         "7390.0",
         "274.0",
         "283.0",
         "17538.0",
         "163.0",
         "292.0",
         "194.0",
         "150.0",
         "366.0",
         "62.0",
         "138.0",
         "50.0",
         "14497.0",
         "22482.0",
         "2728.0",
         "371.0",
         "133.0",
         "23.0",
         "160.0",
         "29.0",
         "281.0",
         "7598.0",
         "304.0",
         "464.0",
         "19100.0",
         "506.0",
         "335.0",
         "22013.0",
         "1557.0",
         "313.0",
         "4968.0",
         "76.0",
         "22223.0",
         "372.0",
         "17.0",
         "1720.0",
         "4251.0",
         "14948.0",
         "131.0",
         "83.0",
         "208.0",
         "751.0",
         null,
         "2740.0",
         "45.0",
         "1513.0",
         "2379.0",
         "27221.0",
         "13401.0",
         "62.0",
         "179.0",
         "1113.0",
         "14046.0",
         "13218.0",
         "340.0",
         "427.0",
         "124.0",
         "22.0",
         "123.0",
         "149.0",
         "78.0",
         "3018.0",
         "20500.0",
         "66.0",
         "151.0",
         "28.0",
         null,
         "1862.0",
         "124.0",
         "324.0",
         "160.0",
         "95.0",
         "624.0",
         "70.0",
         "14209.0",
         "592.0",
         "166.0",
         "45.0",
         "30763.0",
         "189.0",
         "362.0",
         "3351.0",
         "293.0",
         "229.0",
         "269.0",
         "350.0",
         "3375.0",
         "219.0",
         "920.0",
         "249.0",
         "10875.0",
         "360.0",
         "22.0",
         "68.0",
         "99.0",
         "83.0",
         "89.0",
         null,
         "486.0",
         "9293.0",
         "3200.0",
         "30218.0",
         "252.0",
         "4336.0",
         "245.0",
         "456.0",
         "81.0",
         "12562.0",
         "121.0",
         "13458.0",
         "34985.0",
         "272.0",
         "143.0",
         "254.0",
         "1664.0",
         "72.0",
         "76.0",
         "20.0",
         "48.0",
         "253.0",
         "127.0",
         "13638.0",
         "49.0",
         "12.0",
         "18948.0",
         "37.0",
         "3950.0",
         "318.0",
         "48.0",
         "311.0",
         "518.0",
         "4.0",
         "5969.0",
         "200.0",
         "105.0",
         "15336.0",
         "26089.0",
         "2045.0",
         "81.0",
         "7930.0",
         "1344.0",
         "360.0",
         "7332.0",
         "380.0",
         "4716.0",
         "28.0",
         "1463.0",
         "172.0",
         "318.0",
         "321.0",
         "343.0",
         "349.0",
         "356.0",
         "287.0",
         "16.0",
         "279.0",
         "206.0",
         "260.0",
         "1357.0",
         "1294.0",
         "39.0",
         "38.0",
         "568.0",
         "327.0",
         "3481.0",
         "115.0",
         "39.0",
         "3241.0",
         "165.0",
         "49.0",
         "13729.0",
         "200.0",
         "69.0",
         "112.0",
         "198.0",
         "158.0",
         "538.0",
         "207.0",
         "206.0",
         "301.0",
         "391.0",
         "13677.0",
         "68.0",
         "37.0",
         "64.0",
         "71.0",
         "93.0",
         "156.0",
         "286.0",
         "3611.0",
         "139.0",
         "268.0",
         "239.0",
         "138.0",
         null,
         "6292.0",
         null,
         "167.0",
         "151.0",
         "20782.0",
         "218.0",
         "121.0",
         "519.0",
         "396.0",
         "4142.0",
         "172.0",
         "155.0",
         "65.0",
         null,
         "276.0",
         "1647.0",
         "3645.0",
         "145.0",
         "241.0",
         "202.0",
         "221.0",
         "2819.0",
         "1954.0",
         "1246.0",
         "1657.0",
         "185.0",
         "1638.0",
         "1493.0",
         "54.0",
         "10.0",
         null,
         "5896.0",
         "190.0",
         "181.0",
         "101.0",
         "232.0",
         "261.0",
         "1150.0",
         "9441.0",
         "224.0",
         "4171.0",
         "469.0",
         "247.0",
         "92.0",
         "21271.0",
         "10.0",
         "45.0",
         "301.0",
         "248.0",
         "32.0",
         "3249.0",
         "13839.0",
         "622.0",
         "1634.0",
         "1483.0",
         "65.0",
         "270.0",
         "135.0",
         "2367.0",
         "377.0",
         null,
         "2561.0",
         "199.0",
         "200.0",
         "16900.0",
         "188.0",
         "309.0",
         "35.0",
         "132.0",
         "22191.0",
         "154.0",
         "18508.0",
         "96.0",
         "2132.0",
         "171.0",
         "3310.0",
         "90.0",
         "324.0",
         "83.0",
         "168.0",
         "14526.0",
         "2872.0",
         "15.0",
         "20348.0",
         "5699.0",
         "67.0",
         "215.0",
         "29.0",
         "2716.0",
         "385.0",
         "173.0",
         "28.0",
         "6568.0",
         "178.0",
         "23342.0",
         "370.0",
         "18324.0",
         "184.0",
         "2524.0",
         "120.0",
         "277.0",
         "19159.0",
         "237.0",
         "6685.0",
         "500.0",
         "19728.0",
         "304.0",
         "30.0",
         "319.0",
         "328.0",
         "5754.0",
         "173.0",
         "232.0",
         "1642.0",
         "23503.0",
         "233.0",
         "448.0",
         null,
         "13820.0",
         "60.0",
         "6279.0",
         "255.0",
         "23522.0",
         "232.0",
         "306.0",
         "217.0",
         "53.0",
         "170.0",
         "280.0",
         "89.0",
         "138.0",
         "198.0",
         "246.0",
         "88.0",
         "14276.0",
         "353.0",
         "72.0",
         "2798.0",
         "298.0",
         "10.0",
         "108.0",
         "8840.0",
         "224.0",
         "303.0",
         "170.0",
         "37.0",
         null,
         "296.0",
         "415.0",
         "93.0",
         "118.0",
         "14709.0",
         "71.0",
         "40.0",
         "14480.0",
         "220.0",
         "1412.0",
         "79.0",
         "358.0",
         "299.0",
         "143.0",
         "10893.0",
         "14742.0",
         "5144.0",
         "69.0",
         "205.0",
         "39.0",
         "261.0",
         "82.0",
         "9579.0",
         "195.0",
         "378.0",
         "24004.0",
         "6506.0",
         "1284.0",
         "895.0",
         "1889.0",
         "55.0",
         "275.0",
         "299.0",
         "21.0",
         "208.0",
         "30.0",
         "188.0",
         "10905.0",
         "181.0",
         "1164.0",
         "126.0",
         "9405.0",
         "153.0",
         "23538.0",
         null,
         "16.0",
         "117.0",
         "1226.0",
         "117.0",
         "4509.0",
         "10824.0",
         "248.0",
         "98.0",
         "129.0",
         "9998.0",
         "48.0",
         "304.0",
         "248.0",
         "219.0",
         "10690.0",
         "263.0",
         "214.0",
         "558.0",
         null,
         "45.0",
         "12798.0",
         "154.0",
         "253.0",
         "320.0",
         "18.0",
         "4917.0",
         "241.0",
         "19676.0",
         "66.0",
         "197.0",
         "11871.0",
         "17.0",
         "10048.0",
         "26210.0",
         "97.0",
         "358.0",
         "242.0",
         null,
         "12462.0",
         "3575.0",
         "145.0",
         "165.0",
         "10095.0",
         "6627.0",
         "4390.0",
         "340.0",
         "23361.0",
         "33.0",
         "280.0",
         "3085.0",
         "236.0",
         "2821.0",
         "29.0",
         "362.0",
         "32.0",
         "297.0",
         "32570.0",
         "25116.0",
         "272.0",
         "222.0",
         "12458.0",
         "262.0",
         "9.0",
         "20119.0",
         "60.0",
         "1635.0",
         "159.0",
         "47.0",
         "27.0",
         "238.0",
         "347.0",
         "18642.0",
         "85.0",
         "143.0",
         "206.0",
         "154.0",
         "13039.0",
         "34.0",
         "51.0",
         "16160.0",
         "47.0",
         "290.0",
         "91.0",
         "359.0",
         "110.0",
         "3130.0",
         "300.0",
         "4844.0",
         null,
         "268.0",
         "439.0",
         "163.0",
         "29.0",
         "1545.0",
         "218.0",
         "249.0",
         "223.0",
         "8189.0",
         "216.0",
         "113.0",
         "202.0",
         "1139.0",
         "375.0",
         "20604.0",
         "117.0",
         "10.0",
         "114.0",
         "208.0",
         "167.0",
         "17838.0",
         "52.0",
         "335.0",
         "13027.0",
         "301.0",
         "184.0",
         "141.0",
         "419.0",
         "13183.0",
         "341.0",
         "253.0",
         "7.0",
         "4128.0",
         "166.0",
         "253.0",
         "21142.0",
         "70.0",
         "19226.0",
         "14519.0",
         null,
         "21.0",
         "105.0",
         "2032.0",
         "65.0",
         "226.0",
         "80.0",
         "18620.0",
         "4308.0",
         "316.0",
         "363.0",
         "157.0",
         "33936.0",
         "190.0",
         "4458.0",
         "251.0",
         "2041.0",
         null,
         "495.0",
         "4518.0",
         "26765.0",
         "2310.0",
         "951.0",
         "193.0",
         "11289.0",
         "6005.0",
         "1793.0",
         "153.0",
         "10236.0",
         "167.0",
         "179.0",
         "136.0",
         "255.0",
         "152.0",
         "316.0",
         "19.0",
         "243.0",
         "166.0",
         "410.0",
         "343.0",
         "150.0",
         "333.0",
         "350.0",
         "1935.0",
         "257.0",
         "318.0",
         "350.0",
         "1461.0",
         "72.0",
         null,
         null,
         "125.0",
         "151.0",
         "56.0",
         "156.0",
         "31015.0",
         "4084.0",
         "16641.0",
         "114.0",
         "10248.0",
         "241.0",
         null,
         "2354.0",
         "236.0",
         "224.0",
         "245.0",
         "26267.0",
         "11.0",
         "202.0",
         "153.0",
         "763.0",
         "346.0",
         "117.0",
         "95.0",
         "8211.0",
         null,
         "419.0",
         "152.0",
         "244.0",
         "417.0",
         "18936.0",
         "309.0",
         "9.0",
         "193.0",
         "91.0",
         "256.0",
         "117.0",
         "63.0",
         "170.0",
         "107.0",
         null,
         "283.0",
         "2737.0",
         "6665.0",
         "2166.0",
         "329.0",
         "98.0",
         "344.0",
         "20.0",
         "179.0",
         "16305.0",
         "306.0",
         "16196.0",
         "117.0",
         "21.0",
         "95.0",
         "341.0",
         "285.0",
         "40.0",
         "187.0",
         "25643.0",
         "22207.0",
         "530.0",
         "96.0",
         "14358.0",
         "10.0",
         "45.0",
         "44.0",
         "240.0",
         "25.0",
         "43.0",
         "201.0",
         "239.0",
         "241.0",
         "250.0",
         "25600.0",
         "315.0",
         "10064.0",
         "10193.0",
         "19.0",
         "198.0",
         "103.0",
         "2794.0",
         "117.0",
         "22676.0",
         "12690.0",
         "1416.0",
         "554.0",
         "3426.0",
         "28660.0",
         "334.0",
         "5797.0",
         "308.0",
         "142.0",
         "14361.0",
         "461.0",
         "72.0",
         "10215.0",
         "393.0",
         "2001.0",
         "71.0",
         "108.0",
         "79.0",
         "225.0",
         "11329.0",
         "10852.0",
         "11387.0",
         "16743.0",
         "241.0",
         "239.0",
         "28639.0",
         "1910.0",
         "6.0",
         null,
         "3.0",
         "216.0",
         "986.0",
         "102.0",
         "9318.0",
         "1459.0",
         "204.0",
         "20341.0",
         "148.0",
         "1887.0",
         "4521.0",
         "345.0",
         "332.0",
         "253.0",
         "394.0",
         "21218.0",
         "241.0",
         "263.0",
         "82.0",
         "16.0",
         "15515.0",
         "3975.0",
         "13.0",
         "77.0",
         "428.0",
         "750.0",
         "778.0",
         "23.0",
         "1654.0",
         "84.0",
         "387.0",
         "10509.0",
         "7834.0",
         "18.0",
         "258.0",
         "8867.0",
         "323.0",
         "4.0",
         "1038.0",
         "407.0",
         "13368.0",
         "178.0",
         "301.0",
         "8716.0",
         "3.0",
         "17547.0",
         "149.0",
         "126.0",
         "214.0",
         "1521.0",
         "808.0",
         "1738.0",
         "140.0",
         "752.0",
         "3467.0",
         "24257.0",
         "136.0",
         "215.0",
         "4184.0",
         "246.0",
         "12866.0",
         "284.0",
         "299.0",
         "11759.0",
         "80.0",
         "831.0",
         "13564.0",
         "3687.0",
         "512.0",
         "213.0",
         "1929.0",
         "191.0",
         "233.0",
         "71.0",
         "165.0",
         "2044.0",
         "103.0",
         "328.0",
         "151.0",
         "1622.0",
         "281.0",
         "237.0",
         "289.0",
         "103.0",
         "13.0",
         "151.0",
         "280.0",
         "14574.0",
         "18858.0",
         "9262.0",
         "93.0",
         "420.0",
         "67.0",
         "77.0",
         "213.0",
         "247.0",
         "129.0",
         "168.0",
         "8603.0",
         "342.0",
         "20248.0",
         "17724.0",
         "272.0",
         "114.0",
         "83.0",
         "8316.0",
         "1349.0",
         "3.0",
         "85.0",
         "178.0",
         "257.0",
         "43.0",
         "283.0",
         "20868.0",
         null,
         "162.0",
         "228.0",
         "91.0",
         "372.0",
         "186.0",
         "48.0",
         "355.0",
         "43.0",
         "65.0",
         "9214.0",
         "1691.0",
         "103.0",
         "224.0",
         "17028.0",
         "345.0",
         "72.0",
         "219.0",
         "3155.0",
         "3491.0",
         "19010.0",
         "226.0",
         "17350.0",
         "222.0",
         "81.0",
         "149.0",
         "174.0",
         "21042.0",
         "653.0",
         "183.0",
         "178.0",
         "1888.0",
         "21943.0",
         "105.0",
         "176.0",
         "266.0",
         "93.0",
         "29080.0",
         "19380.0",
         "147.0",
         "263.0",
         "134.0",
         "19775.0",
         "17458.0",
         "266.0",
         "143.0",
         "193.0",
         "129.0",
         "15.0",
         "430.0",
         "59.0",
         "85.0",
         "432.0",
         "9221.0",
         "175.0",
         "51.0",
         "200.0",
         "1162.0",
         null,
         "13597.0",
         "205.0",
         "105.0",
         "194.0",
         "262.0",
         "3500.0",
         "222.0",
         "10038.0",
         "148.0",
         "100.0",
         "223.0",
         null,
         "277.0",
         "105.0",
         "20160.0",
         "12693.0",
         "27.0",
         "2956.0",
         "63.0",
         "193.0",
         "129.0",
         "478.0",
         "78.0",
         "8740.0",
         "14492.0",
         "462.0",
         "20459.0",
         "464.0",
         "54.0",
         "197.0",
         "293.0",
         "2260.0",
         "48.0",
         "7371.0",
         "164.0",
         "97.0",
         "352.0",
         "14983.0",
         "185.0",
         "389.0",
         "49.0",
         "113.0",
         "276.0",
         "67.0",
         "1162.0",
         "1685.0",
         "304.0",
         "74.0",
         "295.0",
         null,
         "11659.0",
         "124.0",
         "123.0",
         null,
         null,
         "77.0",
         "6244.0",
         "446.0",
         "464.0",
         "154.0",
         "106.0",
         "194.0",
         "199.0",
         "256.0",
         "4122.0",
         "9153.0",
         "201.0",
         "2765.0",
         "304.0",
         "950.0",
         "16071.0",
         "205.0",
         "203.0",
         "49.0",
         "28.0",
         "251.0",
         "325.0",
         "30.0",
         "80.0",
         "2167.0",
         "26262.0",
         "93.0",
         "24605.0",
         "5480.0",
         "66.0",
         "228.0",
         "1385.0",
         "7232.0",
         "73.0",
         "6897.0",
         "49.0",
         "7495.0",
         "154.0",
         "75.0",
         "68.0",
         "342.0",
         "266.0",
         "132.0",
         "258.0",
         "1975.0",
         "13846.0",
         null,
         "770.0",
         "166.0",
         null,
         "6656.0",
         "649.0",
         "2540.0",
         "12623.0",
         "21312.0",
         "260.0",
         "19.0",
         "60.0",
         "1748.0",
         null,
         "359.0",
         "122.0",
         "14844.0",
         "54.0",
         "344.0",
         "176.0",
         "1013.0",
         "141.0",
         "89.0",
         "93.0",
         "18656.0",
         "13883.0",
         "285.0",
         "75.0",
         "109.0",
         "1772.0",
         "309.0",
         "2768.0",
         "259.0",
         "48.0",
         "84.0",
         "617.0",
         "222.0",
         "274.0",
         "284.0",
         "2782.0",
         "171.0",
         null,
         "121.0",
         "2253.0",
         "28.0",
         "12080.0",
         "234.0",
         "102.0",
         "1017.0",
         "67.0",
         "3446.0",
         "21.0",
         "439.0",
         null,
         "44.0",
         "445.0",
         "898.0",
         "887.0",
         "65.0",
         null,
         "224.0",
         "91.0",
         "202.0",
         "12630.0",
         "348.0",
         "10592.0",
         "6.0",
         "159.0",
         "25.0",
         "23.0",
         "9.0",
         "2987.0",
         null,
         "112.0",
         "100.0",
         "13836.0",
         "111.0",
         "147.0",
         null,
         "36.0",
         "125.0",
         "191.0",
         "33.0",
         "2785.0",
         "28.0",
         "141.0",
         "393.0",
         "145.0",
         "16893.0",
         "883.0",
         "119.0",
         "72.0",
         "275.0",
         "317.0",
         "225.0",
         "60.0",
         "209.0",
         "134.0",
         null,
         "183.0",
         "77.0",
         "117.0",
         null,
         "258.0",
         "17.0",
         "192.0",
         "8401.0",
         "8613.0",
         "2467.0",
         "128.0",
         null,
         "380.0",
         "14.0",
         "185.0",
         "243.0",
         "164.0",
         "72.0",
         "1697.0",
         "98.0",
         "388.0",
         "166.0",
         "12327.0",
         "8011.0",
         "5776.0",
         "415.0",
         null,
         "16584.0",
         "21622.0",
         "175.0",
         "9253.0",
         "85.0",
         "10388.0",
         "137.0",
         "102.0",
         "108.0",
         "25.0",
         "326.0",
         "69.0",
         "1334.0",
         "527.0",
         "55.0",
         "30.0",
         "12259.0",
         "143.0",
         "361.0",
         "248.0",
         "128.0",
         "306.0",
         "333.0",
         "8368.0",
         "13755.0",
         "47.0",
         "312.0",
         "223.0",
         null,
         "148.0",
         "289.0",
         "295.0",
         "309.0",
         "78.0",
         "76.0",
         null,
         "150.0",
         "11826.0",
         "199.0",
         "351.0",
         "122.0",
         "266.0",
         "14.0",
         "100.0",
         "221.0",
         "2805.0",
         "69.0",
         "281.0",
         "383.0",
         "46.0",
         "366.0",
         "478.0",
         "9512.0",
         "2424.0",
         "167.0",
         "111.0",
         "229.0",
         "107.0",
         "13.0",
         "11.0",
         "10714.0",
         "138.0",
         "6439.0",
         "4191.0",
         "816.0",
         "6573.0",
         null,
         "325.0",
         "148.0",
         "2686.0",
         "69.0",
         null,
         "9031.0",
         "72.0",
         null,
         "410.0",
         "269.0",
         "31039.0",
         "13651.0",
         null,
         "120.0",
         "273.0",
         "78.0",
         "94.0",
         "122.0",
         "394.0",
         "48.0",
         "9653.0",
         "10250.0",
         "34.0",
         "382.0",
         "98.0",
         "17066.0",
         "25044.0",
         "20844.0",
         "4352.0",
         "400.0",
         "1638.0",
         "4490.0",
         "3314.0",
         "20.0",
         "287.0",
         "8576.0",
         "238.0",
         "446.0",
         "389.0",
         "77.0",
         "68.0",
         null,
         "226.0",
         "490.0",
         "264.0",
         "601.0",
         "6699.0",
         "8445.0",
         "172.0",
         "186.0",
         "10473.0",
         "375.0",
         "174.0",
         "16862.0",
         "116.0",
         "88.0",
         "151.0",
         "893.0",
         "13757.0",
         "40.0",
         "1349.0",
         "445.0",
         null,
         "373.0",
         "17829.0",
         "54.0",
         "6064.0",
         "9108.0",
         "6093.0",
         "645.0",
         null,
         "687.0",
         "145.0",
         "147.0",
         "8.0",
         "14407.0",
         "139.0",
         "24880.0",
         "1734.0",
         "347.0",
         "11276.0",
         "393.0",
         "117.0",
         "102.0",
         "42.0",
         "3380.0",
         "199.0",
         null,
         "412.0",
         "305.0",
         "2620.0",
         "17.0",
         "39.0",
         "112.0",
         "65.0",
         "128.0",
         "149.0",
         "137.0",
         "2456.0",
         "172.0",
         "89.0",
         "22884.0",
         "223.0",
         "9.0",
         "11107.0",
         "8127.0",
         "409.0",
         "127.0",
         "17449.0",
         "14013.0",
         null,
         "18427.0",
         "615.0",
         "210.0",
         "100.0",
         "17581.0",
         "5176.0",
         "350.0",
         "2309.0",
         "88.0",
         "22110.0",
         "22.0",
         "114.0",
         "42.0",
         "128.0",
         null,
         "2511.0",
         "356.0",
         "153.0",
         "340.0",
         "12527.0",
         "1165.0",
         "360.0",
         "343.0",
         "3786.0",
         "2679.0",
         "419.0",
         "12068.0",
         "87.0",
         "282.0",
         null,
         null,
         "8.0",
         "94.0",
         "1836.0",
         "185.0",
         "12180.0",
         "266.0",
         "158.0",
         "299.0",
         "323.0",
         "137.0",
         "7124.0",
         "9.0",
         "131.0",
         "9431.0",
         "5.0",
         "125.0",
         "410.0",
         "202.0",
         null,
         "749.0",
         "270.0",
         "1936.0",
         "1567.0",
         "312.0",
         null,
         "46.0",
         "128.0",
         "10392.0",
         "49.0",
         "2945.0",
         "132.0",
         "29235.0",
         "311.0",
         "1215.0",
         "135.0",
         "230.0",
         "116.0",
         "375.0",
         "85.0",
         "160.0",
         "6425.0",
         "15087.0",
         "117.0",
         "27147.0",
         "4484.0",
         "1667.0",
         "24.0",
         "393.0",
         null,
         "354.0",
         "417.0",
         "213.0",
         "78.0",
         "193.0",
         "2921.0",
         "36.0",
         "52.0",
         "13692.0",
         "10034.0",
         "150.0",
         "122.0",
         "4127.0",
         "165.0",
         "177.0",
         "11537.0",
         "65.0",
         "286.0",
         "2.0",
         "265.0",
         "914.0",
         "356.0",
         "2621.0",
         "10631.0",
         "10587.0",
         "204.0",
         "143.0",
         "28161.0",
         "132.0",
         "110.0",
         "210.0",
         "424.0",
         "302.0",
         "15936.0",
         "8460.0",
         "115.0",
         "170.0",
         "115.0",
         "6.0",
         "55.0",
         null,
         "213.0",
         "272.0",
         "308.0",
         "326.0",
         "309.0",
         "321.0",
         "20.0",
         "20629.0",
         "17179.0",
         "43.0",
         "103.0",
         "23288.0",
         "304.0",
         "269.0",
         "21773.0",
         "177.0",
         "304.0",
         "157.0",
         "232.0",
         "179.0",
         "3884.0",
         "465.0",
         "112.0",
         "198.0",
         "59.0",
         "8581.0",
         "2186.0",
         "67.0",
         "172.0",
         "117.0",
         "5223.0",
         "103.0",
         "81.0",
         "259.0",
         "1002.0",
         "252.0",
         "77.0",
         "8.0",
         "168.0",
         "186.0",
         "354.0",
         null,
         "9568.0",
         "328.0",
         "117.0",
         "197.0",
         "6464.0",
         "93.0",
         "351.0",
         "430.0",
         "7.0",
         "20744.0",
         "246.0",
         "216.0",
         "308.0",
         "711.0",
         "192.0",
         "395.0",
         "27388.0",
         "238.0",
         "349.0",
         null,
         "238.0",
         "257.0",
         "327.0",
         "569.0",
         "12248.0",
         "183.0",
         "23.0",
         "219.0",
         "16675.0",
         "152.0",
         "387.0",
         "10.0",
         "530.0",
         "23.0",
         "53.0",
         "19333.0",
         "12325.0",
         "82.0",
         "5953.0",
         "2129.0",
         "130.0",
         null,
         "36.0",
         "16035.0",
         "181.0",
         null,
         "138.0",
         "414.0",
         "133.0",
         "206.0",
         "2063.0",
         "25043.0",
         "15.0",
         "19384.0",
         "9.0",
         "4103.0",
         "12796.0",
         "1776.0",
         "13507.0",
         "327.0",
         "391.0",
         "1164.0",
         "22037.0",
         null,
         "179.0",
         "4929.0",
         "8807.0",
         "4766.0",
         "27007.0",
         "314.0",
         "280.0",
         "7826.0",
         "2101.0",
         "22.0",
         "5483.0",
         "294.0",
         "304.0",
         "54.0",
         "58.0",
         "8855.0",
         "234.0",
         "379.0",
         "272.0",
         "261.0",
         "13034.0",
         "6615.0",
         "243.0",
         "138.0",
         "11.0",
         "450.0",
         "191.0",
         "118.0",
         "200.0",
         "71.0",
         "5499.0",
         "1498.0",
         "1573.0",
         "1592.0",
         null,
         "111.0",
         "118.0",
         "9232.0",
         "77.0",
         "380.0",
         "323.0",
         "230.0",
         "305.0",
         "287.0",
         "18814.0",
         "834.0",
         "22289.0",
         "199.0",
         "3515.0",
         "188.0",
         "43.0",
         "4342.0",
         "14940.0",
         "406.0",
         "1907.0",
         "70.0",
         "252.0",
         "85.0",
         "231.0",
         "6694.0",
         "80.0",
         "198.0",
         "186.0",
         "2193.0",
         "105.0",
         "355.0",
         "179.0",
         "1135.0",
         "176.0",
         "216.0",
         "515.0",
         "21671.0",
         "178.0",
         "283.0",
         "170.0",
         "45.0",
         "153.0",
         "101.0",
         "165.0",
         "110.0",
         "74.0",
         "291.0",
         "200.0",
         "29.0",
         "291.0",
         "14414.0",
         "248.0",
         "156.0",
         "195.0",
         "124.0",
         "12.0",
         "11880.0",
         "17.0",
         "164.0",
         "2642.0",
         "2588.0",
         "21.0",
         "260.0",
         "258.0",
         "31.0",
         "6184.0",
         "110.0",
         "151.0",
         "175.0",
         "239.0",
         "193.0",
         "123.0",
         "70.0",
         "264.0",
         "158.0",
         "192.0",
         "7354.0",
         null,
         "137.0",
         "1692.0",
         "158.0",
         "277.0",
         "123.0",
         "87.0",
         "251.0",
         "279.0",
         "58.0",
         "811.0",
         "133.0",
         "5279.0",
         "360.0",
         "8.0",
         "17806.0",
         "221.0",
         "22238.0",
         "333.0",
         "419.0",
         "232.0",
         "893.0",
         "321.0",
         "14350.0",
         null,
         "279.0",
         "4404.0",
         "10489.0",
         "34.0",
         "367.0",
         "2162.0",
         "371.0",
         "2533.0",
         "8300.0",
         "315.0",
         "145.0",
         "143.0",
         "217.0",
         "7298.0",
         "164.0",
         "305.0",
         "3198.0",
         "12467.0",
         "18320.0",
         null,
         "16276.0",
         "261.0",
         "18752.0",
         "9109.0",
         "153.0",
         "135.0",
         "422.0",
         "143.0",
         "303.0",
         "13878.0",
         null,
         "304.0",
         "4766.0",
         "196.0",
         "302.0",
         "9414.0",
         "246.0",
         "1800.0",
         "1037.0",
         "10867.0",
         "388.0",
         "21315.0",
         "9468.0",
         "2117.0",
         "40.0",
         "471.0",
         "18900.0",
         "378.0",
         "327.0",
         "1329.0",
         "8829.0",
         "11847.0",
         "367.0",
         "289.0",
         "214.0",
         "270.0",
         "16985.0",
         "315.0",
         "174.0",
         "267.0",
         "287.0",
         "431.0",
         "7100.0",
         null,
         "17937.0",
         "50.0",
         "16328.0",
         "289.0",
         null,
         null,
         "98.0",
         "244.0",
         "312.0",
         "3",
         "2457"
        ],
        [
         "4",
         "2.0",
         "69.0",
         "48.0",
         "8758.0",
         "337.0",
         "214.0",
         "358.0",
         null,
         "3388.0",
         "80.0",
         "24.0",
         "83.0",
         "405.0",
         "37.0",
         "50.0",
         "1530.0",
         "261.0",
         "11439.0",
         "93.0",
         "152.0",
         "49.0",
         "204.0",
         "10627.0",
         "186.0",
         "6236.0",
         "126.0",
         "153.0",
         "1068.0",
         "282.0",
         "661.0",
         "17856.0",
         "4971.0",
         "266.0",
         "337.0",
         null,
         "269.0",
         "269.0",
         "1938.0",
         "2379.0",
         "224.0",
         "74.0",
         "50.0",
         "43.0",
         "11.0",
         "134.0",
         "32334.0",
         "23.0",
         "122.0",
         "17946.0",
         "69.0",
         "19.0",
         "210.0",
         "1322.0",
         "21069.0",
         "186.0",
         "266.0",
         "910.0",
         null,
         "248.0",
         "288.0",
         "146.0",
         "213.0",
         "227.0",
         "1561.0",
         "265.0",
         null,
         "24657.0",
         "12067.0",
         "27.0",
         "21.0",
         "217.0",
         "245.0",
         "108.0",
         "142.0",
         "1804.0",
         "60.0",
         "218.0",
         "13416.0",
         "18.0",
         "84.0",
         "276.0",
         "100.0",
         "14.0",
         "1086.0",
         "314.0",
         "264.0",
         "395.0",
         "25.0",
         "15530.0",
         "10711.0",
         "201.0",
         "3425.0",
         "120.0",
         "320.0",
         null,
         "3861.0",
         "281.0",
         "23699.0",
         "56.0",
         "13.0",
         "107.0",
         "94.0",
         "342.0",
         "522.0",
         "174.0",
         "19110.0",
         "8519.0",
         "70.0",
         "503.0",
         "38.0",
         "448.0",
         "29669.0",
         "4542.0",
         "48.0",
         "4757.0",
         "1209.0",
         "518.0",
         "133.0",
         "51.0",
         "6018.0",
         "1846.0",
         "183.0",
         "388.0",
         "222.0",
         "76.0",
         "415.0",
         "1008.0",
         "246.0",
         "70.0",
         "106.0",
         "188.0",
         "732.0",
         "18.0",
         "27570.0",
         "63.0",
         "390.0",
         "142.0",
         "17330.0",
         "87.0",
         "107.0",
         "441.0",
         "4572.0",
         "208.0",
         "245.0",
         null,
         "9052.0",
         "410.0",
         "443.0",
         "158.0",
         "439.0",
         "164.0",
         "130.0",
         "123.0",
         "2369.0",
         "16377.0",
         "1394.0",
         "6538.0",
         null,
         "352.0",
         "175.0",
         "181.0",
         "179.0",
         "150.0",
         "4484.0",
         "309.0",
         "18235.0",
         "262.0",
         "205.0",
         "4475.0",
         "45.0",
         "2731.0",
         "316.0",
         "4132.0",
         "262.0",
         "573.0",
         "3035.0",
         "344.0",
         "17435.0",
         "996.0",
         "12771.0",
         null,
         "35.0",
         "23.0",
         "121.0",
         "260.0",
         "470.0",
         "2787.0",
         "76.0",
         "20449.0",
         "2300.0",
         "60.0",
         "478.0",
         "2646.0",
         "553.0",
         "96.0",
         "5652.0",
         "110.0",
         "25593.0",
         "242.0",
         "913.0",
         "66.0",
         "9537.0",
         "106.0",
         "72.0",
         "1104.0",
         "344.0",
         "65.0",
         "303.0",
         "213.0",
         "177.0",
         "12920.0",
         "494.0",
         null,
         "281.0",
         "279.0",
         "270.0",
         "101.0",
         "19199.0",
         "342.0",
         "18363.0",
         "4561.0",
         "22099.0",
         "19667.0",
         "22485.0",
         "147.0",
         "369.0",
         "13082.0",
         "88.0",
         "1259.0",
         "38.0",
         "17.0",
         "166.0",
         null,
         "327.0",
         "134.0",
         "295.0",
         "168.0",
         "18746.0",
         "866.0",
         "9500.0",
         "17777.0",
         "312.0",
         "241.0",
         "3861.0",
         "313.0",
         "9125.0",
         "286.0",
         "4.0",
         "445.0",
         "762.0",
         "9243.0",
         "18460.0",
         "202.0",
         "18.0",
         "184.0",
         "90.0",
         "20.0",
         "2874.0",
         "6901.0",
         "37.0",
         "165.0",
         "19799.0",
         "26.0",
         "1.0",
         "198.0",
         "355.0",
         "4.0",
         "337.0",
         "208.0",
         "17815.0",
         "157.0",
         "223.0",
         "174.0",
         "291.0",
         "52.0",
         "298.0",
         "130.0",
         "56.0",
         "465.0",
         "15252.0",
         "12001.0",
         "131.0",
         null,
         "9735.0",
         "1646.0",
         "112.0",
         "321.0",
         "1168.0",
         "8478.0",
         "193.0",
         "5.0",
         "224.0",
         "446.0",
         "304.0",
         "228.0",
         "14777.0",
         "26.0",
         "3982.0",
         "9098.0",
         "102.0",
         "132.0",
         "100.0",
         "18585.0",
         "5546.0",
         "962.0",
         "208.0",
         null,
         "314.0",
         "467.0",
         "17022.0",
         "169.0",
         "198.0",
         "232.0",
         "154.0",
         "133.0",
         null,
         "193.0",
         "64.0",
         "14915.0",
         "18961.0",
         null,
         "325.0",
         "246.0",
         "36.0",
         "333.0",
         "235.0",
         "512.0",
         "12249.0",
         "225.0",
         "224.0",
         "20364.0",
         "376.0",
         "358.0",
         "26348.0",
         "1502.0",
         "393.0",
         "7560.0",
         "69.0",
         "10623.0",
         "285.0",
         "16.0",
         "1360.0",
         "2709.0",
         "16106.0",
         "114.0",
         "77.0",
         "213.0",
         "634.0",
         "2006.0",
         "2884.0",
         "89.0",
         "2587.0",
         "2707.0",
         null,
         "15337.0",
         null,
         "169.0",
         "978.0",
         "12562.0",
         "8344.0",
         "399.0",
         "298.0",
         "150.0",
         "35.0",
         "98.0",
         "105.0",
         "56.0",
         "3343.0",
         "15701.0",
         "124.0",
         "167.0",
         "32.0",
         "357.0",
         "1055.0",
         "85.0",
         "228.0",
         "419.0",
         "243.0",
         "558.0",
         "71.0",
         "12857.0",
         "346.0",
         "177.0",
         "44.0",
         "17052.0",
         "209.0",
         "448.0",
         "2891.0",
         "258.0",
         null,
         "197.0",
         "290.0",
         "3698.0",
         "289.0",
         "814.0",
         "295.0",
         "8507.0",
         "405.0",
         "9.0",
         "64.0",
         "104.0",
         "50.0",
         "106.0",
         "2008.0",
         "313.0",
         "5220.0",
         "3115.0",
         "22747.0",
         "203.0",
         "4583.0",
         "129.0",
         "311.0",
         "111.0",
         "14915.0",
         "39.0",
         "13899.0",
         "21306.0",
         "382.0",
         "157.0",
         "328.0",
         "1114.0",
         "70.0",
         "195.0",
         "37.0",
         "40.0",
         "317.0",
         "277.0",
         "9291.0",
         "26.0",
         "8.0",
         "25314.0",
         "34.0",
         "4332.0",
         "130.0",
         "49.0",
         "278.0",
         "455.0",
         "6.0",
         "4863.0",
         "383.0",
         "118.0",
         null,
         "18143.0",
         "1250.0",
         "87.0",
         "13865.0",
         "2266.0",
         "195.0",
         "5252.0",
         "254.0",
         "5194.0",
         "24.0",
         "1802.0",
         "221.0",
         null,
         "209.0",
         "359.0",
         "401.0",
         "275.0",
         "294.0",
         "14.0",
         "338.0",
         "227.0",
         null,
         "2825.0",
         "506.0",
         "7.0",
         "36.0",
         "636.0",
         "261.0",
         "4156.0",
         "138.0",
         "36.0",
         "3111.0",
         "229.0",
         "61.0",
         "20533.0",
         "225.0",
         "39.0",
         "171.0",
         "127.0",
         "155.0",
         "494.0",
         "319.0",
         "291.0",
         "328.0",
         "332.0",
         "15328.0",
         "63.0",
         "26.0",
         "49.0",
         "168.0",
         "86.0",
         "121.0",
         "230.0",
         "3543.0",
         "57.0",
         "175.0",
         "209.0",
         "88.0",
         "251.0",
         "6650.0",
         "309.0",
         "240.0",
         "117.0",
         "20875.0",
         "220.0",
         "53.0",
         "480.0",
         "512.0",
         "4583.0",
         "280.0",
         "313.0",
         "70.0",
         "223.0",
         "251.0",
         "1330.0",
         "2896.0",
         "115.0",
         "140.0",
         "168.0",
         "218.0",
         "2802.0",
         "1695.0",
         "1863.0",
         "1891.0",
         "282.0",
         "1530.0",
         "1419.0",
         "44.0",
         "6.0",
         "160.0",
         "3434.0",
         "161.0",
         "284.0",
         "77.0",
         "213.0",
         "379.0",
         "744.0",
         "7707.0",
         "262.0",
         null,
         "431.0",
         "368.0",
         "98.0",
         "28007.0",
         "9.0",
         "29.0",
         "220.0",
         "311.0",
         "48.0",
         "3812.0",
         "9377.0",
         "992.0",
         "1940.0",
         "3270.0",
         "56.0",
         "215.0",
         "93.0",
         "1602.0",
         "408.0",
         "4107.0",
         "2086.0",
         "183.0",
         "117.0",
         "16709.0",
         "380.0",
         "351.0",
         "15.0",
         "286.0",
         "20980.0",
         "248.0",
         "10551.0",
         "151.0",
         "1706.0",
         "136.0",
         "3014.0",
         "57.0",
         "299.0",
         "103.0",
         "136.0",
         "14146.0",
         "2208.0",
         null,
         "16487.0",
         "5356.0",
         null,
         "126.0",
         "70.0",
         "1983.0",
         "578.0",
         "299.0",
         "37.0",
         "11291.0",
         "200.0",
         "20435.0",
         "297.0",
         "16621.0",
         "270.0",
         "4801.0",
         "219.0",
         "227.0",
         "27336.0",
         "190.0",
         "5688.0",
         "433.0",
         null,
         "158.0",
         "18.0",
         "58.0",
         "370.0",
         "7490.0",
         "170.0",
         "300.0",
         "904.0",
         "19150.0",
         "409.0",
         "677.0",
         "21149.0",
         "19129.0",
         "27.0",
         "4293.0",
         null,
         "26959.0",
         "160.0",
         "299.0",
         "139.0",
         "63.0",
         "191.0",
         "165.0",
         "105.0",
         "219.0",
         "201.0",
         "199.0",
         "66.0",
         "13391.0",
         "282.0",
         "44.0",
         "2310.0",
         "266.0",
         "16.0",
         "112.0",
         "7374.0",
         "201.0",
         "419.0",
         "307.0",
         "24.0",
         "92.0",
         "188.0",
         "423.0",
         "62.0",
         "124.0",
         "15483.0",
         "54.0",
         "46.0",
         "8957.0",
         "278.0",
         "1134.0",
         "80.0",
         "375.0",
         "96.0",
         "332.0",
         "13367.0",
         "10666.0",
         "10707.0",
         "96.0",
         "198.0",
         "37.0",
         "359.0",
         "117.0",
         "9888.0",
         "121.0",
         "376.0",
         "16839.0",
         "11470.0",
         "1330.0",
         "725.0",
         "1979.0",
         "26.0",
         "272.0",
         "394.0",
         "14.0",
         "316.0",
         "34.0",
         "381.0",
         "18901.0",
         null,
         "1172.0",
         "114.0",
         "6549.0",
         "118.0",
         "24656.0",
         "87.0",
         "38.0",
         "199.0",
         "2266.0",
         "282.0",
         "1933.0",
         "12111.0",
         "375.0",
         "36.0",
         "164.0",
         "12444.0",
         "29.0",
         "181.0",
         "239.0",
         "208.0",
         "7237.0",
         "272.0",
         "155.0",
         "232.0",
         "12168.0",
         "47.0",
         "13061.0",
         "380.0",
         "266.0",
         "296.0",
         "19.0",
         "1492.0",
         "201.0",
         "21280.0",
         "78.0",
         "369.0",
         "18168.0",
         null,
         "7703.0",
         "25762.0",
         "95.0",
         "212.0",
         "300.0",
         "394.0",
         "10966.0",
         "3470.0",
         "83.0",
         "121.0",
         "13341.0",
         "9568.0",
         "3899.0",
         "316.0",
         "19753.0",
         "37.0",
         "231.0",
         "4628.0",
         "151.0",
         "2529.0",
         "36.0",
         "500.0",
         "36.0",
         "338.0",
         "18446.0",
         "27247.0",
         "150.0",
         "421.0",
         "15695.0",
         "328.0",
         "8.0",
         "25380.0",
         null,
         "2367.0",
         "232.0",
         "80.0",
         "29.0",
         "213.0",
         "323.0",
         "26563.0",
         "104.0",
         "165.0",
         "353.0",
         "290.0",
         "4113.0",
         "49.0",
         "69.0",
         "9045.0",
         "88.0",
         "189.0",
         "110.0",
         "284.0",
         "94.0",
         "3577.0",
         "309.0",
         "9214.0",
         "204.0",
         "137.0",
         "450.0",
         "312.0",
         "42.0",
         "1224.0",
         "98.0",
         "393.0",
         "107.0",
         "3893.0",
         "375.0",
         "113.0",
         "181.0",
         "1201.0",
         "403.0",
         "19192.0",
         "191.0",
         "12.0",
         "79.0",
         "209.0",
         "135.0",
         "12025.0",
         "12.0",
         "394.0",
         "15044.0",
         "171.0",
         "73.0",
         "178.0",
         "1926.0",
         "17124.0",
         "167.0",
         "373.0",
         "7.0",
         "4024.0",
         "258.0",
         "273.0",
         "14460.0",
         "152.0",
         "16583.0",
         null,
         "367.0",
         "37.0",
         "177.0",
         "1636.0",
         "54.0",
         null,
         "87.0",
         "17753.0",
         "7535.0",
         "195.0",
         "342.0",
         "113.0",
         "24333.0",
         "253.0",
         "3404.0",
         "267.0",
         "2179.0",
         "372.0",
         "488.0",
         "3586.0",
         "18255.0",
         "2212.0",
         "464.0",
         "187.0",
         "13895.0",
         "5106.0",
         "1887.0",
         "250.0",
         "13678.0",
         "141.0",
         "112.0",
         "109.0",
         "159.0",
         "168.0",
         "105.0",
         "29.0",
         "187.0",
         "371.0",
         null,
         "213.0",
         "190.0",
         "350.0",
         "248.0",
         "3246.0",
         "144.0",
         null,
         "162.0",
         "2096.0",
         "105.0",
         "11232.0",
         "22159.0",
         "106.0",
         "123.0",
         "54.0",
         "370.0",
         "37960.0",
         "3208.0",
         "8900.0",
         "163.0",
         "8834.0",
         "214.0",
         "77.0",
         "6779.0",
         "268.0",
         "326.0",
         "255.0",
         "26259.0",
         "13.0",
         "143.0",
         "96.0",
         "593.0",
         "465.0",
         "148.0",
         "75.0",
         "12315.0",
         "254.0",
         "484.0",
         "149.0",
         "272.0",
         "299.0",
         "21951.0",
         "437.0",
         "10.0",
         "167.0",
         null,
         "345.0",
         null,
         "130.0",
         "310.0",
         "187.0",
         "170.0",
         "386.0",
         "2778.0",
         "8133.0",
         "2479.0",
         "212.0",
         "125.0",
         "405.0",
         "16.0",
         "113.0",
         "10473.0",
         "247.0",
         "18121.0",
         "118.0",
         "58.0",
         "116.0",
         "331.0",
         "177.0",
         "46.0",
         "297.0",
         "20797.0",
         "15587.0",
         "470.0",
         "132.0",
         "14836.0",
         "12.0",
         "68.0",
         "49.0",
         "172.0",
         "20.0",
         "44.0",
         "395.0",
         "236.0",
         "186.0",
         "166.0",
         "23870.0",
         "186.0",
         "15004.0",
         "15308.0",
         "20.0",
         "323.0",
         "129.0",
         "2480.0",
         "76.0",
         "11756.0",
         "19970.0",
         "1589.0",
         "388.0",
         "3720.0",
         "20106.0",
         "195.0",
         "3153.0",
         "234.0",
         "92.0",
         "20962.0",
         "280.0",
         "141.0",
         "9786.0",
         "281.0",
         "1704.0",
         "67.0",
         "109.0",
         "67.0",
         "146.0",
         "6882.0",
         "6042.0",
         "16422.0",
         "14992.0",
         "372.0",
         "224.0",
         null,
         "2010.0",
         "8.0",
         "4.0",
         "1.0",
         "208.0",
         "1623.0",
         "129.0",
         "5638.0",
         "1086.0",
         "289.0",
         "17014.0",
         "131.0",
         "1510.0",
         "5729.0",
         null,
         "155.0",
         "352.0",
         "371.0",
         "14377.0",
         "251.0",
         "57.0",
         "124.0",
         "14.0",
         "9846.0",
         "7247.0",
         "25.0",
         "50.0",
         "372.0",
         "611.0",
         "1198.0",
         "25.0",
         "4400.0",
         "56.0",
         null,
         "10071.0",
         "11603.0",
         "16.0",
         "329.0",
         "12330.0",
         "310.0",
         "5.0",
         "1499.0",
         "390.0",
         null,
         "178.0",
         "375.0",
         "9166.0",
         "3.0",
         "31011.0",
         "168.0",
         "303.0",
         "47.0",
         "1589.0",
         "1141.0",
         "1566.0",
         "199.0",
         "602.0",
         "9745.0",
         "25362.0",
         "98.0",
         "122.0",
         "1915.0",
         "171.0",
         "8442.0",
         "239.0",
         "357.0",
         "9708.0",
         "92.0",
         "3464.0",
         "16781.0",
         "4020.0",
         "523.0",
         "269.0",
         "2814.0",
         "210.0",
         "318.0",
         "122.0",
         "90.0",
         null,
         "108.0",
         "379.0",
         "129.0",
         "2705.0",
         "421.0",
         "322.0",
         "601.0",
         "111.0",
         "14.0",
         "146.0",
         "172.0",
         "11180.0",
         "10675.0",
         "16462.0",
         "283.0",
         "290.0",
         "66.0",
         "73.0",
         "227.0",
         "388.0",
         null,
         "211.0",
         "6498.0",
         "414.0",
         "20663.0",
         "24766.0",
         "243.0",
         "172.0",
         "92.0",
         null,
         "1177.0",
         "7.0",
         "79.0",
         "37.0",
         "161.0",
         "48.0",
         "421.0",
         "17859.0",
         null,
         "161.0",
         "236.0",
         "46.0",
         "242.0",
         "126.0",
         "62.0",
         "175.0",
         "67.0",
         "121.0",
         "18823.0",
         "1983.0",
         null,
         "205.0",
         "22567.0",
         "205.0",
         "43.0",
         "239.0",
         "5414.0",
         "2448.0",
         "11886.0",
         "171.0",
         "9472.0",
         "283.0",
         "108.0",
         "119.0",
         "150.0",
         "27391.0",
         "458.0",
         "143.0",
         "120.0",
         "3496.0",
         "16112.0",
         "122.0",
         "72.0",
         "101.0",
         "164.0",
         "15979.0",
         "21795.0",
         "159.0",
         "304.0",
         "94.0",
         "14295.0",
         "6567.0",
         "270.0",
         "98.0",
         "245.0",
         "159.0",
         "9.0",
         "407.0",
         "84.0",
         "91.0",
         "315.0",
         "7621.0",
         "113.0",
         "50.0",
         "252.0",
         "1447.0",
         "13827.0",
         "17385.0",
         "248.0",
         "118.0",
         "290.0",
         "271.0",
         "3146.0",
         "192.0",
         "10552.0",
         null,
         "111.0",
         "223.0",
         "302.0",
         "180.0",
         "115.0",
         "23205.0",
         "9214.0",
         "36.0",
         "2365.0",
         "50.0",
         "258.0",
         "76.0",
         "388.0",
         "183.0",
         "8467.0",
         "14973.0",
         "515.0",
         "13854.0",
         "293.0",
         "52.0",
         null,
         "259.0",
         "1963.0",
         "38.0",
         "4498.0",
         "210.0",
         "115.0",
         "139.0",
         "11714.0",
         "238.0",
         "329.0",
         "30.0",
         "100.0",
         "387.0",
         "72.0",
         "1421.0",
         "1782.0",
         "217.0",
         "75.0",
         "153.0",
         "92.0",
         "12005.0",
         "246.0",
         "263.0",
         "116.0",
         "227.0",
         "47.0",
         "20564.0",
         "425.0",
         "378.0",
         "138.0",
         "106.0",
         "260.0",
         "218.0",
         "246.0",
         "4561.0",
         "11770.0",
         "198.0",
         "2482.0",
         "427.0",
         "753.0",
         "17142.0",
         "51.0",
         "296.0",
         "106.0",
         "25.0",
         "392.0",
         "302.0",
         "23.0",
         "86.0",
         "966.0",
         "24214.0",
         "106.0",
         "23684.0",
         "3675.0",
         "74.0",
         "390.0",
         null,
         "8794.0",
         "90.0",
         "5306.0",
         "46.0",
         "5760.0",
         "147.0",
         "49.0",
         "20.0",
         "314.0",
         "246.0",
         "231.0",
         "143.0",
         "2670.0",
         "11263.0",
         "257.0",
         "428.0",
         "244.0",
         "116.0",
         "11304.0",
         "454.0",
         "4530.0",
         "11870.0",
         "17784.0",
         "236.0",
         "21.0",
         "57.0",
         "2531.0",
         "388.0",
         "318.0",
         "76.0",
         "14109.0",
         "47.0",
         "312.0",
         "254.0",
         "1172.0",
         "124.0",
         "85.0",
         "159.0",
         "21248.0",
         "13251.0",
         "409.0",
         "41.0",
         "156.0",
         "2028.0",
         "376.0",
         "1971.0",
         "208.0",
         "68.0",
         "107.0",
         "1240.0",
         "296.0",
         "129.0",
         "200.0",
         "3342.0",
         "140.0",
         "132.0",
         "150.0",
         "1652.0",
         "43.0",
         "9952.0",
         "256.0",
         "132.0",
         "965.0",
         null,
         "3677.0",
         "33.0",
         "374.0",
         "117.0",
         "46.0",
         "393.0",
         null,
         "1125.0",
         "59.0",
         "596.0",
         "264.0",
         "76.0",
         "444.0",
         "7402.0",
         "382.0",
         "15484.0",
         "7.0",
         "202.0",
         "18.0",
         "5.0",
         "19.0",
         "4076.0",
         "17879.0",
         "44.0",
         "80.0",
         "8404.0",
         "84.0",
         "106.0",
         "5122.0",
         "136.0",
         "259.0",
         "286.0",
         null,
         "2327.0",
         "31.0",
         "217.0",
         "120.0",
         "307.0",
         "19373.0",
         "2482.0",
         "82.0",
         "110.0",
         "271.0",
         "179.0",
         "215.0",
         "102.0",
         "151.0",
         "80.0",
         "129.0",
         "224.0",
         "89.0",
         "137.0",
         "207.0",
         "390.0",
         "11.0",
         "284.0",
         "6415.0",
         "12676.0",
         "3330.0",
         "308.0",
         "639.0",
         "305.0",
         "15.0",
         "191.0",
         "216.0",
         null,
         "85.0",
         "2708.0",
         "78.0",
         "356.0",
         "142.0",
         "8047.0",
         "5008.0",
         "4371.0",
         "306.0",
         "183.0",
         "13953.0",
         "16944.0",
         "213.0",
         "13705.0",
         null,
         "18322.0",
         "186.0",
         "53.0",
         "107.0",
         "36.0",
         "224.0",
         "81.0",
         "2034.0",
         "630.0",
         "55.0",
         "45.0",
         "10055.0",
         "143.0",
         "351.0",
         "395.0",
         null,
         "251.0",
         "362.0",
         "12011.0",
         "15186.0",
         "73.0",
         "133.0",
         "138.0",
         null,
         "173.0",
         "360.0",
         "250.0",
         "330.0",
         "83.0",
         "69.0",
         "118.0",
         "145.0",
         "9721.0",
         "158.0",
         "272.0",
         "131.0",
         "252.0",
         "23.0",
         "147.0",
         "291.0",
         "4241.0",
         "54.0",
         "260.0",
         "329.0",
         "123.0",
         "230.0",
         "309.0",
         "13331.0",
         "1697.0",
         "205.0",
         null,
         "202.0",
         "72.0",
         "25.0",
         "17.0",
         "9600.0",
         "166.0",
         "7125.0",
         "3141.0",
         "789.0",
         "7650.0",
         "247.0",
         "209.0",
         "315.0",
         "4361.0",
         "297.0",
         "150.0",
         "7983.0",
         "111.0",
         "4366.0",
         "329.0",
         "101.0",
         "25514.0",
         "8100.0",
         "61.0",
         "115.0",
         "210.0",
         "27.0",
         "133.0",
         "118.0",
         "183.0",
         "105.0",
         "5430.0",
         "17703.0",
         "28.0",
         "411.0",
         "221.0",
         "11207.0",
         "16562.0",
         "9464.0",
         "1599.0",
         "351.0",
         "1781.0",
         "1881.0",
         "5005.0",
         "14.0",
         null,
         "12185.0",
         "356.0",
         "372.0",
         "385.0",
         "81.0",
         "21.0",
         "166.0",
         "272.0",
         "1201.0",
         "319.0",
         "486.0",
         "4899.0",
         "15766.0",
         "245.0",
         "109.0",
         "14797.0",
         "628.0",
         "116.0",
         "25457.0",
         "134.0",
         "105.0",
         "172.0",
         "862.0",
         "23105.0",
         "33.0",
         "1334.0",
         "247.0",
         "21363.0",
         "296.0",
         "15593.0",
         "64.0",
         "8512.0",
         "8614.0",
         "5939.0",
         "995.0",
         "8502.0",
         "605.0",
         "90.0",
         "208.0",
         "7.0",
         "15418.0",
         "106.0",
         "16721.0",
         "2408.0",
         "223.0",
         "10692.0",
         null,
         null,
         "124.0",
         "46.0",
         "2700.0",
         "213.0",
         "23699.0",
         "333.0",
         "333.0",
         "1485.0",
         "32.0",
         "91.0",
         "241.0",
         "85.0",
         "137.0",
         "121.0",
         "38.0",
         "4050.0",
         "242.0",
         "95.0",
         "10143.0",
         "197.0",
         "9.0",
         "15242.0",
         "32424.0",
         "348.0",
         "241.0",
         "20642.0",
         "10031.0",
         "203.0",
         "12444.0",
         "532.0",
         "212.0",
         "184.0",
         "19937.0",
         "4690.0",
         "241.0",
         "2280.0",
         "91.0",
         "28007.0",
         "24.0",
         "230.0",
         "25.0",
         "129.0",
         "109.0",
         "2119.0",
         "396.0",
         "232.0",
         "180.0",
         "9565.0",
         "743.0",
         "180.0",
         "270.0",
         "3424.0",
         "2823.0",
         "211.0",
         "17765.0",
         "202.0",
         "192.0",
         "1131.0",
         "1089.0",
         "10.0",
         null,
         "2227.0",
         "115.0",
         "11817.0",
         "238.0",
         "91.0",
         "312.0",
         "235.0",
         "306.0",
         "8843.0",
         "9.0",
         "140.0",
         "6742.0",
         "8.0",
         "215.0",
         "367.0",
         "219.0",
         "169.0",
         "856.0",
         "239.0",
         "1093.0",
         "1551.0",
         "300.0",
         "286.0",
         "52.0",
         "63.0",
         "8965.0",
         "52.0",
         "3262.0",
         "293.0",
         null,
         "375.0",
         "1613.0",
         "138.0",
         "201.0",
         "113.0",
         "428.0",
         "32.0",
         "185.0",
         "8054.0",
         "13564.0",
         "99.0",
         "19956.0",
         "2514.0",
         "1294.0",
         "21.0",
         "259.0",
         "23784.0",
         "244.0",
         "341.0",
         null,
         "37.0",
         "114.0",
         "2606.0",
         "47.0",
         "85.0",
         "15123.0",
         "10183.0",
         "168.0",
         "134.0",
         "6905.0",
         "250.0",
         "166.0",
         "8977.0",
         "46.0",
         "316.0",
         "10.0",
         "306.0",
         "1480.0",
         "264.0",
         "2484.0",
         "6539.0",
         "9009.0",
         "425.0",
         "246.0",
         "27189.0",
         "229.0",
         "69.0",
         "203.0",
         "189.0",
         "275.0",
         "8556.0",
         "17725.0",
         "111.0",
         null,
         "122.0",
         "13.0",
         "72.0",
         "8709.0",
         "320.0",
         "305.0",
         "490.0",
         "183.0",
         null,
         "325.0",
         null,
         "23252.0",
         "23635.0",
         "134.0",
         "127.0",
         "21723.0",
         "412.0",
         "234.0",
         "17881.0",
         "412.0",
         "427.0",
         "196.0",
         "110.0",
         "163.0",
         null,
         "300.0",
         "102.0",
         "111.0",
         "66.0",
         "8845.0",
         "924.0",
         "59.0",
         "127.0",
         "133.0",
         "8280.0",
         "94.0",
         "79.0",
         "280.0",
         "1268.0",
         "96.0",
         "67.0",
         "6.0",
         "151.0",
         "239.0",
         "413.0",
         "1556.0",
         "10026.0",
         "324.0",
         "166.0",
         "125.0",
         "6595.0",
         "220.0",
         "352.0",
         "255.0",
         "8.0",
         "20277.0",
         "238.0",
         "304.0",
         "368.0",
         "838.0",
         "211.0",
         "233.0",
         "23945.0",
         "243.0",
         "263.0",
         "408.0",
         "132.0",
         "276.0",
         "379.0",
         "547.0",
         "9131.0",
         "146.0",
         "37.0",
         "338.0",
         "16792.0",
         "194.0",
         "379.0",
         "13.0",
         "361.0",
         "19.0",
         null,
         "12827.0",
         "21509.0",
         "113.0",
         "4021.0",
         "1316.0",
         "155.0",
         "1635.0",
         "42.0",
         "21886.0",
         "107.0",
         "14111.0",
         "190.0",
         "344.0",
         "82.0",
         "272.0",
         "2076.0",
         "23492.0",
         "12.0",
         "22691.0",
         "18.0",
         "7501.0",
         "9152.0",
         "1232.0",
         "13886.0",
         "219.0",
         "288.0",
         "1569.0",
         "17990.0",
         "18806.0",
         "141.0",
         "1849.0",
         "6472.0",
         "2451.0",
         "22076.0",
         "268.0",
         "139.0",
         "23555.0",
         "2548.0",
         "21.0",
         "9172.0",
         null,
         "457.0",
         "115.0",
         "76.0",
         "7310.0",
         "288.0",
         "250.0",
         "187.0",
         "163.0",
         "9541.0",
         "6185.0",
         "209.0",
         "159.0",
         "11.0",
         "321.0",
         "195.0",
         "135.0",
         "112.0",
         "91.0",
         "2984.0",
         "704.0",
         "922.0",
         "743.0",
         "252.0",
         "88.0",
         "217.0",
         "9092.0",
         "76.0",
         "369.0",
         "369.0",
         "215.0",
         "283.0",
         "223.0",
         "10480.0",
         "1115.0",
         "27516.0",
         "257.0",
         "2770.0",
         "156.0",
         "69.0",
         "5453.0",
         "8853.0",
         "693.0",
         null,
         "106.0",
         "210.0",
         "55.0",
         "423.0",
         "8335.0",
         "97.0",
         "188.0",
         "230.0",
         "1957.0",
         "98.0",
         "383.0",
         "268.0",
         "780.0",
         "199.0",
         "158.0",
         "345.0",
         "16787.0",
         "85.0",
         "403.0",
         "205.0",
         "70.0",
         "103.0",
         "88.0",
         null,
         "281.0",
         "93.0",
         "244.0",
         "155.0",
         "96.0",
         "204.0",
         "16837.0",
         "257.0",
         "154.0",
         "311.0",
         "133.0",
         "12.0",
         "3900.0",
         "10.0",
         null,
         "2651.0",
         "2712.0",
         "14.0",
         "436.0",
         "262.0",
         "27.0",
         "4587.0",
         null,
         null,
         "179.0",
         "225.0",
         "286.0",
         "136.0",
         "108.0",
         "254.0",
         null,
         "145.0",
         "7052.0",
         "2327.0",
         "256.0",
         "1864.0",
         "213.0",
         "218.0",
         "118.0",
         "91.0",
         "156.0",
         "426.0",
         "46.0",
         "932.0",
         "195.0",
         "2692.0",
         "259.0",
         "15.0",
         "18809.0",
         "114.0",
         "20132.0",
         "359.0",
         "375.0",
         "350.0",
         "1309.0",
         "183.0",
         "26224.0",
         "290.0",
         "135.0",
         "9741.0",
         "7258.0",
         "48.0",
         "323.0",
         null,
         "328.0",
         "1076.0",
         "15779.0",
         "208.0",
         "109.0",
         "138.0",
         "161.0",
         "5024.0",
         "336.0",
         "231.0",
         "4152.0",
         "18275.0",
         "15075.0",
         "184.0",
         "22604.0",
         "241.0",
         "30845.0",
         null,
         "249.0",
         "169.0",
         "245.0",
         "127.0",
         "339.0",
         "18622.0",
         "19889.0",
         "302.0",
         "7201.0",
         "196.0",
         "146.0",
         "15746.0",
         "145.0",
         "1979.0",
         "1631.0",
         "22121.0",
         "329.0",
         "16584.0",
         "10845.0",
         "2600.0",
         "55.0",
         "405.0",
         "13781.0",
         "241.0",
         "215.0",
         "2415.0",
         "19009.0",
         "11843.0",
         "406.0",
         "318.0",
         "128.0",
         "174.0",
         "15908.0",
         "309.0",
         "298.0",
         "230.0",
         "501.0",
         "305.0",
         "10634.0",
         "9267.0",
         "11961.0",
         "119.0",
         "10714.0",
         "557.0",
         "99.0",
         "206.0",
         "107.0",
         "136.0",
         "364.0",
         "1",
         "3641"
        ]
       ],
       "shape": {
        "columns": 2002,
        "rows": 5
       }
      },
      "text/html": [
       "<div>\n",
       "<style scoped>\n",
       "    .dataframe tbody tr th:only-of-type {\n",
       "        vertical-align: middle;\n",
       "    }\n",
       "\n",
       "    .dataframe tbody tr th {\n",
       "        vertical-align: top;\n",
       "    }\n",
       "\n",
       "    .dataframe thead th {\n",
       "        text-align: right;\n",
       "    }\n",
       "</style>\n",
       "<table border=\"1\" class=\"dataframe\">\n",
       "  <thead>\n",
       "    <tr style=\"text-align: right;\">\n",
       "      <th></th>\n",
       "      <th>Gene 1</th>\n",
       "      <th>Gene 2</th>\n",
       "      <th>Gene 3</th>\n",
       "      <th>Gene 4</th>\n",
       "      <th>Gene 5</th>\n",
       "      <th>Gene 6</th>\n",
       "      <th>Gene 7</th>\n",
       "      <th>Gene 8</th>\n",
       "      <th>Gene 9</th>\n",
       "      <th>Gene 10</th>\n",
       "      <th>...</th>\n",
       "      <th>Gene 1993</th>\n",
       "      <th>Gene 1994</th>\n",
       "      <th>Gene 1995</th>\n",
       "      <th>Gene 1996</th>\n",
       "      <th>Gene 1997</th>\n",
       "      <th>Gene 1998</th>\n",
       "      <th>Gene 1999</th>\n",
       "      <th>Gene 2000</th>\n",
       "      <th>Outcome</th>\n",
       "      <th>Id</th>\n",
       "    </tr>\n",
       "  </thead>\n",
       "  <tbody>\n",
       "    <tr>\n",
       "      <th>0</th>\n",
       "      <td>4.0</td>\n",
       "      <td>107.0</td>\n",
       "      <td>135.0</td>\n",
       "      <td>15752.0</td>\n",
       "      <td>459.0</td>\n",
       "      <td>189.0</td>\n",
       "      <td>222.0</td>\n",
       "      <td>2258.0</td>\n",
       "      <td>2992.0</td>\n",
       "      <td>77.0</td>\n",
       "      <td>...</td>\n",
       "      <td>156.0</td>\n",
       "      <td>18368.0</td>\n",
       "      <td>318.0</td>\n",
       "      <td>89.0</td>\n",
       "      <td>307.0</td>\n",
       "      <td>82.0</td>\n",
       "      <td>227.0</td>\n",
       "      <td>302.0</td>\n",
       "      <td>3</td>\n",
       "      <td>3328</td>\n",
       "    </tr>\n",
       "    <tr>\n",
       "      <th>1</th>\n",
       "      <td>4.0</td>\n",
       "      <td>96.0</td>\n",
       "      <td>130.0</td>\n",
       "      <td>13704.0</td>\n",
       "      <td>486.0</td>\n",
       "      <td>244.0</td>\n",
       "      <td>298.0</td>\n",
       "      <td>NaN</td>\n",
       "      <td>1874.0</td>\n",
       "      <td>50.0</td>\n",
       "      <td>...</td>\n",
       "      <td>82.0</td>\n",
       "      <td>21033.0</td>\n",
       "      <td>375.0</td>\n",
       "      <td>NaN</td>\n",
       "      <td>426.0</td>\n",
       "      <td>91.0</td>\n",
       "      <td>232.0</td>\n",
       "      <td>116.0</td>\n",
       "      <td>1</td>\n",
       "      <td>2085</td>\n",
       "    </tr>\n",
       "    <tr>\n",
       "      <th>2</th>\n",
       "      <td>5.0</td>\n",
       "      <td>139.0</td>\n",
       "      <td>71.0</td>\n",
       "      <td>13866.0</td>\n",
       "      <td>326.0</td>\n",
       "      <td>418.0</td>\n",
       "      <td>402.0</td>\n",
       "      <td>2833.0</td>\n",
       "      <td>1821.0</td>\n",
       "      <td>64.0</td>\n",
       "      <td>...</td>\n",
       "      <td>122.0</td>\n",
       "      <td>13853.0</td>\n",
       "      <td>244.0</td>\n",
       "      <td>114.0</td>\n",
       "      <td>273.0</td>\n",
       "      <td>87.0</td>\n",
       "      <td>219.0</td>\n",
       "      <td>NaN</td>\n",
       "      <td>3</td>\n",
       "      <td>2455</td>\n",
       "    </tr>\n",
       "    <tr>\n",
       "      <th>3</th>\n",
       "      <td>3.0</td>\n",
       "      <td>135.0</td>\n",
       "      <td>47.0</td>\n",
       "      <td>14945.0</td>\n",
       "      <td>432.0</td>\n",
       "      <td>239.0</td>\n",
       "      <td>224.0</td>\n",
       "      <td>3020.0</td>\n",
       "      <td>2958.0</td>\n",
       "      <td>69.0</td>\n",
       "      <td>...</td>\n",
       "      <td>50.0</td>\n",
       "      <td>16328.0</td>\n",
       "      <td>289.0</td>\n",
       "      <td>NaN</td>\n",
       "      <td>NaN</td>\n",
       "      <td>98.0</td>\n",
       "      <td>244.0</td>\n",
       "      <td>312.0</td>\n",
       "      <td>3</td>\n",
       "      <td>2457</td>\n",
       "    </tr>\n",
       "    <tr>\n",
       "      <th>4</th>\n",
       "      <td>2.0</td>\n",
       "      <td>69.0</td>\n",
       "      <td>48.0</td>\n",
       "      <td>8758.0</td>\n",
       "      <td>337.0</td>\n",
       "      <td>214.0</td>\n",
       "      <td>358.0</td>\n",
       "      <td>NaN</td>\n",
       "      <td>3388.0</td>\n",
       "      <td>80.0</td>\n",
       "      <td>...</td>\n",
       "      <td>119.0</td>\n",
       "      <td>10714.0</td>\n",
       "      <td>557.0</td>\n",
       "      <td>99.0</td>\n",
       "      <td>206.0</td>\n",
       "      <td>107.0</td>\n",
       "      <td>136.0</td>\n",
       "      <td>364.0</td>\n",
       "      <td>1</td>\n",
       "      <td>3641</td>\n",
       "    </tr>\n",
       "  </tbody>\n",
       "</table>\n",
       "<p>5 rows × 2002 columns</p>\n",
       "</div>"
      ],
      "text/plain": [
       "   Gene 1  Gene 2  Gene 3   Gene 4  Gene 5  Gene 6  Gene 7  Gene 8  Gene 9  \\\n",
       "0     4.0   107.0   135.0  15752.0   459.0   189.0   222.0  2258.0  2992.0   \n",
       "1     4.0    96.0   130.0  13704.0   486.0   244.0   298.0     NaN  1874.0   \n",
       "2     5.0   139.0    71.0  13866.0   326.0   418.0   402.0  2833.0  1821.0   \n",
       "3     3.0   135.0    47.0  14945.0   432.0   239.0   224.0  3020.0  2958.0   \n",
       "4     2.0    69.0    48.0   8758.0   337.0   214.0   358.0     NaN  3388.0   \n",
       "\n",
       "   Gene 10  ...  Gene 1993  Gene 1994  Gene 1995  Gene 1996  Gene 1997  \\\n",
       "0     77.0  ...      156.0    18368.0      318.0       89.0      307.0   \n",
       "1     50.0  ...       82.0    21033.0      375.0        NaN      426.0   \n",
       "2     64.0  ...      122.0    13853.0      244.0      114.0      273.0   \n",
       "3     69.0  ...       50.0    16328.0      289.0        NaN        NaN   \n",
       "4     80.0  ...      119.0    10714.0      557.0       99.0      206.0   \n",
       "\n",
       "   Gene 1998  Gene 1999  Gene 2000  Outcome    Id  \n",
       "0       82.0      227.0      302.0        3  3328  \n",
       "1       91.0      232.0      116.0        1  2085  \n",
       "2       87.0      219.0        NaN        3  2455  \n",
       "3       98.0      244.0      312.0        3  2457  \n",
       "4      107.0      136.0      364.0        1  3641  \n",
       "\n",
       "[5 rows x 2002 columns]"
      ]
     },
     "execution_count": 5,
     "metadata": {},
     "output_type": "execute_result"
    }
   ],
   "source": [
    "X_dataframe.head()"
   ]
  },
  {
   "cell_type": "code",
   "execution_count": 6,
   "id": "6d1f26a6-9908-46ea-bf1d-831829806269",
   "metadata": {},
   "outputs": [
    {
     "name": "stdout",
     "output_type": "stream",
     "text": [
      "\n",
      "Total missing values across features: 497869\n",
      "Missing values per feature (showing non-zero counts):\n",
      "Gene 1       250\n",
      "Gene 2       237\n",
      "Gene 3       266\n",
      "Gene 4       255\n",
      "Gene 5       249\n",
      "            ... \n",
      "Gene 1996    239\n",
      "Gene 1997    253\n",
      "Gene 1998    259\n",
      "Gene 1999    252\n",
      "Gene 2000    236\n",
      "Length: 2000, dtype: int64\n",
      "\n",
      "Total infinite values: 0\n",
      "Total negative values: 0\n",
      "\n",
      "Class counts:\n",
      "Outcome\n",
      "3    1280\n",
      "2     881\n",
      "1     730\n",
      "0     629\n",
      "Name: count, dtype: int64\n",
      "\n",
      "Class proportions:\n",
      "Outcome\n",
      "3    0.363636\n",
      "2    0.250284\n",
      "1    0.207386\n",
      "0    0.178693\n",
      "Name: count, dtype: float64\n",
      "\n",
      "Number of highly correlated feature pairs (r > 0.95): 59\n",
      "A few example pairs (feature1, feature2, correlation):\n",
      "('Gene 4', 'Gene 1323', 0.9999999926269247)\n",
      "('Gene 8', 'Gene 1822', 0.9999994950756063)\n",
      "('Gene 32', 'Gene 888', 0.9999999662673034)\n",
      "('Gene 39', 'Gene 84', 0.9999991915915483)\n",
      "('Gene 39', 'Gene 848', 0.9999996451767204)\n",
      "\n",
      "Maximum expression value in the data: 51663.0\n",
      "Minimum expression value in the data: 0.0\n",
      "\n",
      "Feature with the highest variance: Gene 1127\n",
      "Highest variance value: 44663714.32831299\n",
      "\n",
      "First five variances using VarianceThreshold: [1.28657230e+00 9.09096834e+02 7.79251352e+02 1.35152513e+07\n",
      " 1.02215095e+04]\n"
     ]
    },
    {
     "data": {
      "image/png": "[encoded data removed]",
      "text/plain": [
       "<Figure size 1200x800 with 1 Axes>"
      ]
     },
     "metadata": {},
     "output_type": "display_data"
    }
   ],
   "source": [
    "# --- Assume the following dataframes are already loaded:\n",
    "# X_dataframe (training data with gene expression features and a label column, e.g. \"label\")\n",
    "# test_X_dataframe and test_y_dataframe are loaded similarly\n",
    "\n",
    "# Seperate features and target variable\n",
    "target_name = 'Outcome'\n",
    "labels = X_dataframe[target_name]\n",
    "features = X_dataframe.drop([target_name, 'Id'], axis=1) # DROPPING ID HERE BUT MIGHT BE GOOD TO LEAVE IN\n",
    "\n",
    "# 1. Count missing data\n",
    "missing_counts = features.isna().sum()\n",
    "total_missing = missing_counts.sum()\n",
    "print(\"\\nTotal missing values across features:\", total_missing)\n",
    "print(\"Missing values per feature (showing non-zero counts):\")\n",
    "print(missing_counts[missing_counts > 0])\n",
    "\n",
    "# 2. Check for other strange values\n",
    "# Here we check for infinite values and negative values.\n",
    "num_infinite = np.isinf(features.values).sum()\n",
    "num_negative = (features < 0).sum().sum()\n",
    "print(\"\\nTotal infinite values:\", num_infinite)\n",
    "print(\"Total negative values:\", num_negative)\n",
    "# (Depending on your data processing, gene expression data might be expected to be non-negative.)\n",
    "\n",
    "# 3. Proportion of classes (if labels available)\n",
    "if labels is not None:\n",
    "    class_counts = labels.value_counts()\n",
    "    print(\"\\nClass counts:\")\n",
    "    print(class_counts)\n",
    "    print(\"\\nClass proportions:\")\n",
    "    print(class_counts / class_counts.sum())\n",
    "\n",
    "# 4. Check for extremely high correlation between features.\n",
    "# We define \"extremely highly correlated\" as absolute Pearson correlation > 0.95.\n",
    "corr_matrix = features.corr().abs()\n",
    "threshold = 0.95\n",
    "high_corr_pairs = []\n",
    "cols = corr_matrix.columns\n",
    "\n",
    "# Count only unique pairs (i < j to avoid double counting)\n",
    "for i in range(len(cols)):\n",
    "    for j in range(i + 1, len(cols)):\n",
    "        if corr_matrix.iloc[i, j] > threshold:\n",
    "            high_corr_pairs.append((cols[i], cols[j], corr_matrix.iloc[i, j]))\n",
    "\n",
    "print(\"\\nNumber of highly correlated feature pairs (r > 0.95):\", len(high_corr_pairs))\n",
    "if len(high_corr_pairs) > 0:\n",
    "    print(\"A few example pairs (feature1, feature2, correlation):\")\n",
    "    for pair in high_corr_pairs[:5]:\n",
    "        print(pair)\n",
    "\n",
    "# 5. Maximum and minimum values in the features\n",
    "max_val = features.max().max()\n",
    "min_val = features.min().min()\n",
    "print(\"\\nMaximum expression value in the data:\", max_val)\n",
    "print(\"Minimum expression value in the data:\", min_val)\n",
    "\n",
    "# 6. Feature with the highest variance.\n",
    "variances = features.var()\n",
    "top_feature = variances.idxmax()\n",
    "print(\"\\nFeature with the highest variance:\", top_feature)\n",
    "print(\"Highest variance value:\", variances.max())\n",
    "\n",
    "# Additionally, demonstrate scikit-learn's VarianceThreshold.\n",
    "vt = VarianceThreshold(threshold=0)  # threshold 0 selects all non-constant features\n",
    "vt.fit(features)\n",
    "# vt.variances_ holds the variances for each feature (in the same order as features.columns)\n",
    "print(\"\\nFirst five variances using VarianceThreshold:\", vt.variances_[:5])\n",
    "\n",
    "# 7. Boxplot of the top 30 features with highest variance.\n",
    "# Identify top 30 features ordered by variance\n",
    "top30_features = variances.sort_values(ascending=False).head(30).index\n",
    "plt.figure(figsize=(12, 8))\n",
    "# Boxplot for each selected feature\n",
    "features[top30_features].boxplot(rot=90)\n",
    "plt.title(\"Boxplot of Top 30 Features with Highest Variance\")\n",
    "plt.ylabel(\"Expression Value\")\n",
    "plt.tight_layout()\n",
    "plt.show()\n"
   ]
  },
  {
   "cell_type": "markdown",
   "id": "9c05212b-2dc7-4895-b1a6-ee3589f68797",
   "metadata": {},
   "source": [
    "## HOW TO IMPROVE DATA EXPLORE\n",
    "- have all this in formation in the graphs"
   ]
  },
  {
   "cell_type": "markdown",
   "id": "6aca8775",
   "metadata": {},
   "source": [
    "# 2 - Downsample data"
   ]
  },
  {
   "cell_type": "code",
   "execution_count": 7,
   "id": "a4d3c178",
   "metadata": {},
   "outputs": [
    {
     "name": "stderr",
     "output_type": "stream",
     "text": [
      "c:\\Users\\samar\\miniconda3\\envs\\BMLB2025\\lib\\site-packages\\sklearn\\base.py:484: FutureWarning: `BaseEstimator._check_n_features` is deprecated in 1.6 and will be removed in 1.7. Use `sklearn.utils.validation._check_n_features` instead.\n",
      "  warnings.warn(\n",
      "c:\\Users\\samar\\miniconda3\\envs\\BMLB2025\\lib\\site-packages\\sklearn\\base.py:493: FutureWarning: `BaseEstimator._check_feature_names` is deprecated in 1.6 and will be removed in 1.7. Use `sklearn.utils.validation._check_feature_names` instead.\n",
      "  warnings.warn(\n"
     ]
    },
    {
     "name": "stdout",
     "output_type": "stream",
     "text": [
      "\n",
      "Class counts:\n",
      "Outcome\n",
      "0    629\n",
      "1    629\n",
      "2    629\n",
      "3    629\n",
      "Name: count, dtype: int64\n"
     ]
    }
   ],
   "source": [
    "from imblearn.under_sampling import RandomUnderSampler\n",
    "\n",
    "# Assume X is your features and y is your labels\n",
    "rus = RandomUnderSampler(random_state=42)\n",
    "X_downSampled, y_downSampled = rus.fit_resample(features, labels)\n",
    "\n",
    "# Checking:\n",
    "class_counts = y_downSampled.value_counts()\n",
    "print(\"\\nClass counts:\")\n",
    "print(class_counts)"
   ]
  },
  {
   "cell_type": "markdown",
   "id": "72545323-6eb1-4430-b9cb-708140892d24",
   "metadata": {},
   "source": [
    "# Initialize experiments\n",
    "Initialize model, pipeline, cross validation, and run them"
   ]
  },
  {
   "cell_type": "markdown",
   "id": "f86e0642",
   "metadata": {},
   "source": [
    "## 3, 4, 5 - Regression"
   ]
  },
  {
   "cell_type": "code",
   "execution_count": 66,
   "id": "175ffa04",
   "metadata": {},
   "outputs": [],
   "source": [
    "# from sklearn.pipeline import Pipeline\n",
    "from sklearn.pipeline import make_pipeline\n",
    "from sklearn.impute import SimpleImputer, KNNImputer\n",
    "from sklearn.preprocessing import StandardScaler\n",
    "from sklearn.linear_model import LogisticRegression\n",
    "from sklearn.model_selection import train_test_split\n",
    "import time\n",
    "from sklearn.metrics import roc_auc_score, f1_score\n",
    "from sklearn.model_selection import cross_validate"
   ]
  },
  {
   "cell_type": "code",
   "execution_count": 45,
   "id": "81b691d1",
   "metadata": {},
   "outputs": [],
   "source": [
    "global_seed = 42"
   ]
  },
  {
   "cell_type": "markdown",
   "id": "dffbcab7",
   "metadata": {},
   "source": [
    "### 3 - Simple imputation, Standard Scaling, and non-regularized Logistic regression"
   ]
  },
  {
   "cell_type": "markdown",
   "id": "8d515ea8",
   "metadata": {},
   "source": [
    "Make a Pipeline that combines three steps: \n",
    "* imputing missing data (removing np.nan) by replacing them with the mean value (SimpleImputer) ✅\n",
    "* scaling the data to have 0 mean and unit variance (StandardScaler) ✅\n",
    "* predicting the class using unregularized logistic regression (sklearn.linear_model.LogisticRegression) ✅\n",
    "\n",
    "Now\n",
    "* split the training data into 20% validation and 80% train data. ✅\n",
    "* Fit the Pipeline on the train data and test on the validation data. ✅\n",
    "\n",
    "In your notebook file:\n",
    "* report the ROC AUC one-versus-rest and macro F1 score on the training and validation data. ✅\n",
    "* Read up on these here (1, 2) so you know what they are, and write what they do in your own words in the notebook. ✅\n",
    "* describe why you can’t directly impute and/or scale on all the training data and only then split into train and validation sets if you want an accurate estimate of your generalisation performance ❌"
   ]
  },
  {
   "cell_type": "code",
   "execution_count": 46,
   "id": "7358dd46",
   "metadata": {},
   "outputs": [
    {
     "name": "stdout",
     "output_type": "stream",
     "text": [
      "Fitting took 0.505 seconds\n",
      "Accuracy of model on validation dataset: 0.631\n"
     ]
    }
   ],
   "source": [
    "train_data_3, val_data_3, train_lables_3, val_lables_3 = train_test_split(X_downSampled, y_downSampled, train_size=0.8, random_state=global_seed)\n",
    "\n",
    "imputer_3 = SimpleImputer(missing_values=np.nan, strategy='mean')\n",
    "scaler_3 = StandardScaler()\n",
    "log_regressor_3 = LogisticRegression(penalty=None)\n",
    "\n",
    "model_3 = make_pipeline(imputer_3, scaler_3, log_regressor_3)\n",
    "\n",
    "# train model\n",
    "start = time.time()\n",
    "model_3.fit(train_data_3, train_lables_3)\n",
    "print(f\"Fitting took {time.time() - start:0.03} seconds\")\n",
    "\n",
    "# validate model\n",
    "accuracy_3 = model_3.score(val_data_3, val_lables_3)\n",
    "print(f\"Accuracy of model on validation dataset: {accuracy_3:0.03}\")"
   ]
  },
  {
   "cell_type": "markdown",
   "id": "c456d8ae",
   "metadata": {},
   "source": [
    "**The reason we can't can’t directly impute and/or scale on all the training data and only then split into train and validation sets if we want an accurate estimate of your generalisation performance**"
   ]
  },
  {
   "cell_type": "code",
   "execution_count": 64,
   "id": "082ffc2f",
   "metadata": {},
   "outputs": [
    {
     "name": "stdout",
     "output_type": "stream",
     "text": [
      "Our model's scores on the training dataset:\n",
      "OvR AUC score: 1.0\n",
      "Macro F1 score: 1.0\n",
      "\n",
      "Our model's scores on the validation dataset:\n",
      "OvR AUC score: 0.866\n",
      "Macro F1 score: 0.63\n",
      "\n"
     ]
    }
   ],
   "source": [
    "# Training\n",
    "# We use the predict_proba and not predict, since for ROC (and AUC) we need to predict for different thresholds\n",
    "train_3_OvR_AUC = roc_auc_score(train_lables_3, model_3.predict_proba(train_data_3), multi_class='ovr')\n",
    "train_3_macro_F1 = f1_score(train_lables_3, model_3.predict(train_data_3), average='macro')\n",
    "print(f\"Our model's scores on the training dataset:\")\n",
    "print(f\"OvR AUC score: {train_3_OvR_AUC:0.03}\\nMacro F1 score: {train_3_macro_F1:0.03}\\n\")\n",
    "\n",
    "# Validation\n",
    "val_3_OvR_AUC = roc_auc_score(val_lables_3, model_3.predict_proba(val_data_3), multi_class='ovr')\n",
    "val_3_macro_F1 = f1_score(val_lables_3, model_3.predict(val_data_3), average='macro')\n",
    "print(f\"Our model's scores on the validation dataset:\")\n",
    "print(f\"OvR AUC score: {val_3_OvR_AUC:0.03}\\nMacro F1 score: {val_3_macro_F1:0.03}\\n\")"
   ]
  },
  {
   "cell_type": "markdown",
   "id": "5624cfa4",
   "metadata": {},
   "source": [
    "**What are ROC AUC one-versus-rest and macro F1 score?**\n",
    "\n",
    "_ROC AUC one-versus-rest (OvR):_\n",
    "\n",
    "OvR is A method to used binary-class-metrics to evaluate multiclass models. In this method, we iterate on our classification output n times, each time taking the n-th class as \"Positive\" and all other classes as \"Negative\". This enable us to treat each of these iterations as a binary classification. We then get the results of all metrics on each of these iterations, and average them to get the final OvR model scores.\n",
    "\n",
    "For ROC AUC one-versus-rest we plot an ROC curve and calculate the AUC for every iteration of OvR, and return the final average score of AUC.\n",
    "\n",
    "_macro F1 score:_\n",
    "\n",
    "F1 is a metric that combines both precision and recall. For multi-class classification, we calculate F1 score using OvR. To combine the scores into one final score, there are different methods, one of which is Macro Average.\n",
    "\n",
    "With Macro Average, we take the unweighted mean of the F1 scores per classs (OvR). This gives a similar weight to all classes, even for an imbalanced data."
   ]
  },
  {
   "cell_type": "markdown",
   "id": "9ea125ee",
   "metadata": {},
   "source": [
    "### 4 - KNN imputation, Standard Scaling, and non-regularized Logistic regression"
   ]
  },
  {
   "cell_type": "markdown",
   "id": "3f88f397",
   "metadata": {},
   "source": [
    "Again, make a Pipeline that combines three steps:\n",
    "* scaling each value to 0 mean and unit variance ✅\n",
    "* using a KNN imputer to impute missing data (removing np.nan). Set n_neighbors to 3 and weights to ‘distance’. Make sure you understand what this does. ✅\n",
    "* Using a logistic regression without regularisation to predict the class. ✅\n",
    "* Train on the same 80% split ✅\n",
    "* report the performance on the validation data (F1 macro; ROC AUC OvR). ✅\n",
    "* Then finally train on all your training data, and predict on the test set. ❌❌❌❌ (**Dieter removed this**)\n",
    "* In your notebook, write down why the order of imputation and scaling is now different compared to step 3, and what would happen if you do it the other way around. ✅\n"
   ]
  },
  {
   "cell_type": "code",
   "execution_count": 62,
   "metadata": {},
   "outputs": [
    {
     "name": "stdout",
     "output_type": "stream",
     "text": [
      "Fitting took 1.93e+02 seconds\n",
      "Accuracy of model on validation dataset: 0.643\n"
     ]
    }
   ],
   "source": [
    "imputer_4 = KNNImputer(missing_values=np.nan, n_neighbors=3, weights='distance')\n",
    "scaler_4 = StandardScaler()\n",
    "log_regressor_4 = LogisticRegression(penalty=None)\n",
    "\n",
    "model_4 = make_pipeline(scaler_4, imputer_4, log_regressor_4)\n",
    "\n",
    "# train model\n",
    "start = time.time()\n",
    "model_4.fit(train_data_3, train_lables_3)\n",
    "print(f\"Fitting took {time.time() - start:0.03} seconds\")\n",
    "\n",
    "# validate model\n",
    "accuracy_4 = model_4.score(val_data_3, val_lables_3)\n",
    "print(f\"Accuracy of model on validation dataset: {accuracy_4:0.03}\")"
   ]
  },
  {
   "cell_type": "code",
   "execution_count": null,
   "id": "5bda4c9e",
   "metadata": {},
   "outputs": [
    {
     "name": "stdout",
     "output_type": "stream",
     "text": [
      "Our model's scores on the training dataset:\n",
      "OvR AUC score: 1.0\n",
      "Macro F1 score: 1.0\n",
      "\n",
      "Getting score took 3.23e+02 seconds\n",
      "Our model's scores on the validation dataset:\n",
      "OvR AUC score: 0.877\n",
      "Macro F1 score: 0.642\n",
      "\n",
      "Getting score took 71.8 seconds\n"
     ]
    }
   ],
   "source": [
    "# Training\n",
    "start = time.time()\n",
    "# We use the predict_proba and not predict, since for ROC (and AUC) we need to predict for different thresholds\n",
    "train_4_OvR_AUC = roc_auc_score(train_lables_3, model_4.predict_proba(train_data_3), multi_class='ovr')\n",
    "train_4_macro_F1 = f1_score(train_lables_3, model_4.predict(train_data_3), average='macro')\n",
    "print(f\"Our model's scores on the training dataset:\")\n",
    "print(f\"OvR AUC score: {train_4_OvR_AUC:0.03}\\nMacro F1 score: {train_4_macro_F1:0.03}\")\n",
    "print(f\"Getting score took {time.time() - start:0.03} seconds\\n\")\n",
    "\n",
    "# Validation\n",
    "start = time.time()\n",
    "val_4_OvR_AUC = roc_auc_score(val_lables_3, model_4.predict_proba(val_data_3), multi_class='ovr')\n",
    "val_4_macro_F1 = f1_score(val_lables_3, model_4.predict(val_data_3), average='macro')\n",
    "print(f\"Our model's scores on the validation dataset:\")\n",
    "print(f\"OvR AUC score: {val_4_OvR_AUC:0.03}\\nMacro F1 score: {val_4_macro_F1:0.03}\\n\")\n",
    "print(f\"Getting score took {time.time() - start:0.03} seconds\")"
   ]
  },
  {
   "cell_type": "markdown",
   "id": "2e335fbb",
   "metadata": {},
   "source": [
    "**Why the order of imputation and scaling is now different compared to step 3, and what would happen if we do it the other way around?**\n",
    "\n",
    "The simple imputer we used in model 3 only uses the mean to impute the missing values.\n",
    "\n",
    "In contrast, with KNN imputation we search of the n most similar rows to the row with the missing value. Then, it calculate the average (if weight='distance' then this is a weighted average where the weights are the inverse of the distance from our row to this neighbor), and assigns this as the missing value.\n",
    "\n",
    "If the data is not scaled, then features with a larger range of values would have less effect on the neighbors chosen for KNN imputation than features with a smaller range. Less effect because we use weight that are the inverse of the distance, and a larger range of values would then on average give smaller weights.Therefore it's important to first scale the data.\n",
    "\n",
    "If we first impute using KNN and only then scale, then some features will dominante over other in the imputation."
   ]
  },
  {
   "cell_type": "markdown",
   "id": "9a322d94",
   "metadata": {},
   "source": [
    "### 5 - Simple imputation, and L2 regularized Logistic regression - with cross validation"
   ]
  },
  {
   "cell_type": "markdown",
   "id": "17c620f3",
   "metadata": {},
   "source": [
    "Regularise using an L2 penalty with a C of one. Note that C is 1/λ. ✅\n",
    "\n",
    "We will also use cross-validation now, as we know that this gives a better estimate of generalisation performance and uses training data more efficiently.\n",
    "\n",
    "Make a new Pipeline that:\n",
    "* uses the SimpleImputer again (KNN is slow) ✅\n",
    "* uses L2-regularised logistic regression for classification ✅\n",
    "\n",
    "For training the model:\n",
    "* use 10-fold cross-validation rather than a single split. Use sklearn.model_selection.cross_validate ✅\n",
    "* look at F1 macro and ROC AUC OvR averaged over the folds. ❌\n",
    "\n",
    "Finally\n",
    "* Report how much average cross-validation performance with regularisation included improves over unregularized logistic regression. ❌"
   ]
  },
  {
   "cell_type": "code",
   "execution_count": null,
   "id": "2b4cbbfa",
   "metadata": {},
   "outputs": [
    {
     "name": "stderr",
     "output_type": "stream",
     "text": [
      "c:\\Users\\samar\\miniconda3\\envs\\BMLB2025\\lib\\site-packages\\sklearn\\linear_model\\_logistic.py:465: ConvergenceWarning: lbfgs failed to converge (status=1):\n",
      "STOP: TOTAL NO. of ITERATIONS REACHED LIMIT.\n",
      "\n",
      "Increase the number of iterations (max_iter) or scale the data as shown in:\n",
      "    https://scikit-learn.org/stable/modules/preprocessing.html\n",
      "Please also refer to the documentation for alternative solver options:\n",
      "    https://scikit-learn.org/stable/modules/linear_model.html#logistic-regression\n",
      "  n_iter_i = _check_optimize_result(\n",
      "c:\\Users\\samar\\miniconda3\\envs\\BMLB2025\\lib\\site-packages\\sklearn\\model_selection\\_validation.py:978: UserWarning: Scoring failed. The score on this train-test partition for these parameters will be set to nan. Details: \n",
      "Traceback (most recent call last):\n",
      "  File \"c:\\Users\\samar\\miniconda3\\envs\\BMLB2025\\lib\\site-packages\\sklearn\\metrics\\_scorer.py\", line 140, in __call__\n",
      "    score = scorer._score(\n",
      "  File \"c:\\Users\\samar\\miniconda3\\envs\\BMLB2025\\lib\\site-packages\\sklearn\\metrics\\_scorer.py\", line 388, in _score\n",
      "    return self._sign * self._score_func(y_true, y_pred, **scoring_kwargs)\n",
      "  File \"c:\\Users\\samar\\miniconda3\\envs\\BMLB2025\\lib\\site-packages\\sklearn\\utils\\_param_validation.py\", line 216, in wrapper\n",
      "    return func(*args, **kwargs)\n",
      "  File \"c:\\Users\\samar\\miniconda3\\envs\\BMLB2025\\lib\\site-packages\\sklearn\\metrics\\_ranking.py\", line 634, in roc_auc_score\n",
      "    raise ValueError(\"multi_class must be in ('ovo', 'ovr')\")\n",
      "ValueError: multi_class must be in ('ovo', 'ovr')\n",
      "\n",
      "  warnings.warn(\n",
      "c:\\Users\\samar\\miniconda3\\envs\\BMLB2025\\lib\\site-packages\\sklearn\\linear_model\\_logistic.py:465: ConvergenceWarning: lbfgs failed to converge (status=1):\n",
      "STOP: TOTAL NO. of ITERATIONS REACHED LIMIT.\n",
      "\n",
      "Increase the number of iterations (max_iter) or scale the data as shown in:\n",
      "    https://scikit-learn.org/stable/modules/preprocessing.html\n",
      "Please also refer to the documentation for alternative solver options:\n",
      "    https://scikit-learn.org/stable/modules/linear_model.html#logistic-regression\n",
      "  n_iter_i = _check_optimize_result(\n",
      "c:\\Users\\samar\\miniconda3\\envs\\BMLB2025\\lib\\site-packages\\sklearn\\model_selection\\_validation.py:978: UserWarning: Scoring failed. The score on this train-test partition for these parameters will be set to nan. Details: \n",
      "Traceback (most recent call last):\n",
      "  File \"c:\\Users\\samar\\miniconda3\\envs\\BMLB2025\\lib\\site-packages\\sklearn\\metrics\\_scorer.py\", line 140, in __call__\n",
      "    score = scorer._score(\n",
      "  File \"c:\\Users\\samar\\miniconda3\\envs\\BMLB2025\\lib\\site-packages\\sklearn\\metrics\\_scorer.py\", line 388, in _score\n",
      "    return self._sign * self._score_func(y_true, y_pred, **scoring_kwargs)\n",
      "  File \"c:\\Users\\samar\\miniconda3\\envs\\BMLB2025\\lib\\site-packages\\sklearn\\utils\\_param_validation.py\", line 216, in wrapper\n",
      "    return func(*args, **kwargs)\n",
      "  File \"c:\\Users\\samar\\miniconda3\\envs\\BMLB2025\\lib\\site-packages\\sklearn\\metrics\\_ranking.py\", line 634, in roc_auc_score\n",
      "    raise ValueError(\"multi_class must be in ('ovo', 'ovr')\")\n",
      "ValueError: multi_class must be in ('ovo', 'ovr')\n",
      "\n",
      "  warnings.warn(\n",
      "c:\\Users\\samar\\miniconda3\\envs\\BMLB2025\\lib\\site-packages\\sklearn\\linear_model\\_logistic.py:465: ConvergenceWarning: lbfgs failed to converge (status=1):\n",
      "STOP: TOTAL NO. of ITERATIONS REACHED LIMIT.\n",
      "\n",
      "Increase the number of iterations (max_iter) or scale the data as shown in:\n",
      "    https://scikit-learn.org/stable/modules/preprocessing.html\n",
      "Please also refer to the documentation for alternative solver options:\n",
      "    https://scikit-learn.org/stable/modules/linear_model.html#logistic-regression\n",
      "  n_iter_i = _check_optimize_result(\n",
      "c:\\Users\\samar\\miniconda3\\envs\\BMLB2025\\lib\\site-packages\\sklearn\\model_selection\\_validation.py:978: UserWarning: Scoring failed. The score on this train-test partition for these parameters will be set to nan. Details: \n",
      "Traceback (most recent call last):\n",
      "  File \"c:\\Users\\samar\\miniconda3\\envs\\BMLB2025\\lib\\site-packages\\sklearn\\metrics\\_scorer.py\", line 140, in __call__\n",
      "    score = scorer._score(\n",
      "  File \"c:\\Users\\samar\\miniconda3\\envs\\BMLB2025\\lib\\site-packages\\sklearn\\metrics\\_scorer.py\", line 388, in _score\n",
      "    return self._sign * self._score_func(y_true, y_pred, **scoring_kwargs)\n",
      "  File \"c:\\Users\\samar\\miniconda3\\envs\\BMLB2025\\lib\\site-packages\\sklearn\\utils\\_param_validation.py\", line 216, in wrapper\n",
      "    return func(*args, **kwargs)\n",
      "  File \"c:\\Users\\samar\\miniconda3\\envs\\BMLB2025\\lib\\site-packages\\sklearn\\metrics\\_ranking.py\", line 634, in roc_auc_score\n",
      "    raise ValueError(\"multi_class must be in ('ovo', 'ovr')\")\n",
      "ValueError: multi_class must be in ('ovo', 'ovr')\n",
      "\n",
      "  warnings.warn(\n",
      "c:\\Users\\samar\\miniconda3\\envs\\BMLB2025\\lib\\site-packages\\sklearn\\linear_model\\_logistic.py:465: ConvergenceWarning: lbfgs failed to converge (status=1):\n",
      "STOP: TOTAL NO. of ITERATIONS REACHED LIMIT.\n",
      "\n",
      "Increase the number of iterations (max_iter) or scale the data as shown in:\n",
      "    https://scikit-learn.org/stable/modules/preprocessing.html\n",
      "Please also refer to the documentation for alternative solver options:\n",
      "    https://scikit-learn.org/stable/modules/linear_model.html#logistic-regression\n",
      "  n_iter_i = _check_optimize_result(\n",
      "c:\\Users\\samar\\miniconda3\\envs\\BMLB2025\\lib\\site-packages\\sklearn\\model_selection\\_validation.py:978: UserWarning: Scoring failed. The score on this train-test partition for these parameters will be set to nan. Details: \n",
      "Traceback (most recent call last):\n",
      "  File \"c:\\Users\\samar\\miniconda3\\envs\\BMLB2025\\lib\\site-packages\\sklearn\\metrics\\_scorer.py\", line 140, in __call__\n",
      "    score = scorer._score(\n",
      "  File \"c:\\Users\\samar\\miniconda3\\envs\\BMLB2025\\lib\\site-packages\\sklearn\\metrics\\_scorer.py\", line 388, in _score\n",
      "    return self._sign * self._score_func(y_true, y_pred, **scoring_kwargs)\n",
      "  File \"c:\\Users\\samar\\miniconda3\\envs\\BMLB2025\\lib\\site-packages\\sklearn\\utils\\_param_validation.py\", line 216, in wrapper\n",
      "    return func(*args, **kwargs)\n",
      "  File \"c:\\Users\\samar\\miniconda3\\envs\\BMLB2025\\lib\\site-packages\\sklearn\\metrics\\_ranking.py\", line 634, in roc_auc_score\n",
      "    raise ValueError(\"multi_class must be in ('ovo', 'ovr')\")\n",
      "ValueError: multi_class must be in ('ovo', 'ovr')\n",
      "\n",
      "  warnings.warn(\n",
      "c:\\Users\\samar\\miniconda3\\envs\\BMLB2025\\lib\\site-packages\\sklearn\\linear_model\\_logistic.py:465: ConvergenceWarning: lbfgs failed to converge (status=1):\n",
      "STOP: TOTAL NO. of ITERATIONS REACHED LIMIT.\n",
      "\n",
      "Increase the number of iterations (max_iter) or scale the data as shown in:\n",
      "    https://scikit-learn.org/stable/modules/preprocessing.html\n",
      "Please also refer to the documentation for alternative solver options:\n",
      "    https://scikit-learn.org/stable/modules/linear_model.html#logistic-regression\n",
      "  n_iter_i = _check_optimize_result(\n",
      "c:\\Users\\samar\\miniconda3\\envs\\BMLB2025\\lib\\site-packages\\sklearn\\model_selection\\_validation.py:978: UserWarning: Scoring failed. The score on this train-test partition for these parameters will be set to nan. Details: \n",
      "Traceback (most recent call last):\n",
      "  File \"c:\\Users\\samar\\miniconda3\\envs\\BMLB2025\\lib\\site-packages\\sklearn\\metrics\\_scorer.py\", line 140, in __call__\n",
      "    score = scorer._score(\n",
      "  File \"c:\\Users\\samar\\miniconda3\\envs\\BMLB2025\\lib\\site-packages\\sklearn\\metrics\\_scorer.py\", line 388, in _score\n",
      "    return self._sign * self._score_func(y_true, y_pred, **scoring_kwargs)\n",
      "  File \"c:\\Users\\samar\\miniconda3\\envs\\BMLB2025\\lib\\site-packages\\sklearn\\utils\\_param_validation.py\", line 216, in wrapper\n",
      "    return func(*args, **kwargs)\n",
      "  File \"c:\\Users\\samar\\miniconda3\\envs\\BMLB2025\\lib\\site-packages\\sklearn\\metrics\\_ranking.py\", line 634, in roc_auc_score\n",
      "    raise ValueError(\"multi_class must be in ('ovo', 'ovr')\")\n",
      "ValueError: multi_class must be in ('ovo', 'ovr')\n",
      "\n",
      "  warnings.warn(\n"
     ]
    },
    {
     "ename": "KeyboardInterrupt",
     "evalue": "",
     "output_type": "error",
     "traceback": [
      "\u001b[1;31m---------------------------------------------------------------------------\u001b[0m",
      "\u001b[1;31mKeyboardInterrupt\u001b[0m                         Traceback (most recent call last)",
      "Cell \u001b[1;32mIn[69], line 11\u001b[0m\n\u001b[0;32m      9\u001b[0m \u001b[38;5;66;03m# train model\u001b[39;00m\n\u001b[0;32m     10\u001b[0m start \u001b[38;5;241m=\u001b[39m time\u001b[38;5;241m.\u001b[39mtime()\n\u001b[1;32m---> 11\u001b[0m cv_result \u001b[38;5;241m=\u001b[39m \u001b[43mcross_validate\u001b[49m\u001b[43m(\u001b[49m\u001b[43mmodel_5\u001b[49m\u001b[43m,\u001b[49m\u001b[43m \u001b[49m\u001b[43mX_downSampled\u001b[49m\u001b[43m,\u001b[49m\u001b[43m \u001b[49m\u001b[43my_downSampled\u001b[49m\u001b[43m,\u001b[49m\u001b[43m \u001b[49m\u001b[43mcv\u001b[49m\u001b[38;5;241;43m=\u001b[39;49m\u001b[38;5;241;43m10\u001b[39;49m\u001b[43m,\u001b[49m\u001b[43m \u001b[49m\u001b[43mscoring\u001b[49m\u001b[38;5;241;43m=\u001b[39;49m\u001b[43m[\u001b[49m\u001b[38;5;124;43m'\u001b[39;49m\u001b[38;5;124;43mf1_macro\u001b[39;49m\u001b[38;5;124;43m'\u001b[39;49m\u001b[43m,\u001b[49m\u001b[43m \u001b[49m\u001b[38;5;124;43m'\u001b[39;49m\u001b[38;5;124;43mroc_auc\u001b[39;49m\u001b[38;5;124;43m'\u001b[39;49m\u001b[43m]\u001b[49m\u001b[43m)\u001b[49m\n\u001b[0;32m     12\u001b[0m \u001b[38;5;28mprint\u001b[39m(\u001b[38;5;124mf\u001b[39m\u001b[38;5;124m\"\u001b[39m\u001b[38;5;124mFitting took \u001b[39m\u001b[38;5;132;01m{\u001b[39;00mtime\u001b[38;5;241m.\u001b[39mtime()\u001b[38;5;250m \u001b[39m\u001b[38;5;241m-\u001b[39m\u001b[38;5;250m \u001b[39mstart\u001b[38;5;132;01m:\u001b[39;00m\u001b[38;5;124m0.03\u001b[39m\u001b[38;5;132;01m}\u001b[39;00m\u001b[38;5;124m seconds\u001b[39m\u001b[38;5;124m\"\u001b[39m)\n\u001b[0;32m     15\u001b[0m \u001b[38;5;66;03m# validate model\u001b[39;00m\n\u001b[0;32m     16\u001b[0m \u001b[38;5;66;03m# accuracy_5 = model_3.score(val_data_3, val_lables_3)\u001b[39;00m\n\u001b[0;32m     17\u001b[0m \u001b[38;5;66;03m# print(f\"Accuracy of model on validation dataset: {accuracy_3:0.03}\")\u001b[39;00m\n",
      "File \u001b[1;32mc:\\Users\\samar\\miniconda3\\envs\\BMLB2025\\lib\\site-packages\\sklearn\\utils\\_param_validation.py:216\u001b[0m, in \u001b[0;36mvalidate_params.<locals>.decorator.<locals>.wrapper\u001b[1;34m(*args, **kwargs)\u001b[0m\n\u001b[0;32m    210\u001b[0m \u001b[38;5;28;01mtry\u001b[39;00m:\n\u001b[0;32m    211\u001b[0m     \u001b[38;5;28;01mwith\u001b[39;00m config_context(\n\u001b[0;32m    212\u001b[0m         skip_parameter_validation\u001b[38;5;241m=\u001b[39m(\n\u001b[0;32m    213\u001b[0m             prefer_skip_nested_validation \u001b[38;5;129;01mor\u001b[39;00m global_skip_validation\n\u001b[0;32m    214\u001b[0m         )\n\u001b[0;32m    215\u001b[0m     ):\n\u001b[1;32m--> 216\u001b[0m         \u001b[38;5;28;01mreturn\u001b[39;00m func(\u001b[38;5;241m*\u001b[39margs, \u001b[38;5;241m*\u001b[39m\u001b[38;5;241m*\u001b[39mkwargs)\n\u001b[0;32m    217\u001b[0m \u001b[38;5;28;01mexcept\u001b[39;00m InvalidParameterError \u001b[38;5;28;01mas\u001b[39;00m e:\n\u001b[0;32m    218\u001b[0m     \u001b[38;5;66;03m# When the function is just a wrapper around an estimator, we allow\u001b[39;00m\n\u001b[0;32m    219\u001b[0m     \u001b[38;5;66;03m# the function to delegate validation to the estimator, but we replace\u001b[39;00m\n\u001b[0;32m    220\u001b[0m     \u001b[38;5;66;03m# the name of the estimator by the name of the function in the error\u001b[39;00m\n\u001b[0;32m    221\u001b[0m     \u001b[38;5;66;03m# message to avoid confusion.\u001b[39;00m\n\u001b[0;32m    222\u001b[0m     msg \u001b[38;5;241m=\u001b[39m re\u001b[38;5;241m.\u001b[39msub(\n\u001b[0;32m    223\u001b[0m         \u001b[38;5;124mr\u001b[39m\u001b[38;5;124m\"\u001b[39m\u001b[38;5;124mparameter of \u001b[39m\u001b[38;5;124m\\\u001b[39m\u001b[38;5;124mw+ must be\u001b[39m\u001b[38;5;124m\"\u001b[39m,\n\u001b[0;32m    224\u001b[0m         \u001b[38;5;124mf\u001b[39m\u001b[38;5;124m\"\u001b[39m\u001b[38;5;124mparameter of \u001b[39m\u001b[38;5;132;01m{\u001b[39;00mfunc\u001b[38;5;241m.\u001b[39m\u001b[38;5;18m__qualname__\u001b[39m\u001b[38;5;132;01m}\u001b[39;00m\u001b[38;5;124m must be\u001b[39m\u001b[38;5;124m\"\u001b[39m,\n\u001b[0;32m    225\u001b[0m         \u001b[38;5;28mstr\u001b[39m(e),\n\u001b[0;32m    226\u001b[0m     )\n",
      "File \u001b[1;32mc:\\Users\\samar\\miniconda3\\envs\\BMLB2025\\lib\\site-packages\\sklearn\\model_selection\\_validation.py:411\u001b[0m, in \u001b[0;36mcross_validate\u001b[1;34m(estimator, X, y, groups, scoring, cv, n_jobs, verbose, params, pre_dispatch, return_train_score, return_estimator, return_indices, error_score)\u001b[0m\n\u001b[0;32m    408\u001b[0m \u001b[38;5;66;03m# We clone the estimator to make sure that all the folds are\u001b[39;00m\n\u001b[0;32m    409\u001b[0m \u001b[38;5;66;03m# independent, and that it is pickle-able.\u001b[39;00m\n\u001b[0;32m    410\u001b[0m parallel \u001b[38;5;241m=\u001b[39m Parallel(n_jobs\u001b[38;5;241m=\u001b[39mn_jobs, verbose\u001b[38;5;241m=\u001b[39mverbose, pre_dispatch\u001b[38;5;241m=\u001b[39mpre_dispatch)\n\u001b[1;32m--> 411\u001b[0m results \u001b[38;5;241m=\u001b[39m \u001b[43mparallel\u001b[49m\u001b[43m(\u001b[49m\n\u001b[0;32m    412\u001b[0m \u001b[43m    \u001b[49m\u001b[43mdelayed\u001b[49m\u001b[43m(\u001b[49m\u001b[43m_fit_and_score\u001b[49m\u001b[43m)\u001b[49m\u001b[43m(\u001b[49m\n\u001b[0;32m    413\u001b[0m \u001b[43m        \u001b[49m\u001b[43mclone\u001b[49m\u001b[43m(\u001b[49m\u001b[43mestimator\u001b[49m\u001b[43m)\u001b[49m\u001b[43m,\u001b[49m\n\u001b[0;32m    414\u001b[0m \u001b[43m        \u001b[49m\u001b[43mX\u001b[49m\u001b[43m,\u001b[49m\n\u001b[0;32m    415\u001b[0m \u001b[43m        \u001b[49m\u001b[43my\u001b[49m\u001b[43m,\u001b[49m\n\u001b[0;32m    416\u001b[0m \u001b[43m        \u001b[49m\u001b[43mscorer\u001b[49m\u001b[38;5;241;43m=\u001b[39;49m\u001b[43mscorers\u001b[49m\u001b[43m,\u001b[49m\n\u001b[0;32m    417\u001b[0m \u001b[43m        \u001b[49m\u001b[43mtrain\u001b[49m\u001b[38;5;241;43m=\u001b[39;49m\u001b[43mtrain\u001b[49m\u001b[43m,\u001b[49m\n\u001b[0;32m    418\u001b[0m \u001b[43m        \u001b[49m\u001b[43mtest\u001b[49m\u001b[38;5;241;43m=\u001b[39;49m\u001b[43mtest\u001b[49m\u001b[43m,\u001b[49m\n\u001b[0;32m    419\u001b[0m \u001b[43m        \u001b[49m\u001b[43mverbose\u001b[49m\u001b[38;5;241;43m=\u001b[39;49m\u001b[43mverbose\u001b[49m\u001b[43m,\u001b[49m\n\u001b[0;32m    420\u001b[0m \u001b[43m        \u001b[49m\u001b[43mparameters\u001b[49m\u001b[38;5;241;43m=\u001b[39;49m\u001b[38;5;28;43;01mNone\u001b[39;49;00m\u001b[43m,\u001b[49m\n\u001b[0;32m    421\u001b[0m \u001b[43m        \u001b[49m\u001b[43mfit_params\u001b[49m\u001b[38;5;241;43m=\u001b[39;49m\u001b[43mrouted_params\u001b[49m\u001b[38;5;241;43m.\u001b[39;49m\u001b[43mestimator\u001b[49m\u001b[38;5;241;43m.\u001b[39;49m\u001b[43mfit\u001b[49m\u001b[43m,\u001b[49m\n\u001b[0;32m    422\u001b[0m \u001b[43m        \u001b[49m\u001b[43mscore_params\u001b[49m\u001b[38;5;241;43m=\u001b[39;49m\u001b[43mrouted_params\u001b[49m\u001b[38;5;241;43m.\u001b[39;49m\u001b[43mscorer\u001b[49m\u001b[38;5;241;43m.\u001b[39;49m\u001b[43mscore\u001b[49m\u001b[43m,\u001b[49m\n\u001b[0;32m    423\u001b[0m \u001b[43m        \u001b[49m\u001b[43mreturn_train_score\u001b[49m\u001b[38;5;241;43m=\u001b[39;49m\u001b[43mreturn_train_score\u001b[49m\u001b[43m,\u001b[49m\n\u001b[0;32m    424\u001b[0m \u001b[43m        \u001b[49m\u001b[43mreturn_times\u001b[49m\u001b[38;5;241;43m=\u001b[39;49m\u001b[38;5;28;43;01mTrue\u001b[39;49;00m\u001b[43m,\u001b[49m\n\u001b[0;32m    425\u001b[0m \u001b[43m        \u001b[49m\u001b[43mreturn_estimator\u001b[49m\u001b[38;5;241;43m=\u001b[39;49m\u001b[43mreturn_estimator\u001b[49m\u001b[43m,\u001b[49m\n\u001b[0;32m    426\u001b[0m \u001b[43m        \u001b[49m\u001b[43merror_score\u001b[49m\u001b[38;5;241;43m=\u001b[39;49m\u001b[43merror_score\u001b[49m\u001b[43m,\u001b[49m\n\u001b[0;32m    427\u001b[0m \u001b[43m    \u001b[49m\u001b[43m)\u001b[49m\n\u001b[0;32m    428\u001b[0m \u001b[43m    \u001b[49m\u001b[38;5;28;43;01mfor\u001b[39;49;00m\u001b[43m \u001b[49m\u001b[43mtrain\u001b[49m\u001b[43m,\u001b[49m\u001b[43m \u001b[49m\u001b[43mtest\u001b[49m\u001b[43m \u001b[49m\u001b[38;5;129;43;01min\u001b[39;49;00m\u001b[43m \u001b[49m\u001b[43mindices\u001b[49m\n\u001b[0;32m    429\u001b[0m \u001b[43m\u001b[49m\u001b[43m)\u001b[49m\n\u001b[0;32m    431\u001b[0m _warn_or_raise_about_fit_failures(results, error_score)\n\u001b[0;32m    433\u001b[0m \u001b[38;5;66;03m# For callable scoring, the return type is only know after calling. If the\u001b[39;00m\n\u001b[0;32m    434\u001b[0m \u001b[38;5;66;03m# return type is a dictionary, the error scores can now be inserted with\u001b[39;00m\n\u001b[0;32m    435\u001b[0m \u001b[38;5;66;03m# the correct key.\u001b[39;00m\n",
      "File \u001b[1;32mc:\\Users\\samar\\miniconda3\\envs\\BMLB2025\\lib\\site-packages\\sklearn\\utils\\parallel.py:77\u001b[0m, in \u001b[0;36mParallel.__call__\u001b[1;34m(self, iterable)\u001b[0m\n\u001b[0;32m     72\u001b[0m config \u001b[38;5;241m=\u001b[39m get_config()\n\u001b[0;32m     73\u001b[0m iterable_with_config \u001b[38;5;241m=\u001b[39m (\n\u001b[0;32m     74\u001b[0m     (_with_config(delayed_func, config), args, kwargs)\n\u001b[0;32m     75\u001b[0m     \u001b[38;5;28;01mfor\u001b[39;00m delayed_func, args, kwargs \u001b[38;5;129;01min\u001b[39;00m iterable\n\u001b[0;32m     76\u001b[0m )\n\u001b[1;32m---> 77\u001b[0m \u001b[38;5;28;01mreturn\u001b[39;00m \u001b[38;5;28;43msuper\u001b[39;49m\u001b[43m(\u001b[49m\u001b[43m)\u001b[49m\u001b[38;5;241;43m.\u001b[39;49m\u001b[38;5;21;43m__call__\u001b[39;49m\u001b[43m(\u001b[49m\u001b[43miterable_with_config\u001b[49m\u001b[43m)\u001b[49m\n",
      "File \u001b[1;32mc:\\Users\\samar\\miniconda3\\envs\\BMLB2025\\lib\\site-packages\\joblib\\parallel.py:1918\u001b[0m, in \u001b[0;36mParallel.__call__\u001b[1;34m(self, iterable)\u001b[0m\n\u001b[0;32m   1916\u001b[0m     output \u001b[38;5;241m=\u001b[39m \u001b[38;5;28mself\u001b[39m\u001b[38;5;241m.\u001b[39m_get_sequential_output(iterable)\n\u001b[0;32m   1917\u001b[0m     \u001b[38;5;28mnext\u001b[39m(output)\n\u001b[1;32m-> 1918\u001b[0m     \u001b[38;5;28;01mreturn\u001b[39;00m output \u001b[38;5;28;01mif\u001b[39;00m \u001b[38;5;28mself\u001b[39m\u001b[38;5;241m.\u001b[39mreturn_generator \u001b[38;5;28;01melse\u001b[39;00m \u001b[38;5;28;43mlist\u001b[39;49m\u001b[43m(\u001b[49m\u001b[43moutput\u001b[49m\u001b[43m)\u001b[49m\n\u001b[0;32m   1920\u001b[0m \u001b[38;5;66;03m# Let's create an ID that uniquely identifies the current call. If the\u001b[39;00m\n\u001b[0;32m   1921\u001b[0m \u001b[38;5;66;03m# call is interrupted early and that the same instance is immediately\u001b[39;00m\n\u001b[0;32m   1922\u001b[0m \u001b[38;5;66;03m# re-used, this id will be used to prevent workers that were\u001b[39;00m\n\u001b[0;32m   1923\u001b[0m \u001b[38;5;66;03m# concurrently finalizing a task from the previous call to run the\u001b[39;00m\n\u001b[0;32m   1924\u001b[0m \u001b[38;5;66;03m# callback.\u001b[39;00m\n\u001b[0;32m   1925\u001b[0m \u001b[38;5;28;01mwith\u001b[39;00m \u001b[38;5;28mself\u001b[39m\u001b[38;5;241m.\u001b[39m_lock:\n",
      "File \u001b[1;32mc:\\Users\\samar\\miniconda3\\envs\\BMLB2025\\lib\\site-packages\\joblib\\parallel.py:1847\u001b[0m, in \u001b[0;36mParallel._get_sequential_output\u001b[1;34m(self, iterable)\u001b[0m\n\u001b[0;32m   1845\u001b[0m \u001b[38;5;28mself\u001b[39m\u001b[38;5;241m.\u001b[39mn_dispatched_batches \u001b[38;5;241m+\u001b[39m\u001b[38;5;241m=\u001b[39m \u001b[38;5;241m1\u001b[39m\n\u001b[0;32m   1846\u001b[0m \u001b[38;5;28mself\u001b[39m\u001b[38;5;241m.\u001b[39mn_dispatched_tasks \u001b[38;5;241m+\u001b[39m\u001b[38;5;241m=\u001b[39m \u001b[38;5;241m1\u001b[39m\n\u001b[1;32m-> 1847\u001b[0m res \u001b[38;5;241m=\u001b[39m func(\u001b[38;5;241m*\u001b[39margs, \u001b[38;5;241m*\u001b[39m\u001b[38;5;241m*\u001b[39mkwargs)\n\u001b[0;32m   1848\u001b[0m \u001b[38;5;28mself\u001b[39m\u001b[38;5;241m.\u001b[39mn_completed_tasks \u001b[38;5;241m+\u001b[39m\u001b[38;5;241m=\u001b[39m \u001b[38;5;241m1\u001b[39m\n\u001b[0;32m   1849\u001b[0m \u001b[38;5;28mself\u001b[39m\u001b[38;5;241m.\u001b[39mprint_progress()\n",
      "File \u001b[1;32mc:\\Users\\samar\\miniconda3\\envs\\BMLB2025\\lib\\site-packages\\sklearn\\utils\\parallel.py:139\u001b[0m, in \u001b[0;36m_FuncWrapper.__call__\u001b[1;34m(self, *args, **kwargs)\u001b[0m\n\u001b[0;32m    137\u001b[0m     config \u001b[38;5;241m=\u001b[39m {}\n\u001b[0;32m    138\u001b[0m \u001b[38;5;28;01mwith\u001b[39;00m config_context(\u001b[38;5;241m*\u001b[39m\u001b[38;5;241m*\u001b[39mconfig):\n\u001b[1;32m--> 139\u001b[0m     \u001b[38;5;28;01mreturn\u001b[39;00m \u001b[38;5;28mself\u001b[39m\u001b[38;5;241m.\u001b[39mfunction(\u001b[38;5;241m*\u001b[39margs, \u001b[38;5;241m*\u001b[39m\u001b[38;5;241m*\u001b[39mkwargs)\n",
      "File \u001b[1;32mc:\\Users\\samar\\miniconda3\\envs\\BMLB2025\\lib\\site-packages\\sklearn\\model_selection\\_validation.py:866\u001b[0m, in \u001b[0;36m_fit_and_score\u001b[1;34m(estimator, X, y, scorer, train, test, verbose, parameters, fit_params, score_params, return_train_score, return_parameters, return_n_test_samples, return_times, return_estimator, split_progress, candidate_progress, error_score)\u001b[0m\n\u001b[0;32m    864\u001b[0m         estimator\u001b[38;5;241m.\u001b[39mfit(X_train, \u001b[38;5;241m*\u001b[39m\u001b[38;5;241m*\u001b[39mfit_params)\n\u001b[0;32m    865\u001b[0m     \u001b[38;5;28;01melse\u001b[39;00m:\n\u001b[1;32m--> 866\u001b[0m         estimator\u001b[38;5;241m.\u001b[39mfit(X_train, y_train, \u001b[38;5;241m*\u001b[39m\u001b[38;5;241m*\u001b[39mfit_params)\n\u001b[0;32m    868\u001b[0m \u001b[38;5;28;01mexcept\u001b[39;00m \u001b[38;5;167;01mException\u001b[39;00m:\n\u001b[0;32m    869\u001b[0m     \u001b[38;5;66;03m# Note fit time as time until error\u001b[39;00m\n\u001b[0;32m    870\u001b[0m     fit_time \u001b[38;5;241m=\u001b[39m time\u001b[38;5;241m.\u001b[39mtime() \u001b[38;5;241m-\u001b[39m start_time\n",
      "File \u001b[1;32mc:\\Users\\samar\\miniconda3\\envs\\BMLB2025\\lib\\site-packages\\sklearn\\base.py:1389\u001b[0m, in \u001b[0;36m_fit_context.<locals>.decorator.<locals>.wrapper\u001b[1;34m(estimator, *args, **kwargs)\u001b[0m\n\u001b[0;32m   1382\u001b[0m     estimator\u001b[38;5;241m.\u001b[39m_validate_params()\n\u001b[0;32m   1384\u001b[0m \u001b[38;5;28;01mwith\u001b[39;00m config_context(\n\u001b[0;32m   1385\u001b[0m     skip_parameter_validation\u001b[38;5;241m=\u001b[39m(\n\u001b[0;32m   1386\u001b[0m         prefer_skip_nested_validation \u001b[38;5;129;01mor\u001b[39;00m global_skip_validation\n\u001b[0;32m   1387\u001b[0m     )\n\u001b[0;32m   1388\u001b[0m ):\n\u001b[1;32m-> 1389\u001b[0m     \u001b[38;5;28;01mreturn\u001b[39;00m fit_method(estimator, \u001b[38;5;241m*\u001b[39margs, \u001b[38;5;241m*\u001b[39m\u001b[38;5;241m*\u001b[39mkwargs)\n",
      "File \u001b[1;32mc:\\Users\\samar\\miniconda3\\envs\\BMLB2025\\lib\\site-packages\\sklearn\\pipeline.py:662\u001b[0m, in \u001b[0;36mPipeline.fit\u001b[1;34m(self, X, y, **params)\u001b[0m\n\u001b[0;32m    656\u001b[0m     \u001b[38;5;28;01mif\u001b[39;00m \u001b[38;5;28mself\u001b[39m\u001b[38;5;241m.\u001b[39m_final_estimator \u001b[38;5;241m!=\u001b[39m \u001b[38;5;124m\"\u001b[39m\u001b[38;5;124mpassthrough\u001b[39m\u001b[38;5;124m\"\u001b[39m:\n\u001b[0;32m    657\u001b[0m         last_step_params \u001b[38;5;241m=\u001b[39m \u001b[38;5;28mself\u001b[39m\u001b[38;5;241m.\u001b[39m_get_metadata_for_step(\n\u001b[0;32m    658\u001b[0m             step_idx\u001b[38;5;241m=\u001b[39m\u001b[38;5;28mlen\u001b[39m(\u001b[38;5;28mself\u001b[39m) \u001b[38;5;241m-\u001b[39m \u001b[38;5;241m1\u001b[39m,\n\u001b[0;32m    659\u001b[0m             step_params\u001b[38;5;241m=\u001b[39mrouted_params[\u001b[38;5;28mself\u001b[39m\u001b[38;5;241m.\u001b[39msteps[\u001b[38;5;241m-\u001b[39m\u001b[38;5;241m1\u001b[39m][\u001b[38;5;241m0\u001b[39m]],\n\u001b[0;32m    660\u001b[0m             all_params\u001b[38;5;241m=\u001b[39mparams,\n\u001b[0;32m    661\u001b[0m         )\n\u001b[1;32m--> 662\u001b[0m         \u001b[38;5;28mself\u001b[39m\u001b[38;5;241m.\u001b[39m_final_estimator\u001b[38;5;241m.\u001b[39mfit(Xt, y, \u001b[38;5;241m*\u001b[39m\u001b[38;5;241m*\u001b[39mlast_step_params[\u001b[38;5;124m\"\u001b[39m\u001b[38;5;124mfit\u001b[39m\u001b[38;5;124m\"\u001b[39m])\n\u001b[0;32m    664\u001b[0m \u001b[38;5;28;01mreturn\u001b[39;00m \u001b[38;5;28mself\u001b[39m\n",
      "File \u001b[1;32mc:\\Users\\samar\\miniconda3\\envs\\BMLB2025\\lib\\site-packages\\sklearn\\base.py:1389\u001b[0m, in \u001b[0;36m_fit_context.<locals>.decorator.<locals>.wrapper\u001b[1;34m(estimator, *args, **kwargs)\u001b[0m\n\u001b[0;32m   1382\u001b[0m     estimator\u001b[38;5;241m.\u001b[39m_validate_params()\n\u001b[0;32m   1384\u001b[0m \u001b[38;5;28;01mwith\u001b[39;00m config_context(\n\u001b[0;32m   1385\u001b[0m     skip_parameter_validation\u001b[38;5;241m=\u001b[39m(\n\u001b[0;32m   1386\u001b[0m         prefer_skip_nested_validation \u001b[38;5;129;01mor\u001b[39;00m global_skip_validation\n\u001b[0;32m   1387\u001b[0m     )\n\u001b[0;32m   1388\u001b[0m ):\n\u001b[1;32m-> 1389\u001b[0m     \u001b[38;5;28;01mreturn\u001b[39;00m fit_method(estimator, \u001b[38;5;241m*\u001b[39margs, \u001b[38;5;241m*\u001b[39m\u001b[38;5;241m*\u001b[39mkwargs)\n",
      "File \u001b[1;32mc:\\Users\\samar\\miniconda3\\envs\\BMLB2025\\lib\\site-packages\\sklearn\\linear_model\\_logistic.py:1350\u001b[0m, in \u001b[0;36mLogisticRegression.fit\u001b[1;34m(self, X, y, sample_weight)\u001b[0m\n\u001b[0;32m   1347\u001b[0m \u001b[38;5;28;01melse\u001b[39;00m:\n\u001b[0;32m   1348\u001b[0m     n_threads \u001b[38;5;241m=\u001b[39m \u001b[38;5;241m1\u001b[39m\n\u001b[1;32m-> 1350\u001b[0m fold_coefs_ \u001b[38;5;241m=\u001b[39m \u001b[43mParallel\u001b[49m\u001b[43m(\u001b[49m\u001b[43mn_jobs\u001b[49m\u001b[38;5;241;43m=\u001b[39;49m\u001b[38;5;28;43mself\u001b[39;49m\u001b[38;5;241;43m.\u001b[39;49m\u001b[43mn_jobs\u001b[49m\u001b[43m,\u001b[49m\u001b[43m \u001b[49m\u001b[43mverbose\u001b[49m\u001b[38;5;241;43m=\u001b[39;49m\u001b[38;5;28;43mself\u001b[39;49m\u001b[38;5;241;43m.\u001b[39;49m\u001b[43mverbose\u001b[49m\u001b[43m,\u001b[49m\u001b[43m \u001b[49m\u001b[43mprefer\u001b[49m\u001b[38;5;241;43m=\u001b[39;49m\u001b[43mprefer\u001b[49m\u001b[43m)\u001b[49m\u001b[43m(\u001b[49m\n\u001b[0;32m   1351\u001b[0m \u001b[43m    \u001b[49m\u001b[43mpath_func\u001b[49m\u001b[43m(\u001b[49m\n\u001b[0;32m   1352\u001b[0m \u001b[43m        \u001b[49m\u001b[43mX\u001b[49m\u001b[43m,\u001b[49m\n\u001b[0;32m   1353\u001b[0m \u001b[43m        \u001b[49m\u001b[43my\u001b[49m\u001b[43m,\u001b[49m\n\u001b[0;32m   1354\u001b[0m \u001b[43m        \u001b[49m\u001b[43mpos_class\u001b[49m\u001b[38;5;241;43m=\u001b[39;49m\u001b[43mclass_\u001b[49m\u001b[43m,\u001b[49m\n\u001b[0;32m   1355\u001b[0m \u001b[43m        \u001b[49m\u001b[43mCs\u001b[49m\u001b[38;5;241;43m=\u001b[39;49m\u001b[43m[\u001b[49m\u001b[43mC_\u001b[49m\u001b[43m]\u001b[49m\u001b[43m,\u001b[49m\n\u001b[0;32m   1356\u001b[0m \u001b[43m        \u001b[49m\u001b[43ml1_ratio\u001b[49m\u001b[38;5;241;43m=\u001b[39;49m\u001b[38;5;28;43mself\u001b[39;49m\u001b[38;5;241;43m.\u001b[39;49m\u001b[43ml1_ratio\u001b[49m\u001b[43m,\u001b[49m\n\u001b[0;32m   1357\u001b[0m \u001b[43m        \u001b[49m\u001b[43mfit_intercept\u001b[49m\u001b[38;5;241;43m=\u001b[39;49m\u001b[38;5;28;43mself\u001b[39;49m\u001b[38;5;241;43m.\u001b[39;49m\u001b[43mfit_intercept\u001b[49m\u001b[43m,\u001b[49m\n\u001b[0;32m   1358\u001b[0m \u001b[43m        \u001b[49m\u001b[43mtol\u001b[49m\u001b[38;5;241;43m=\u001b[39;49m\u001b[38;5;28;43mself\u001b[39;49m\u001b[38;5;241;43m.\u001b[39;49m\u001b[43mtol\u001b[49m\u001b[43m,\u001b[49m\n\u001b[0;32m   1359\u001b[0m \u001b[43m        \u001b[49m\u001b[43mverbose\u001b[49m\u001b[38;5;241;43m=\u001b[39;49m\u001b[38;5;28;43mself\u001b[39;49m\u001b[38;5;241;43m.\u001b[39;49m\u001b[43mverbose\u001b[49m\u001b[43m,\u001b[49m\n\u001b[0;32m   1360\u001b[0m \u001b[43m        \u001b[49m\u001b[43msolver\u001b[49m\u001b[38;5;241;43m=\u001b[39;49m\u001b[43msolver\u001b[49m\u001b[43m,\u001b[49m\n\u001b[0;32m   1361\u001b[0m \u001b[43m        \u001b[49m\u001b[43mmulti_class\u001b[49m\u001b[38;5;241;43m=\u001b[39;49m\u001b[43mmulti_class\u001b[49m\u001b[43m,\u001b[49m\n\u001b[0;32m   1362\u001b[0m \u001b[43m        \u001b[49m\u001b[43mmax_iter\u001b[49m\u001b[38;5;241;43m=\u001b[39;49m\u001b[38;5;28;43mself\u001b[39;49m\u001b[38;5;241;43m.\u001b[39;49m\u001b[43mmax_iter\u001b[49m\u001b[43m,\u001b[49m\n\u001b[0;32m   1363\u001b[0m \u001b[43m        \u001b[49m\u001b[43mclass_weight\u001b[49m\u001b[38;5;241;43m=\u001b[39;49m\u001b[38;5;28;43mself\u001b[39;49m\u001b[38;5;241;43m.\u001b[39;49m\u001b[43mclass_weight\u001b[49m\u001b[43m,\u001b[49m\n\u001b[0;32m   1364\u001b[0m \u001b[43m        \u001b[49m\u001b[43mcheck_input\u001b[49m\u001b[38;5;241;43m=\u001b[39;49m\u001b[38;5;28;43;01mFalse\u001b[39;49;00m\u001b[43m,\u001b[49m\n\u001b[0;32m   1365\u001b[0m \u001b[43m        \u001b[49m\u001b[43mrandom_state\u001b[49m\u001b[38;5;241;43m=\u001b[39;49m\u001b[38;5;28;43mself\u001b[39;49m\u001b[38;5;241;43m.\u001b[39;49m\u001b[43mrandom_state\u001b[49m\u001b[43m,\u001b[49m\n\u001b[0;32m   1366\u001b[0m \u001b[43m        \u001b[49m\u001b[43mcoef\u001b[49m\u001b[38;5;241;43m=\u001b[39;49m\u001b[43mwarm_start_coef_\u001b[49m\u001b[43m,\u001b[49m\n\u001b[0;32m   1367\u001b[0m \u001b[43m        \u001b[49m\u001b[43mpenalty\u001b[49m\u001b[38;5;241;43m=\u001b[39;49m\u001b[43mpenalty\u001b[49m\u001b[43m,\u001b[49m\n\u001b[0;32m   1368\u001b[0m \u001b[43m        \u001b[49m\u001b[43mmax_squared_sum\u001b[49m\u001b[38;5;241;43m=\u001b[39;49m\u001b[43mmax_squared_sum\u001b[49m\u001b[43m,\u001b[49m\n\u001b[0;32m   1369\u001b[0m \u001b[43m        \u001b[49m\u001b[43msample_weight\u001b[49m\u001b[38;5;241;43m=\u001b[39;49m\u001b[43msample_weight\u001b[49m\u001b[43m,\u001b[49m\n\u001b[0;32m   1370\u001b[0m \u001b[43m        \u001b[49m\u001b[43mn_threads\u001b[49m\u001b[38;5;241;43m=\u001b[39;49m\u001b[43mn_threads\u001b[49m\u001b[43m,\u001b[49m\n\u001b[0;32m   1371\u001b[0m \u001b[43m    \u001b[49m\u001b[43m)\u001b[49m\n\u001b[0;32m   1372\u001b[0m \u001b[43m    \u001b[49m\u001b[38;5;28;43;01mfor\u001b[39;49;00m\u001b[43m \u001b[49m\u001b[43mclass_\u001b[49m\u001b[43m,\u001b[49m\u001b[43m \u001b[49m\u001b[43mwarm_start_coef_\u001b[49m\u001b[43m \u001b[49m\u001b[38;5;129;43;01min\u001b[39;49;00m\u001b[43m \u001b[49m\u001b[38;5;28;43mzip\u001b[39;49m\u001b[43m(\u001b[49m\u001b[43mclasses_\u001b[49m\u001b[43m,\u001b[49m\u001b[43m \u001b[49m\u001b[43mwarm_start_coef\u001b[49m\u001b[43m)\u001b[49m\n\u001b[0;32m   1373\u001b[0m \u001b[43m\u001b[49m\u001b[43m)\u001b[49m\n\u001b[0;32m   1375\u001b[0m fold_coefs_, _, n_iter_ \u001b[38;5;241m=\u001b[39m \u001b[38;5;28mzip\u001b[39m(\u001b[38;5;241m*\u001b[39mfold_coefs_)\n\u001b[0;32m   1376\u001b[0m \u001b[38;5;28mself\u001b[39m\u001b[38;5;241m.\u001b[39mn_iter_ \u001b[38;5;241m=\u001b[39m np\u001b[38;5;241m.\u001b[39masarray(n_iter_, dtype\u001b[38;5;241m=\u001b[39mnp\u001b[38;5;241m.\u001b[39mint32)[:, \u001b[38;5;241m0\u001b[39m]\n",
      "File \u001b[1;32mc:\\Users\\samar\\miniconda3\\envs\\BMLB2025\\lib\\site-packages\\sklearn\\utils\\parallel.py:77\u001b[0m, in \u001b[0;36mParallel.__call__\u001b[1;34m(self, iterable)\u001b[0m\n\u001b[0;32m     72\u001b[0m config \u001b[38;5;241m=\u001b[39m get_config()\n\u001b[0;32m     73\u001b[0m iterable_with_config \u001b[38;5;241m=\u001b[39m (\n\u001b[0;32m     74\u001b[0m     (_with_config(delayed_func, config), args, kwargs)\n\u001b[0;32m     75\u001b[0m     \u001b[38;5;28;01mfor\u001b[39;00m delayed_func, args, kwargs \u001b[38;5;129;01min\u001b[39;00m iterable\n\u001b[0;32m     76\u001b[0m )\n\u001b[1;32m---> 77\u001b[0m \u001b[38;5;28;01mreturn\u001b[39;00m \u001b[38;5;28;43msuper\u001b[39;49m\u001b[43m(\u001b[49m\u001b[43m)\u001b[49m\u001b[38;5;241;43m.\u001b[39;49m\u001b[38;5;21;43m__call__\u001b[39;49m\u001b[43m(\u001b[49m\u001b[43miterable_with_config\u001b[49m\u001b[43m)\u001b[49m\n",
      "File \u001b[1;32mc:\\Users\\samar\\miniconda3\\envs\\BMLB2025\\lib\\site-packages\\joblib\\parallel.py:1918\u001b[0m, in \u001b[0;36mParallel.__call__\u001b[1;34m(self, iterable)\u001b[0m\n\u001b[0;32m   1916\u001b[0m     output \u001b[38;5;241m=\u001b[39m \u001b[38;5;28mself\u001b[39m\u001b[38;5;241m.\u001b[39m_get_sequential_output(iterable)\n\u001b[0;32m   1917\u001b[0m     \u001b[38;5;28mnext\u001b[39m(output)\n\u001b[1;32m-> 1918\u001b[0m     \u001b[38;5;28;01mreturn\u001b[39;00m output \u001b[38;5;28;01mif\u001b[39;00m \u001b[38;5;28mself\u001b[39m\u001b[38;5;241m.\u001b[39mreturn_generator \u001b[38;5;28;01melse\u001b[39;00m \u001b[38;5;28;43mlist\u001b[39;49m\u001b[43m(\u001b[49m\u001b[43moutput\u001b[49m\u001b[43m)\u001b[49m\n\u001b[0;32m   1920\u001b[0m \u001b[38;5;66;03m# Let's create an ID that uniquely identifies the current call. If the\u001b[39;00m\n\u001b[0;32m   1921\u001b[0m \u001b[38;5;66;03m# call is interrupted early and that the same instance is immediately\u001b[39;00m\n\u001b[0;32m   1922\u001b[0m \u001b[38;5;66;03m# re-used, this id will be used to prevent workers that were\u001b[39;00m\n\u001b[0;32m   1923\u001b[0m \u001b[38;5;66;03m# concurrently finalizing a task from the previous call to run the\u001b[39;00m\n\u001b[0;32m   1924\u001b[0m \u001b[38;5;66;03m# callback.\u001b[39;00m\n\u001b[0;32m   1925\u001b[0m \u001b[38;5;28;01mwith\u001b[39;00m \u001b[38;5;28mself\u001b[39m\u001b[38;5;241m.\u001b[39m_lock:\n",
      "File \u001b[1;32mc:\\Users\\samar\\miniconda3\\envs\\BMLB2025\\lib\\site-packages\\joblib\\parallel.py:1847\u001b[0m, in \u001b[0;36mParallel._get_sequential_output\u001b[1;34m(self, iterable)\u001b[0m\n\u001b[0;32m   1845\u001b[0m \u001b[38;5;28mself\u001b[39m\u001b[38;5;241m.\u001b[39mn_dispatched_batches \u001b[38;5;241m+\u001b[39m\u001b[38;5;241m=\u001b[39m \u001b[38;5;241m1\u001b[39m\n\u001b[0;32m   1846\u001b[0m \u001b[38;5;28mself\u001b[39m\u001b[38;5;241m.\u001b[39mn_dispatched_tasks \u001b[38;5;241m+\u001b[39m\u001b[38;5;241m=\u001b[39m \u001b[38;5;241m1\u001b[39m\n\u001b[1;32m-> 1847\u001b[0m res \u001b[38;5;241m=\u001b[39m func(\u001b[38;5;241m*\u001b[39margs, \u001b[38;5;241m*\u001b[39m\u001b[38;5;241m*\u001b[39mkwargs)\n\u001b[0;32m   1848\u001b[0m \u001b[38;5;28mself\u001b[39m\u001b[38;5;241m.\u001b[39mn_completed_tasks \u001b[38;5;241m+\u001b[39m\u001b[38;5;241m=\u001b[39m \u001b[38;5;241m1\u001b[39m\n\u001b[0;32m   1849\u001b[0m \u001b[38;5;28mself\u001b[39m\u001b[38;5;241m.\u001b[39mprint_progress()\n",
      "File \u001b[1;32mc:\\Users\\samar\\miniconda3\\envs\\BMLB2025\\lib\\site-packages\\sklearn\\utils\\parallel.py:139\u001b[0m, in \u001b[0;36m_FuncWrapper.__call__\u001b[1;34m(self, *args, **kwargs)\u001b[0m\n\u001b[0;32m    137\u001b[0m     config \u001b[38;5;241m=\u001b[39m {}\n\u001b[0;32m    138\u001b[0m \u001b[38;5;28;01mwith\u001b[39;00m config_context(\u001b[38;5;241m*\u001b[39m\u001b[38;5;241m*\u001b[39mconfig):\n\u001b[1;32m--> 139\u001b[0m     \u001b[38;5;28;01mreturn\u001b[39;00m \u001b[38;5;28mself\u001b[39m\u001b[38;5;241m.\u001b[39mfunction(\u001b[38;5;241m*\u001b[39margs, \u001b[38;5;241m*\u001b[39m\u001b[38;5;241m*\u001b[39mkwargs)\n",
      "File \u001b[1;32mc:\\Users\\samar\\miniconda3\\envs\\BMLB2025\\lib\\site-packages\\sklearn\\linear_model\\_logistic.py:451\u001b[0m, in \u001b[0;36m_logistic_regression_path\u001b[1;34m(X, y, pos_class, Cs, fit_intercept, max_iter, tol, verbose, solver, coef, class_weight, dual, penalty, intercept_scaling, multi_class, random_state, check_input, max_squared_sum, sample_weight, l1_ratio, n_threads)\u001b[0m\n\u001b[0;32m    447\u001b[0m l2_reg_strength \u001b[38;5;241m=\u001b[39m \u001b[38;5;241m1.0\u001b[39m \u001b[38;5;241m/\u001b[39m (C \u001b[38;5;241m*\u001b[39m sw_sum)\n\u001b[0;32m    448\u001b[0m iprint \u001b[38;5;241m=\u001b[39m [\u001b[38;5;241m-\u001b[39m\u001b[38;5;241m1\u001b[39m, \u001b[38;5;241m50\u001b[39m, \u001b[38;5;241m1\u001b[39m, \u001b[38;5;241m100\u001b[39m, \u001b[38;5;241m101\u001b[39m][\n\u001b[0;32m    449\u001b[0m     np\u001b[38;5;241m.\u001b[39msearchsorted(np\u001b[38;5;241m.\u001b[39marray([\u001b[38;5;241m0\u001b[39m, \u001b[38;5;241m1\u001b[39m, \u001b[38;5;241m2\u001b[39m, \u001b[38;5;241m3\u001b[39m]), verbose)\n\u001b[0;32m    450\u001b[0m ]\n\u001b[1;32m--> 451\u001b[0m opt_res \u001b[38;5;241m=\u001b[39m \u001b[43moptimize\u001b[49m\u001b[38;5;241;43m.\u001b[39;49m\u001b[43mminimize\u001b[49m\u001b[43m(\u001b[49m\n\u001b[0;32m    452\u001b[0m \u001b[43m    \u001b[49m\u001b[43mfunc\u001b[49m\u001b[43m,\u001b[49m\n\u001b[0;32m    453\u001b[0m \u001b[43m    \u001b[49m\u001b[43mw0\u001b[49m\u001b[43m,\u001b[49m\n\u001b[0;32m    454\u001b[0m \u001b[43m    \u001b[49m\u001b[43mmethod\u001b[49m\u001b[38;5;241;43m=\u001b[39;49m\u001b[38;5;124;43m\"\u001b[39;49m\u001b[38;5;124;43mL-BFGS-B\u001b[39;49m\u001b[38;5;124;43m\"\u001b[39;49m\u001b[43m,\u001b[49m\n\u001b[0;32m    455\u001b[0m \u001b[43m    \u001b[49m\u001b[43mjac\u001b[49m\u001b[38;5;241;43m=\u001b[39;49m\u001b[38;5;28;43;01mTrue\u001b[39;49;00m\u001b[43m,\u001b[49m\n\u001b[0;32m    456\u001b[0m \u001b[43m    \u001b[49m\u001b[43margs\u001b[49m\u001b[38;5;241;43m=\u001b[39;49m\u001b[43m(\u001b[49m\u001b[43mX\u001b[49m\u001b[43m,\u001b[49m\u001b[43m \u001b[49m\u001b[43mtarget\u001b[49m\u001b[43m,\u001b[49m\u001b[43m \u001b[49m\u001b[43msample_weight\u001b[49m\u001b[43m,\u001b[49m\u001b[43m \u001b[49m\u001b[43ml2_reg_strength\u001b[49m\u001b[43m,\u001b[49m\u001b[43m \u001b[49m\u001b[43mn_threads\u001b[49m\u001b[43m)\u001b[49m\u001b[43m,\u001b[49m\n\u001b[0;32m    457\u001b[0m \u001b[43m    \u001b[49m\u001b[43moptions\u001b[49m\u001b[38;5;241;43m=\u001b[39;49m\u001b[43m{\u001b[49m\n\u001b[0;32m    458\u001b[0m \u001b[43m        \u001b[49m\u001b[38;5;124;43m\"\u001b[39;49m\u001b[38;5;124;43mmaxiter\u001b[39;49m\u001b[38;5;124;43m\"\u001b[39;49m\u001b[43m:\u001b[49m\u001b[43m \u001b[49m\u001b[43mmax_iter\u001b[49m\u001b[43m,\u001b[49m\n\u001b[0;32m    459\u001b[0m \u001b[43m        \u001b[49m\u001b[38;5;124;43m\"\u001b[39;49m\u001b[38;5;124;43mmaxls\u001b[39;49m\u001b[38;5;124;43m\"\u001b[39;49m\u001b[43m:\u001b[49m\u001b[43m \u001b[49m\u001b[38;5;241;43m50\u001b[39;49m\u001b[43m,\u001b[49m\u001b[43m  \u001b[49m\u001b[38;5;66;43;03m# default is 20\u001b[39;49;00m\n\u001b[0;32m    460\u001b[0m \u001b[43m        \u001b[49m\u001b[38;5;124;43m\"\u001b[39;49m\u001b[38;5;124;43miprint\u001b[39;49m\u001b[38;5;124;43m\"\u001b[39;49m\u001b[43m:\u001b[49m\u001b[43m \u001b[49m\u001b[43miprint\u001b[49m\u001b[43m,\u001b[49m\n\u001b[0;32m    461\u001b[0m \u001b[43m        \u001b[49m\u001b[38;5;124;43m\"\u001b[39;49m\u001b[38;5;124;43mgtol\u001b[39;49m\u001b[38;5;124;43m\"\u001b[39;49m\u001b[43m:\u001b[49m\u001b[43m \u001b[49m\u001b[43mtol\u001b[49m\u001b[43m,\u001b[49m\n\u001b[0;32m    462\u001b[0m \u001b[43m        \u001b[49m\u001b[38;5;124;43m\"\u001b[39;49m\u001b[38;5;124;43mftol\u001b[39;49m\u001b[38;5;124;43m\"\u001b[39;49m\u001b[43m:\u001b[49m\u001b[43m \u001b[49m\u001b[38;5;241;43m64\u001b[39;49m\u001b[43m \u001b[49m\u001b[38;5;241;43m*\u001b[39;49m\u001b[43m \u001b[49m\u001b[43mnp\u001b[49m\u001b[38;5;241;43m.\u001b[39;49m\u001b[43mfinfo\u001b[49m\u001b[43m(\u001b[49m\u001b[38;5;28;43mfloat\u001b[39;49m\u001b[43m)\u001b[49m\u001b[38;5;241;43m.\u001b[39;49m\u001b[43meps\u001b[49m\u001b[43m,\u001b[49m\n\u001b[0;32m    463\u001b[0m \u001b[43m    \u001b[49m\u001b[43m}\u001b[49m\u001b[43m,\u001b[49m\n\u001b[0;32m    464\u001b[0m \u001b[43m\u001b[49m\u001b[43m)\u001b[49m\n\u001b[0;32m    465\u001b[0m n_iter_i \u001b[38;5;241m=\u001b[39m _check_optimize_result(\n\u001b[0;32m    466\u001b[0m     solver,\n\u001b[0;32m    467\u001b[0m     opt_res,\n\u001b[0;32m    468\u001b[0m     max_iter,\n\u001b[0;32m    469\u001b[0m     extra_warning_msg\u001b[38;5;241m=\u001b[39m_LOGISTIC_SOLVER_CONVERGENCE_MSG,\n\u001b[0;32m    470\u001b[0m )\n\u001b[0;32m    471\u001b[0m w0, loss \u001b[38;5;241m=\u001b[39m opt_res\u001b[38;5;241m.\u001b[39mx, opt_res\u001b[38;5;241m.\u001b[39mfun\n",
      "File \u001b[1;32mc:\\Users\\samar\\miniconda3\\envs\\BMLB2025\\lib\\site-packages\\scipy\\optimize\\_minimize.py:713\u001b[0m, in \u001b[0;36mminimize\u001b[1;34m(fun, x0, args, method, jac, hess, hessp, bounds, constraints, tol, callback, options)\u001b[0m\n\u001b[0;32m    710\u001b[0m     res \u001b[38;5;241m=\u001b[39m _minimize_newtoncg(fun, x0, args, jac, hess, hessp, callback,\n\u001b[0;32m    711\u001b[0m                              \u001b[38;5;241m*\u001b[39m\u001b[38;5;241m*\u001b[39moptions)\n\u001b[0;32m    712\u001b[0m \u001b[38;5;28;01melif\u001b[39;00m meth \u001b[38;5;241m==\u001b[39m \u001b[38;5;124m'\u001b[39m\u001b[38;5;124ml-bfgs-b\u001b[39m\u001b[38;5;124m'\u001b[39m:\n\u001b[1;32m--> 713\u001b[0m     res \u001b[38;5;241m=\u001b[39m _minimize_lbfgsb(fun, x0, args, jac, bounds,\n\u001b[0;32m    714\u001b[0m                            callback\u001b[38;5;241m=\u001b[39mcallback, \u001b[38;5;241m*\u001b[39m\u001b[38;5;241m*\u001b[39moptions)\n\u001b[0;32m    715\u001b[0m \u001b[38;5;28;01melif\u001b[39;00m meth \u001b[38;5;241m==\u001b[39m \u001b[38;5;124m'\u001b[39m\u001b[38;5;124mtnc\u001b[39m\u001b[38;5;124m'\u001b[39m:\n\u001b[0;32m    716\u001b[0m     res \u001b[38;5;241m=\u001b[39m _minimize_tnc(fun, x0, args, jac, bounds, callback\u001b[38;5;241m=\u001b[39mcallback,\n\u001b[0;32m    717\u001b[0m                         \u001b[38;5;241m*\u001b[39m\u001b[38;5;241m*\u001b[39moptions)\n",
      "File \u001b[1;32mc:\\Users\\samar\\miniconda3\\envs\\BMLB2025\\lib\\site-packages\\scipy\\optimize\\_lbfgsb_py.py:407\u001b[0m, in \u001b[0;36m_minimize_lbfgsb\u001b[1;34m(fun, x0, args, jac, bounds, disp, maxcor, ftol, gtol, eps, maxfun, maxiter, iprint, callback, maxls, finite_diff_rel_step, **unknown_options)\u001b[0m\n\u001b[0;32m    401\u001b[0m task_str \u001b[38;5;241m=\u001b[39m task\u001b[38;5;241m.\u001b[39mtobytes()\n\u001b[0;32m    402\u001b[0m \u001b[38;5;28;01mif\u001b[39;00m task_str\u001b[38;5;241m.\u001b[39mstartswith(\u001b[38;5;124mb\u001b[39m\u001b[38;5;124m'\u001b[39m\u001b[38;5;124mFG\u001b[39m\u001b[38;5;124m'\u001b[39m):\n\u001b[0;32m    403\u001b[0m     \u001b[38;5;66;03m# The minimization routine wants f and g at the current x.\u001b[39;00m\n\u001b[0;32m    404\u001b[0m     \u001b[38;5;66;03m# Note that interruptions due to maxfun are postponed\u001b[39;00m\n\u001b[0;32m    405\u001b[0m     \u001b[38;5;66;03m# until the completion of the current minimization iteration.\u001b[39;00m\n\u001b[0;32m    406\u001b[0m     \u001b[38;5;66;03m# Overwrite f and g:\u001b[39;00m\n\u001b[1;32m--> 407\u001b[0m     f, g \u001b[38;5;241m=\u001b[39m \u001b[43mfunc_and_grad\u001b[49m\u001b[43m(\u001b[49m\u001b[43mx\u001b[49m\u001b[43m)\u001b[49m\n\u001b[0;32m    408\u001b[0m \u001b[38;5;28;01melif\u001b[39;00m task_str\u001b[38;5;241m.\u001b[39mstartswith(\u001b[38;5;124mb\u001b[39m\u001b[38;5;124m'\u001b[39m\u001b[38;5;124mNEW_X\u001b[39m\u001b[38;5;124m'\u001b[39m):\n\u001b[0;32m    409\u001b[0m     \u001b[38;5;66;03m# new iteration\u001b[39;00m\n\u001b[0;32m    410\u001b[0m     n_iterations \u001b[38;5;241m+\u001b[39m\u001b[38;5;241m=\u001b[39m \u001b[38;5;241m1\u001b[39m\n",
      "File \u001b[1;32mc:\\Users\\samar\\miniconda3\\envs\\BMLB2025\\lib\\site-packages\\scipy\\optimize\\_differentiable_functions.py:296\u001b[0m, in \u001b[0;36mScalarFunction.fun_and_grad\u001b[1;34m(self, x)\u001b[0m\n\u001b[0;32m    294\u001b[0m \u001b[38;5;28;01mif\u001b[39;00m \u001b[38;5;129;01mnot\u001b[39;00m np\u001b[38;5;241m.\u001b[39marray_equal(x, \u001b[38;5;28mself\u001b[39m\u001b[38;5;241m.\u001b[39mx):\n\u001b[0;32m    295\u001b[0m     \u001b[38;5;28mself\u001b[39m\u001b[38;5;241m.\u001b[39m_update_x_impl(x)\n\u001b[1;32m--> 296\u001b[0m \u001b[38;5;28;43mself\u001b[39;49m\u001b[38;5;241;43m.\u001b[39;49m\u001b[43m_update_fun\u001b[49m\u001b[43m(\u001b[49m\u001b[43m)\u001b[49m\n\u001b[0;32m    297\u001b[0m \u001b[38;5;28mself\u001b[39m\u001b[38;5;241m.\u001b[39m_update_grad()\n\u001b[0;32m    298\u001b[0m \u001b[38;5;28;01mreturn\u001b[39;00m \u001b[38;5;28mself\u001b[39m\u001b[38;5;241m.\u001b[39mf, \u001b[38;5;28mself\u001b[39m\u001b[38;5;241m.\u001b[39mg\n",
      "File \u001b[1;32mc:\\Users\\samar\\miniconda3\\envs\\BMLB2025\\lib\\site-packages\\scipy\\optimize\\_differentiable_functions.py:262\u001b[0m, in \u001b[0;36mScalarFunction._update_fun\u001b[1;34m(self)\u001b[0m\n\u001b[0;32m    260\u001b[0m \u001b[38;5;28;01mdef\u001b[39;00m\u001b[38;5;250m \u001b[39m\u001b[38;5;21m_update_fun\u001b[39m(\u001b[38;5;28mself\u001b[39m):\n\u001b[0;32m    261\u001b[0m     \u001b[38;5;28;01mif\u001b[39;00m \u001b[38;5;129;01mnot\u001b[39;00m \u001b[38;5;28mself\u001b[39m\u001b[38;5;241m.\u001b[39mf_updated:\n\u001b[1;32m--> 262\u001b[0m         \u001b[38;5;28;43mself\u001b[39;49m\u001b[38;5;241;43m.\u001b[39;49m\u001b[43m_update_fun_impl\u001b[49m\u001b[43m(\u001b[49m\u001b[43m)\u001b[49m\n\u001b[0;32m    263\u001b[0m         \u001b[38;5;28mself\u001b[39m\u001b[38;5;241m.\u001b[39mf_updated \u001b[38;5;241m=\u001b[39m \u001b[38;5;28;01mTrue\u001b[39;00m\n",
      "File \u001b[1;32mc:\\Users\\samar\\miniconda3\\envs\\BMLB2025\\lib\\site-packages\\scipy\\optimize\\_differentiable_functions.py:163\u001b[0m, in \u001b[0;36mScalarFunction.__init__.<locals>.update_fun\u001b[1;34m()\u001b[0m\n\u001b[0;32m    162\u001b[0m \u001b[38;5;28;01mdef\u001b[39;00m\u001b[38;5;250m \u001b[39m\u001b[38;5;21mupdate_fun\u001b[39m():\n\u001b[1;32m--> 163\u001b[0m     \u001b[38;5;28mself\u001b[39m\u001b[38;5;241m.\u001b[39mf \u001b[38;5;241m=\u001b[39m \u001b[43mfun_wrapped\u001b[49m\u001b[43m(\u001b[49m\u001b[38;5;28;43mself\u001b[39;49m\u001b[38;5;241;43m.\u001b[39;49m\u001b[43mx\u001b[49m\u001b[43m)\u001b[49m\n",
      "File \u001b[1;32mc:\\Users\\samar\\miniconda3\\envs\\BMLB2025\\lib\\site-packages\\scipy\\optimize\\_differentiable_functions.py:145\u001b[0m, in \u001b[0;36mScalarFunction.__init__.<locals>.fun_wrapped\u001b[1;34m(x)\u001b[0m\n\u001b[0;32m    141\u001b[0m \u001b[38;5;28mself\u001b[39m\u001b[38;5;241m.\u001b[39mnfev \u001b[38;5;241m+\u001b[39m\u001b[38;5;241m=\u001b[39m \u001b[38;5;241m1\u001b[39m\n\u001b[0;32m    142\u001b[0m \u001b[38;5;66;03m# Send a copy because the user may overwrite it.\u001b[39;00m\n\u001b[0;32m    143\u001b[0m \u001b[38;5;66;03m# Overwriting results in undefined behaviour because\u001b[39;00m\n\u001b[0;32m    144\u001b[0m \u001b[38;5;66;03m# fun(self.x) will change self.x, with the two no longer linked.\u001b[39;00m\n\u001b[1;32m--> 145\u001b[0m fx \u001b[38;5;241m=\u001b[39m \u001b[43mfun\u001b[49m\u001b[43m(\u001b[49m\u001b[43mnp\u001b[49m\u001b[38;5;241;43m.\u001b[39;49m\u001b[43mcopy\u001b[49m\u001b[43m(\u001b[49m\u001b[43mx\u001b[49m\u001b[43m)\u001b[49m\u001b[43m,\u001b[49m\u001b[43m \u001b[49m\u001b[38;5;241;43m*\u001b[39;49m\u001b[43margs\u001b[49m\u001b[43m)\u001b[49m\n\u001b[0;32m    146\u001b[0m \u001b[38;5;66;03m# Make sure the function returns a true scalar\u001b[39;00m\n\u001b[0;32m    147\u001b[0m \u001b[38;5;28;01mif\u001b[39;00m \u001b[38;5;129;01mnot\u001b[39;00m np\u001b[38;5;241m.\u001b[39misscalar(fx):\n",
      "File \u001b[1;32mc:\\Users\\samar\\miniconda3\\envs\\BMLB2025\\lib\\site-packages\\scipy\\optimize\\_optimize.py:79\u001b[0m, in \u001b[0;36mMemoizeJac.__call__\u001b[1;34m(self, x, *args)\u001b[0m\n\u001b[0;32m     77\u001b[0m \u001b[38;5;28;01mdef\u001b[39;00m\u001b[38;5;250m \u001b[39m\u001b[38;5;21m__call__\u001b[39m(\u001b[38;5;28mself\u001b[39m, x, \u001b[38;5;241m*\u001b[39margs):\n\u001b[0;32m     78\u001b[0m \u001b[38;5;250m    \u001b[39m\u001b[38;5;124;03m\"\"\" returns the function value \"\"\"\u001b[39;00m\n\u001b[1;32m---> 79\u001b[0m     \u001b[38;5;28;43mself\u001b[39;49m\u001b[38;5;241;43m.\u001b[39;49m\u001b[43m_compute_if_needed\u001b[49m\u001b[43m(\u001b[49m\u001b[43mx\u001b[49m\u001b[43m,\u001b[49m\u001b[43m \u001b[49m\u001b[38;5;241;43m*\u001b[39;49m\u001b[43margs\u001b[49m\u001b[43m)\u001b[49m\n\u001b[0;32m     80\u001b[0m     \u001b[38;5;28;01mreturn\u001b[39;00m \u001b[38;5;28mself\u001b[39m\u001b[38;5;241m.\u001b[39m_value\n",
      "File \u001b[1;32mc:\\Users\\samar\\miniconda3\\envs\\BMLB2025\\lib\\site-packages\\scipy\\optimize\\_optimize.py:73\u001b[0m, in \u001b[0;36mMemoizeJac._compute_if_needed\u001b[1;34m(self, x, *args)\u001b[0m\n\u001b[0;32m     71\u001b[0m \u001b[38;5;28;01mif\u001b[39;00m \u001b[38;5;129;01mnot\u001b[39;00m np\u001b[38;5;241m.\u001b[39mall(x \u001b[38;5;241m==\u001b[39m \u001b[38;5;28mself\u001b[39m\u001b[38;5;241m.\u001b[39mx) \u001b[38;5;129;01mor\u001b[39;00m \u001b[38;5;28mself\u001b[39m\u001b[38;5;241m.\u001b[39m_value \u001b[38;5;129;01mis\u001b[39;00m \u001b[38;5;28;01mNone\u001b[39;00m \u001b[38;5;129;01mor\u001b[39;00m \u001b[38;5;28mself\u001b[39m\u001b[38;5;241m.\u001b[39mjac \u001b[38;5;129;01mis\u001b[39;00m \u001b[38;5;28;01mNone\u001b[39;00m:\n\u001b[0;32m     72\u001b[0m     \u001b[38;5;28mself\u001b[39m\u001b[38;5;241m.\u001b[39mx \u001b[38;5;241m=\u001b[39m np\u001b[38;5;241m.\u001b[39masarray(x)\u001b[38;5;241m.\u001b[39mcopy()\n\u001b[1;32m---> 73\u001b[0m     fg \u001b[38;5;241m=\u001b[39m \u001b[38;5;28;43mself\u001b[39;49m\u001b[38;5;241;43m.\u001b[39;49m\u001b[43mfun\u001b[49m\u001b[43m(\u001b[49m\u001b[43mx\u001b[49m\u001b[43m,\u001b[49m\u001b[43m \u001b[49m\u001b[38;5;241;43m*\u001b[39;49m\u001b[43margs\u001b[49m\u001b[43m)\u001b[49m\n\u001b[0;32m     74\u001b[0m     \u001b[38;5;28mself\u001b[39m\u001b[38;5;241m.\u001b[39mjac \u001b[38;5;241m=\u001b[39m fg[\u001b[38;5;241m1\u001b[39m]\n\u001b[0;32m     75\u001b[0m     \u001b[38;5;28mself\u001b[39m\u001b[38;5;241m.\u001b[39m_value \u001b[38;5;241m=\u001b[39m fg[\u001b[38;5;241m0\u001b[39m]\n",
      "File \u001b[1;32mc:\\Users\\samar\\miniconda3\\envs\\BMLB2025\\lib\\site-packages\\sklearn\\linear_model\\_linear_loss.py:312\u001b[0m, in \u001b[0;36mLinearModelLoss.loss_gradient\u001b[1;34m(self, coef, X, y, sample_weight, l2_reg_strength, n_threads, raw_prediction)\u001b[0m\n\u001b[0;32m    309\u001b[0m n_dof \u001b[38;5;241m=\u001b[39m n_features \u001b[38;5;241m+\u001b[39m \u001b[38;5;28mint\u001b[39m(\u001b[38;5;28mself\u001b[39m\u001b[38;5;241m.\u001b[39mfit_intercept)\n\u001b[0;32m    311\u001b[0m \u001b[38;5;28;01mif\u001b[39;00m raw_prediction \u001b[38;5;129;01mis\u001b[39;00m \u001b[38;5;28;01mNone\u001b[39;00m:\n\u001b[1;32m--> 312\u001b[0m     weights, intercept, raw_prediction \u001b[38;5;241m=\u001b[39m \u001b[38;5;28;43mself\u001b[39;49m\u001b[38;5;241;43m.\u001b[39;49m\u001b[43mweight_intercept_raw\u001b[49m\u001b[43m(\u001b[49m\u001b[43mcoef\u001b[49m\u001b[43m,\u001b[49m\u001b[43m \u001b[49m\u001b[43mX\u001b[49m\u001b[43m)\u001b[49m\n\u001b[0;32m    313\u001b[0m \u001b[38;5;28;01melse\u001b[39;00m:\n\u001b[0;32m    314\u001b[0m     weights, intercept \u001b[38;5;241m=\u001b[39m \u001b[38;5;28mself\u001b[39m\u001b[38;5;241m.\u001b[39mweight_intercept(coef)\n",
      "File \u001b[1;32mc:\\Users\\samar\\miniconda3\\envs\\BMLB2025\\lib\\site-packages\\sklearn\\linear_model\\_linear_loss.py:203\u001b[0m, in \u001b[0;36mLinearModelLoss.weight_intercept_raw\u001b[1;34m(self, coef, X)\u001b[0m\n\u001b[0;32m    200\u001b[0m     raw_prediction \u001b[38;5;241m=\u001b[39m X \u001b[38;5;241m@\u001b[39m weights \u001b[38;5;241m+\u001b[39m intercept\n\u001b[0;32m    201\u001b[0m \u001b[38;5;28;01melse\u001b[39;00m:\n\u001b[0;32m    202\u001b[0m     \u001b[38;5;66;03m# weights has shape (n_classes, n_dof)\u001b[39;00m\n\u001b[1;32m--> 203\u001b[0m     raw_prediction \u001b[38;5;241m=\u001b[39m \u001b[43mX\u001b[49m\u001b[43m \u001b[49m\u001b[38;5;241;43m@\u001b[39;49m\u001b[43m \u001b[49m\u001b[43mweights\u001b[49m\u001b[38;5;241;43m.\u001b[39;49m\u001b[43mT\u001b[49m \u001b[38;5;241m+\u001b[39m intercept  \u001b[38;5;66;03m# ndarray, likely C-contiguous\u001b[39;00m\n\u001b[0;32m    205\u001b[0m \u001b[38;5;28;01mreturn\u001b[39;00m weights, intercept, raw_prediction\n",
      "\u001b[1;31mKeyboardInterrupt\u001b[0m: "
     ]
    }
   ],
   "source": [
    "# X_downSampled, y_downSampled\n",
    "\n",
    "imputer_5 = SimpleImputer(missing_values=np.nan, strategy='mean')\n",
    "# scaler_3 = StandardScaler() #NOTE - should we use scaling here?\n",
    "log_regressor_5 = LogisticRegression(penalty='l2', C=1)\n",
    "\n",
    "model_5 = make_pipeline(imputer_5, log_regressor_5)\n",
    "\n",
    "# train model\n",
    "start = time.time()\n",
    "cv_result = cross_validate(model_5, X_downSampled, y_downSampled, cv=10, scoring=['f1_macro', 'roc_auc'])\n",
    "#scoring=['f1_macro', 'roc_auc'] #TODO --> Make this work\n",
    "print(f\"Fitting took {time.time() - start:0.03} seconds\")\n",
    "\n",
    "\n",
    "# validate model\n",
    "# accuracy_5 = model_3.score(val_data_3, val_lables_3)\n",
    "# print(f\"Accuracy of model on validation dataset: {accuracy_3:0.03}\")"
   ]
  },
  {
   "cell_type": "code",
   "execution_count": null,
   "id": "eafad502",
   "metadata": {},
   "outputs": [
    {
     "data": {
      "text/plain": [
       "{'fit_time': array([2.60027242, 2.54206276, 2.00318074, 2.40474892, 2.51690817,\n",
       "        2.31685829, 2.63170409, 2.37440538, 2.22479033, 2.83610797]),\n",
       " 'score_time': array([0.09250736, 0.10429478, 0.11970568, 0.09808755, 0.11000848,\n",
       "        0.09774971, 0.13964367, 0.093189  , 0.14186764, 0.15181112]),\n",
       " 'test_score': array([0.68650794, 0.69444444, 0.71825397, 0.71428571, 0.69047619,\n",
       "        0.73015873, 0.66932271, 0.72908367, 0.72908367, 0.76494024])}"
      ]
     },
     "execution_count": 68,
     "metadata": {},
     "output_type": "execute_result"
    }
   ],
   "source": [
    "cv_result"
   ]
  },
  {
   "cell_type": "markdown",
   "id": "1956d7c2-5daf-40a6-a31b-af4b5a7e8e87",
   "metadata": {},
   "source": [
    "# Results\n",
    "analyze results"
   ]
  },
  {
   "cell_type": "markdown",
   "id": "3ab45da5-94e5-4801-9477-0b21a8677ee7",
   "metadata": {},
   "source": [
    "# Ideas:"
   ]
  },
  {
   "cell_type": "markdown",
   "id": "c8924299",
   "metadata": {},
   "source": [
    "- Plot prediction against Y to get a quick high level  view of the performance\n",
    "- Consider Halving gridsearch or do randomized search to decrease computation time:\n",
    "    - https://scikit-learn.org/stable/auto_examples/model_selection/plot_successive_halving_heatmap.html#sphx-glr-auto-examples-model-selection-plot-successive-halving-heatmap-py\n",
    "    - https://scikit-learn.org/stable/auto_examples/model_selection/plot_randomized_search.html#sphx-glr-auto-examples-model-selection-plot-randomized-search-py\n",
    "- Plot computation time for experiment\n",
    "- Quantile transform to get rid of outliers\n",
    "    - Effect of transforms to get a better result. Maybe brute force it?\n",
    "- plot_output(scaler=scaler) # to get a easy visualisation of what the scaler is doing"
   ]
  }
 ],
 "metadata": {
  "kernelspec": {
   "display_name": "BMLB2025",
   "language": "python",
   "name": "python3"
  },
  "language_info": {
   "codemirror_mode": {
    "name": "ipython",
    "version": 3
   },
   "file_extension": ".py",
   "mimetype": "text/x-python",
   "name": "python",
   "nbconvert_exporter": "python",
   "pygments_lexer": "ipython3",
   "version": "3.9.21"
  }
 },
 "nbformat": 4,
 "nbformat_minor": 5
}
